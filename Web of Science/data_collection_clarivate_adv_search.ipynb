{
 "cells": [
  {
   "cell_type": "code",
   "execution_count": 1,
   "metadata": {},
   "outputs": [
    {
     "name": "stderr",
     "output_type": "stream",
     "text": [
      "[nltk_data] Downloading package stopwords to\n",
      "[nltk_data]     /Users/aditidutta/nltk_data...\n",
      "[nltk_data]   Package stopwords is already up-to-date!\n",
      "[nltk_data] Downloading package omw-1.4 to\n",
      "[nltk_data]     /Users/aditidutta/nltk_data...\n",
      "[nltk_data]   Package omw-1.4 is already up-to-date!\n",
      "[nltk_data] Downloading package maxent_ne_chunker to\n",
      "[nltk_data]     /Users/aditidutta/nltk_data...\n",
      "[nltk_data]   Package maxent_ne_chunker is already up-to-date!\n",
      "[nltk_data] Downloading package words to\n",
      "[nltk_data]     /Users/aditidutta/nltk_data...\n",
      "[nltk_data]   Package words is already up-to-date!\n"
     ]
    }
   ],
   "source": [
    "import json\n",
    "import urllib\n",
    "\n",
    "import httpx\n",
    "import time\n",
    "import requests\n",
    "import textwrap\n",
    "\n",
    "import pandas as pd\n",
    "import numpy as np\n",
    "import sys\n",
    "\n",
    "from api_key import WOS_API_KEY\n",
    "\n",
    "from requests import Session\n",
    "\n",
    "from pprint import pprint\n",
    "\n",
    "import sys \n",
    "import re\n",
    "from tqdm import tqdm\n",
    "tqdm.pandas(desc=\"progress-bar\")\n",
    "\n",
    "from sentence_transformers import SentenceTransformer\n",
    "from gensim.models.ldamodel import LdaModel\n",
    "from gensim.models.coherencemodel import CoherenceModel\n",
    "from gensim.models import Word2Vec\n",
    "from sklearn.decomposition import PCA\n",
    "from sklearn.cluster import KMeans\n",
    "\n",
    "from sklearn.feature_extraction.text import CountVectorizer\n",
    "from sklearn.feature_extraction.text import TfidfVectorizer\n",
    "from sklearn.feature_extraction.text import TfidfTransformer\n",
    "from bertopic.vectorizers import ClassTfidfTransformer\n",
    "from bertopic.dimensionality import BaseDimensionalityReduction\n",
    "from sklearn.linear_model import LogisticRegression\n",
    "from bertopic.backend import WordDocEmbedder\n",
    "\n",
    "import gensim.downloader as api\n",
    "from gensim.utils import simple_preprocess\n",
    "from gensim.corpora import Dictionary\n",
    "from gensim.models import TfidfModel\n",
    "from gensim.similarities import WordEmbeddingSimilarityIndex\n",
    "from bertopic import BERTopic\n",
    "\n",
    "from re import sub\n",
    "from multiprocessing import cpu_count\n",
    "\n",
    "from gensim.similarities import SparseTermSimilarityMatrix\n",
    "from gensim.similarities import SoftCosineSimilarity\n",
    "\n",
    "from xgboost import XGBClassifier\n",
    "import argparse\n",
    "from keybert import KeyBERT\n",
    "from sklearn.metrics.pairwise import cosine_similarity\n",
    "\n",
    "from autocorrect import Speller\n",
    "import tldextract\n",
    "\n",
    "from itertools import combinations\n",
    "from nltk import skipgrams\n",
    "import umap\n",
    "\n",
    "import matplotlib.pyplot as plt\n",
    "import numpy as np\n",
    "from sklearn.feature_extraction.text import CountVectorizer\n",
    "import seaborn as sns\n",
    "import matplotlib as mpl\n",
    "from pylab import rcParams\n",
    "sns.set(font_scale=1.5)\n",
    "sns.set_style(\"whitegrid\")\n",
    "sns.set_theme(style='white')\n",
    "#% matplotlib inline\n",
    "from datetime import datetime\n",
    "\n",
    "import plotly.graph_objs as go\n",
    "import plotly.offline as pyo\n",
    "import plotly.figure_factory as ff\n",
    "import plotly.express as px\n",
    "from plotly import tools\n",
    "from plotly.subplots import make_subplots\n",
    "from plotly.offline import iplot\n",
    "\n",
    "from textblob import TextBlob, Word, Blobber\n",
    "from textblob.classifiers import NaiveBayesClassifier\n",
    "from textblob.taggers import NLTKTagger\n",
    "from bertopic.vectorizers import ClassTfidfTransformer\n",
    "\n",
    "import nltk\n",
    "from nltk.corpus import stopwords\n",
    "nltk.download('stopwords')\n",
    "from nltk.stem.porter import PorterStemmer \n",
    "from nltk.stem import WordNetLemmatizer\n",
    "nltk.download('omw-1.4')\n",
    "from nltk.tokenize import word_tokenize\n",
    "nltk.download('maxent_ne_chunker')\n",
    "nltk.download('words')\n",
    "\n",
    "import spacy\n",
    "nlp = spacy.load('en_core_web_sm')\n",
    "\n",
    "from gensim.models import word2vec\n",
    "import pickle\n",
    "import gzip\n",
    "import argparse\n",
    "import torch\n",
    "from transformers import BertTokenizer, BertModel\n",
    "from bertopic.representation import KeyBERTInspired\n",
    "from bertopic.representation import MaximalMarginalRelevance\n",
    "from bertopic.representation import PartOfSpeech\n"
   ]
  },
  {
   "cell_type": "code",
   "execution_count": 2,
   "metadata": {},
   "outputs": [
    {
     "data": {
      "text/plain": [
       "'\\n# Sending the initial request\\nSEARCH_QUERY = \\'TS=((misogyn* OR sexis* OR (gender NEAR/3 discrim*)) NEAR/3 (detect* OR identif* OR predict* OR classif*)) AND PY=2012-2022\\'\\nHEADERS = {\\'X-APIkey\\': WOS_API_KEY}\\nDATABASE_ID = \\'WOS\\' # Not using WOK\\n\\ntest_request = requests.get(f\\'https://api.clarivate.com/api/wos?databaseId={DATABASE_ID}&usrQuery={SEARCH_QUERY}&\\'\\n                            f\\'count=0&firstRecord=1\\', headers=HEADERS)\\ndata = test_request.json()\\n\\ntotal_documents_found = data[\\'QueryResult\\'][\\'RecordsFound\\']\\nrequests_required = ((total_documents_found - 1) // 100 ) + 1\\nfor i in range(0, requests_required):\\n    request = requests.get(f\\'https://api.clarivate.com/api/wos?databaseId=WOS&usrQuery={SEARCH_QUERY}&\\'\\n                                      f\\'count=100&firstRecord={i}01\\', headers=HEADERS)\\n    data = request.json()\\n    results = data[\\'Data\\'][\\'Records\\'][\\'records\\'][\\'REC\\']\\n    with open(f\\'data/collected/adv_search/searches_adv_{i}.json\\', \"w\") as outfile:\\n        json.dump(results, outfile)\\n\\n    #for wos_record in data[\\'Data\\'][\\'Records\\'][\\'records\\'][\\'REC\\']:\\n        #print(f\"Document ID: {wos_record[\\'UID\\']}\")\\n        #print(wos_record)\\n\\n'"
      ]
     },
     "execution_count": 2,
     "metadata": {},
     "output_type": "execute_result"
    }
   ],
   "source": [
    "'''\n",
    "# Sending the initial request\n",
    "SEARCH_QUERY = 'TS=((misogyn* OR sexis* OR (gender NEAR/3 discrim*)) NEAR/3 (detect* OR identif* OR predict* OR classif*)) AND PY=2012-2022'\n",
    "HEADERS = {'X-APIkey': WOS_API_KEY}\n",
    "DATABASE_ID = 'WOS' # Not using WOK\n",
    "\n",
    "test_request = requests.get(f'https://api.clarivate.com/api/wos?databaseId={DATABASE_ID}&usrQuery={SEARCH_QUERY}&'\n",
    "                            f'count=0&firstRecord=1', headers=HEADERS)\n",
    "data = test_request.json()\n",
    "\n",
    "total_documents_found = data['QueryResult']['RecordsFound']\n",
    "requests_required = ((total_documents_found - 1) // 100 ) + 1\n",
    "for i in range(0, requests_required):\n",
    "    request = requests.get(f'https://api.clarivate.com/api/wos?databaseId=WOS&usrQuery={SEARCH_QUERY}&'\n",
    "                                      f'count=100&firstRecord={i}01', headers=HEADERS)\n",
    "    data = request.json()\n",
    "    results = data['Data']['Records']['records']['REC']\n",
    "    with open(f'data/collected/adv_search/searches_adv_{i}.json', \"w\") as outfile:\n",
    "        json.dump(results, outfile)\n",
    "\n",
    "    #for wos_record in data['Data']['Records']['records']['REC']:\n",
    "        #print(f\"Document ID: {wos_record['UID']}\")\n",
    "        #print(wos_record)\n",
    "\n",
    "'''"
   ]
  },
  {
   "cell_type": "code",
   "execution_count": 3,
   "metadata": {},
   "outputs": [],
   "source": [
    "files= []\n",
    "\n",
    "# For the above search query\n",
    "string1 = 'data/collected/adv_search/searches_adv_' \n",
    "string2 = '.json'\n",
    "\n",
    "for i in range(0, 5):  \n",
    "    files.append(string1 + str(i) + string2)"
   ]
  },
  {
   "cell_type": "code",
   "execution_count": 4,
   "metadata": {},
   "outputs": [],
   "source": [
    "data = pd.DataFrame()\n",
    "\n",
    "for lst in files:\n",
    "    with open(lst, 'r') as f:\n",
    "        data_temp = json.load(f)\n",
    "    data_temp = pd.json_normalize(data_temp)\n",
    "    data = pd.concat([data, data_temp], axis=0)  \n",
    "\n",
    "data = data.reset_index(drop=True)"
   ]
  },
  {
   "cell_type": "code",
   "execution_count": 5,
   "metadata": {},
   "outputs": [
    {
     "data": {
      "text/plain": [
       "Index(['UID', 'r_id_disclaimer', 'static_data.summary.pub_info.coverdate',\n",
       "       'static_data.summary.pub_info.vol',\n",
       "       'static_data.summary.pub_info.journal_oas_gold',\n",
       "       'static_data.summary.pub_info.has_citation_context',\n",
       "       'static_data.summary.pub_info.pubyear',\n",
       "       'static_data.summary.pub_info.sortdate',\n",
       "       'static_data.summary.pub_info.has_abstract',\n",
       "       'static_data.summary.pub_info.pubmonth',\n",
       "       ...\n",
       "       'static_data.fullrecord_metadata.addresses.address_name.names.name.noncore_endyear',\n",
       "       'static_data.fullrecord_metadata.addresses.address_name.names.name.orcid_id',\n",
       "       'static_data.fullrecord_metadata.addresses.address_name.names.name.noncore_startyear',\n",
       "       'static_data.fullrecord_metadata.addresses.address_name.names.name.preferred_name.middle_name',\n",
       "       'static_data.fullrecord_metadata.fund_ack.grants.grant.grant_source',\n",
       "       'static_data.summary.names.name.data-item-ids.data-item-id',\n",
       "       'static_data.fullrecord_metadata.addresses.address_name.names.name.data-item-ids.data-item-id',\n",
       "       'static_data.fullrecord_metadata.reprint_addresses.address_name.names.name',\n",
       "       'static_data.summary.pub_info.part_no', 'index'],\n",
       "      dtype='object', length=217)"
      ]
     },
     "execution_count": 5,
     "metadata": {},
     "output_type": "execute_result"
    }
   ],
   "source": [
    "data['index'] = data.index\n",
    "data.columns"
   ]
  },
  {
   "cell_type": "code",
   "execution_count": 6,
   "metadata": {},
   "outputs": [
    {
     "data": {
      "text/plain": [
       "array(['Journal', 'Book in series', 'Book'], dtype=object)"
      ]
     },
     "execution_count": 6,
     "metadata": {},
     "output_type": "execute_result"
    }
   ],
   "source": [
    "data['static_data.summary.pub_info.pubtype'].unique()"
   ]
  },
  {
   "cell_type": "code",
   "execution_count": 7,
   "metadata": {},
   "outputs": [
    {
     "data": {
      "text/html": [
       "<div>\n",
       "<style scoped>\n",
       "    .dataframe tbody tr th:only-of-type {\n",
       "        vertical-align: middle;\n",
       "    }\n",
       "\n",
       "    .dataframe tbody tr th {\n",
       "        vertical-align: top;\n",
       "    }\n",
       "\n",
       "    .dataframe thead th {\n",
       "        text-align: right;\n",
       "    }\n",
       "</style>\n",
       "<table border=\"1\" class=\"dataframe\">\n",
       "  <thead>\n",
       "    <tr style=\"text-align: right;\">\n",
       "      <th></th>\n",
       "      <th>0</th>\n",
       "      <th>1</th>\n",
       "      <th>2</th>\n",
       "      <th>3</th>\n",
       "      <th>4</th>\n",
       "      <th>5</th>\n",
       "      <th>6</th>\n",
       "    </tr>\n",
       "  </thead>\n",
       "  <tbody>\n",
       "    <tr>\n",
       "      <th>0</th>\n",
       "      <td>{'type': 'source', 'content': 'FRONTIERS IN PO...</td>\n",
       "      <td>{'type': 'source_abbrev', 'content': 'FRONT PO...</td>\n",
       "      <td>{'type': 'abbrev_iso', 'content': 'Front. Poli...</td>\n",
       "      <td>{'type': 'abbrev_11', 'content': 'FRO POL SCI'}</td>\n",
       "      <td>{'type': 'abbrev_29', 'content': 'FRONT POLIT ...</td>\n",
       "      <td>{'type': 'item', 'content': 'Who perceives wom...</td>\n",
       "      <td>None</td>\n",
       "    </tr>\n",
       "    <tr>\n",
       "      <th>1</th>\n",
       "      <td>{'type': 'source', 'content': 'PSICOLOGIA SOCI...</td>\n",
       "      <td>{'type': 'source_abbrev', 'content': 'PSICOLOG...</td>\n",
       "      <td>{'type': 'abbrev_iso', 'content': 'Psicolog. S...</td>\n",
       "      <td>{'type': 'abbrev_11', 'content': 'PSICOLO SOC'}</td>\n",
       "      <td>{'type': 'abbrev_29', 'content': 'PSICOLOG SOC'}</td>\n",
       "      <td>{'type': 'item', 'content': 'Strongly identify...</td>\n",
       "      <td>None</td>\n",
       "    </tr>\n",
       "    <tr>\n",
       "      <th>2</th>\n",
       "      <td>{'type': 'source', 'content': 'CUKUROVA UNIVER...</td>\n",
       "      <td>{'type': 'source_abbrev', 'content': 'CUKUROVA...</td>\n",
       "      <td>{'type': 'abbrev_iso', 'content': 'Cukurova Un...</td>\n",
       "      <td>{'type': 'abbrev_11', 'content': 'CUK U FAC E'}</td>\n",
       "      <td>{'type': 'abbrev_29', 'content': 'CUKUROVA UNI...</td>\n",
       "      <td>{'type': 'item', 'content': 'An Investigation ...</td>\n",
       "      <td>None</td>\n",
       "    </tr>\n",
       "    <tr>\n",
       "      <th>3</th>\n",
       "      <td>{'type': 'source', 'content': 'CUKUROVA UNIVER...</td>\n",
       "      <td>{'type': 'source_abbrev', 'content': 'CUKUROVA...</td>\n",
       "      <td>{'type': 'abbrev_iso', 'content': 'Cukurova Un...</td>\n",
       "      <td>{'type': 'abbrev_11', 'content': 'CUK U FAC E'}</td>\n",
       "      <td>{'type': 'abbrev_29', 'content': 'CUKUROVA UNI...</td>\n",
       "      <td>{'type': 'item', 'content': 'Examining the Rel...</td>\n",
       "      <td>None</td>\n",
       "    </tr>\n",
       "    <tr>\n",
       "      <th>4</th>\n",
       "      <td>{'type': 'source', 'content': '2022 13TH INTER...</td>\n",
       "      <td>{'type': 'series', 'content': 'International C...</td>\n",
       "      <td>{'type': 'source_abbrev', 'content': 'INT CONF...</td>\n",
       "      <td>{'type': 'abbrev_11', 'content': 'INT C INFOR'}</td>\n",
       "      <td>{'type': 'abbrev_29', 'content': 'INT CONF INF...</td>\n",
       "      <td>{'type': 'item', 'content': 'Should Course-bas...</td>\n",
       "      <td>{'translated': 'N', 'type': 'book_series', 'co...</td>\n",
       "    </tr>\n",
       "    <tr>\n",
       "      <th>...</th>\n",
       "      <td>...</td>\n",
       "      <td>...</td>\n",
       "      <td>...</td>\n",
       "      <td>...</td>\n",
       "      <td>...</td>\n",
       "      <td>...</td>\n",
       "      <td>...</td>\n",
       "    </tr>\n",
       "    <tr>\n",
       "      <th>398</th>\n",
       "      <td>{'type': 'source', 'content': 'ANALES DE PSICO...</td>\n",
       "      <td>{'type': 'source_abbrev', 'content': 'AN PSICO...</td>\n",
       "      <td>{'type': 'abbrev_iso', 'content': 'An. Psicol.'}</td>\n",
       "      <td>{'type': 'abbrev_11', 'content': 'AN PSICOL'}</td>\n",
       "      <td>{'type': 'abbrev_29', 'content': 'AN PSICOL'}</td>\n",
       "      <td>{'type': 'item', 'content': 'Perception of bat...</td>\n",
       "      <td>None</td>\n",
       "    </tr>\n",
       "    <tr>\n",
       "      <th>399</th>\n",
       "      <td>{'type': 'source', 'content': 'EUROPEAN JOURNA...</td>\n",
       "      <td>{'type': 'source_abbrev', 'content': 'EUR J SO...</td>\n",
       "      <td>{'type': 'abbrev_iso', 'content': 'Eur. J. Soc...</td>\n",
       "      <td>{'type': 'abbrev_11', 'content': 'EUR J SOC P'}</td>\n",
       "      <td>{'type': 'abbrev_29', 'content': 'EUR J SOC PS...</td>\n",
       "      <td>{'type': 'item', 'content': 'Communality sells...</td>\n",
       "      <td>None</td>\n",
       "    </tr>\n",
       "    <tr>\n",
       "      <th>400</th>\n",
       "      <td>{'type': 'source', 'content': 'JOURNAL OF APPL...</td>\n",
       "      <td>{'type': 'source_abbrev', 'content': 'J APPL S...</td>\n",
       "      <td>{'type': 'abbrev_iso', 'content': 'J. Appl. So...</td>\n",
       "      <td>{'type': 'abbrev_11', 'content': 'J APPL SO P'}</td>\n",
       "      <td>{'type': 'abbrev_29', 'content': 'J APPL SOC P...</td>\n",
       "      <td>{'type': 'item', 'content': 'When Benevolence ...</td>\n",
       "      <td>None</td>\n",
       "    </tr>\n",
       "    <tr>\n",
       "      <th>401</th>\n",
       "      <td>{'type': 'source', 'content': 'JOURNAL OF BLAC...</td>\n",
       "      <td>{'type': 'source_abbrev', 'content': 'J BLACK ...</td>\n",
       "      <td>{'type': 'abbrev_iso', 'content': 'J. Black St...</td>\n",
       "      <td>{'type': 'abbrev_11', 'content': 'J BLACK ST'}</td>\n",
       "      <td>{'type': 'abbrev_29', 'content': 'J BLACK STUD'}</td>\n",
       "      <td>{'type': 'item', 'content': 'Black Women Talk ...</td>\n",
       "      <td>None</td>\n",
       "    </tr>\n",
       "    <tr>\n",
       "      <th>402</th>\n",
       "      <td>{'type': 'source', 'content': 'WORLD DEVELOPME...</td>\n",
       "      <td>{'type': 'source_abbrev', 'content': 'WORLD DEV'}</td>\n",
       "      <td>{'type': 'abbrev_iso', 'content': 'World Dev.'}</td>\n",
       "      <td>{'type': 'abbrev_11', 'content': 'WORLD DEV'}</td>\n",
       "      <td>{'type': 'abbrev_29', 'content': 'WORLD DEVELOP'}</td>\n",
       "      <td>{'type': 'item', 'content': 'Detecting Gender ...</td>\n",
       "      <td>None</td>\n",
       "    </tr>\n",
       "  </tbody>\n",
       "</table>\n",
       "<p>403 rows × 7 columns</p>\n",
       "</div>"
      ],
      "text/plain": [
       "                                                     0  \\\n",
       "0    {'type': 'source', 'content': 'FRONTIERS IN PO...   \n",
       "1    {'type': 'source', 'content': 'PSICOLOGIA SOCI...   \n",
       "2    {'type': 'source', 'content': 'CUKUROVA UNIVER...   \n",
       "3    {'type': 'source', 'content': 'CUKUROVA UNIVER...   \n",
       "4    {'type': 'source', 'content': '2022 13TH INTER...   \n",
       "..                                                 ...   \n",
       "398  {'type': 'source', 'content': 'ANALES DE PSICO...   \n",
       "399  {'type': 'source', 'content': 'EUROPEAN JOURNA...   \n",
       "400  {'type': 'source', 'content': 'JOURNAL OF APPL...   \n",
       "401  {'type': 'source', 'content': 'JOURNAL OF BLAC...   \n",
       "402  {'type': 'source', 'content': 'WORLD DEVELOPME...   \n",
       "\n",
       "                                                     1  \\\n",
       "0    {'type': 'source_abbrev', 'content': 'FRONT PO...   \n",
       "1    {'type': 'source_abbrev', 'content': 'PSICOLOG...   \n",
       "2    {'type': 'source_abbrev', 'content': 'CUKUROVA...   \n",
       "3    {'type': 'source_abbrev', 'content': 'CUKUROVA...   \n",
       "4    {'type': 'series', 'content': 'International C...   \n",
       "..                                                 ...   \n",
       "398  {'type': 'source_abbrev', 'content': 'AN PSICO...   \n",
       "399  {'type': 'source_abbrev', 'content': 'EUR J SO...   \n",
       "400  {'type': 'source_abbrev', 'content': 'J APPL S...   \n",
       "401  {'type': 'source_abbrev', 'content': 'J BLACK ...   \n",
       "402  {'type': 'source_abbrev', 'content': 'WORLD DEV'}   \n",
       "\n",
       "                                                     2  \\\n",
       "0    {'type': 'abbrev_iso', 'content': 'Front. Poli...   \n",
       "1    {'type': 'abbrev_iso', 'content': 'Psicolog. S...   \n",
       "2    {'type': 'abbrev_iso', 'content': 'Cukurova Un...   \n",
       "3    {'type': 'abbrev_iso', 'content': 'Cukurova Un...   \n",
       "4    {'type': 'source_abbrev', 'content': 'INT CONF...   \n",
       "..                                                 ...   \n",
       "398   {'type': 'abbrev_iso', 'content': 'An. Psicol.'}   \n",
       "399  {'type': 'abbrev_iso', 'content': 'Eur. J. Soc...   \n",
       "400  {'type': 'abbrev_iso', 'content': 'J. Appl. So...   \n",
       "401  {'type': 'abbrev_iso', 'content': 'J. Black St...   \n",
       "402    {'type': 'abbrev_iso', 'content': 'World Dev.'}   \n",
       "\n",
       "                                                   3  \\\n",
       "0    {'type': 'abbrev_11', 'content': 'FRO POL SCI'}   \n",
       "1    {'type': 'abbrev_11', 'content': 'PSICOLO SOC'}   \n",
       "2    {'type': 'abbrev_11', 'content': 'CUK U FAC E'}   \n",
       "3    {'type': 'abbrev_11', 'content': 'CUK U FAC E'}   \n",
       "4    {'type': 'abbrev_11', 'content': 'INT C INFOR'}   \n",
       "..                                               ...   \n",
       "398    {'type': 'abbrev_11', 'content': 'AN PSICOL'}   \n",
       "399  {'type': 'abbrev_11', 'content': 'EUR J SOC P'}   \n",
       "400  {'type': 'abbrev_11', 'content': 'J APPL SO P'}   \n",
       "401   {'type': 'abbrev_11', 'content': 'J BLACK ST'}   \n",
       "402    {'type': 'abbrev_11', 'content': 'WORLD DEV'}   \n",
       "\n",
       "                                                     4  \\\n",
       "0    {'type': 'abbrev_29', 'content': 'FRONT POLIT ...   \n",
       "1     {'type': 'abbrev_29', 'content': 'PSICOLOG SOC'}   \n",
       "2    {'type': 'abbrev_29', 'content': 'CUKUROVA UNI...   \n",
       "3    {'type': 'abbrev_29', 'content': 'CUKUROVA UNI...   \n",
       "4    {'type': 'abbrev_29', 'content': 'INT CONF INF...   \n",
       "..                                                 ...   \n",
       "398      {'type': 'abbrev_29', 'content': 'AN PSICOL'}   \n",
       "399  {'type': 'abbrev_29', 'content': 'EUR J SOC PS...   \n",
       "400  {'type': 'abbrev_29', 'content': 'J APPL SOC P...   \n",
       "401   {'type': 'abbrev_29', 'content': 'J BLACK STUD'}   \n",
       "402  {'type': 'abbrev_29', 'content': 'WORLD DEVELOP'}   \n",
       "\n",
       "                                                     5  \\\n",
       "0    {'type': 'item', 'content': 'Who perceives wom...   \n",
       "1    {'type': 'item', 'content': 'Strongly identify...   \n",
       "2    {'type': 'item', 'content': 'An Investigation ...   \n",
       "3    {'type': 'item', 'content': 'Examining the Rel...   \n",
       "4    {'type': 'item', 'content': 'Should Course-bas...   \n",
       "..                                                 ...   \n",
       "398  {'type': 'item', 'content': 'Perception of bat...   \n",
       "399  {'type': 'item', 'content': 'Communality sells...   \n",
       "400  {'type': 'item', 'content': 'When Benevolence ...   \n",
       "401  {'type': 'item', 'content': 'Black Women Talk ...   \n",
       "402  {'type': 'item', 'content': 'Detecting Gender ...   \n",
       "\n",
       "                                                     6  \n",
       "0                                                 None  \n",
       "1                                                 None  \n",
       "2                                                 None  \n",
       "3                                                 None  \n",
       "4    {'translated': 'N', 'type': 'book_series', 'co...  \n",
       "..                                                 ...  \n",
       "398                                               None  \n",
       "399                                               None  \n",
       "400                                               None  \n",
       "401                                               None  \n",
       "402                                               None  \n",
       "\n",
       "[403 rows x 7 columns]"
      ]
     },
     "execution_count": 7,
     "metadata": {},
     "output_type": "execute_result"
    }
   ],
   "source": [
    "titles_df = pd.json_normalize(data['static_data.summary.titles.title'])\n",
    "titles_df"
   ]
  },
  {
   "cell_type": "code",
   "execution_count": 8,
   "metadata": {},
   "outputs": [
    {
     "data": {
      "text/html": [
       "<div>\n",
       "<style scoped>\n",
       "    .dataframe tbody tr th:only-of-type {\n",
       "        vertical-align: middle;\n",
       "    }\n",
       "\n",
       "    .dataframe tbody tr th {\n",
       "        vertical-align: top;\n",
       "    }\n",
       "\n",
       "    .dataframe thead th {\n",
       "        text-align: right;\n",
       "    }\n",
       "</style>\n",
       "<table border=\"1\" class=\"dataframe\">\n",
       "  <thead>\n",
       "    <tr style=\"text-align: right;\">\n",
       "      <th></th>\n",
       "      <th>0</th>\n",
       "      <th>1</th>\n",
       "      <th>2</th>\n",
       "      <th>3</th>\n",
       "      <th>4</th>\n",
       "      <th>5</th>\n",
       "      <th>6</th>\n",
       "    </tr>\n",
       "  </thead>\n",
       "  <tbody>\n",
       "    <tr>\n",
       "      <th>count</th>\n",
       "      <td>403</td>\n",
       "      <td>403</td>\n",
       "      <td>379</td>\n",
       "      <td>378</td>\n",
       "      <td>378</td>\n",
       "      <td>378</td>\n",
       "      <td>17</td>\n",
       "    </tr>\n",
       "    <tr>\n",
       "      <th>unique</th>\n",
       "      <td>262</td>\n",
       "      <td>258</td>\n",
       "      <td>235</td>\n",
       "      <td>233</td>\n",
       "      <td>234</td>\n",
       "      <td>378</td>\n",
       "      <td>12</td>\n",
       "    </tr>\n",
       "    <tr>\n",
       "      <th>top</th>\n",
       "      <td>{'type': 'source', 'content': 'SEX ROLES'}</td>\n",
       "      <td>{'type': 'source_abbrev', 'content': 'SEX ROLES'}</td>\n",
       "      <td>{'type': 'abbrev_iso', 'content': 'Sex Roles'}</td>\n",
       "      <td>{'type': 'abbrev_11', 'content': 'SEX ROLES'}</td>\n",
       "      <td>{'type': 'abbrev_29', 'content': 'SEX ROLES'}</td>\n",
       "      <td>{'type': 'item', 'content': 'Who perceives wom...</td>\n",
       "      <td>{'translated': 'N', 'type': 'book_series', 'co...</td>\n",
       "    </tr>\n",
       "    <tr>\n",
       "      <th>freq</th>\n",
       "      <td>31</td>\n",
       "      <td>31</td>\n",
       "      <td>31</td>\n",
       "      <td>31</td>\n",
       "      <td>31</td>\n",
       "      <td>1</td>\n",
       "      <td>4</td>\n",
       "    </tr>\n",
       "  </tbody>\n",
       "</table>\n",
       "</div>"
      ],
      "text/plain": [
       "                                                 0  \\\n",
       "count                                          403   \n",
       "unique                                         262   \n",
       "top     {'type': 'source', 'content': 'SEX ROLES'}   \n",
       "freq                                            31   \n",
       "\n",
       "                                                        1  \\\n",
       "count                                                 403   \n",
       "unique                                                258   \n",
       "top     {'type': 'source_abbrev', 'content': 'SEX ROLES'}   \n",
       "freq                                                   31   \n",
       "\n",
       "                                                     2  \\\n",
       "count                                              379   \n",
       "unique                                             235   \n",
       "top     {'type': 'abbrev_iso', 'content': 'Sex Roles'}   \n",
       "freq                                                31   \n",
       "\n",
       "                                                    3  \\\n",
       "count                                             378   \n",
       "unique                                            233   \n",
       "top     {'type': 'abbrev_11', 'content': 'SEX ROLES'}   \n",
       "freq                                               31   \n",
       "\n",
       "                                                    4  \\\n",
       "count                                             378   \n",
       "unique                                            234   \n",
       "top     {'type': 'abbrev_29', 'content': 'SEX ROLES'}   \n",
       "freq                                               31   \n",
       "\n",
       "                                                        5  \\\n",
       "count                                                 378   \n",
       "unique                                                378   \n",
       "top     {'type': 'item', 'content': 'Who perceives wom...   \n",
       "freq                                                    1   \n",
       "\n",
       "                                                        6  \n",
       "count                                                  17  \n",
       "unique                                                 12  \n",
       "top     {'translated': 'N', 'type': 'book_series', 'co...  \n",
       "freq                                                    4  "
      ]
     },
     "execution_count": 8,
     "metadata": {},
     "output_type": "execute_result"
    }
   ],
   "source": [
    "titles_df.describe()"
   ]
  },
  {
   "cell_type": "code",
   "execution_count": 9,
   "metadata": {},
   "outputs": [
    {
     "data": {
      "text/html": [
       "<div>\n",
       "<style scoped>\n",
       "    .dataframe tbody tr th:only-of-type {\n",
       "        vertical-align: middle;\n",
       "    }\n",
       "\n",
       "    .dataframe tbody tr th {\n",
       "        vertical-align: top;\n",
       "    }\n",
       "\n",
       "    .dataframe thead th {\n",
       "        text-align: right;\n",
       "    }\n",
       "</style>\n",
       "<table border=\"1\" class=\"dataframe\">\n",
       "  <thead>\n",
       "    <tr style=\"text-align: right;\">\n",
       "      <th></th>\n",
       "      <th>type</th>\n",
       "      <th>content</th>\n",
       "    </tr>\n",
       "  </thead>\n",
       "  <tbody>\n",
       "    <tr>\n",
       "      <th>0</th>\n",
       "      <td>source</td>\n",
       "      <td>FRONTIERS IN POLITICAL SCIENCE</td>\n",
       "    </tr>\n",
       "    <tr>\n",
       "      <th>1</th>\n",
       "      <td>source</td>\n",
       "      <td>PSICOLOGIA SOCIALE</td>\n",
       "    </tr>\n",
       "    <tr>\n",
       "      <th>2</th>\n",
       "      <td>source</td>\n",
       "      <td>CUKUROVA UNIVERSITY FACULTY OF EDUCATION JOURNAL</td>\n",
       "    </tr>\n",
       "    <tr>\n",
       "      <th>3</th>\n",
       "      <td>source</td>\n",
       "      <td>CUKUROVA UNIVERSITY FACULTY OF EDUCATION JOURNAL</td>\n",
       "    </tr>\n",
       "    <tr>\n",
       "      <th>4</th>\n",
       "      <td>source</td>\n",
       "      <td>2022 13TH INTERNATIONAL CONFERENCE ON INFORMAT...</td>\n",
       "    </tr>\n",
       "    <tr>\n",
       "      <th>...</th>\n",
       "      <td>...</td>\n",
       "      <td>...</td>\n",
       "    </tr>\n",
       "    <tr>\n",
       "      <th>398</th>\n",
       "      <td>source</td>\n",
       "      <td>ANALES DE PSICOLOGIA</td>\n",
       "    </tr>\n",
       "    <tr>\n",
       "      <th>399</th>\n",
       "      <td>source</td>\n",
       "      <td>EUROPEAN JOURNAL OF SOCIAL PSYCHOLOGY</td>\n",
       "    </tr>\n",
       "    <tr>\n",
       "      <th>400</th>\n",
       "      <td>source</td>\n",
       "      <td>JOURNAL OF APPLIED SOCIAL PSYCHOLOGY</td>\n",
       "    </tr>\n",
       "    <tr>\n",
       "      <th>401</th>\n",
       "      <td>source</td>\n",
       "      <td>JOURNAL OF BLACK STUDIES</td>\n",
       "    </tr>\n",
       "    <tr>\n",
       "      <th>402</th>\n",
       "      <td>source</td>\n",
       "      <td>WORLD DEVELOPMENT</td>\n",
       "    </tr>\n",
       "  </tbody>\n",
       "</table>\n",
       "<p>403 rows × 2 columns</p>\n",
       "</div>"
      ],
      "text/plain": [
       "       type                                            content\n",
       "0    source                     FRONTIERS IN POLITICAL SCIENCE\n",
       "1    source                                 PSICOLOGIA SOCIALE\n",
       "2    source   CUKUROVA UNIVERSITY FACULTY OF EDUCATION JOURNAL\n",
       "3    source   CUKUROVA UNIVERSITY FACULTY OF EDUCATION JOURNAL\n",
       "4    source  2022 13TH INTERNATIONAL CONFERENCE ON INFORMAT...\n",
       "..      ...                                                ...\n",
       "398  source                               ANALES DE PSICOLOGIA\n",
       "399  source              EUROPEAN JOURNAL OF SOCIAL PSYCHOLOGY\n",
       "400  source               JOURNAL OF APPLIED SOCIAL PSYCHOLOGY\n",
       "401  source                           JOURNAL OF BLACK STUDIES\n",
       "402  source                                  WORLD DEVELOPMENT\n",
       "\n",
       "[403 rows x 2 columns]"
      ]
     },
     "execution_count": 9,
     "metadata": {},
     "output_type": "execute_result"
    }
   ],
   "source": [
    "# Source of the title\n",
    "titles_0_df = pd.json_normalize(titles_df[0])\n",
    "titles_0_df"
   ]
  },
  {
   "cell_type": "code",
   "execution_count": 10,
   "metadata": {},
   "outputs": [
    {
     "data": {
      "text/plain": [
       "0"
      ]
     },
     "execution_count": 10,
     "metadata": {},
     "output_type": "execute_result"
    }
   ],
   "source": [
    "titles_0_df['content'].isna().sum()"
   ]
  },
  {
   "cell_type": "code",
   "execution_count": 11,
   "metadata": {},
   "outputs": [
    {
     "data": {
      "text/html": [
       "<div>\n",
       "<style scoped>\n",
       "    .dataframe tbody tr th:only-of-type {\n",
       "        vertical-align: middle;\n",
       "    }\n",
       "\n",
       "    .dataframe tbody tr th {\n",
       "        vertical-align: top;\n",
       "    }\n",
       "\n",
       "    .dataframe thead th {\n",
       "        text-align: right;\n",
       "    }\n",
       "</style>\n",
       "<table border=\"1\" class=\"dataframe\">\n",
       "  <thead>\n",
       "    <tr style=\"text-align: right;\">\n",
       "      <th></th>\n",
       "      <th>type</th>\n",
       "      <th>content</th>\n",
       "    </tr>\n",
       "  </thead>\n",
       "  <tbody>\n",
       "    <tr>\n",
       "      <th>0</th>\n",
       "      <td>item</td>\n",
       "      <td>Who perceives women's rights as threatening to...</td>\n",
       "    </tr>\n",
       "    <tr>\n",
       "      <th>1</th>\n",
       "      <td>item</td>\n",
       "      <td>Strongly identifying Italian women support the...</td>\n",
       "    </tr>\n",
       "    <tr>\n",
       "      <th>2</th>\n",
       "      <td>item</td>\n",
       "      <td>An Investigation of Marriage Attitude in terms...</td>\n",
       "    </tr>\n",
       "    <tr>\n",
       "      <th>3</th>\n",
       "      <td>item</td>\n",
       "      <td>Examining the Relationship Between Maternal Em...</td>\n",
       "    </tr>\n",
       "    <tr>\n",
       "      <th>4</th>\n",
       "      <td>item</td>\n",
       "      <td>Should Course-based At-risk Predication Models...</td>\n",
       "    </tr>\n",
       "    <tr>\n",
       "      <th>...</th>\n",
       "      <td>...</td>\n",
       "      <td>...</td>\n",
       "    </tr>\n",
       "    <tr>\n",
       "      <th>398</th>\n",
       "      <td>item</td>\n",
       "      <td>Perception of battered women on power asymmetr...</td>\n",
       "    </tr>\n",
       "    <tr>\n",
       "      <th>399</th>\n",
       "      <td>item</td>\n",
       "      <td>Communality sells: The impact of perceivers' s...</td>\n",
       "    </tr>\n",
       "    <tr>\n",
       "      <th>400</th>\n",
       "      <td>item</td>\n",
       "      <td>When Benevolence Backfires: Benevolent Sexists...</td>\n",
       "    </tr>\n",
       "    <tr>\n",
       "      <th>401</th>\n",
       "      <td>item</td>\n",
       "      <td>Black Women Talk About Workplace Stress and Ho...</td>\n",
       "    </tr>\n",
       "    <tr>\n",
       "      <th>402</th>\n",
       "      <td>item</td>\n",
       "      <td>Detecting Gender and Racial Discrimination in ...</td>\n",
       "    </tr>\n",
       "  </tbody>\n",
       "</table>\n",
       "<p>403 rows × 2 columns</p>\n",
       "</div>"
      ],
      "text/plain": [
       "     type                                            content\n",
       "0    item  Who perceives women's rights as threatening to...\n",
       "1    item  Strongly identifying Italian women support the...\n",
       "2    item  An Investigation of Marriage Attitude in terms...\n",
       "3    item  Examining the Relationship Between Maternal Em...\n",
       "4    item  Should Course-based At-risk Predication Models...\n",
       "..    ...                                                ...\n",
       "398  item  Perception of battered women on power asymmetr...\n",
       "399  item  Communality sells: The impact of perceivers' s...\n",
       "400  item  When Benevolence Backfires: Benevolent Sexists...\n",
       "401  item  Black Women Talk About Workplace Stress and Ho...\n",
       "402  item  Detecting Gender and Racial Discrimination in ...\n",
       "\n",
       "[403 rows x 2 columns]"
      ]
     },
     "execution_count": 11,
     "metadata": {},
     "output_type": "execute_result"
    }
   ],
   "source": [
    "# Title of the content\n",
    "titles_5_df = pd.json_normalize(titles_df[5])\n",
    "titles_5_df"
   ]
  },
  {
   "cell_type": "code",
   "execution_count": 12,
   "metadata": {},
   "outputs": [],
   "source": [
    "cols = data.columns.to_list()\n",
    "\n",
    "with open(r'list_columns.txt', 'w') as fp:\n",
    "    fp.write('\\n'.join(cols))"
   ]
  },
  {
   "cell_type": "code",
   "execution_count": 13,
   "metadata": {},
   "outputs": [],
   "source": [
    "#abstract_df = data[['static_data.fullrecord_metadata.abstracts.abstract.abstract_text.p', 'index']]\n",
    "#abstract_df = abstract_df.reset_index()\n",
    "#abstract_df"
   ]
  },
  {
   "cell_type": "code",
   "execution_count": 14,
   "metadata": {},
   "outputs": [
    {
     "data": {
      "text/plain": [
       "1.0    374\n",
       "2.0      7\n",
       "4.0      7\n",
       "5.0      3\n",
       "3.0      3\n",
       "8.0      1\n",
       "6.0      1\n",
       "Name: static_data.fullrecord_metadata.abstracts.abstract.abstract_text.count, dtype: int64"
      ]
     },
     "execution_count": 14,
     "metadata": {},
     "output_type": "execute_result"
    }
   ],
   "source": [
    "abstract_count_df = data['static_data.fullrecord_metadata.abstracts.abstract.abstract_text.count']\n",
    "abstract_count_df.value_counts()"
   ]
  },
  {
   "cell_type": "code",
   "execution_count": 15,
   "metadata": {},
   "outputs": [
    {
     "data": {
      "text/plain": [
       "array([ 1., nan])"
      ]
     },
     "execution_count": 15,
     "metadata": {},
     "output_type": "execute_result"
    }
   ],
   "source": [
    "abstract_count = data['static_data.fullrecord_metadata.abstracts.count']\n",
    "abstract_count.unique()"
   ]
  },
  {
   "cell_type": "code",
   "execution_count": 16,
   "metadata": {},
   "outputs": [
    {
     "data": {
      "text/plain": [
       "Y    396\n",
       "N      7\n",
       "Name: static_data.summary.pub_info.has_abstract, dtype: int64"
      ]
     },
     "execution_count": 16,
     "metadata": {},
     "output_type": "execute_result"
    }
   ],
   "source": [
    "data['static_data.summary.pub_info.has_abstract'].value_counts()"
   ]
  },
  {
   "cell_type": "code",
   "execution_count": 19,
   "metadata": {},
   "outputs": [
    {
     "data": {
      "text/html": [
       "<div>\n",
       "<style scoped>\n",
       "    .dataframe tbody tr th:only-of-type {\n",
       "        vertical-align: middle;\n",
       "    }\n",
       "\n",
       "    .dataframe tbody tr th {\n",
       "        vertical-align: top;\n",
       "    }\n",
       "\n",
       "    .dataframe thead th {\n",
       "        text-align: right;\n",
       "    }\n",
       "</style>\n",
       "<table border=\"1\" class=\"dataframe\">\n",
       "  <thead>\n",
       "    <tr style=\"text-align: right;\">\n",
       "      <th></th>\n",
       "      <th>UID</th>\n",
       "      <th>r_id_disclaimer</th>\n",
       "      <th>static_data.summary.pub_info.coverdate</th>\n",
       "      <th>static_data.summary.pub_info.vol</th>\n",
       "      <th>static_data.summary.pub_info.journal_oas_gold</th>\n",
       "      <th>static_data.summary.pub_info.has_citation_context</th>\n",
       "      <th>static_data.summary.pub_info.pubyear</th>\n",
       "      <th>static_data.summary.pub_info.sortdate</th>\n",
       "      <th>static_data.summary.pub_info.has_abstract</th>\n",
       "      <th>static_data.summary.pub_info.pubmonth</th>\n",
       "      <th>...</th>\n",
       "      <th>static_data.fullrecord_metadata.addresses.address_name.names.name.noncore_endyear</th>\n",
       "      <th>static_data.fullrecord_metadata.addresses.address_name.names.name.orcid_id</th>\n",
       "      <th>static_data.fullrecord_metadata.addresses.address_name.names.name.noncore_startyear</th>\n",
       "      <th>static_data.fullrecord_metadata.addresses.address_name.names.name.preferred_name.middle_name</th>\n",
       "      <th>static_data.fullrecord_metadata.fund_ack.grants.grant.grant_source</th>\n",
       "      <th>static_data.summary.names.name.data-item-ids.data-item-id</th>\n",
       "      <th>static_data.fullrecord_metadata.addresses.address_name.names.name.data-item-ids.data-item-id</th>\n",
       "      <th>static_data.fullrecord_metadata.reprint_addresses.address_name.names.name</th>\n",
       "      <th>static_data.summary.pub_info.part_no</th>\n",
       "      <th>index</th>\n",
       "    </tr>\n",
       "  </thead>\n",
       "  <tbody>\n",
       "    <tr>\n",
       "      <th>0</th>\n",
       "      <td>WOS:000993557000001</td>\n",
       "      <td>ResearcherID data provided by Clarivate Analytics</td>\n",
       "      <td>AUG 15 2022</td>\n",
       "      <td>4.0</td>\n",
       "      <td>Y</td>\n",
       "      <td>Y</td>\n",
       "      <td>2022</td>\n",
       "      <td>2022-08-15</td>\n",
       "      <td>Y</td>\n",
       "      <td>AUG 15</td>\n",
       "      <td>...</td>\n",
       "      <td>NaN</td>\n",
       "      <td>NaN</td>\n",
       "      <td>NaN</td>\n",
       "      <td>NaN</td>\n",
       "      <td>NaN</td>\n",
       "      <td>NaN</td>\n",
       "      <td>NaN</td>\n",
       "      <td>NaN</td>\n",
       "      <td>NaN</td>\n",
       "      <td>0</td>\n",
       "    </tr>\n",
       "    <tr>\n",
       "      <th>1</th>\n",
       "      <td>WOS:000975433600006</td>\n",
       "      <td>ResearcherID data provided by Clarivate Analytics</td>\n",
       "      <td>SEP-DEC 2022</td>\n",
       "      <td>17.0</td>\n",
       "      <td>N</td>\n",
       "      <td>NaN</td>\n",
       "      <td>2022</td>\n",
       "      <td>2022-09-01</td>\n",
       "      <td>Y</td>\n",
       "      <td>SEP-DEC</td>\n",
       "      <td>...</td>\n",
       "      <td>NaN</td>\n",
       "      <td>NaN</td>\n",
       "      <td>NaN</td>\n",
       "      <td>NaN</td>\n",
       "      <td>NaN</td>\n",
       "      <td>NaN</td>\n",
       "      <td>NaN</td>\n",
       "      <td>NaN</td>\n",
       "      <td>NaN</td>\n",
       "      <td>1</td>\n",
       "    </tr>\n",
       "    <tr>\n",
       "      <th>2</th>\n",
       "      <td>WOS:000960862300008</td>\n",
       "      <td>ResearcherID data provided by Clarivate Analytics</td>\n",
       "      <td>DEC 2022</td>\n",
       "      <td>51.0</td>\n",
       "      <td>Y</td>\n",
       "      <td>NaN</td>\n",
       "      <td>2022</td>\n",
       "      <td>2022-12-01</td>\n",
       "      <td>Y</td>\n",
       "      <td>DEC</td>\n",
       "      <td>...</td>\n",
       "      <td>NaN</td>\n",
       "      <td>NaN</td>\n",
       "      <td>NaN</td>\n",
       "      <td>NaN</td>\n",
       "      <td>NaN</td>\n",
       "      <td>NaN</td>\n",
       "      <td>NaN</td>\n",
       "      <td>NaN</td>\n",
       "      <td>NaN</td>\n",
       "      <td>2</td>\n",
       "    </tr>\n",
       "    <tr>\n",
       "      <th>3</th>\n",
       "      <td>WOS:000960862300009</td>\n",
       "      <td>ResearcherID data provided by Clarivate Analytics</td>\n",
       "      <td>DEC 2022</td>\n",
       "      <td>51.0</td>\n",
       "      <td>Y</td>\n",
       "      <td>NaN</td>\n",
       "      <td>2022</td>\n",
       "      <td>2022-12-01</td>\n",
       "      <td>Y</td>\n",
       "      <td>DEC</td>\n",
       "      <td>...</td>\n",
       "      <td>NaN</td>\n",
       "      <td>NaN</td>\n",
       "      <td>NaN</td>\n",
       "      <td>NaN</td>\n",
       "      <td>NaN</td>\n",
       "      <td>NaN</td>\n",
       "      <td>NaN</td>\n",
       "      <td>NaN</td>\n",
       "      <td>NaN</td>\n",
       "      <td>3</td>\n",
       "    </tr>\n",
       "    <tr>\n",
       "      <th>4</th>\n",
       "      <td>WOS:000937676000047</td>\n",
       "      <td>ResearcherID data provided by Clarivate Analytics</td>\n",
       "      <td>2022</td>\n",
       "      <td>NaN</td>\n",
       "      <td>N</td>\n",
       "      <td>NaN</td>\n",
       "      <td>2022</td>\n",
       "      <td>2022-01-01</td>\n",
       "      <td>Y</td>\n",
       "      <td>NaN</td>\n",
       "      <td>...</td>\n",
       "      <td>NaN</td>\n",
       "      <td>NaN</td>\n",
       "      <td>NaN</td>\n",
       "      <td>NaN</td>\n",
       "      <td>NaN</td>\n",
       "      <td>NaN</td>\n",
       "      <td>NaN</td>\n",
       "      <td>NaN</td>\n",
       "      <td>NaN</td>\n",
       "      <td>4</td>\n",
       "    </tr>\n",
       "    <tr>\n",
       "      <th>...</th>\n",
       "      <td>...</td>\n",
       "      <td>...</td>\n",
       "      <td>...</td>\n",
       "      <td>...</td>\n",
       "      <td>...</td>\n",
       "      <td>...</td>\n",
       "      <td>...</td>\n",
       "      <td>...</td>\n",
       "      <td>...</td>\n",
       "      <td>...</td>\n",
       "      <td>...</td>\n",
       "      <td>...</td>\n",
       "      <td>...</td>\n",
       "      <td>...</td>\n",
       "      <td>...</td>\n",
       "      <td>...</td>\n",
       "      <td>...</td>\n",
       "      <td>...</td>\n",
       "      <td>...</td>\n",
       "      <td>...</td>\n",
       "      <td>...</td>\n",
       "    </tr>\n",
       "    <tr>\n",
       "      <th>398</th>\n",
       "      <td>WOS:000302204000011</td>\n",
       "      <td>ResearcherID data provided by Clarivate Analytics</td>\n",
       "      <td>MAY 2012</td>\n",
       "      <td>28.0</td>\n",
       "      <td>Y</td>\n",
       "      <td>NaN</td>\n",
       "      <td>2012</td>\n",
       "      <td>2012-05-01</td>\n",
       "      <td>Y</td>\n",
       "      <td>MAY</td>\n",
       "      <td>...</td>\n",
       "      <td>2023.0</td>\n",
       "      <td>0000-0003-2365-3779</td>\n",
       "      <td>1992.0</td>\n",
       "      <td>L.</td>\n",
       "      <td>NaN</td>\n",
       "      <td>NaN</td>\n",
       "      <td>NaN</td>\n",
       "      <td>NaN</td>\n",
       "      <td>NaN</td>\n",
       "      <td>398</td>\n",
       "    </tr>\n",
       "    <tr>\n",
       "      <th>399</th>\n",
       "      <td>WOS:000300692800010</td>\n",
       "      <td>ResearcherID data provided by Clarivate Analytics</td>\n",
       "      <td>MAR 2012</td>\n",
       "      <td>42.0</td>\n",
       "      <td>N</td>\n",
       "      <td>NaN</td>\n",
       "      <td>2012</td>\n",
       "      <td>2012-03-01</td>\n",
       "      <td>Y</td>\n",
       "      <td>MAR</td>\n",
       "      <td>...</td>\n",
       "      <td>NaN</td>\n",
       "      <td>NaN</td>\n",
       "      <td>NaN</td>\n",
       "      <td>NaN</td>\n",
       "      <td>NaN</td>\n",
       "      <td>NaN</td>\n",
       "      <td>NaN</td>\n",
       "      <td>NaN</td>\n",
       "      <td>NaN</td>\n",
       "      <td>399</td>\n",
       "    </tr>\n",
       "    <tr>\n",
       "      <th>400</th>\n",
       "      <td>WOS:000300428700002</td>\n",
       "      <td>ResearcherID data provided by Clarivate Analytics</td>\n",
       "      <td>FEB 2012</td>\n",
       "      <td>42.0</td>\n",
       "      <td>N</td>\n",
       "      <td>NaN</td>\n",
       "      <td>2012</td>\n",
       "      <td>2012-02-01</td>\n",
       "      <td>Y</td>\n",
       "      <td>FEB</td>\n",
       "      <td>...</td>\n",
       "      <td>NaN</td>\n",
       "      <td>NaN</td>\n",
       "      <td>NaN</td>\n",
       "      <td>NaN</td>\n",
       "      <td>NaN</td>\n",
       "      <td>NaN</td>\n",
       "      <td>NaN</td>\n",
       "      <td>NaN</td>\n",
       "      <td>NaN</td>\n",
       "      <td>400</td>\n",
       "    </tr>\n",
       "    <tr>\n",
       "      <th>401</th>\n",
       "      <td>WOS:000300052900006</td>\n",
       "      <td>ResearcherID data provided by Clarivate Analytics</td>\n",
       "      <td>MAR 2012</td>\n",
       "      <td>43.0</td>\n",
       "      <td>N</td>\n",
       "      <td>NaN</td>\n",
       "      <td>2012</td>\n",
       "      <td>2012-03-01</td>\n",
       "      <td>Y</td>\n",
       "      <td>MAR</td>\n",
       "      <td>...</td>\n",
       "      <td>NaN</td>\n",
       "      <td>NaN</td>\n",
       "      <td>NaN</td>\n",
       "      <td>NaN</td>\n",
       "      <td>NaN</td>\n",
       "      <td>NaN</td>\n",
       "      <td>NaN</td>\n",
       "      <td>NaN</td>\n",
       "      <td>NaN</td>\n",
       "      <td>401</td>\n",
       "    </tr>\n",
       "    <tr>\n",
       "      <th>402</th>\n",
       "      <td>WOS:000298527100008</td>\n",
       "      <td>ResearcherID data provided by Clarivate Analytics</td>\n",
       "      <td>FEB 2012</td>\n",
       "      <td>40.0</td>\n",
       "      <td>N</td>\n",
       "      <td>NaN</td>\n",
       "      <td>2012</td>\n",
       "      <td>2012-02-01</td>\n",
       "      <td>Y</td>\n",
       "      <td>FEB</td>\n",
       "      <td>...</td>\n",
       "      <td>NaN</td>\n",
       "      <td>NaN</td>\n",
       "      <td>NaN</td>\n",
       "      <td>NaN</td>\n",
       "      <td>NaN</td>\n",
       "      <td>NaN</td>\n",
       "      <td>NaN</td>\n",
       "      <td>NaN</td>\n",
       "      <td>NaN</td>\n",
       "      <td>402</td>\n",
       "    </tr>\n",
       "  </tbody>\n",
       "</table>\n",
       "<p>396 rows × 217 columns</p>\n",
       "</div>"
      ],
      "text/plain": [
       "                     UID                                    r_id_disclaimer  \\\n",
       "0    WOS:000993557000001  ResearcherID data provided by Clarivate Analytics   \n",
       "1    WOS:000975433600006  ResearcherID data provided by Clarivate Analytics   \n",
       "2    WOS:000960862300008  ResearcherID data provided by Clarivate Analytics   \n",
       "3    WOS:000960862300009  ResearcherID data provided by Clarivate Analytics   \n",
       "4    WOS:000937676000047  ResearcherID data provided by Clarivate Analytics   \n",
       "..                   ...                                                ...   \n",
       "398  WOS:000302204000011  ResearcherID data provided by Clarivate Analytics   \n",
       "399  WOS:000300692800010  ResearcherID data provided by Clarivate Analytics   \n",
       "400  WOS:000300428700002  ResearcherID data provided by Clarivate Analytics   \n",
       "401  WOS:000300052900006  ResearcherID data provided by Clarivate Analytics   \n",
       "402  WOS:000298527100008  ResearcherID data provided by Clarivate Analytics   \n",
       "\n",
       "    static_data.summary.pub_info.coverdate  static_data.summary.pub_info.vol  \\\n",
       "0                              AUG 15 2022                               4.0   \n",
       "1                             SEP-DEC 2022                              17.0   \n",
       "2                                 DEC 2022                              51.0   \n",
       "3                                 DEC 2022                              51.0   \n",
       "4                                     2022                               NaN   \n",
       "..                                     ...                               ...   \n",
       "398                               MAY 2012                              28.0   \n",
       "399                               MAR 2012                              42.0   \n",
       "400                               FEB 2012                              42.0   \n",
       "401                               MAR 2012                              43.0   \n",
       "402                               FEB 2012                              40.0   \n",
       "\n",
       "    static_data.summary.pub_info.journal_oas_gold  \\\n",
       "0                                               Y   \n",
       "1                                               N   \n",
       "2                                               Y   \n",
       "3                                               Y   \n",
       "4                                               N   \n",
       "..                                            ...   \n",
       "398                                             Y   \n",
       "399                                             N   \n",
       "400                                             N   \n",
       "401                                             N   \n",
       "402                                             N   \n",
       "\n",
       "    static_data.summary.pub_info.has_citation_context  \\\n",
       "0                                                   Y   \n",
       "1                                                 NaN   \n",
       "2                                                 NaN   \n",
       "3                                                 NaN   \n",
       "4                                                 NaN   \n",
       "..                                                ...   \n",
       "398                                               NaN   \n",
       "399                                               NaN   \n",
       "400                                               NaN   \n",
       "401                                               NaN   \n",
       "402                                               NaN   \n",
       "\n",
       "     static_data.summary.pub_info.pubyear  \\\n",
       "0                                    2022   \n",
       "1                                    2022   \n",
       "2                                    2022   \n",
       "3                                    2022   \n",
       "4                                    2022   \n",
       "..                                    ...   \n",
       "398                                  2012   \n",
       "399                                  2012   \n",
       "400                                  2012   \n",
       "401                                  2012   \n",
       "402                                  2012   \n",
       "\n",
       "    static_data.summary.pub_info.sortdate  \\\n",
       "0                              2022-08-15   \n",
       "1                              2022-09-01   \n",
       "2                              2022-12-01   \n",
       "3                              2022-12-01   \n",
       "4                              2022-01-01   \n",
       "..                                    ...   \n",
       "398                            2012-05-01   \n",
       "399                            2012-03-01   \n",
       "400                            2012-02-01   \n",
       "401                            2012-03-01   \n",
       "402                            2012-02-01   \n",
       "\n",
       "    static_data.summary.pub_info.has_abstract  \\\n",
       "0                                           Y   \n",
       "1                                           Y   \n",
       "2                                           Y   \n",
       "3                                           Y   \n",
       "4                                           Y   \n",
       "..                                        ...   \n",
       "398                                         Y   \n",
       "399                                         Y   \n",
       "400                                         Y   \n",
       "401                                         Y   \n",
       "402                                         Y   \n",
       "\n",
       "    static_data.summary.pub_info.pubmonth  ...  \\\n",
       "0                                  AUG 15  ...   \n",
       "1                                 SEP-DEC  ...   \n",
       "2                                     DEC  ...   \n",
       "3                                     DEC  ...   \n",
       "4                                     NaN  ...   \n",
       "..                                    ...  ...   \n",
       "398                                   MAY  ...   \n",
       "399                                   MAR  ...   \n",
       "400                                   FEB  ...   \n",
       "401                                   MAR  ...   \n",
       "402                                   FEB  ...   \n",
       "\n",
       "    static_data.fullrecord_metadata.addresses.address_name.names.name.noncore_endyear  \\\n",
       "0                                                  NaN                                  \n",
       "1                                                  NaN                                  \n",
       "2                                                  NaN                                  \n",
       "3                                                  NaN                                  \n",
       "4                                                  NaN                                  \n",
       "..                                                 ...                                  \n",
       "398                                             2023.0                                  \n",
       "399                                                NaN                                  \n",
       "400                                                NaN                                  \n",
       "401                                                NaN                                  \n",
       "402                                                NaN                                  \n",
       "\n",
       "     static_data.fullrecord_metadata.addresses.address_name.names.name.orcid_id  \\\n",
       "0                                                  NaN                            \n",
       "1                                                  NaN                            \n",
       "2                                                  NaN                            \n",
       "3                                                  NaN                            \n",
       "4                                                  NaN                            \n",
       "..                                                 ...                            \n",
       "398                                0000-0003-2365-3779                            \n",
       "399                                                NaN                            \n",
       "400                                                NaN                            \n",
       "401                                                NaN                            \n",
       "402                                                NaN                            \n",
       "\n",
       "     static_data.fullrecord_metadata.addresses.address_name.names.name.noncore_startyear  \\\n",
       "0                                                  NaN                                     \n",
       "1                                                  NaN                                     \n",
       "2                                                  NaN                                     \n",
       "3                                                  NaN                                     \n",
       "4                                                  NaN                                     \n",
       "..                                                 ...                                     \n",
       "398                                             1992.0                                     \n",
       "399                                                NaN                                     \n",
       "400                                                NaN                                     \n",
       "401                                                NaN                                     \n",
       "402                                                NaN                                     \n",
       "\n",
       "    static_data.fullrecord_metadata.addresses.address_name.names.name.preferred_name.middle_name  \\\n",
       "0                                                  NaN                                             \n",
       "1                                                  NaN                                             \n",
       "2                                                  NaN                                             \n",
       "3                                                  NaN                                             \n",
       "4                                                  NaN                                             \n",
       "..                                                 ...                                             \n",
       "398                                                 L.                                             \n",
       "399                                                NaN                                             \n",
       "400                                                NaN                                             \n",
       "401                                                NaN                                             \n",
       "402                                                NaN                                             \n",
       "\n",
       "    static_data.fullrecord_metadata.fund_ack.grants.grant.grant_source  \\\n",
       "0                                                  NaN                   \n",
       "1                                                  NaN                   \n",
       "2                                                  NaN                   \n",
       "3                                                  NaN                   \n",
       "4                                                  NaN                   \n",
       "..                                                 ...                   \n",
       "398                                                NaN                   \n",
       "399                                                NaN                   \n",
       "400                                                NaN                   \n",
       "401                                                NaN                   \n",
       "402                                                NaN                   \n",
       "\n",
       "     static_data.summary.names.name.data-item-ids.data-item-id  \\\n",
       "0                                                  NaN           \n",
       "1                                                  NaN           \n",
       "2                                                  NaN           \n",
       "3                                                  NaN           \n",
       "4                                                  NaN           \n",
       "..                                                 ...           \n",
       "398                                                NaN           \n",
       "399                                                NaN           \n",
       "400                                                NaN           \n",
       "401                                                NaN           \n",
       "402                                                NaN           \n",
       "\n",
       "     static_data.fullrecord_metadata.addresses.address_name.names.name.data-item-ids.data-item-id  \\\n",
       "0                                                  NaN                                              \n",
       "1                                                  NaN                                              \n",
       "2                                                  NaN                                              \n",
       "3                                                  NaN                                              \n",
       "4                                                  NaN                                              \n",
       "..                                                 ...                                              \n",
       "398                                                NaN                                              \n",
       "399                                                NaN                                              \n",
       "400                                                NaN                                              \n",
       "401                                                NaN                                              \n",
       "402                                                NaN                                              \n",
       "\n",
       "     static_data.fullrecord_metadata.reprint_addresses.address_name.names.name  \\\n",
       "0                                                  NaN                           \n",
       "1                                                  NaN                           \n",
       "2                                                  NaN                           \n",
       "3                                                  NaN                           \n",
       "4                                                  NaN                           \n",
       "..                                                 ...                           \n",
       "398                                                NaN                           \n",
       "399                                                NaN                           \n",
       "400                                                NaN                           \n",
       "401                                                NaN                           \n",
       "402                                                NaN                           \n",
       "\n",
       "    static_data.summary.pub_info.part_no index  \n",
       "0                                    NaN     0  \n",
       "1                                    NaN     1  \n",
       "2                                    NaN     2  \n",
       "3                                    NaN     3  \n",
       "4                                    NaN     4  \n",
       "..                                   ...   ...  \n",
       "398                                  NaN   398  \n",
       "399                                  NaN   399  \n",
       "400                                  NaN   400  \n",
       "401                                  NaN   401  \n",
       "402                                  NaN   402  \n",
       "\n",
       "[396 rows x 217 columns]"
      ]
     },
     "execution_count": 19,
     "metadata": {},
     "output_type": "execute_result"
    }
   ],
   "source": [
    "data = data[data['static_data.summary.pub_info.has_abstract'] == 'Y']\n",
    "data"
   ]
  },
  {
   "cell_type": "code",
   "execution_count": 20,
   "metadata": {},
   "outputs": [
    {
     "data": {
      "text/plain": [
       "array([  nan, 2022., 2021., 2020., 2019.])"
      ]
     },
     "execution_count": 20,
     "metadata": {},
     "output_type": "execute_result"
    }
   ],
   "source": [
    "data['static_data.summary.pub_info.early_access_year'].unique()"
   ]
  },
  {
   "cell_type": "code",
   "execution_count": 21,
   "metadata": {},
   "outputs": [
    {
     "data": {
      "text/plain": [
       "array([nan, 'DEC 2022', 'OCT 2022', 'NOV 2022', 'SEP 2022', 'AUG 2022',\n",
       "       'JUL 2022', 'MAY 2022', 'APR 2021', 'MAR 2022', 'APR 2022',\n",
       "       'FEB 2022', 'JAN 2022', 'JAN 2021', 'DEC 2021', 'NOV 2021',\n",
       "       'OCT 2021', 'SEP 2021', 'MAY 2021', 'JUL 2021', 'AUG 2021',\n",
       "       'JUN 2021', 'FEB 2021', 'MAR 2021', 'DEC 2020', 'NOV 2020',\n",
       "       'OCT 2020', 'SEP 2020', 'AUG 2020', 'JUL 2020', 'JUN 2020',\n",
       "       'APR 2020', 'MAR 2020', 'FEB 2020', 'JAN 2020', 'DEC 2019',\n",
       "       'AUG 2019', 'JUN 2019', 'JUL 2019'], dtype=object)"
      ]
     },
     "execution_count": 21,
     "metadata": {},
     "output_type": "execute_result"
    }
   ],
   "source": [
    "data['static_data.summary.pub_info.early_access_date'].unique()"
   ]
  },
  {
   "cell_type": "code",
   "execution_count": 22,
   "metadata": {},
   "outputs": [
    {
     "data": {
      "text/plain": [
       "array([2022, 2023, 2021, 2020, 2019, 2018, 2017, 2016, 2015, 2014, 2013,\n",
       "       2012])"
      ]
     },
     "execution_count": 22,
     "metadata": {},
     "output_type": "execute_result"
    }
   ],
   "source": [
    "data['static_data.summary.pub_info.pubyear'].unique()"
   ]
  },
  {
   "cell_type": "code",
   "execution_count": 23,
   "metadata": {},
   "outputs": [
    {
     "data": {
      "text/plain": [
       "0      [{'seq_no': 1, 'role': 'author', 'claim_status...\n",
       "1      [{'seq_no': 1, 'role': 'author', 'claim_status...\n",
       "2      [{'seq_no': 1, 'role': 'author', 'claim_status...\n",
       "3      [{'seq_no': 1, 'role': 'author', 'claim_status...\n",
       "4      [{'seq_no': 1, 'role': 'author', 'claim_status...\n",
       "                             ...                        \n",
       "398    [{'seq_no': 1, 'role': 'author', 'claim_status...\n",
       "399    [{'seq_no': 1, 'role': 'author', 'claim_status...\n",
       "400    [{'seq_no': 1, 'role': 'author', 'claim_status...\n",
       "401    [{'seq_no': 1, 'role': 'author', 'claim_status...\n",
       "402    [{'seq_no': 1, 'role': 'author', 'claim_status...\n",
       "Name: static_data.summary.names.name, Length: 396, dtype: object"
      ]
     },
     "execution_count": 23,
     "metadata": {},
     "output_type": "execute_result"
    }
   ],
   "source": [
    "data['static_data.summary.names.name']"
   ]
  },
  {
   "cell_type": "code",
   "execution_count": 24,
   "metadata": {},
   "outputs": [
    {
     "data": {
      "text/plain": [
       "0                 FRONTIERS MEDIA SA\n",
       "1                   SOC ED IL MULINO\n",
       "2                      CUKUROVA UNIV\n",
       "3                      CUKUROVA UNIV\n",
       "4                               IEEE\n",
       "                   ...              \n",
       "398                      UNIV MURCIA\n",
       "399                            WILEY\n",
       "400                            WILEY\n",
       "401            SAGE PUBLICATIONS INC\n",
       "402    PERGAMON-ELSEVIER SCIENCE LTD\n",
       "Name: static_data.summary.publishers.publisher.names.name.full_name, Length: 396, dtype: object"
      ]
     },
     "execution_count": 24,
     "metadata": {},
     "output_type": "execute_result"
    }
   ],
   "source": [
    "data['static_data.summary.publishers.publisher.names.name.full_name']"
   ]
  },
  {
   "cell_type": "code",
   "execution_count": 25,
   "metadata": {},
   "outputs": [
    {
     "data": {
      "text/plain": [
       "0      [{'seq_no': 1, 'role': 'author', 'claim_status...\n",
       "1                                                    NaN\n",
       "2                                                    NaN\n",
       "3                                                    NaN\n",
       "4                                                    NaN\n",
       "                             ...                        \n",
       "398                                                  NaN\n",
       "399                                                  NaN\n",
       "400                                                  NaN\n",
       "401                                                  NaN\n",
       "402                                                  NaN\n",
       "Name: static_data.fullrecord_metadata.addresses.address_name.names.name, Length: 396, dtype: object"
      ]
     },
     "execution_count": 25,
     "metadata": {},
     "output_type": "execute_result"
    }
   ],
   "source": [
    "data['static_data.fullrecord_metadata.addresses.address_name.names.name']"
   ]
  },
  {
   "cell_type": "code",
   "execution_count": 26,
   "metadata": {},
   "outputs": [
    {
     "data": {
      "text/plain": [
       "0             Off, Gefjon\n",
       "1          Caricati, Luca\n",
       "2          Dombak, Kuebra\n",
       "3           Bozkur, Binaz\n",
       "4      Jawthari, Moohanad\n",
       "              ...        \n",
       "398      Megias, Jesus L.\n",
       "399     Infanger, Martina\n",
       "400        Osborne, Danny\n",
       "401      Hall, J. Camille\n",
       "402        Moreno, Martin\n",
       "Name: static_data.fullrecord_metadata.reprint_addresses.address_name.names.name.full_name, Length: 396, dtype: object"
      ]
     },
     "execution_count": 26,
     "metadata": {},
     "output_type": "execute_result"
    }
   ],
   "source": [
    "data['static_data.fullrecord_metadata.reprint_addresses.address_name.names.name.full_name']"
   ]
  },
  {
   "cell_type": "code",
   "execution_count": 27,
   "metadata": {},
   "outputs": [
    {
     "data": {
      "text/plain": [
       "array([2, 1])"
      ]
     },
     "execution_count": 27,
     "metadata": {},
     "output_type": "execute_result"
    }
   ],
   "source": [
    "check = data['static_data.fullrecord_metadata.reprint_addresses.address_name.names.name.full_name'].apply(lambda x: len(str(x).split(', ')))\n",
    "check.unique()"
   ]
  },
  {
   "cell_type": "code",
   "execution_count": 28,
   "metadata": {},
   "outputs": [
    {
     "data": {
      "text/plain": [
       "0          Gefjon\n",
       "1            Luca\n",
       "2          Kuebra\n",
       "3           Binaz\n",
       "4        Moohanad\n",
       "          ...    \n",
       "398      Jesus L.\n",
       "399       Martina\n",
       "400         Danny\n",
       "401    J. Camille\n",
       "402        Martin\n",
       "Name: static_data.fullrecord_metadata.reprint_addresses.address_name.names.name.first_name, Length: 396, dtype: object"
      ]
     },
     "execution_count": 28,
     "metadata": {},
     "output_type": "execute_result"
    }
   ],
   "source": [
    "data['static_data.fullrecord_metadata.reprint_addresses.address_name.names.name.first_name']"
   ]
  },
  {
   "cell_type": "code",
   "execution_count": 29,
   "metadata": {},
   "outputs": [
    {
     "data": {
      "text/plain": [
       "0                   NaN\n",
       "1                   NaN\n",
       "2                   NaN\n",
       "3                   NaN\n",
       "4                   NaN\n",
       "             ...       \n",
       "398    Megias, Jesus L.\n",
       "399                 NaN\n",
       "400                 NaN\n",
       "401                 NaN\n",
       "402                 NaN\n",
       "Name: static_data.fullrecord_metadata.addresses.address_name.names.name.display_name, Length: 396, dtype: object"
      ]
     },
     "execution_count": 29,
     "metadata": {},
     "output_type": "execute_result"
    }
   ],
   "source": [
    "data['static_data.fullrecord_metadata.addresses.address_name.names.name.display_name']"
   ]
  },
  {
   "cell_type": "code",
   "execution_count": 30,
   "metadata": {},
   "outputs": [
    {
     "data": {
      "text/plain": [
       "Index(['index', 'seq_no', 'role', 'claim_status', 'reprint', 'last_name',\n",
       "       'display_name', 'daisng_id', 'full_name', 'addr_no', 'wos_standard',\n",
       "       'r_id', 'first_name', 'data-item-ids.data-item-id.type',\n",
       "       'data-item-ids.data-item-id.content',\n",
       "       'data-item-ids.data-item-id.id-type', 'preferred_name.full_name',\n",
       "       'preferred_name.last_name', 'preferred_name.first_name', 'orcid_id',\n",
       "       'noncore_endyear', 'noncore_startyear', 'preferred_name.middle_name',\n",
       "       'data-item-ids.data-item-id', 'suffix'],\n",
       "      dtype='object')"
      ]
     },
     "execution_count": 30,
     "metadata": {},
     "output_type": "execute_result"
    }
   ],
   "source": [
    "df_authors = pd.DataFrame.from_dict(data['static_data.summary.names.name'].explode())\n",
    "df_authors['index'] = df_authors.index\n",
    "df_auth_temp = pd.json_normalize(df_authors['static_data.summary.names.name']).set_index(df_authors.index)\n",
    "#df_auth_temp['temp_index'] = df_auth_temp.index\n",
    "\n",
    "df_authors = pd.concat([df_authors, df_auth_temp], axis='columns')\n",
    "df_authors = df_authors.drop(columns=['static_data.summary.names.name'])\n",
    "df_authors.columns"
   ]
  },
  {
   "cell_type": "code",
   "execution_count": 31,
   "metadata": {},
   "outputs": [
    {
     "data": {
      "text/html": [
       "<div>\n",
       "<style scoped>\n",
       "    .dataframe tbody tr th:only-of-type {\n",
       "        vertical-align: middle;\n",
       "    }\n",
       "\n",
       "    .dataframe tbody tr th {\n",
       "        vertical-align: top;\n",
       "    }\n",
       "\n",
       "    .dataframe thead th {\n",
       "        text-align: right;\n",
       "    }\n",
       "</style>\n",
       "<table border=\"1\" class=\"dataframe\">\n",
       "  <thead>\n",
       "    <tr style=\"text-align: right;\">\n",
       "      <th></th>\n",
       "      <th>data-item-ids.data-item-id.type</th>\n",
       "      <th>data-item-ids.data-item-id.content</th>\n",
       "      <th>data-item-ids.data-item-id.id-type</th>\n",
       "    </tr>\n",
       "  </thead>\n",
       "  <tbody>\n",
       "    <tr>\n",
       "      <th>0</th>\n",
       "      <td>person</td>\n",
       "      <td>GND-9795-2022</td>\n",
       "      <td>PreferredRID</td>\n",
       "    </tr>\n",
       "    <tr>\n",
       "      <th>0</th>\n",
       "      <td>person</td>\n",
       "      <td>GDX-2107-2022</td>\n",
       "      <td>PreferredRID</td>\n",
       "    </tr>\n",
       "    <tr>\n",
       "      <th>0</th>\n",
       "      <td>person</td>\n",
       "      <td>CBB-3855-2022</td>\n",
       "      <td>PreferredRID</td>\n",
       "    </tr>\n",
       "    <tr>\n",
       "      <th>1</th>\n",
       "      <td>person</td>\n",
       "      <td>AAI-5232-2021</td>\n",
       "      <td>PreferredRID</td>\n",
       "    </tr>\n",
       "    <tr>\n",
       "      <th>1</th>\n",
       "      <td>person</td>\n",
       "      <td>CQY-0139-2022</td>\n",
       "      <td>PreferredRID</td>\n",
       "    </tr>\n",
       "    <tr>\n",
       "      <th>...</th>\n",
       "      <td>...</td>\n",
       "      <td>...</td>\n",
       "      <td>...</td>\n",
       "    </tr>\n",
       "    <tr>\n",
       "      <th>401</th>\n",
       "      <td>person</td>\n",
       "      <td>CTF-2710-2022</td>\n",
       "      <td>PreferredRID</td>\n",
       "    </tr>\n",
       "    <tr>\n",
       "      <th>402</th>\n",
       "      <td>person</td>\n",
       "      <td>FYP-1158-2022</td>\n",
       "      <td>PreferredRID</td>\n",
       "    </tr>\n",
       "    <tr>\n",
       "      <th>402</th>\n",
       "      <td>person</td>\n",
       "      <td>GCL-0950-2022</td>\n",
       "      <td>PreferredRID</td>\n",
       "    </tr>\n",
       "    <tr>\n",
       "      <th>402</th>\n",
       "      <td>person</td>\n",
       "      <td>DPV-8892-2022</td>\n",
       "      <td>PreferredRID</td>\n",
       "    </tr>\n",
       "    <tr>\n",
       "      <th>402</th>\n",
       "      <td>person</td>\n",
       "      <td>CCI-5936-2022</td>\n",
       "      <td>PreferredRID</td>\n",
       "    </tr>\n",
       "  </tbody>\n",
       "</table>\n",
       "<p>1460 rows × 3 columns</p>\n",
       "</div>"
      ],
      "text/plain": [
       "    data-item-ids.data-item-id.type data-item-ids.data-item-id.content  \\\n",
       "0                            person                      GND-9795-2022   \n",
       "0                            person                      GDX-2107-2022   \n",
       "0                            person                      CBB-3855-2022   \n",
       "1                            person                      AAI-5232-2021   \n",
       "1                            person                      CQY-0139-2022   \n",
       "..                              ...                                ...   \n",
       "401                          person                      CTF-2710-2022   \n",
       "402                          person                      FYP-1158-2022   \n",
       "402                          person                      GCL-0950-2022   \n",
       "402                          person                      DPV-8892-2022   \n",
       "402                          person                      CCI-5936-2022   \n",
       "\n",
       "    data-item-ids.data-item-id.id-type  \n",
       "0                         PreferredRID  \n",
       "0                         PreferredRID  \n",
       "0                         PreferredRID  \n",
       "1                         PreferredRID  \n",
       "1                         PreferredRID  \n",
       "..                                 ...  \n",
       "401                       PreferredRID  \n",
       "402                       PreferredRID  \n",
       "402                       PreferredRID  \n",
       "402                       PreferredRID  \n",
       "402                       PreferredRID  \n",
       "\n",
       "[1460 rows x 3 columns]"
      ]
     },
     "execution_count": 31,
     "metadata": {},
     "output_type": "execute_result"
    }
   ],
   "source": [
    "df_authors[['data-item-ids.data-item-id.type',\n",
    "       'data-item-ids.data-item-id.content',\n",
    "       'data-item-ids.data-item-id.id-type']]"
   ]
  },
  {
   "cell_type": "code",
   "execution_count": null,
   "metadata": {},
   "outputs": [],
   "source": []
  },
  {
   "cell_type": "code",
   "execution_count": 32,
   "metadata": {},
   "outputs": [
    {
     "data": {
      "text/plain": [
       "array([2022., 2021., 2020., 2019., 2018., 2017., 2016., 2015., 2014.,\n",
       "       2013., 2012.])"
      ]
     },
     "execution_count": 32,
     "metadata": {},
     "output_type": "execute_result"
    }
   ],
   "source": [
    "# Publication year\n",
    "data['pub_year'] = np.where(data['static_data.summary.pub_info.early_access_year'].isnull(), data['static_data.summary.pub_info.pubyear'], data['static_data.summary.pub_info.early_access_year'])\n",
    "data['pub_year'].unique()"
   ]
  },
  {
   "cell_type": "code",
   "execution_count": 33,
   "metadata": {},
   "outputs": [
    {
     "data": {
      "text/plain": [
       "<AxesSubplot:>"
      ]
     },
     "execution_count": 33,
     "metadata": {},
     "output_type": "execute_result"
    },
    {
     "data": {
      "image/png": "[encoded data removed]",
      "text/plain": [
       "<Figure size 640x480 with 1 Axes>"
      ]
     },
     "metadata": {},
     "output_type": "display_data"
    }
   ],
   "source": [
    "data['pub_year'].value_counts().sort_index().plot()"
   ]
  },
  {
   "cell_type": "code",
   "execution_count": 57,
   "metadata": {},
   "outputs": [
    {
     "data": {
      "text/html": [
       "<div>\n",
       "<style scoped>\n",
       "    .dataframe tbody tr th:only-of-type {\n",
       "        vertical-align: middle;\n",
       "    }\n",
       "\n",
       "    .dataframe tbody tr th {\n",
       "        vertical-align: top;\n",
       "    }\n",
       "\n",
       "    .dataframe thead th {\n",
       "        text-align: right;\n",
       "    }\n",
       "</style>\n",
       "<table border=\"1\" class=\"dataframe\">\n",
       "  <thead>\n",
       "    <tr style=\"text-align: right;\">\n",
       "      <th></th>\n",
       "      <th>ascatype</th>\n",
       "      <th>code</th>\n",
       "      <th>content</th>\n",
       "      <th>temporary_index</th>\n",
       "      <th>index</th>\n",
       "    </tr>\n",
       "  </thead>\n",
       "  <tbody>\n",
       "    <tr>\n",
       "      <th>0</th>\n",
       "      <td>traditional</td>\n",
       "      <td>OE</td>\n",
       "      <td>International Relations</td>\n",
       "      <td>0</td>\n",
       "      <td>0</td>\n",
       "    </tr>\n",
       "    <tr>\n",
       "      <th>1</th>\n",
       "      <td>traditional</td>\n",
       "      <td>UU</td>\n",
       "      <td>Political Science</td>\n",
       "      <td>1</td>\n",
       "      <td>0</td>\n",
       "    </tr>\n",
       "    <tr>\n",
       "      <th>2</th>\n",
       "      <td>extended</td>\n",
       "      <td>NaN</td>\n",
       "      <td>International Relations</td>\n",
       "      <td>2</td>\n",
       "      <td>0</td>\n",
       "    </tr>\n",
       "    <tr>\n",
       "      <th>3</th>\n",
       "      <td>extended</td>\n",
       "      <td>NaN</td>\n",
       "      <td>Government &amp; Law</td>\n",
       "      <td>3</td>\n",
       "      <td>0</td>\n",
       "    </tr>\n",
       "    <tr>\n",
       "      <th>4</th>\n",
       "      <td>traditional</td>\n",
       "      <td>WQ</td>\n",
       "      <td>Psychology, Social</td>\n",
       "      <td>4</td>\n",
       "      <td>1</td>\n",
       "    </tr>\n",
       "    <tr>\n",
       "      <th>...</th>\n",
       "      <td>...</td>\n",
       "      <td>...</td>\n",
       "      <td>...</td>\n",
       "      <td>...</td>\n",
       "      <td>...</td>\n",
       "    </tr>\n",
       "    <tr>\n",
       "      <th>1258</th>\n",
       "      <td>extended</td>\n",
       "      <td>NaN</td>\n",
       "      <td>Social Sciences - Other Topics</td>\n",
       "      <td>1258</td>\n",
       "      <td>401</td>\n",
       "    </tr>\n",
       "    <tr>\n",
       "      <th>1259</th>\n",
       "      <td>traditional</td>\n",
       "      <td>DP</td>\n",
       "      <td>Development Studies</td>\n",
       "      <td>1259</td>\n",
       "      <td>402</td>\n",
       "    </tr>\n",
       "    <tr>\n",
       "      <th>1260</th>\n",
       "      <td>traditional</td>\n",
       "      <td>GY</td>\n",
       "      <td>Economics</td>\n",
       "      <td>1260</td>\n",
       "      <td>402</td>\n",
       "    </tr>\n",
       "    <tr>\n",
       "      <th>1261</th>\n",
       "      <td>extended</td>\n",
       "      <td>NaN</td>\n",
       "      <td>Development Studies</td>\n",
       "      <td>1261</td>\n",
       "      <td>402</td>\n",
       "    </tr>\n",
       "    <tr>\n",
       "      <th>1262</th>\n",
       "      <td>extended</td>\n",
       "      <td>NaN</td>\n",
       "      <td>Business &amp; Economics</td>\n",
       "      <td>1262</td>\n",
       "      <td>402</td>\n",
       "    </tr>\n",
       "  </tbody>\n",
       "</table>\n",
       "<p>1263 rows × 5 columns</p>\n",
       "</div>"
      ],
      "text/plain": [
       "         ascatype code                         content  temporary_index  index\n",
       "0     traditional   OE         International Relations                0      0\n",
       "1     traditional   UU               Political Science                1      0\n",
       "2        extended  NaN         International Relations                2      0\n",
       "3        extended  NaN                Government & Law                3      0\n",
       "4     traditional   WQ              Psychology, Social                4      1\n",
       "...           ...  ...                             ...              ...    ...\n",
       "1258     extended  NaN  Social Sciences - Other Topics             1258    401\n",
       "1259  traditional   DP             Development Studies             1259    402\n",
       "1260  traditional   GY                       Economics             1260    402\n",
       "1261     extended  NaN             Development Studies             1261    402\n",
       "1262     extended  NaN            Business & Economics             1262    402\n",
       "\n",
       "[1263 rows x 5 columns]"
      ]
     },
     "execution_count": 57,
     "metadata": {},
     "output_type": "execute_result"
    }
   ],
   "source": [
    "df_subjects = data['static_data.fullrecord_metadata.category_info.subjects.subject'].explode().reset_index(name='subjects')\n",
    "df_subjects['temporary_index'] = df_subjects.index\n",
    "df_subjects_temp = pd.json_normalize(df_subjects['subjects'])\n",
    "df_subjects_temp['temporary_index'] = df_subjects_temp.index\n",
    "df_subjects_temp['index'] = df_subjects_temp['temporary_index'].map(df_subjects.set_index('temporary_index')['index'])\n",
    "\n",
    "df_subjects_temp"
   ]
  },
  {
   "cell_type": "code",
   "execution_count": 102,
   "metadata": {},
   "outputs": [],
   "source": [
    "#df_subjects_temp = df_subjects_temp.groupby(['ascatype', 'index', 'code']).apply(lambda a: a[:])\n",
    "\n",
    "df_subjects_temp_trad = df_subjects_temp[df_subjects_temp['ascatype'] == 'traditional']\n",
    "df_subjects_temp_ext = df_subjects_temp[df_subjects_temp['ascatype'] == 'extended']\n",
    "\n",
    "df_subjects_temp_trad = df_subjects_temp_trad.groupby(['index'], as_index=False).agg({'content': ', '.join})\n",
    "df_subjects_temp_ext = df_subjects_temp_ext.groupby(['index'], as_index=False).agg({'content': ', '.join})\n"
   ]
  },
  {
   "cell_type": "code",
   "execution_count": 103,
   "metadata": {},
   "outputs": [
    {
     "data": {
      "text/html": [
       "<div>\n",
       "<style scoped>\n",
       "    .dataframe tbody tr th:only-of-type {\n",
       "        vertical-align: middle;\n",
       "    }\n",
       "\n",
       "    .dataframe tbody tr th {\n",
       "        vertical-align: top;\n",
       "    }\n",
       "\n",
       "    .dataframe thead th {\n",
       "        text-align: right;\n",
       "    }\n",
       "</style>\n",
       "<table border=\"1\" class=\"dataframe\">\n",
       "  <thead>\n",
       "    <tr style=\"text-align: right;\">\n",
       "      <th></th>\n",
       "      <th>index</th>\n",
       "      <th>content</th>\n",
       "    </tr>\n",
       "  </thead>\n",
       "  <tbody>\n",
       "    <tr>\n",
       "      <th>0</th>\n",
       "      <td>0</td>\n",
       "      <td>International Relations, Government &amp; Law</td>\n",
       "    </tr>\n",
       "    <tr>\n",
       "      <th>1</th>\n",
       "      <td>1</td>\n",
       "      <td>Psychology</td>\n",
       "    </tr>\n",
       "    <tr>\n",
       "      <th>2</th>\n",
       "      <td>2</td>\n",
       "      <td>Education &amp; Educational Research</td>\n",
       "    </tr>\n",
       "    <tr>\n",
       "      <th>3</th>\n",
       "      <td>3</td>\n",
       "      <td>Education &amp; Educational Research</td>\n",
       "    </tr>\n",
       "    <tr>\n",
       "      <th>4</th>\n",
       "      <td>4</td>\n",
       "      <td>Computer Science, Engineering, Telecommunications</td>\n",
       "    </tr>\n",
       "    <tr>\n",
       "      <th>...</th>\n",
       "      <td>...</td>\n",
       "      <td>...</td>\n",
       "    </tr>\n",
       "    <tr>\n",
       "      <th>390</th>\n",
       "      <td>398</td>\n",
       "      <td>Psychology</td>\n",
       "    </tr>\n",
       "    <tr>\n",
       "      <th>391</th>\n",
       "      <td>399</td>\n",
       "      <td>Psychology</td>\n",
       "    </tr>\n",
       "    <tr>\n",
       "      <th>392</th>\n",
       "      <td>400</td>\n",
       "      <td>Psychology</td>\n",
       "    </tr>\n",
       "    <tr>\n",
       "      <th>393</th>\n",
       "      <td>401</td>\n",
       "      <td>Ethnic Studies, Social Sciences - Other Topics</td>\n",
       "    </tr>\n",
       "    <tr>\n",
       "      <th>394</th>\n",
       "      <td>402</td>\n",
       "      <td>Development Studies, Business &amp; Economics</td>\n",
       "    </tr>\n",
       "  </tbody>\n",
       "</table>\n",
       "<p>395 rows × 2 columns</p>\n",
       "</div>"
      ],
      "text/plain": [
       "     index                                            content\n",
       "0        0          International Relations, Government & Law\n",
       "1        1                                         Psychology\n",
       "2        2                   Education & Educational Research\n",
       "3        3                   Education & Educational Research\n",
       "4        4  Computer Science, Engineering, Telecommunications\n",
       "..     ...                                                ...\n",
       "390    398                                         Psychology\n",
       "391    399                                         Psychology\n",
       "392    400                                         Psychology\n",
       "393    401     Ethnic Studies, Social Sciences - Other Topics\n",
       "394    402          Development Studies, Business & Economics\n",
       "\n",
       "[395 rows x 2 columns]"
      ]
     },
     "execution_count": 103,
     "metadata": {},
     "output_type": "execute_result"
    }
   ],
   "source": [
    "df_subjects_temp_ext"
   ]
  },
  {
   "cell_type": "code",
   "execution_count": 32,
   "metadata": {},
   "outputs": [
    {
     "data": {
      "text/plain": [
       "array(['Y', 'N'], dtype=object)"
      ]
     },
     "execution_count": 32,
     "metadata": {},
     "output_type": "execute_result"
    }
   ],
   "source": [
    "data['static_data.summary.pub_info.journal_oas_gold'].unique()"
   ]
  },
  {
   "cell_type": "code",
   "execution_count": 33,
   "metadata": {},
   "outputs": [
    {
     "data": {
      "text/plain": [
       "0      NaN\n",
       "1      NaN\n",
       "2      NaN\n",
       "3      NaN\n",
       "4      NaN\n",
       "      ... \n",
       "398    NaN\n",
       "399    NaN\n",
       "400    NaN\n",
       "401    NaN\n",
       "402    NaN\n",
       "Name: static_data.summary.names.name.preferred_name.full_name, Length: 396, dtype: object"
      ]
     },
     "execution_count": 33,
     "metadata": {},
     "output_type": "execute_result"
    }
   ],
   "source": [
    "data['static_data.summary.names.name.preferred_name.full_name']"
   ]
  },
  {
   "cell_type": "code",
   "execution_count": 34,
   "metadata": {},
   "outputs": [
    {
     "data": {
      "text/plain": [
       "0      NaN\n",
       "1      NaN\n",
       "2      NaN\n",
       "3      NaN\n",
       "4      NaN\n",
       "      ... \n",
       "398    NaN\n",
       "399    NaN\n",
       "400    NaN\n",
       "401    NaN\n",
       "402    NaN\n",
       "Name: static_data.fullrecord_metadata.reprint_addresses.address_name.names.name, Length: 396, dtype: object"
      ]
     },
     "execution_count": 34,
     "metadata": {},
     "output_type": "execute_result"
    }
   ],
   "source": [
    "data['static_data.fullrecord_metadata.reprint_addresses.address_name.names.name']"
   ]
  },
  {
   "cell_type": "code",
   "execution_count": 35,
   "metadata": {},
   "outputs": [
    {
     "data": {
      "text/plain": [
       "array([nan, 'HHV-1931-2022', 'AAP-8989-2020', 'GMI-9497-2022',\n",
       "       'ABE-1883-2020', 'AAZ-2767-2020', 'FWD-1885-2022', 'DYS-2039-2022',\n",
       "       'DTY-0387-2022', 'EEM-9049-2022', 'GCC-7571-2022', 'DWI-4272-2022',\n",
       "       'FZX-4161-2022', 'G-9568-2014', 'CSM-0992-2022', 'FRI-8406-2022',\n",
       "       'CEV-3916-2022', 'EWI-9019-2022', 'FCT-4008-2022', 'H-2798-2019',\n",
       "       'EPY-2504-2022', 'ABA-7468-2020', 'CRP-1418-2022', 'J-7954-2019',\n",
       "       'DVP-8960-2022', 'DWR-1699-2022', 'IOL-9710-2023', 'FTR-1823-2022',\n",
       "       'DVN-0074-2022', 'CVP-9200-2022', 'CPK-0089-2022', 'FKV-9691-2022',\n",
       "       'GGG-8048-2022', 'DWZ-6908-2022', 'FZX-2196-2022'], dtype=object)"
      ]
     },
     "execution_count": 35,
     "metadata": {},
     "output_type": "execute_result"
    }
   ],
   "source": [
    "data['static_data.summary.names.name.data-item-ids.data-item-id.content'].unique()"
   ]
  },
  {
   "cell_type": "code",
   "execution_count": 36,
   "metadata": {},
   "outputs": [
    {
     "data": {
      "text/html": [
       "<div>\n",
       "<style scoped>\n",
       "    .dataframe tbody tr th:only-of-type {\n",
       "        vertical-align: middle;\n",
       "    }\n",
       "\n",
       "    .dataframe tbody tr th {\n",
       "        vertical-align: top;\n",
       "    }\n",
       "\n",
       "    .dataframe thead th {\n",
       "        text-align: right;\n",
       "    }\n",
       "</style>\n",
       "<table border=\"1\" class=\"dataframe\">\n",
       "  <thead>\n",
       "    <tr style=\"text-align: right;\">\n",
       "      <th></th>\n",
       "      <th>index</th>\n",
       "      <th>static_data.summary.conferences.conference.conf_titles.conf_title</th>\n",
       "    </tr>\n",
       "  </thead>\n",
       "  <tbody>\n",
       "    <tr>\n",
       "      <th>0</th>\n",
       "      <td>13th International Conference on Language Reso...</td>\n",
       "      <td>3</td>\n",
       "    </tr>\n",
       "    <tr>\n",
       "      <th>1</th>\n",
       "      <td>60th Annual Meeting of the Association-for-Com...</td>\n",
       "      <td>2</td>\n",
       "    </tr>\n",
       "    <tr>\n",
       "      <th>2</th>\n",
       "      <td>5th Workshop on Structured Prediction for NLP ...</td>\n",
       "      <td>2</td>\n",
       "    </tr>\n",
       "    <tr>\n",
       "      <th>3</th>\n",
       "      <td>Joint Conference of 59th Annual Meeting of the...</td>\n",
       "      <td>2</td>\n",
       "    </tr>\n",
       "    <tr>\n",
       "      <th>4</th>\n",
       "      <td>13th International Conference on Information a...</td>\n",
       "      <td>1</td>\n",
       "    </tr>\n",
       "    <tr>\n",
       "      <th>5</th>\n",
       "      <td>11th World Conference on Educational Sciences ...</td>\n",
       "      <td>1</td>\n",
       "    </tr>\n",
       "    <tr>\n",
       "      <th>6</th>\n",
       "      <td>Conference on Signal Processing, Sensor/Inform...</td>\n",
       "      <td>1</td>\n",
       "    </tr>\n",
       "    <tr>\n",
       "      <th>7</th>\n",
       "      <td>44th IEEE International Conference on Acoustic...</td>\n",
       "      <td>1</td>\n",
       "    </tr>\n",
       "    <tr>\n",
       "      <th>8</th>\n",
       "      <td>International Conference on Cyber Situational ...</td>\n",
       "      <td>1</td>\n",
       "    </tr>\n",
       "    <tr>\n",
       "      <th>9</th>\n",
       "      <td>Conference on Empirical Methods in Natural Lan...</td>\n",
       "      <td>1</td>\n",
       "    </tr>\n",
       "    <tr>\n",
       "      <th>10</th>\n",
       "      <td>8th International Conference on Affective Comp...</td>\n",
       "      <td>1</td>\n",
       "    </tr>\n",
       "    <tr>\n",
       "      <th>11</th>\n",
       "      <td>18th International Conference of the Italian-A...</td>\n",
       "      <td>1</td>\n",
       "    </tr>\n",
       "    <tr>\n",
       "      <th>12</th>\n",
       "      <td>19th IEEE/WIC/ACM International Conference on ...</td>\n",
       "      <td>1</td>\n",
       "    </tr>\n",
       "    <tr>\n",
       "      <th>13</th>\n",
       "      <td>23rd International Conference on Applications ...</td>\n",
       "      <td>1</td>\n",
       "    </tr>\n",
       "    <tr>\n",
       "      <th>14</th>\n",
       "      <td>European Conference on Machine Learning and Pr...</td>\n",
       "      <td>1</td>\n",
       "    </tr>\n",
       "    <tr>\n",
       "      <th>15</th>\n",
       "      <td>24th IEEE International Conference on Image Pr...</td>\n",
       "      <td>1</td>\n",
       "    </tr>\n",
       "    <tr>\n",
       "      <th>16</th>\n",
       "      <td>ACM SIGCHI Conference on Human Factors in Comp...</td>\n",
       "      <td>1</td>\n",
       "    </tr>\n",
       "    <tr>\n",
       "      <th>17</th>\n",
       "      <td>Meetings of the European-Association-of-Social...</td>\n",
       "      <td>1</td>\n",
       "    </tr>\n",
       "    <tr>\n",
       "      <th>18</th>\n",
       "      <td>6th LUMEN International Conference on Rethinki...</td>\n",
       "      <td>1</td>\n",
       "    </tr>\n",
       "    <tr>\n",
       "      <th>19</th>\n",
       "      <td>3rd International Conference on Artificial Int...</td>\n",
       "      <td>1</td>\n",
       "    </tr>\n",
       "    <tr>\n",
       "      <th>20</th>\n",
       "      <td>12th International Conference on Language Reso...</td>\n",
       "      <td>1</td>\n",
       "    </tr>\n",
       "    <tr>\n",
       "      <th>21</th>\n",
       "      <td>58th Annual Meeting of the Association-for-Com...</td>\n",
       "      <td>1</td>\n",
       "    </tr>\n",
       "    <tr>\n",
       "      <th>22</th>\n",
       "      <td>5th Workshop on Representation Learning for NL...</td>\n",
       "      <td>1</td>\n",
       "    </tr>\n",
       "    <tr>\n",
       "      <th>23</th>\n",
       "      <td>Proceedings of the 13th annual meeting of the ...</td>\n",
       "      <td>1</td>\n",
       "    </tr>\n",
       "    <tr>\n",
       "      <th>24</th>\n",
       "      <td>33rd Annual Scientific Assembly of the Eastern...</td>\n",
       "      <td>1</td>\n",
       "    </tr>\n",
       "    <tr>\n",
       "      <th>25</th>\n",
       "      <td>2nd International Conference on Cybernetics an...</td>\n",
       "      <td>1</td>\n",
       "    </tr>\n",
       "    <tr>\n",
       "      <th>26</th>\n",
       "      <td>Joint 11th International Conference on Soft Co...</td>\n",
       "      <td>1</td>\n",
       "    </tr>\n",
       "    <tr>\n",
       "      <th>27</th>\n",
       "      <td>24th Pacific-Asia Conference on Knowledge Disc...</td>\n",
       "      <td>1</td>\n",
       "    </tr>\n",
       "    <tr>\n",
       "      <th>28</th>\n",
       "      <td>21st International Conference on Web Informati...</td>\n",
       "      <td>1</td>\n",
       "    </tr>\n",
       "    <tr>\n",
       "      <th>29</th>\n",
       "      <td>18th ACS/IEEE International Conference on Comp...</td>\n",
       "      <td>1</td>\n",
       "    </tr>\n",
       "    <tr>\n",
       "      <th>30</th>\n",
       "      <td>15th International Conference on the Computati...</td>\n",
       "      <td>1</td>\n",
       "    </tr>\n",
       "    <tr>\n",
       "      <th>31</th>\n",
       "      <td>IEEE International Conference on Systems, Man,...</td>\n",
       "      <td>1</td>\n",
       "    </tr>\n",
       "    <tr>\n",
       "      <th>32</th>\n",
       "      <td>2nd Workshop on Speech and Language Technologi...</td>\n",
       "      <td>1</td>\n",
       "    </tr>\n",
       "    <tr>\n",
       "      <th>33</th>\n",
       "      <td>1st Workshop on Efficient Benchmarking in NLP ...</td>\n",
       "      <td>1</td>\n",
       "    </tr>\n",
       "    <tr>\n",
       "      <th>34</th>\n",
       "      <td>20th International Conference of the Italian-A...</td>\n",
       "      <td>1</td>\n",
       "    </tr>\n",
       "    <tr>\n",
       "      <th>35</th>\n",
       "      <td>Conference of the North-American-Chapter-of-th...</td>\n",
       "      <td>1</td>\n",
       "    </tr>\n",
       "    <tr>\n",
       "      <th>36</th>\n",
       "      <td>16th Conference of the European-Chapter-of-the...</td>\n",
       "      <td>1</td>\n",
       "    </tr>\n",
       "    <tr>\n",
       "      <th>37</th>\n",
       "      <td>International Conference on Informatics, Elect...</td>\n",
       "      <td>1</td>\n",
       "    </tr>\n",
       "  </tbody>\n",
       "</table>\n",
       "</div>"
      ],
      "text/plain": [
       "                                                index  \\\n",
       "0   13th International Conference on Language Reso...   \n",
       "1   60th Annual Meeting of the Association-for-Com...   \n",
       "2   5th Workshop on Structured Prediction for NLP ...   \n",
       "3   Joint Conference of 59th Annual Meeting of the...   \n",
       "4   13th International Conference on Information a...   \n",
       "5   11th World Conference on Educational Sciences ...   \n",
       "6   Conference on Signal Processing, Sensor/Inform...   \n",
       "7   44th IEEE International Conference on Acoustic...   \n",
       "8   International Conference on Cyber Situational ...   \n",
       "9   Conference on Empirical Methods in Natural Lan...   \n",
       "10  8th International Conference on Affective Comp...   \n",
       "11  18th International Conference of the Italian-A...   \n",
       "12  19th IEEE/WIC/ACM International Conference on ...   \n",
       "13  23rd International Conference on Applications ...   \n",
       "14  European Conference on Machine Learning and Pr...   \n",
       "15  24th IEEE International Conference on Image Pr...   \n",
       "16  ACM SIGCHI Conference on Human Factors in Comp...   \n",
       "17  Meetings of the European-Association-of-Social...   \n",
       "18  6th LUMEN International Conference on Rethinki...   \n",
       "19  3rd International Conference on Artificial Int...   \n",
       "20  12th International Conference on Language Reso...   \n",
       "21  58th Annual Meeting of the Association-for-Com...   \n",
       "22  5th Workshop on Representation Learning for NL...   \n",
       "23  Proceedings of the 13th annual meeting of the ...   \n",
       "24  33rd Annual Scientific Assembly of the Eastern...   \n",
       "25  2nd International Conference on Cybernetics an...   \n",
       "26  Joint 11th International Conference on Soft Co...   \n",
       "27  24th Pacific-Asia Conference on Knowledge Disc...   \n",
       "28  21st International Conference on Web Informati...   \n",
       "29  18th ACS/IEEE International Conference on Comp...   \n",
       "30  15th International Conference on the Computati...   \n",
       "31  IEEE International Conference on Systems, Man,...   \n",
       "32  2nd Workshop on Speech and Language Technologi...   \n",
       "33  1st Workshop on Efficient Benchmarking in NLP ...   \n",
       "34  20th International Conference of the Italian-A...   \n",
       "35  Conference of the North-American-Chapter-of-th...   \n",
       "36  16th Conference of the European-Chapter-of-the...   \n",
       "37  International Conference on Informatics, Elect...   \n",
       "\n",
       "    static_data.summary.conferences.conference.conf_titles.conf_title  \n",
       "0                                                   3                  \n",
       "1                                                   2                  \n",
       "2                                                   2                  \n",
       "3                                                   2                  \n",
       "4                                                   1                  \n",
       "5                                                   1                  \n",
       "6                                                   1                  \n",
       "7                                                   1                  \n",
       "8                                                   1                  \n",
       "9                                                   1                  \n",
       "10                                                  1                  \n",
       "11                                                  1                  \n",
       "12                                                  1                  \n",
       "13                                                  1                  \n",
       "14                                                  1                  \n",
       "15                                                  1                  \n",
       "16                                                  1                  \n",
       "17                                                  1                  \n",
       "18                                                  1                  \n",
       "19                                                  1                  \n",
       "20                                                  1                  \n",
       "21                                                  1                  \n",
       "22                                                  1                  \n",
       "23                                                  1                  \n",
       "24                                                  1                  \n",
       "25                                                  1                  \n",
       "26                                                  1                  \n",
       "27                                                  1                  \n",
       "28                                                  1                  \n",
       "29                                                  1                  \n",
       "30                                                  1                  \n",
       "31                                                  1                  \n",
       "32                                                  1                  \n",
       "33                                                  1                  \n",
       "34                                                  1                  \n",
       "35                                                  1                  \n",
       "36                                                  1                  \n",
       "37                                                  1                  "
      ]
     },
     "execution_count": 36,
     "metadata": {},
     "output_type": "execute_result"
    }
   ],
   "source": [
    "data['static_data.summary.conferences.conference.conf_titles.conf_title'].value_counts().reset_index()"
   ]
  },
  {
   "cell_type": "code",
   "execution_count": 37,
   "metadata": {},
   "outputs": [
    {
     "data": {
      "text/plain": [
       "array([nan,\n",
       "       'IEEE SERVICE CENTER, 445 HOES LANE, PO BOX 1331, PISCATAWAY, NJ 08855-1331 USA',\n",
       "       'EUROPEAN LANGUAGE RESOURCES ASSOC-ELRA, 55-57, RUE BRILLAT-SAVARIN, PARIS, 75013, FRANCE',\n",
       "       'ASSOC COMPUTATIONAL LINGUISTICS-ACL, 209 N EIGHTH STREET, STROUDSBURG, PA 18360 USA',\n",
       "       'ASSOC COMPUTING MACHINERY, P O BOX 64145, BALTIMORE, MD 21264 USA',\n",
       "       'SPIE-INT SOC OPTICAL ENGINEERING, PO BOX 10, BELLINGHAM, WA 98227-0010 USA',\n",
       "       'SCIENCEPARK SCI, ORGANIZATION & COUNSELING LTD, 13 SUBAT ST, NO 17, KYRENIA, 99030, CYPRUS',\n",
       "       'MEDIMOND S R L, VIA MASERATI 5, 40128 BOLOGNA, 00000, ITALY'],\n",
       "      dtype=object)"
      ]
     },
     "execution_count": 37,
     "metadata": {},
     "output_type": "execute_result"
    }
   ],
   "source": [
    "data['static_data.item.book_desc.bk_publisher'].unique()"
   ]
  },
  {
   "cell_type": "code",
   "execution_count": 38,
   "metadata": {},
   "outputs": [
    {
     "data": {
      "text/plain": [
       "0      2023-06-02T09:37:17.841564\n",
       "1      2023-05-14T11:09:03.197805\n",
       "2      2023-04-29T13:42:07.294956\n",
       "3      2023-04-29T13:42:07.294956\n",
       "4      2023-03-15T02:29:05.877108\n",
       "                  ...            \n",
       "398    2012-12-25T12:25:20.684325\n",
       "399    2012-12-25T12:25:20.684325\n",
       "400    2012-12-25T12:25:20.684325\n",
       "401    2012-12-25T12:25:20.684325\n",
       "402    2012-12-25T12:25:20.684325\n",
       "Name: dates.date_created, Length: 396, dtype: object"
      ]
     },
     "execution_count": 38,
     "metadata": {},
     "output_type": "execute_result"
    }
   ],
   "source": [
    "data['dates.date_created']"
   ]
  },
  {
   "cell_type": "code",
   "execution_count": 39,
   "metadata": {},
   "outputs": [
    {
     "data": {
      "text/plain": [
       "0                                                    NaN\n",
       "1                                                    NaN\n",
       "2                                                    NaN\n",
       "3                                                    NaN\n",
       "4                                                    NaN\n",
       "                             ...                        \n",
       "398    [{'name': {'seq_no': 1, 'orcid_id': '0000-0003...\n",
       "399                                                  NaN\n",
       "400    [{'name': {'seq_no': 1, 'role': 'researcher_id...\n",
       "401                                                  NaN\n",
       "402    [{'name': {'seq_no': 1, 'orcid_id': '0000-0002...\n",
       "Name: static_data.contributors.contributor, Length: 396, dtype: object"
      ]
     },
     "execution_count": 39,
     "metadata": {},
     "output_type": "execute_result"
    }
   ],
   "source": [
    "data['static_data.contributors.contributor']"
   ]
  },
  {
   "cell_type": "code",
   "execution_count": null,
   "metadata": {},
   "outputs": [],
   "source": []
  },
  {
   "cell_type": "code",
   "execution_count": null,
   "metadata": {},
   "outputs": [],
   "source": []
  },
  {
   "cell_type": "code",
   "execution_count": null,
   "metadata": {},
   "outputs": [],
   "source": []
  },
  {
   "cell_type": "code",
   "execution_count": 40,
   "metadata": {},
   "outputs": [
    {
     "data": {
      "text/html": [
       "<div>\n",
       "<style scoped>\n",
       "    .dataframe tbody tr th:only-of-type {\n",
       "        vertical-align: middle;\n",
       "    }\n",
       "\n",
       "    .dataframe tbody tr th {\n",
       "        vertical-align: top;\n",
       "    }\n",
       "\n",
       "    .dataframe thead th {\n",
       "        text-align: right;\n",
       "    }\n",
       "</style>\n",
       "<table border=\"1\" class=\"dataframe\">\n",
       "  <thead>\n",
       "    <tr style=\"text-align: right;\">\n",
       "      <th></th>\n",
       "      <th>index</th>\n",
       "      <th>seq_no</th>\n",
       "      <th>role</th>\n",
       "      <th>claim_status</th>\n",
       "      <th>reprint</th>\n",
       "      <th>last_name</th>\n",
       "      <th>display_name</th>\n",
       "      <th>daisng_id</th>\n",
       "      <th>full_name</th>\n",
       "      <th>addr_no</th>\n",
       "      <th>...</th>\n",
       "      <th>data-item-ids.data-item-id.id-type</th>\n",
       "      <th>preferred_name.full_name</th>\n",
       "      <th>preferred_name.last_name</th>\n",
       "      <th>preferred_name.first_name</th>\n",
       "      <th>orcid_id</th>\n",
       "      <th>noncore_endyear</th>\n",
       "      <th>noncore_startyear</th>\n",
       "      <th>preferred_name.middle_name</th>\n",
       "      <th>data-item-ids.data-item-id</th>\n",
       "      <th>suffix</th>\n",
       "    </tr>\n",
       "  </thead>\n",
       "  <tbody>\n",
       "    <tr>\n",
       "      <th>0</th>\n",
       "      <td>0</td>\n",
       "      <td>1.0</td>\n",
       "      <td>author</td>\n",
       "      <td>False</td>\n",
       "      <td>Y</td>\n",
       "      <td>Off</td>\n",
       "      <td>Off, Gefjon</td>\n",
       "      <td>32180030.0</td>\n",
       "      <td>Off, Gefjon</td>\n",
       "      <td>1</td>\n",
       "      <td>...</td>\n",
       "      <td>PreferredRID</td>\n",
       "      <td>Off, Gefjon</td>\n",
       "      <td>Off</td>\n",
       "      <td>Gefjon</td>\n",
       "      <td>NaN</td>\n",
       "      <td>NaN</td>\n",
       "      <td>NaN</td>\n",
       "      <td>NaN</td>\n",
       "      <td>NaN</td>\n",
       "      <td>NaN</td>\n",
       "    </tr>\n",
       "    <tr>\n",
       "      <th>0</th>\n",
       "      <td>0</td>\n",
       "      <td>2.0</td>\n",
       "      <td>author</td>\n",
       "      <td>False</td>\n",
       "      <td>NaN</td>\n",
       "      <td>Charron</td>\n",
       "      <td>Charron, Nicholas</td>\n",
       "      <td>29922492.0</td>\n",
       "      <td>Charron, Nicholas</td>\n",
       "      <td>1</td>\n",
       "      <td>...</td>\n",
       "      <td>PreferredRID</td>\n",
       "      <td>Charron, Nicholas</td>\n",
       "      <td>Charron</td>\n",
       "      <td>Nicholas</td>\n",
       "      <td>0000-0003-1386-0782</td>\n",
       "      <td>NaN</td>\n",
       "      <td>NaN</td>\n",
       "      <td>NaN</td>\n",
       "      <td>NaN</td>\n",
       "      <td>NaN</td>\n",
       "    </tr>\n",
       "    <tr>\n",
       "      <th>0</th>\n",
       "      <td>0</td>\n",
       "      <td>3.0</td>\n",
       "      <td>author</td>\n",
       "      <td>False</td>\n",
       "      <td>NaN</td>\n",
       "      <td>Alexander</td>\n",
       "      <td>Alexander, Amy</td>\n",
       "      <td>4074271.0</td>\n",
       "      <td>Alexander, Amy</td>\n",
       "      <td>1</td>\n",
       "      <td>...</td>\n",
       "      <td>PreferredRID</td>\n",
       "      <td>Alexander, Amy</td>\n",
       "      <td>Alexander</td>\n",
       "      <td>Amy</td>\n",
       "      <td>NaN</td>\n",
       "      <td>NaN</td>\n",
       "      <td>NaN</td>\n",
       "      <td>NaN</td>\n",
       "      <td>NaN</td>\n",
       "      <td>NaN</td>\n",
       "    </tr>\n",
       "    <tr>\n",
       "      <th>1</th>\n",
       "      <td>1</td>\n",
       "      <td>1.0</td>\n",
       "      <td>author</td>\n",
       "      <td>True</td>\n",
       "      <td>Y</td>\n",
       "      <td>Caricati</td>\n",
       "      <td>Caricati, Luca</td>\n",
       "      <td>462295.0</td>\n",
       "      <td>Caricati, Luca</td>\n",
       "      <td>1</td>\n",
       "      <td>...</td>\n",
       "      <td>PreferredRID</td>\n",
       "      <td>Caricati, Luca</td>\n",
       "      <td>Caricati</td>\n",
       "      <td>Luca</td>\n",
       "      <td>0000-0001-5456-2621</td>\n",
       "      <td>2022.0</td>\n",
       "      <td>2008.0</td>\n",
       "      <td>NaN</td>\n",
       "      <td>NaN</td>\n",
       "      <td>NaN</td>\n",
       "    </tr>\n",
       "    <tr>\n",
       "      <th>1</th>\n",
       "      <td>1</td>\n",
       "      <td>2.0</td>\n",
       "      <td>author</td>\n",
       "      <td>False</td>\n",
       "      <td>NaN</td>\n",
       "      <td>Ferrari</td>\n",
       "      <td>Ferrari, Alessia</td>\n",
       "      <td>7970545.0</td>\n",
       "      <td>Ferrari, Alessia</td>\n",
       "      <td>1</td>\n",
       "      <td>...</td>\n",
       "      <td>PreferredRID</td>\n",
       "      <td>Ferrari, Alessia</td>\n",
       "      <td>Ferrari</td>\n",
       "      <td>Alessia</td>\n",
       "      <td>NaN</td>\n",
       "      <td>NaN</td>\n",
       "      <td>NaN</td>\n",
       "      <td>NaN</td>\n",
       "      <td>NaN</td>\n",
       "      <td>NaN</td>\n",
       "    </tr>\n",
       "    <tr>\n",
       "      <th>...</th>\n",
       "      <td>...</td>\n",
       "      <td>...</td>\n",
       "      <td>...</td>\n",
       "      <td>...</td>\n",
       "      <td>...</td>\n",
       "      <td>...</td>\n",
       "      <td>...</td>\n",
       "      <td>...</td>\n",
       "      <td>...</td>\n",
       "      <td>...</td>\n",
       "      <td>...</td>\n",
       "      <td>...</td>\n",
       "      <td>...</td>\n",
       "      <td>...</td>\n",
       "      <td>...</td>\n",
       "      <td>...</td>\n",
       "      <td>...</td>\n",
       "      <td>...</td>\n",
       "      <td>...</td>\n",
       "      <td>...</td>\n",
       "      <td>...</td>\n",
       "    </tr>\n",
       "    <tr>\n",
       "      <th>401</th>\n",
       "      <td>401</td>\n",
       "      <td>3.0</td>\n",
       "      <td>author</td>\n",
       "      <td>False</td>\n",
       "      <td>NaN</td>\n",
       "      <td>Hamilton-Mason</td>\n",
       "      <td>Hamilton-Mason, Johnnie</td>\n",
       "      <td>8543116.0</td>\n",
       "      <td>Hamilton-Mason, Johnnie</td>\n",
       "      <td>3</td>\n",
       "      <td>...</td>\n",
       "      <td>PreferredRID</td>\n",
       "      <td>Hamilton-Mason, Johnnie</td>\n",
       "      <td>Hamilton-Mason</td>\n",
       "      <td>Johnnie</td>\n",
       "      <td>NaN</td>\n",
       "      <td>NaN</td>\n",
       "      <td>NaN</td>\n",
       "      <td>NaN</td>\n",
       "      <td>NaN</td>\n",
       "      <td>NaN</td>\n",
       "    </tr>\n",
       "    <tr>\n",
       "      <th>402</th>\n",
       "      <td>402</td>\n",
       "      <td>1.0</td>\n",
       "      <td>author</td>\n",
       "      <td>False</td>\n",
       "      <td>Y</td>\n",
       "      <td>Moreno</td>\n",
       "      <td>Moreno, Martin</td>\n",
       "      <td>28661552.0</td>\n",
       "      <td>Moreno, Martin</td>\n",
       "      <td>1</td>\n",
       "      <td>...</td>\n",
       "      <td>PreferredRID</td>\n",
       "      <td>Moreno, Martin</td>\n",
       "      <td>Moreno</td>\n",
       "      <td>Martin</td>\n",
       "      <td>0000-0002-3790-4332</td>\n",
       "      <td>NaN</td>\n",
       "      <td>NaN</td>\n",
       "      <td>NaN</td>\n",
       "      <td>NaN</td>\n",
       "      <td>NaN</td>\n",
       "    </tr>\n",
       "    <tr>\n",
       "      <th>402</th>\n",
       "      <td>402</td>\n",
       "      <td>2.0</td>\n",
       "      <td>author</td>\n",
       "      <td>False</td>\n",
       "      <td>NaN</td>\n",
       "      <td>Nopo</td>\n",
       "      <td>Nopo, Hugo</td>\n",
       "      <td>29541334.0</td>\n",
       "      <td>Nopo, Hugo</td>\n",
       "      <td>NaN</td>\n",
       "      <td>...</td>\n",
       "      <td>PreferredRID</td>\n",
       "      <td>Nopo, Hugo</td>\n",
       "      <td>Nopo</td>\n",
       "      <td>Hugo</td>\n",
       "      <td>0000-0003-1769-2376</td>\n",
       "      <td>NaN</td>\n",
       "      <td>NaN</td>\n",
       "      <td>NaN</td>\n",
       "      <td>NaN</td>\n",
       "      <td>NaN</td>\n",
       "    </tr>\n",
       "    <tr>\n",
       "      <th>402</th>\n",
       "      <td>402</td>\n",
       "      <td>3.0</td>\n",
       "      <td>author</td>\n",
       "      <td>False</td>\n",
       "      <td>NaN</td>\n",
       "      <td>Saavedra</td>\n",
       "      <td>Saavedra, Jaime</td>\n",
       "      <td>13939295.0</td>\n",
       "      <td>Saavedra, Jaime</td>\n",
       "      <td>2</td>\n",
       "      <td>...</td>\n",
       "      <td>PreferredRID</td>\n",
       "      <td>Saavedra, Jaime</td>\n",
       "      <td>Saavedra</td>\n",
       "      <td>Jaime</td>\n",
       "      <td>NaN</td>\n",
       "      <td>NaN</td>\n",
       "      <td>NaN</td>\n",
       "      <td>NaN</td>\n",
       "      <td>NaN</td>\n",
       "      <td>NaN</td>\n",
       "    </tr>\n",
       "    <tr>\n",
       "      <th>402</th>\n",
       "      <td>402</td>\n",
       "      <td>4.0</td>\n",
       "      <td>author</td>\n",
       "      <td>False</td>\n",
       "      <td>NaN</td>\n",
       "      <td>Torero</td>\n",
       "      <td>Torero, Maximo</td>\n",
       "      <td>4406341.0</td>\n",
       "      <td>Torero, Maximo</td>\n",
       "      <td>NaN</td>\n",
       "      <td>...</td>\n",
       "      <td>PreferredRID</td>\n",
       "      <td>Torero, Maximo</td>\n",
       "      <td>Torero</td>\n",
       "      <td>Maximo</td>\n",
       "      <td>0000-0002-4863-3371</td>\n",
       "      <td>NaN</td>\n",
       "      <td>NaN</td>\n",
       "      <td>NaN</td>\n",
       "      <td>NaN</td>\n",
       "      <td>NaN</td>\n",
       "    </tr>\n",
       "  </tbody>\n",
       "</table>\n",
       "<p>1460 rows × 25 columns</p>\n",
       "</div>"
      ],
      "text/plain": [
       "     index  seq_no    role claim_status reprint       last_name  \\\n",
       "0        0     1.0  author        False       Y             Off   \n",
       "0        0     2.0  author        False     NaN         Charron   \n",
       "0        0     3.0  author        False     NaN       Alexander   \n",
       "1        1     1.0  author         True       Y        Caricati   \n",
       "1        1     2.0  author        False     NaN         Ferrari   \n",
       "..     ...     ...     ...          ...     ...             ...   \n",
       "401    401     3.0  author        False     NaN  Hamilton-Mason   \n",
       "402    402     1.0  author        False       Y          Moreno   \n",
       "402    402     2.0  author        False     NaN            Nopo   \n",
       "402    402     3.0  author        False     NaN        Saavedra   \n",
       "402    402     4.0  author        False     NaN          Torero   \n",
       "\n",
       "                display_name   daisng_id                full_name addr_no  \\\n",
       "0                Off, Gefjon  32180030.0              Off, Gefjon       1   \n",
       "0          Charron, Nicholas  29922492.0        Charron, Nicholas       1   \n",
       "0             Alexander, Amy   4074271.0           Alexander, Amy       1   \n",
       "1             Caricati, Luca    462295.0           Caricati, Luca       1   \n",
       "1           Ferrari, Alessia   7970545.0         Ferrari, Alessia       1   \n",
       "..                       ...         ...                      ...     ...   \n",
       "401  Hamilton-Mason, Johnnie   8543116.0  Hamilton-Mason, Johnnie       3   \n",
       "402           Moreno, Martin  28661552.0           Moreno, Martin       1   \n",
       "402               Nopo, Hugo  29541334.0               Nopo, Hugo     NaN   \n",
       "402          Saavedra, Jaime  13939295.0          Saavedra, Jaime       2   \n",
       "402           Torero, Maximo   4406341.0           Torero, Maximo     NaN   \n",
       "\n",
       "     ... data-item-ids.data-item-id.id-type preferred_name.full_name  \\\n",
       "0    ...                       PreferredRID              Off, Gefjon   \n",
       "0    ...                       PreferredRID        Charron, Nicholas   \n",
       "0    ...                       PreferredRID           Alexander, Amy   \n",
       "1    ...                       PreferredRID           Caricati, Luca   \n",
       "1    ...                       PreferredRID         Ferrari, Alessia   \n",
       "..   ...                                ...                      ...   \n",
       "401  ...                       PreferredRID  Hamilton-Mason, Johnnie   \n",
       "402  ...                       PreferredRID           Moreno, Martin   \n",
       "402  ...                       PreferredRID               Nopo, Hugo   \n",
       "402  ...                       PreferredRID          Saavedra, Jaime   \n",
       "402  ...                       PreferredRID           Torero, Maximo   \n",
       "\n",
       "    preferred_name.last_name preferred_name.first_name             orcid_id  \\\n",
       "0                        Off                    Gefjon                  NaN   \n",
       "0                    Charron                  Nicholas  0000-0003-1386-0782   \n",
       "0                  Alexander                       Amy                  NaN   \n",
       "1                   Caricati                      Luca  0000-0001-5456-2621   \n",
       "1                    Ferrari                   Alessia                  NaN   \n",
       "..                       ...                       ...                  ...   \n",
       "401           Hamilton-Mason                   Johnnie                  NaN   \n",
       "402                   Moreno                    Martin  0000-0002-3790-4332   \n",
       "402                     Nopo                      Hugo  0000-0003-1769-2376   \n",
       "402                 Saavedra                     Jaime                  NaN   \n",
       "402                   Torero                    Maximo  0000-0002-4863-3371   \n",
       "\n",
       "    noncore_endyear noncore_startyear preferred_name.middle_name  \\\n",
       "0               NaN               NaN                        NaN   \n",
       "0               NaN               NaN                        NaN   \n",
       "0               NaN               NaN                        NaN   \n",
       "1            2022.0            2008.0                        NaN   \n",
       "1               NaN               NaN                        NaN   \n",
       "..              ...               ...                        ...   \n",
       "401             NaN               NaN                        NaN   \n",
       "402             NaN               NaN                        NaN   \n",
       "402             NaN               NaN                        NaN   \n",
       "402             NaN               NaN                        NaN   \n",
       "402             NaN               NaN                        NaN   \n",
       "\n",
       "    data-item-ids.data-item-id suffix  \n",
       "0                          NaN    NaN  \n",
       "0                          NaN    NaN  \n",
       "0                          NaN    NaN  \n",
       "1                          NaN    NaN  \n",
       "1                          NaN    NaN  \n",
       "..                         ...    ...  \n",
       "401                        NaN    NaN  \n",
       "402                        NaN    NaN  \n",
       "402                        NaN    NaN  \n",
       "402                        NaN    NaN  \n",
       "402                        NaN    NaN  \n",
       "\n",
       "[1460 rows x 25 columns]"
      ]
     },
     "execution_count": 40,
     "metadata": {},
     "output_type": "execute_result"
    }
   ],
   "source": [
    "df_authors"
   ]
  },
  {
   "cell_type": "code",
   "execution_count": 41,
   "metadata": {},
   "outputs": [
    {
     "data": {
      "text/plain": [
       "0        0\n",
       "0        0\n",
       "0        0\n",
       "1        1\n",
       "1        1\n",
       "      ... \n",
       "401    401\n",
       "402    402\n",
       "402    402\n",
       "402    402\n",
       "402    402\n",
       "Name: index, Length: 1460, dtype: int64"
      ]
     },
     "execution_count": 41,
     "metadata": {},
     "output_type": "execute_result"
    }
   ],
   "source": [
    "df_authors['index']"
   ]
  },
  {
   "cell_type": "code",
   "execution_count": 42,
   "metadata": {},
   "outputs": [
    {
     "data": {
      "text/html": [
       "<div>\n",
       "<style scoped>\n",
       "    .dataframe tbody tr th:only-of-type {\n",
       "        vertical-align: middle;\n",
       "    }\n",
       "\n",
       "    .dataframe tbody tr th {\n",
       "        vertical-align: top;\n",
       "    }\n",
       "\n",
       "    .dataframe thead th {\n",
       "        text-align: right;\n",
       "    }\n",
       "</style>\n",
       "<table border=\"1\" class=\"dataframe\">\n",
       "  <thead>\n",
       "    <tr style=\"text-align: right;\">\n",
       "      <th></th>\n",
       "      <th>index</th>\n",
       "      <th>full_name</th>\n",
       "    </tr>\n",
       "  </thead>\n",
       "  <tbody>\n",
       "    <tr>\n",
       "      <th>0</th>\n",
       "      <td>0</td>\n",
       "      <td>Off, Gefjon; Charron, Nicholas; Alexander, Amy</td>\n",
       "    </tr>\n",
       "    <tr>\n",
       "      <th>1</th>\n",
       "      <td>1</td>\n",
       "      <td>Caricati, Luca; Ferrari, Alessia; Owuamalam, C...</td>\n",
       "    </tr>\n",
       "    <tr>\n",
       "      <th>2</th>\n",
       "      <td>2</td>\n",
       "      <td>Dombak, Kuebra; Celik, Eyup</td>\n",
       "    </tr>\n",
       "    <tr>\n",
       "      <th>3</th>\n",
       "      <td>3</td>\n",
       "      <td>Bozkur, Binaz; Cig, Oguzcan</td>\n",
       "    </tr>\n",
       "    <tr>\n",
       "      <th>4</th>\n",
       "      <td>4</td>\n",
       "      <td>Jawthari, Moohanad; Stoffa, Veronika; Quwaider, M</td>\n",
       "    </tr>\n",
       "    <tr>\n",
       "      <th>...</th>\n",
       "      <td>...</td>\n",
       "      <td>...</td>\n",
       "    </tr>\n",
       "    <tr>\n",
       "      <th>391</th>\n",
       "      <td>398</td>\n",
       "      <td>Megias, Jesus L.; Montanes, Pilar</td>\n",
       "    </tr>\n",
       "    <tr>\n",
       "      <th>392</th>\n",
       "      <td>399</td>\n",
       "      <td>Infanger, Martina; Bosak, Janine; Sczesny, Sabine</td>\n",
       "    </tr>\n",
       "    <tr>\n",
       "      <th>393</th>\n",
       "      <td>400</td>\n",
       "      <td>Osborne, Danny; Davies, Paul G.</td>\n",
       "    </tr>\n",
       "    <tr>\n",
       "      <th>394</th>\n",
       "      <td>401</td>\n",
       "      <td>Hall, J. Camille; Everett, Joyce E.; Hamilton-...</td>\n",
       "    </tr>\n",
       "    <tr>\n",
       "      <th>395</th>\n",
       "      <td>402</td>\n",
       "      <td>Moreno, Martin; Nopo, Hugo; Saavedra, Jaime; T...</td>\n",
       "    </tr>\n",
       "  </tbody>\n",
       "</table>\n",
       "<p>396 rows × 2 columns</p>\n",
       "</div>"
      ],
      "text/plain": [
       "     index                                          full_name\n",
       "0        0     Off, Gefjon; Charron, Nicholas; Alexander, Amy\n",
       "1        1  Caricati, Luca; Ferrari, Alessia; Owuamalam, C...\n",
       "2        2                        Dombak, Kuebra; Celik, Eyup\n",
       "3        3                        Bozkur, Binaz; Cig, Oguzcan\n",
       "4        4  Jawthari, Moohanad; Stoffa, Veronika; Quwaider, M\n",
       "..     ...                                                ...\n",
       "391    398                  Megias, Jesus L.; Montanes, Pilar\n",
       "392    399  Infanger, Martina; Bosak, Janine; Sczesny, Sabine\n",
       "393    400                    Osborne, Danny; Davies, Paul G.\n",
       "394    401  Hall, J. Camille; Everett, Joyce E.; Hamilton-...\n",
       "395    402  Moreno, Martin; Nopo, Hugo; Saavedra, Jaime; T...\n",
       "\n",
       "[396 rows x 2 columns]"
      ]
     },
     "execution_count": 42,
     "metadata": {},
     "output_type": "execute_result"
    }
   ],
   "source": [
    "df_authors['full_name'] = df_authors['full_name'].astype(str)\n",
    "authors = df_authors.groupby(by='index')[\"full_name\"].apply(\"; \".join).reset_index()\n",
    "authors"
   ]
  },
  {
   "cell_type": "code",
   "execution_count": 43,
   "metadata": {},
   "outputs": [
    {
     "data": {
      "text/html": [
       "<div>\n",
       "<style scoped>\n",
       "    .dataframe tbody tr th:only-of-type {\n",
       "        vertical-align: middle;\n",
       "    }\n",
       "\n",
       "    .dataframe tbody tr th {\n",
       "        vertical-align: top;\n",
       "    }\n",
       "\n",
       "    .dataframe thead th {\n",
       "        text-align: right;\n",
       "    }\n",
       "</style>\n",
       "<table border=\"1\" class=\"dataframe\">\n",
       "  <thead>\n",
       "    <tr style=\"text-align: right;\">\n",
       "      <th></th>\n",
       "      <th>UID</th>\n",
       "      <th>r_id_disclaimer</th>\n",
       "      <th>static_data.summary.pub_info.coverdate</th>\n",
       "      <th>static_data.summary.pub_info.vol</th>\n",
       "      <th>static_data.summary.pub_info.journal_oas_gold</th>\n",
       "      <th>static_data.summary.pub_info.has_citation_context</th>\n",
       "      <th>static_data.summary.pub_info.pubyear</th>\n",
       "      <th>static_data.summary.pub_info.sortdate</th>\n",
       "      <th>static_data.summary.pub_info.has_abstract</th>\n",
       "      <th>static_data.summary.pub_info.pubmonth</th>\n",
       "      <th>...</th>\n",
       "      <th>static_data.fullrecord_metadata.addresses.address_name.names.name.noncore_startyear</th>\n",
       "      <th>static_data.fullrecord_metadata.addresses.address_name.names.name.preferred_name.middle_name</th>\n",
       "      <th>static_data.fullrecord_metadata.fund_ack.grants.grant.grant_source</th>\n",
       "      <th>static_data.summary.names.name.data-item-ids.data-item-id</th>\n",
       "      <th>static_data.fullrecord_metadata.addresses.address_name.names.name.data-item-ids.data-item-id</th>\n",
       "      <th>static_data.fullrecord_metadata.reprint_addresses.address_name.names.name</th>\n",
       "      <th>static_data.summary.pub_info.part_no</th>\n",
       "      <th>index</th>\n",
       "      <th>pub_year</th>\n",
       "      <th>full_name</th>\n",
       "    </tr>\n",
       "  </thead>\n",
       "  <tbody>\n",
       "    <tr>\n",
       "      <th>0</th>\n",
       "      <td>WOS:000993557000001</td>\n",
       "      <td>ResearcherID data provided by Clarivate Analytics</td>\n",
       "      <td>AUG 15 2022</td>\n",
       "      <td>4.0</td>\n",
       "      <td>Y</td>\n",
       "      <td>Y</td>\n",
       "      <td>2022</td>\n",
       "      <td>2022-08-15</td>\n",
       "      <td>Y</td>\n",
       "      <td>AUG 15</td>\n",
       "      <td>...</td>\n",
       "      <td>NaN</td>\n",
       "      <td>NaN</td>\n",
       "      <td>NaN</td>\n",
       "      <td>NaN</td>\n",
       "      <td>NaN</td>\n",
       "      <td>NaN</td>\n",
       "      <td>NaN</td>\n",
       "      <td>0</td>\n",
       "      <td>2022.0</td>\n",
       "      <td>Off, Gefjon; Charron, Nicholas; Alexander, Amy</td>\n",
       "    </tr>\n",
       "    <tr>\n",
       "      <th>1</th>\n",
       "      <td>WOS:000975433600006</td>\n",
       "      <td>ResearcherID data provided by Clarivate Analytics</td>\n",
       "      <td>SEP-DEC 2022</td>\n",
       "      <td>17.0</td>\n",
       "      <td>N</td>\n",
       "      <td>NaN</td>\n",
       "      <td>2022</td>\n",
       "      <td>2022-09-01</td>\n",
       "      <td>Y</td>\n",
       "      <td>SEP-DEC</td>\n",
       "      <td>...</td>\n",
       "      <td>NaN</td>\n",
       "      <td>NaN</td>\n",
       "      <td>NaN</td>\n",
       "      <td>NaN</td>\n",
       "      <td>NaN</td>\n",
       "      <td>NaN</td>\n",
       "      <td>NaN</td>\n",
       "      <td>1</td>\n",
       "      <td>2022.0</td>\n",
       "      <td>Caricati, Luca; Ferrari, Alessia; Owuamalam, C...</td>\n",
       "    </tr>\n",
       "    <tr>\n",
       "      <th>2</th>\n",
       "      <td>WOS:000960862300008</td>\n",
       "      <td>ResearcherID data provided by Clarivate Analytics</td>\n",
       "      <td>DEC 2022</td>\n",
       "      <td>51.0</td>\n",
       "      <td>Y</td>\n",
       "      <td>NaN</td>\n",
       "      <td>2022</td>\n",
       "      <td>2022-12-01</td>\n",
       "      <td>Y</td>\n",
       "      <td>DEC</td>\n",
       "      <td>...</td>\n",
       "      <td>NaN</td>\n",
       "      <td>NaN</td>\n",
       "      <td>NaN</td>\n",
       "      <td>NaN</td>\n",
       "      <td>NaN</td>\n",
       "      <td>NaN</td>\n",
       "      <td>NaN</td>\n",
       "      <td>2</td>\n",
       "      <td>2022.0</td>\n",
       "      <td>Dombak, Kuebra; Celik, Eyup</td>\n",
       "    </tr>\n",
       "    <tr>\n",
       "      <th>3</th>\n",
       "      <td>WOS:000960862300009</td>\n",
       "      <td>ResearcherID data provided by Clarivate Analytics</td>\n",
       "      <td>DEC 2022</td>\n",
       "      <td>51.0</td>\n",
       "      <td>Y</td>\n",
       "      <td>NaN</td>\n",
       "      <td>2022</td>\n",
       "      <td>2022-12-01</td>\n",
       "      <td>Y</td>\n",
       "      <td>DEC</td>\n",
       "      <td>...</td>\n",
       "      <td>NaN</td>\n",
       "      <td>NaN</td>\n",
       "      <td>NaN</td>\n",
       "      <td>NaN</td>\n",
       "      <td>NaN</td>\n",
       "      <td>NaN</td>\n",
       "      <td>NaN</td>\n",
       "      <td>3</td>\n",
       "      <td>2022.0</td>\n",
       "      <td>Bozkur, Binaz; Cig, Oguzcan</td>\n",
       "    </tr>\n",
       "    <tr>\n",
       "      <th>4</th>\n",
       "      <td>WOS:000937676000047</td>\n",
       "      <td>ResearcherID data provided by Clarivate Analytics</td>\n",
       "      <td>2022</td>\n",
       "      <td>NaN</td>\n",
       "      <td>N</td>\n",
       "      <td>NaN</td>\n",
       "      <td>2022</td>\n",
       "      <td>2022-01-01</td>\n",
       "      <td>Y</td>\n",
       "      <td>NaN</td>\n",
       "      <td>...</td>\n",
       "      <td>NaN</td>\n",
       "      <td>NaN</td>\n",
       "      <td>NaN</td>\n",
       "      <td>NaN</td>\n",
       "      <td>NaN</td>\n",
       "      <td>NaN</td>\n",
       "      <td>NaN</td>\n",
       "      <td>4</td>\n",
       "      <td>2022.0</td>\n",
       "      <td>Jawthari, Moohanad; Stoffa, Veronika; Quwaider, M</td>\n",
       "    </tr>\n",
       "    <tr>\n",
       "      <th>...</th>\n",
       "      <td>...</td>\n",
       "      <td>...</td>\n",
       "      <td>...</td>\n",
       "      <td>...</td>\n",
       "      <td>...</td>\n",
       "      <td>...</td>\n",
       "      <td>...</td>\n",
       "      <td>...</td>\n",
       "      <td>...</td>\n",
       "      <td>...</td>\n",
       "      <td>...</td>\n",
       "      <td>...</td>\n",
       "      <td>...</td>\n",
       "      <td>...</td>\n",
       "      <td>...</td>\n",
       "      <td>...</td>\n",
       "      <td>...</td>\n",
       "      <td>...</td>\n",
       "      <td>...</td>\n",
       "      <td>...</td>\n",
       "      <td>...</td>\n",
       "    </tr>\n",
       "    <tr>\n",
       "      <th>391</th>\n",
       "      <td>WOS:000302204000011</td>\n",
       "      <td>ResearcherID data provided by Clarivate Analytics</td>\n",
       "      <td>MAY 2012</td>\n",
       "      <td>28.0</td>\n",
       "      <td>Y</td>\n",
       "      <td>NaN</td>\n",
       "      <td>2012</td>\n",
       "      <td>2012-05-01</td>\n",
       "      <td>Y</td>\n",
       "      <td>MAY</td>\n",
       "      <td>...</td>\n",
       "      <td>1992.0</td>\n",
       "      <td>L.</td>\n",
       "      <td>NaN</td>\n",
       "      <td>NaN</td>\n",
       "      <td>NaN</td>\n",
       "      <td>NaN</td>\n",
       "      <td>NaN</td>\n",
       "      <td>398</td>\n",
       "      <td>2012.0</td>\n",
       "      <td>Megias, Jesus L.; Montanes, Pilar</td>\n",
       "    </tr>\n",
       "    <tr>\n",
       "      <th>392</th>\n",
       "      <td>WOS:000300692800010</td>\n",
       "      <td>ResearcherID data provided by Clarivate Analytics</td>\n",
       "      <td>MAR 2012</td>\n",
       "      <td>42.0</td>\n",
       "      <td>N</td>\n",
       "      <td>NaN</td>\n",
       "      <td>2012</td>\n",
       "      <td>2012-03-01</td>\n",
       "      <td>Y</td>\n",
       "      <td>MAR</td>\n",
       "      <td>...</td>\n",
       "      <td>NaN</td>\n",
       "      <td>NaN</td>\n",
       "      <td>NaN</td>\n",
       "      <td>NaN</td>\n",
       "      <td>NaN</td>\n",
       "      <td>NaN</td>\n",
       "      <td>NaN</td>\n",
       "      <td>399</td>\n",
       "      <td>2012.0</td>\n",
       "      <td>Infanger, Martina; Bosak, Janine; Sczesny, Sabine</td>\n",
       "    </tr>\n",
       "    <tr>\n",
       "      <th>393</th>\n",
       "      <td>WOS:000300428700002</td>\n",
       "      <td>ResearcherID data provided by Clarivate Analytics</td>\n",
       "      <td>FEB 2012</td>\n",
       "      <td>42.0</td>\n",
       "      <td>N</td>\n",
       "      <td>NaN</td>\n",
       "      <td>2012</td>\n",
       "      <td>2012-02-01</td>\n",
       "      <td>Y</td>\n",
       "      <td>FEB</td>\n",
       "      <td>...</td>\n",
       "      <td>NaN</td>\n",
       "      <td>NaN</td>\n",
       "      <td>NaN</td>\n",
       "      <td>NaN</td>\n",
       "      <td>NaN</td>\n",
       "      <td>NaN</td>\n",
       "      <td>NaN</td>\n",
       "      <td>400</td>\n",
       "      <td>2012.0</td>\n",
       "      <td>Osborne, Danny; Davies, Paul G.</td>\n",
       "    </tr>\n",
       "    <tr>\n",
       "      <th>394</th>\n",
       "      <td>WOS:000300052900006</td>\n",
       "      <td>ResearcherID data provided by Clarivate Analytics</td>\n",
       "      <td>MAR 2012</td>\n",
       "      <td>43.0</td>\n",
       "      <td>N</td>\n",
       "      <td>NaN</td>\n",
       "      <td>2012</td>\n",
       "      <td>2012-03-01</td>\n",
       "      <td>Y</td>\n",
       "      <td>MAR</td>\n",
       "      <td>...</td>\n",
       "      <td>NaN</td>\n",
       "      <td>NaN</td>\n",
       "      <td>NaN</td>\n",
       "      <td>NaN</td>\n",
       "      <td>NaN</td>\n",
       "      <td>NaN</td>\n",
       "      <td>NaN</td>\n",
       "      <td>401</td>\n",
       "      <td>2012.0</td>\n",
       "      <td>Hall, J. Camille; Everett, Joyce E.; Hamilton-...</td>\n",
       "    </tr>\n",
       "    <tr>\n",
       "      <th>395</th>\n",
       "      <td>WOS:000298527100008</td>\n",
       "      <td>ResearcherID data provided by Clarivate Analytics</td>\n",
       "      <td>FEB 2012</td>\n",
       "      <td>40.0</td>\n",
       "      <td>N</td>\n",
       "      <td>NaN</td>\n",
       "      <td>2012</td>\n",
       "      <td>2012-02-01</td>\n",
       "      <td>Y</td>\n",
       "      <td>FEB</td>\n",
       "      <td>...</td>\n",
       "      <td>NaN</td>\n",
       "      <td>NaN</td>\n",
       "      <td>NaN</td>\n",
       "      <td>NaN</td>\n",
       "      <td>NaN</td>\n",
       "      <td>NaN</td>\n",
       "      <td>NaN</td>\n",
       "      <td>402</td>\n",
       "      <td>2012.0</td>\n",
       "      <td>Moreno, Martin; Nopo, Hugo; Saavedra, Jaime; T...</td>\n",
       "    </tr>\n",
       "  </tbody>\n",
       "</table>\n",
       "<p>396 rows × 219 columns</p>\n",
       "</div>"
      ],
      "text/plain": [
       "                     UID                                    r_id_disclaimer  \\\n",
       "0    WOS:000993557000001  ResearcherID data provided by Clarivate Analytics   \n",
       "1    WOS:000975433600006  ResearcherID data provided by Clarivate Analytics   \n",
       "2    WOS:000960862300008  ResearcherID data provided by Clarivate Analytics   \n",
       "3    WOS:000960862300009  ResearcherID data provided by Clarivate Analytics   \n",
       "4    WOS:000937676000047  ResearcherID data provided by Clarivate Analytics   \n",
       "..                   ...                                                ...   \n",
       "391  WOS:000302204000011  ResearcherID data provided by Clarivate Analytics   \n",
       "392  WOS:000300692800010  ResearcherID data provided by Clarivate Analytics   \n",
       "393  WOS:000300428700002  ResearcherID data provided by Clarivate Analytics   \n",
       "394  WOS:000300052900006  ResearcherID data provided by Clarivate Analytics   \n",
       "395  WOS:000298527100008  ResearcherID data provided by Clarivate Analytics   \n",
       "\n",
       "    static_data.summary.pub_info.coverdate  static_data.summary.pub_info.vol  \\\n",
       "0                              AUG 15 2022                               4.0   \n",
       "1                             SEP-DEC 2022                              17.0   \n",
       "2                                 DEC 2022                              51.0   \n",
       "3                                 DEC 2022                              51.0   \n",
       "4                                     2022                               NaN   \n",
       "..                                     ...                               ...   \n",
       "391                               MAY 2012                              28.0   \n",
       "392                               MAR 2012                              42.0   \n",
       "393                               FEB 2012                              42.0   \n",
       "394                               MAR 2012                              43.0   \n",
       "395                               FEB 2012                              40.0   \n",
       "\n",
       "    static_data.summary.pub_info.journal_oas_gold  \\\n",
       "0                                               Y   \n",
       "1                                               N   \n",
       "2                                               Y   \n",
       "3                                               Y   \n",
       "4                                               N   \n",
       "..                                            ...   \n",
       "391                                             Y   \n",
       "392                                             N   \n",
       "393                                             N   \n",
       "394                                             N   \n",
       "395                                             N   \n",
       "\n",
       "    static_data.summary.pub_info.has_citation_context  \\\n",
       "0                                                   Y   \n",
       "1                                                 NaN   \n",
       "2                                                 NaN   \n",
       "3                                                 NaN   \n",
       "4                                                 NaN   \n",
       "..                                                ...   \n",
       "391                                               NaN   \n",
       "392                                               NaN   \n",
       "393                                               NaN   \n",
       "394                                               NaN   \n",
       "395                                               NaN   \n",
       "\n",
       "     static_data.summary.pub_info.pubyear  \\\n",
       "0                                    2022   \n",
       "1                                    2022   \n",
       "2                                    2022   \n",
       "3                                    2022   \n",
       "4                                    2022   \n",
       "..                                    ...   \n",
       "391                                  2012   \n",
       "392                                  2012   \n",
       "393                                  2012   \n",
       "394                                  2012   \n",
       "395                                  2012   \n",
       "\n",
       "    static_data.summary.pub_info.sortdate  \\\n",
       "0                              2022-08-15   \n",
       "1                              2022-09-01   \n",
       "2                              2022-12-01   \n",
       "3                              2022-12-01   \n",
       "4                              2022-01-01   \n",
       "..                                    ...   \n",
       "391                            2012-05-01   \n",
       "392                            2012-03-01   \n",
       "393                            2012-02-01   \n",
       "394                            2012-03-01   \n",
       "395                            2012-02-01   \n",
       "\n",
       "    static_data.summary.pub_info.has_abstract  \\\n",
       "0                                           Y   \n",
       "1                                           Y   \n",
       "2                                           Y   \n",
       "3                                           Y   \n",
       "4                                           Y   \n",
       "..                                        ...   \n",
       "391                                         Y   \n",
       "392                                         Y   \n",
       "393                                         Y   \n",
       "394                                         Y   \n",
       "395                                         Y   \n",
       "\n",
       "    static_data.summary.pub_info.pubmonth  ...  \\\n",
       "0                                  AUG 15  ...   \n",
       "1                                 SEP-DEC  ...   \n",
       "2                                     DEC  ...   \n",
       "3                                     DEC  ...   \n",
       "4                                     NaN  ...   \n",
       "..                                    ...  ...   \n",
       "391                                   MAY  ...   \n",
       "392                                   MAR  ...   \n",
       "393                                   FEB  ...   \n",
       "394                                   MAR  ...   \n",
       "395                                   FEB  ...   \n",
       "\n",
       "    static_data.fullrecord_metadata.addresses.address_name.names.name.noncore_startyear  \\\n",
       "0                                                  NaN                                    \n",
       "1                                                  NaN                                    \n",
       "2                                                  NaN                                    \n",
       "3                                                  NaN                                    \n",
       "4                                                  NaN                                    \n",
       "..                                                 ...                                    \n",
       "391                                             1992.0                                    \n",
       "392                                                NaN                                    \n",
       "393                                                NaN                                    \n",
       "394                                                NaN                                    \n",
       "395                                                NaN                                    \n",
       "\n",
       "     static_data.fullrecord_metadata.addresses.address_name.names.name.preferred_name.middle_name  \\\n",
       "0                                                  NaN                                              \n",
       "1                                                  NaN                                              \n",
       "2                                                  NaN                                              \n",
       "3                                                  NaN                                              \n",
       "4                                                  NaN                                              \n",
       "..                                                 ...                                              \n",
       "391                                                 L.                                              \n",
       "392                                                NaN                                              \n",
       "393                                                NaN                                              \n",
       "394                                                NaN                                              \n",
       "395                                                NaN                                              \n",
       "\n",
       "     static_data.fullrecord_metadata.fund_ack.grants.grant.grant_source  \\\n",
       "0                                                  NaN                    \n",
       "1                                                  NaN                    \n",
       "2                                                  NaN                    \n",
       "3                                                  NaN                    \n",
       "4                                                  NaN                    \n",
       "..                                                 ...                    \n",
       "391                                                NaN                    \n",
       "392                                                NaN                    \n",
       "393                                                NaN                    \n",
       "394                                                NaN                    \n",
       "395                                                NaN                    \n",
       "\n",
       "    static_data.summary.names.name.data-item-ids.data-item-id  \\\n",
       "0                                                  NaN          \n",
       "1                                                  NaN          \n",
       "2                                                  NaN          \n",
       "3                                                  NaN          \n",
       "4                                                  NaN          \n",
       "..                                                 ...          \n",
       "391                                                NaN          \n",
       "392                                                NaN          \n",
       "393                                                NaN          \n",
       "394                                                NaN          \n",
       "395                                                NaN          \n",
       "\n",
       "    static_data.fullrecord_metadata.addresses.address_name.names.name.data-item-ids.data-item-id  \\\n",
       "0                                                  NaN                                             \n",
       "1                                                  NaN                                             \n",
       "2                                                  NaN                                             \n",
       "3                                                  NaN                                             \n",
       "4                                                  NaN                                             \n",
       "..                                                 ...                                             \n",
       "391                                                NaN                                             \n",
       "392                                                NaN                                             \n",
       "393                                                NaN                                             \n",
       "394                                                NaN                                             \n",
       "395                                                NaN                                             \n",
       "\n",
       "     static_data.fullrecord_metadata.reprint_addresses.address_name.names.name  \\\n",
       "0                                                  NaN                           \n",
       "1                                                  NaN                           \n",
       "2                                                  NaN                           \n",
       "3                                                  NaN                           \n",
       "4                                                  NaN                           \n",
       "..                                                 ...                           \n",
       "391                                                NaN                           \n",
       "392                                                NaN                           \n",
       "393                                                NaN                           \n",
       "394                                                NaN                           \n",
       "395                                                NaN                           \n",
       "\n",
       "     static_data.summary.pub_info.part_no  index pub_year  \\\n",
       "0                                     NaN      0   2022.0   \n",
       "1                                     NaN      1   2022.0   \n",
       "2                                     NaN      2   2022.0   \n",
       "3                                     NaN      3   2022.0   \n",
       "4                                     NaN      4   2022.0   \n",
       "..                                    ...    ...      ...   \n",
       "391                                   NaN    398   2012.0   \n",
       "392                                   NaN    399   2012.0   \n",
       "393                                   NaN    400   2012.0   \n",
       "394                                   NaN    401   2012.0   \n",
       "395                                   NaN    402   2012.0   \n",
       "\n",
       "                                             full_name  \n",
       "0       Off, Gefjon; Charron, Nicholas; Alexander, Amy  \n",
       "1    Caricati, Luca; Ferrari, Alessia; Owuamalam, C...  \n",
       "2                          Dombak, Kuebra; Celik, Eyup  \n",
       "3                          Bozkur, Binaz; Cig, Oguzcan  \n",
       "4    Jawthari, Moohanad; Stoffa, Veronika; Quwaider, M  \n",
       "..                                                 ...  \n",
       "391                  Megias, Jesus L.; Montanes, Pilar  \n",
       "392  Infanger, Martina; Bosak, Janine; Sczesny, Sabine  \n",
       "393                    Osborne, Danny; Davies, Paul G.  \n",
       "394  Hall, J. Camille; Everett, Joyce E.; Hamilton-...  \n",
       "395  Moreno, Martin; Nopo, Hugo; Saavedra, Jaime; T...  \n",
       "\n",
       "[396 rows x 219 columns]"
      ]
     },
     "execution_count": 43,
     "metadata": {},
     "output_type": "execute_result"
    }
   ],
   "source": [
    "data = data.merge(authors, on='index')\n",
    "data"
   ]
  },
  {
   "cell_type": "code",
   "execution_count": 44,
   "metadata": {},
   "outputs": [
    {
     "data": {
      "text/html": [
       "<div>\n",
       "<style scoped>\n",
       "    .dataframe tbody tr th:only-of-type {\n",
       "        vertical-align: middle;\n",
       "    }\n",
       "\n",
       "    .dataframe tbody tr th {\n",
       "        vertical-align: top;\n",
       "    }\n",
       "\n",
       "    .dataframe thead th {\n",
       "        text-align: right;\n",
       "    }\n",
       "</style>\n",
       "<table border=\"1\" class=\"dataframe\">\n",
       "  <thead>\n",
       "    <tr style=\"text-align: right;\">\n",
       "      <th></th>\n",
       "      <th>UID</th>\n",
       "      <th>r_id_disclaimer</th>\n",
       "      <th>static_data.summary.pub_info.coverdate</th>\n",
       "      <th>static_data.summary.pub_info.vol</th>\n",
       "      <th>static_data.summary.pub_info.journal_oas_gold</th>\n",
       "      <th>static_data.summary.pub_info.has_citation_context</th>\n",
       "      <th>static_data.summary.pub_info.pubyear</th>\n",
       "      <th>static_data.summary.pub_info.sortdate</th>\n",
       "      <th>static_data.summary.pub_info.has_abstract</th>\n",
       "      <th>static_data.summary.pub_info.pubmonth</th>\n",
       "      <th>...</th>\n",
       "      <th>static_data.fullrecord_metadata.addresses.address_name.names.name.noncore_startyear</th>\n",
       "      <th>static_data.fullrecord_metadata.addresses.address_name.names.name.preferred_name.middle_name</th>\n",
       "      <th>static_data.fullrecord_metadata.fund_ack.grants.grant.grant_source</th>\n",
       "      <th>static_data.summary.names.name.data-item-ids.data-item-id</th>\n",
       "      <th>static_data.fullrecord_metadata.addresses.address_name.names.name.data-item-ids.data-item-id</th>\n",
       "      <th>static_data.fullrecord_metadata.reprint_addresses.address_name.names.name</th>\n",
       "      <th>static_data.summary.pub_info.part_no</th>\n",
       "      <th>index</th>\n",
       "      <th>pub_year</th>\n",
       "      <th>full_name</th>\n",
       "    </tr>\n",
       "  </thead>\n",
       "  <tbody>\n",
       "    <tr>\n",
       "      <th>0</th>\n",
       "      <td>WOS:000993557000001</td>\n",
       "      <td>ResearcherID data provided by Clarivate Analytics</td>\n",
       "      <td>AUG 15 2022</td>\n",
       "      <td>4.0</td>\n",
       "      <td>Y</td>\n",
       "      <td>Y</td>\n",
       "      <td>2022</td>\n",
       "      <td>2022-08-15</td>\n",
       "      <td>Y</td>\n",
       "      <td>AUG 15</td>\n",
       "      <td>...</td>\n",
       "      <td>NaN</td>\n",
       "      <td>NaN</td>\n",
       "      <td>NaN</td>\n",
       "      <td>NaN</td>\n",
       "      <td>NaN</td>\n",
       "      <td>NaN</td>\n",
       "      <td>NaN</td>\n",
       "      <td>0</td>\n",
       "      <td>2022.0</td>\n",
       "      <td>Off, Gefjon; Charron, Nicholas; Alexander, Amy</td>\n",
       "    </tr>\n",
       "    <tr>\n",
       "      <th>1</th>\n",
       "      <td>WOS:000975433600006</td>\n",
       "      <td>ResearcherID data provided by Clarivate Analytics</td>\n",
       "      <td>SEP-DEC 2022</td>\n",
       "      <td>17.0</td>\n",
       "      <td>N</td>\n",
       "      <td>NaN</td>\n",
       "      <td>2022</td>\n",
       "      <td>2022-09-01</td>\n",
       "      <td>Y</td>\n",
       "      <td>SEP-DEC</td>\n",
       "      <td>...</td>\n",
       "      <td>NaN</td>\n",
       "      <td>NaN</td>\n",
       "      <td>NaN</td>\n",
       "      <td>NaN</td>\n",
       "      <td>NaN</td>\n",
       "      <td>NaN</td>\n",
       "      <td>NaN</td>\n",
       "      <td>1</td>\n",
       "      <td>2022.0</td>\n",
       "      <td>Caricati, Luca; Ferrari, Alessia; Owuamalam, C...</td>\n",
       "    </tr>\n",
       "    <tr>\n",
       "      <th>2</th>\n",
       "      <td>WOS:000960862300008</td>\n",
       "      <td>ResearcherID data provided by Clarivate Analytics</td>\n",
       "      <td>DEC 2022</td>\n",
       "      <td>51.0</td>\n",
       "      <td>Y</td>\n",
       "      <td>NaN</td>\n",
       "      <td>2022</td>\n",
       "      <td>2022-12-01</td>\n",
       "      <td>Y</td>\n",
       "      <td>DEC</td>\n",
       "      <td>...</td>\n",
       "      <td>NaN</td>\n",
       "      <td>NaN</td>\n",
       "      <td>NaN</td>\n",
       "      <td>NaN</td>\n",
       "      <td>NaN</td>\n",
       "      <td>NaN</td>\n",
       "      <td>NaN</td>\n",
       "      <td>2</td>\n",
       "      <td>2022.0</td>\n",
       "      <td>Dombak, Kuebra; Celik, Eyup</td>\n",
       "    </tr>\n",
       "    <tr>\n",
       "      <th>3</th>\n",
       "      <td>WOS:000960862300009</td>\n",
       "      <td>ResearcherID data provided by Clarivate Analytics</td>\n",
       "      <td>DEC 2022</td>\n",
       "      <td>51.0</td>\n",
       "      <td>Y</td>\n",
       "      <td>NaN</td>\n",
       "      <td>2022</td>\n",
       "      <td>2022-12-01</td>\n",
       "      <td>Y</td>\n",
       "      <td>DEC</td>\n",
       "      <td>...</td>\n",
       "      <td>NaN</td>\n",
       "      <td>NaN</td>\n",
       "      <td>NaN</td>\n",
       "      <td>NaN</td>\n",
       "      <td>NaN</td>\n",
       "      <td>NaN</td>\n",
       "      <td>NaN</td>\n",
       "      <td>3</td>\n",
       "      <td>2022.0</td>\n",
       "      <td>Bozkur, Binaz; Cig, Oguzcan</td>\n",
       "    </tr>\n",
       "    <tr>\n",
       "      <th>4</th>\n",
       "      <td>WOS:000937676000047</td>\n",
       "      <td>ResearcherID data provided by Clarivate Analytics</td>\n",
       "      <td>2022</td>\n",
       "      <td>NaN</td>\n",
       "      <td>N</td>\n",
       "      <td>NaN</td>\n",
       "      <td>2022</td>\n",
       "      <td>2022-01-01</td>\n",
       "      <td>Y</td>\n",
       "      <td>NaN</td>\n",
       "      <td>...</td>\n",
       "      <td>NaN</td>\n",
       "      <td>NaN</td>\n",
       "      <td>NaN</td>\n",
       "      <td>NaN</td>\n",
       "      <td>NaN</td>\n",
       "      <td>NaN</td>\n",
       "      <td>NaN</td>\n",
       "      <td>4</td>\n",
       "      <td>2022.0</td>\n",
       "      <td>Jawthari, Moohanad; Stoffa, Veronika; Quwaider, M</td>\n",
       "    </tr>\n",
       "    <tr>\n",
       "      <th>...</th>\n",
       "      <td>...</td>\n",
       "      <td>...</td>\n",
       "      <td>...</td>\n",
       "      <td>...</td>\n",
       "      <td>...</td>\n",
       "      <td>...</td>\n",
       "      <td>...</td>\n",
       "      <td>...</td>\n",
       "      <td>...</td>\n",
       "      <td>...</td>\n",
       "      <td>...</td>\n",
       "      <td>...</td>\n",
       "      <td>...</td>\n",
       "      <td>...</td>\n",
       "      <td>...</td>\n",
       "      <td>...</td>\n",
       "      <td>...</td>\n",
       "      <td>...</td>\n",
       "      <td>...</td>\n",
       "      <td>...</td>\n",
       "      <td>...</td>\n",
       "    </tr>\n",
       "    <tr>\n",
       "      <th>391</th>\n",
       "      <td>WOS:000302204000011</td>\n",
       "      <td>ResearcherID data provided by Clarivate Analytics</td>\n",
       "      <td>MAY 2012</td>\n",
       "      <td>28.0</td>\n",
       "      <td>Y</td>\n",
       "      <td>NaN</td>\n",
       "      <td>2012</td>\n",
       "      <td>2012-05-01</td>\n",
       "      <td>Y</td>\n",
       "      <td>MAY</td>\n",
       "      <td>...</td>\n",
       "      <td>1992.0</td>\n",
       "      <td>L.</td>\n",
       "      <td>NaN</td>\n",
       "      <td>NaN</td>\n",
       "      <td>NaN</td>\n",
       "      <td>NaN</td>\n",
       "      <td>NaN</td>\n",
       "      <td>398</td>\n",
       "      <td>2012.0</td>\n",
       "      <td>Megias, Jesus L.; Montanes, Pilar</td>\n",
       "    </tr>\n",
       "    <tr>\n",
       "      <th>392</th>\n",
       "      <td>WOS:000300692800010</td>\n",
       "      <td>ResearcherID data provided by Clarivate Analytics</td>\n",
       "      <td>MAR 2012</td>\n",
       "      <td>42.0</td>\n",
       "      <td>N</td>\n",
       "      <td>NaN</td>\n",
       "      <td>2012</td>\n",
       "      <td>2012-03-01</td>\n",
       "      <td>Y</td>\n",
       "      <td>MAR</td>\n",
       "      <td>...</td>\n",
       "      <td>NaN</td>\n",
       "      <td>NaN</td>\n",
       "      <td>NaN</td>\n",
       "      <td>NaN</td>\n",
       "      <td>NaN</td>\n",
       "      <td>NaN</td>\n",
       "      <td>NaN</td>\n",
       "      <td>399</td>\n",
       "      <td>2012.0</td>\n",
       "      <td>Infanger, Martina; Bosak, Janine; Sczesny, Sabine</td>\n",
       "    </tr>\n",
       "    <tr>\n",
       "      <th>393</th>\n",
       "      <td>WOS:000300428700002</td>\n",
       "      <td>ResearcherID data provided by Clarivate Analytics</td>\n",
       "      <td>FEB 2012</td>\n",
       "      <td>42.0</td>\n",
       "      <td>N</td>\n",
       "      <td>NaN</td>\n",
       "      <td>2012</td>\n",
       "      <td>2012-02-01</td>\n",
       "      <td>Y</td>\n",
       "      <td>FEB</td>\n",
       "      <td>...</td>\n",
       "      <td>NaN</td>\n",
       "      <td>NaN</td>\n",
       "      <td>NaN</td>\n",
       "      <td>NaN</td>\n",
       "      <td>NaN</td>\n",
       "      <td>NaN</td>\n",
       "      <td>NaN</td>\n",
       "      <td>400</td>\n",
       "      <td>2012.0</td>\n",
       "      <td>Osborne, Danny; Davies, Paul G.</td>\n",
       "    </tr>\n",
       "    <tr>\n",
       "      <th>394</th>\n",
       "      <td>WOS:000300052900006</td>\n",
       "      <td>ResearcherID data provided by Clarivate Analytics</td>\n",
       "      <td>MAR 2012</td>\n",
       "      <td>43.0</td>\n",
       "      <td>N</td>\n",
       "      <td>NaN</td>\n",
       "      <td>2012</td>\n",
       "      <td>2012-03-01</td>\n",
       "      <td>Y</td>\n",
       "      <td>MAR</td>\n",
       "      <td>...</td>\n",
       "      <td>NaN</td>\n",
       "      <td>NaN</td>\n",
       "      <td>NaN</td>\n",
       "      <td>NaN</td>\n",
       "      <td>NaN</td>\n",
       "      <td>NaN</td>\n",
       "      <td>NaN</td>\n",
       "      <td>401</td>\n",
       "      <td>2012.0</td>\n",
       "      <td>Hall, J. Camille; Everett, Joyce E.; Hamilton-...</td>\n",
       "    </tr>\n",
       "    <tr>\n",
       "      <th>395</th>\n",
       "      <td>WOS:000298527100008</td>\n",
       "      <td>ResearcherID data provided by Clarivate Analytics</td>\n",
       "      <td>FEB 2012</td>\n",
       "      <td>40.0</td>\n",
       "      <td>N</td>\n",
       "      <td>NaN</td>\n",
       "      <td>2012</td>\n",
       "      <td>2012-02-01</td>\n",
       "      <td>Y</td>\n",
       "      <td>FEB</td>\n",
       "      <td>...</td>\n",
       "      <td>NaN</td>\n",
       "      <td>NaN</td>\n",
       "      <td>NaN</td>\n",
       "      <td>NaN</td>\n",
       "      <td>NaN</td>\n",
       "      <td>NaN</td>\n",
       "      <td>NaN</td>\n",
       "      <td>402</td>\n",
       "      <td>2012.0</td>\n",
       "      <td>Moreno, Martin; Nopo, Hugo; Saavedra, Jaime; T...</td>\n",
       "    </tr>\n",
       "  </tbody>\n",
       "</table>\n",
       "<p>396 rows × 219 columns</p>\n",
       "</div>"
      ],
      "text/plain": [
       "                     UID                                    r_id_disclaimer  \\\n",
       "0    WOS:000993557000001  ResearcherID data provided by Clarivate Analytics   \n",
       "1    WOS:000975433600006  ResearcherID data provided by Clarivate Analytics   \n",
       "2    WOS:000960862300008  ResearcherID data provided by Clarivate Analytics   \n",
       "3    WOS:000960862300009  ResearcherID data provided by Clarivate Analytics   \n",
       "4    WOS:000937676000047  ResearcherID data provided by Clarivate Analytics   \n",
       "..                   ...                                                ...   \n",
       "391  WOS:000302204000011  ResearcherID data provided by Clarivate Analytics   \n",
       "392  WOS:000300692800010  ResearcherID data provided by Clarivate Analytics   \n",
       "393  WOS:000300428700002  ResearcherID data provided by Clarivate Analytics   \n",
       "394  WOS:000300052900006  ResearcherID data provided by Clarivate Analytics   \n",
       "395  WOS:000298527100008  ResearcherID data provided by Clarivate Analytics   \n",
       "\n",
       "    static_data.summary.pub_info.coverdate  static_data.summary.pub_info.vol  \\\n",
       "0                              AUG 15 2022                               4.0   \n",
       "1                             SEP-DEC 2022                              17.0   \n",
       "2                                 DEC 2022                              51.0   \n",
       "3                                 DEC 2022                              51.0   \n",
       "4                                     2022                               NaN   \n",
       "..                                     ...                               ...   \n",
       "391                               MAY 2012                              28.0   \n",
       "392                               MAR 2012                              42.0   \n",
       "393                               FEB 2012                              42.0   \n",
       "394                               MAR 2012                              43.0   \n",
       "395                               FEB 2012                              40.0   \n",
       "\n",
       "    static_data.summary.pub_info.journal_oas_gold  \\\n",
       "0                                               Y   \n",
       "1                                               N   \n",
       "2                                               Y   \n",
       "3                                               Y   \n",
       "4                                               N   \n",
       "..                                            ...   \n",
       "391                                             Y   \n",
       "392                                             N   \n",
       "393                                             N   \n",
       "394                                             N   \n",
       "395                                             N   \n",
       "\n",
       "    static_data.summary.pub_info.has_citation_context  \\\n",
       "0                                                   Y   \n",
       "1                                                 NaN   \n",
       "2                                                 NaN   \n",
       "3                                                 NaN   \n",
       "4                                                 NaN   \n",
       "..                                                ...   \n",
       "391                                               NaN   \n",
       "392                                               NaN   \n",
       "393                                               NaN   \n",
       "394                                               NaN   \n",
       "395                                               NaN   \n",
       "\n",
       "     static_data.summary.pub_info.pubyear  \\\n",
       "0                                    2022   \n",
       "1                                    2022   \n",
       "2                                    2022   \n",
       "3                                    2022   \n",
       "4                                    2022   \n",
       "..                                    ...   \n",
       "391                                  2012   \n",
       "392                                  2012   \n",
       "393                                  2012   \n",
       "394                                  2012   \n",
       "395                                  2012   \n",
       "\n",
       "    static_data.summary.pub_info.sortdate  \\\n",
       "0                              2022-08-15   \n",
       "1                              2022-09-01   \n",
       "2                              2022-12-01   \n",
       "3                              2022-12-01   \n",
       "4                              2022-01-01   \n",
       "..                                    ...   \n",
       "391                            2012-05-01   \n",
       "392                            2012-03-01   \n",
       "393                            2012-02-01   \n",
       "394                            2012-03-01   \n",
       "395                            2012-02-01   \n",
       "\n",
       "    static_data.summary.pub_info.has_abstract  \\\n",
       "0                                           Y   \n",
       "1                                           Y   \n",
       "2                                           Y   \n",
       "3                                           Y   \n",
       "4                                           Y   \n",
       "..                                        ...   \n",
       "391                                         Y   \n",
       "392                                         Y   \n",
       "393                                         Y   \n",
       "394                                         Y   \n",
       "395                                         Y   \n",
       "\n",
       "    static_data.summary.pub_info.pubmonth  ...  \\\n",
       "0                                  AUG 15  ...   \n",
       "1                                 SEP-DEC  ...   \n",
       "2                                     DEC  ...   \n",
       "3                                     DEC  ...   \n",
       "4                                     NaN  ...   \n",
       "..                                    ...  ...   \n",
       "391                                   MAY  ...   \n",
       "392                                   MAR  ...   \n",
       "393                                   FEB  ...   \n",
       "394                                   MAR  ...   \n",
       "395                                   FEB  ...   \n",
       "\n",
       "    static_data.fullrecord_metadata.addresses.address_name.names.name.noncore_startyear  \\\n",
       "0                                                  NaN                                    \n",
       "1                                                  NaN                                    \n",
       "2                                                  NaN                                    \n",
       "3                                                  NaN                                    \n",
       "4                                                  NaN                                    \n",
       "..                                                 ...                                    \n",
       "391                                             1992.0                                    \n",
       "392                                                NaN                                    \n",
       "393                                                NaN                                    \n",
       "394                                                NaN                                    \n",
       "395                                                NaN                                    \n",
       "\n",
       "     static_data.fullrecord_metadata.addresses.address_name.names.name.preferred_name.middle_name  \\\n",
       "0                                                  NaN                                              \n",
       "1                                                  NaN                                              \n",
       "2                                                  NaN                                              \n",
       "3                                                  NaN                                              \n",
       "4                                                  NaN                                              \n",
       "..                                                 ...                                              \n",
       "391                                                 L.                                              \n",
       "392                                                NaN                                              \n",
       "393                                                NaN                                              \n",
       "394                                                NaN                                              \n",
       "395                                                NaN                                              \n",
       "\n",
       "     static_data.fullrecord_metadata.fund_ack.grants.grant.grant_source  \\\n",
       "0                                                  NaN                    \n",
       "1                                                  NaN                    \n",
       "2                                                  NaN                    \n",
       "3                                                  NaN                    \n",
       "4                                                  NaN                    \n",
       "..                                                 ...                    \n",
       "391                                                NaN                    \n",
       "392                                                NaN                    \n",
       "393                                                NaN                    \n",
       "394                                                NaN                    \n",
       "395                                                NaN                    \n",
       "\n",
       "    static_data.summary.names.name.data-item-ids.data-item-id  \\\n",
       "0                                                  NaN          \n",
       "1                                                  NaN          \n",
       "2                                                  NaN          \n",
       "3                                                  NaN          \n",
       "4                                                  NaN          \n",
       "..                                                 ...          \n",
       "391                                                NaN          \n",
       "392                                                NaN          \n",
       "393                                                NaN          \n",
       "394                                                NaN          \n",
       "395                                                NaN          \n",
       "\n",
       "    static_data.fullrecord_metadata.addresses.address_name.names.name.data-item-ids.data-item-id  \\\n",
       "0                                                  NaN                                             \n",
       "1                                                  NaN                                             \n",
       "2                                                  NaN                                             \n",
       "3                                                  NaN                                             \n",
       "4                                                  NaN                                             \n",
       "..                                                 ...                                             \n",
       "391                                                NaN                                             \n",
       "392                                                NaN                                             \n",
       "393                                                NaN                                             \n",
       "394                                                NaN                                             \n",
       "395                                                NaN                                             \n",
       "\n",
       "     static_data.fullrecord_metadata.reprint_addresses.address_name.names.name  \\\n",
       "0                                                  NaN                           \n",
       "1                                                  NaN                           \n",
       "2                                                  NaN                           \n",
       "3                                                  NaN                           \n",
       "4                                                  NaN                           \n",
       "..                                                 ...                           \n",
       "391                                                NaN                           \n",
       "392                                                NaN                           \n",
       "393                                                NaN                           \n",
       "394                                                NaN                           \n",
       "395                                                NaN                           \n",
       "\n",
       "     static_data.summary.pub_info.part_no  index pub_year  \\\n",
       "0                                     NaN      0   2022.0   \n",
       "1                                     NaN      1   2022.0   \n",
       "2                                     NaN      2   2022.0   \n",
       "3                                     NaN      3   2022.0   \n",
       "4                                     NaN      4   2022.0   \n",
       "..                                    ...    ...      ...   \n",
       "391                                   NaN    398   2012.0   \n",
       "392                                   NaN    399   2012.0   \n",
       "393                                   NaN    400   2012.0   \n",
       "394                                   NaN    401   2012.0   \n",
       "395                                   NaN    402   2012.0   \n",
       "\n",
       "                                             full_name  \n",
       "0       Off, Gefjon; Charron, Nicholas; Alexander, Amy  \n",
       "1    Caricati, Luca; Ferrari, Alessia; Owuamalam, C...  \n",
       "2                          Dombak, Kuebra; Celik, Eyup  \n",
       "3                          Bozkur, Binaz; Cig, Oguzcan  \n",
       "4    Jawthari, Moohanad; Stoffa, Veronika; Quwaider, M  \n",
       "..                                                 ...  \n",
       "391                  Megias, Jesus L.; Montanes, Pilar  \n",
       "392  Infanger, Martina; Bosak, Janine; Sczesny, Sabine  \n",
       "393                    Osborne, Danny; Davies, Paul G.  \n",
       "394  Hall, J. Camille; Everett, Joyce E.; Hamilton-...  \n",
       "395  Moreno, Martin; Nopo, Hugo; Saavedra, Jaime; T...  \n",
       "\n",
       "[396 rows x 219 columns]"
      ]
     },
     "execution_count": 44,
     "metadata": {},
     "output_type": "execute_result"
    }
   ],
   "source": [
    "data = data.rename(columns = {'static_data.fullrecord_metadata.abstracts.abstract.abstract_text.p': 'abstract'})\n",
    "data"
   ]
  },
  {
   "cell_type": "code",
   "execution_count": 45,
   "metadata": {},
   "outputs": [
    {
     "data": {
      "text/plain": [
       "0      False\n",
       "1      False\n",
       "2      False\n",
       "3      False\n",
       "4      False\n",
       "       ...  \n",
       "391    False\n",
       "392    False\n",
       "393    False\n",
       "394    False\n",
       "395    False\n",
       "Name: abstract, Length: 396, dtype: bool"
      ]
     },
     "execution_count": 45,
     "metadata": {},
     "output_type": "execute_result"
    }
   ],
   "source": [
    "data['abstract'].isna()"
   ]
  },
  {
   "cell_type": "code",
   "execution_count": null,
   "metadata": {},
   "outputs": [],
   "source": []
  },
  {
   "cell_type": "markdown",
   "metadata": {},
   "source": [
    "## Topic Modelling"
   ]
  },
  {
   "cell_type": "code",
   "execution_count": 46,
   "metadata": {},
   "outputs": [
    {
     "data": {
      "application/json": {
       "ascii": false,
       "bar_format": null,
       "colour": null,
       "elapsed": 0.0074558258056640625,
       "initial": 0,
       "n": 0,
       "ncols": null,
       "nrows": null,
       "postfix": null,
       "prefix": "Batches",
       "rate": null,
       "total": 13,
       "unit": "it",
       "unit_divisor": 1000,
       "unit_scale": false
      },
      "application/vnd.jupyter.widget-view+json": {
       "model_id": "64cee62c843443958ae19937bc06b6cf",
       "version_major": 2,
       "version_minor": 0
      },
      "text/plain": [
       "Batches:   0%|          | 0/13 [00:00<?, ?it/s]"
      ]
     },
     "metadata": {},
     "output_type": "display_data"
    }
   ],
   "source": [
    "# Create representation models\n",
    "keybert_model = KeyBERTInspired(top_n_words=50, nr_repr_docs= 10, random_state=1234)\n",
    "mmr_model = MaximalMarginalRelevance(diversity=0.5)\n",
    "pos_patterns = [\n",
    "            [{'POS': 'ADJ'}, {'POS': 'NOUN'}],\n",
    "            [{'POS': 'NOUN'}], [{'POS': 'ADJ'}]\n",
    "]\n",
    "# DEFAULT_PATTERNS = [ [{'POS': 'ADJ'}, {'POS': 'NOUN'}], [{'POS': 'NOUN'}], [{'POS': 'ADJ'}] ]\n",
    "pos_model = PartOfSpeech(\"en_core_web_sm\", pos_patterns=pos_patterns) \n",
    "\n",
    "representation_models = [pos_model, keybert_model, mmr_model]\n",
    "\n",
    "ctfidf_model = ClassTfidfTransformer(reduce_frequent_words=True)\n",
    "\n",
    "#word_model = api.load('fasttext-wiki-news-subwords-300')\n",
    "sentence_model = SentenceTransformer(\"all-mpnet-base-v2\") # all-MiniLM-L6-v2\n",
    "#word_doc_embedder = WordDocEmbedder(embedding_model=sentence_model, word_embedding_model=word_model)\n",
    "embeddings = sentence_model.encode(data['abstract'].astype(str), show_progress_bar=True)"
   ]
  },
  {
   "cell_type": "code",
   "execution_count": 47,
   "metadata": {},
   "outputs": [],
   "source": [
    "umap_model = umap.UMAP(n_neighbors=50, n_components=80, min_dist=0.0, metric='cosine', random_state=1234)\n",
    "#vectorizer_model = CountVectorizer(stop_words=\"english\")\n",
    "vectorizer_model = TfidfVectorizer()\n",
    "cluster_model = KMeans(n_clusters=15)\n",
    "\n",
    "#reduced_embeddings_comp = umap.UMAP(n_neighbors=10, n_components=2, min_dist=0.0, metric='cosine').fit_transform(embeddings_comp)\n",
    "\n",
    "topic_model = BERTopic(\n",
    "    language='english', # Set to 'multilingual' for datasets with languages other than English. # a few other languages set so changing from 'english'\n",
    "    top_n_words=30,\n",
    "    n_gram_range=(1, 3),\n",
    "    #min_topic_size=10,\n",
    "    nr_topics= 'auto',\n",
    "    low_memory=False,\n",
    "    calculate_probabilities=True, # The probabilities of all topics per document.\n",
    "    representation_model=representation_models,\n",
    "    embedding_model=sentence_model,\n",
    "    hdbscan_model= cluster_model, \n",
    "    umap_model=umap_model, \n",
    "    vectorizer_model=vectorizer_model,\n",
    "    ctfidf_model=ctfidf_model\n",
    ")"
   ]
  },
  {
   "cell_type": "code",
   "execution_count": 48,
   "metadata": {},
   "outputs": [
    {
     "name": "stderr",
     "output_type": "stream",
     "text": [
      "OMP: Info #276: omp_set_nested routine deprecated, please use omp_set_max_active_levels instead.\n"
     ]
    },
    {
     "name": "stdout",
     "output_type": "stream",
     "text": [
      "huggingface/tokenizers: The current process just got forked, after parallelism has already been used. Disabling parallelism to avoid deadlocks...\n",
      "To disable this warning, you can either:\n",
      "\t- Avoid using `tokenizers` before the fork if possible\n",
      "\t- Explicitly set the environment variable TOKENIZERS_PARALLELISM=(true | false)\n"
     ]
    }
   ],
   "source": [
    "topics, probs = topic_model.fit_transform(data['abstract'].astype('str'), embeddings)"
   ]
  },
  {
   "cell_type": "code",
   "execution_count": 49,
   "metadata": {},
   "outputs": [
    {
     "data": {
      "text/html": [
       "<div>\n",
       "<style scoped>\n",
       "    .dataframe tbody tr th:only-of-type {\n",
       "        vertical-align: middle;\n",
       "    }\n",
       "\n",
       "    .dataframe tbody tr th {\n",
       "        vertical-align: top;\n",
       "    }\n",
       "\n",
       "    .dataframe thead th {\n",
       "        text-align: right;\n",
       "    }\n",
       "</style>\n",
       "<table border=\"1\" class=\"dataframe\">\n",
       "  <thead>\n",
       "    <tr style=\"text-align: right;\">\n",
       "      <th></th>\n",
       "      <th>Topic</th>\n",
       "      <th>Count</th>\n",
       "      <th>Name</th>\n",
       "      <th>Representation</th>\n",
       "      <th>Representative_Docs</th>\n",
       "    </tr>\n",
       "  </thead>\n",
       "  <tbody>\n",
       "    <tr>\n",
       "      <th>0</th>\n",
       "      <td>0</td>\n",
       "      <td>57</td>\n",
       "      <td>0_embeddings_misogyny_corpus_abusive</td>\n",
       "      <td>[embeddings, misogyny, corpus, abusive, twitte...</td>\n",
       "      <td>[The freedom of expression given by social med...</td>\n",
       "    </tr>\n",
       "    <tr>\n",
       "      <th>1</th>\n",
       "      <td>1</td>\n",
       "      <td>39</td>\n",
       "      <td>1_masculinity_objectification_harassment_attit...</td>\n",
       "      <td>[masculinity, objectification, harassment, att...</td>\n",
       "      <td>[Sexual harassment (SH) in sporting environmen...</td>\n",
       "    </tr>\n",
       "    <tr>\n",
       "      <th>2</th>\n",
       "      <td>2</td>\n",
       "      <td>35</td>\n",
       "      <td>2_sexismo_religiosity_authoritarianism_femmes</td>\n",
       "      <td>[sexismo, religiosity, authoritarianism, femme...</td>\n",
       "      <td>[[\"In the wake of the Supreme Court's recent W...</td>\n",
       "    </tr>\n",
       "    <tr>\n",
       "      <th>3</th>\n",
       "      <td>3</td>\n",
       "      <td>33</td>\n",
       "      <td>3_victimization_relationships_antisocial_parental</td>\n",
       "      <td>[victimization, relationships, antisocial, par...</td>\n",
       "      <td>[['Objective: To identify sexist violence feat...</td>\n",
       "    </tr>\n",
       "    <tr>\n",
       "      <th>4</th>\n",
       "      <td>4</td>\n",
       "      <td>29</td>\n",
       "      <td>4_discrimination_organizations_diversity_conse...</td>\n",
       "      <td>[discrimination, organizations, diversity, con...</td>\n",
       "      <td>[[\"Purpose - The purpose of this paper is to e...</td>\n",
       "    </tr>\n",
       "    <tr>\n",
       "      <th>5</th>\n",
       "      <td>5</td>\n",
       "      <td>26</td>\n",
       "      <td>5_gender_homophobia_preconceptions_psychology</td>\n",
       "      <td>[gender, homophobia, preconceptions, psycholog...</td>\n",
       "      <td>[Acknowledging that gender, as a construct, is...</td>\n",
       "    </tr>\n",
       "    <tr>\n",
       "      <th>6</th>\n",
       "      <td>6</td>\n",
       "      <td>26</td>\n",
       "      <td>6_ethnicity_transgender_disparities_health</td>\n",
       "      <td>[ethnicity, transgender, disparities, health, ...</td>\n",
       "      <td>[Introduction: Gender and ethnic differences e...</td>\n",
       "    </tr>\n",
       "    <tr>\n",
       "      <th>7</th>\n",
       "      <td>7</td>\n",
       "      <td>24</td>\n",
       "      <td>7_supervisors_academia_physiotherapists_careers</td>\n",
       "      <td>[supervisors, academia, physiotherapists, care...</td>\n",
       "      <td>[Objective To examine the relationship between...</td>\n",
       "    </tr>\n",
       "    <tr>\n",
       "      <th>8</th>\n",
       "      <td>8</td>\n",
       "      <td>24</td>\n",
       "      <td>8_masculinity_relationships_submissiveness_women</td>\n",
       "      <td>[masculinity, relationships, submissiveness, w...</td>\n",
       "      <td>[We examined how sexism related to gay and bis...</td>\n",
       "    </tr>\n",
       "    <tr>\n",
       "      <th>9</th>\n",
       "      <td>9</td>\n",
       "      <td>23</td>\n",
       "      <td>9_sexism_politics_electability_electorate</td>\n",
       "      <td>[sexism, politics, electability, electorate, l...</td>\n",
       "      <td>[The outcome of the 2016 US presidential elect...</td>\n",
       "    </tr>\n",
       "    <tr>\n",
       "      <th>10</th>\n",
       "      <td>10</td>\n",
       "      <td>20</td>\n",
       "      <td>10_victimisation_cyberviolence_attitudes_sexual</td>\n",
       "      <td>[victimisation, cyberviolence, attitudes, sexu...</td>\n",
       "      <td>[This study uses a diverse sample that is nati...</td>\n",
       "    </tr>\n",
       "    <tr>\n",
       "      <th>11</th>\n",
       "      <td>11</td>\n",
       "      <td>17</td>\n",
       "      <td>11_sexualization_masculine_gamers_moderation</td>\n",
       "      <td>[sexualization, masculine, gamers, moderation,...</td>\n",
       "      <td>[This study sought to develop and validate an ...</td>\n",
       "    </tr>\n",
       "    <tr>\n",
       "      <th>12</th>\n",
       "      <td>12</td>\n",
       "      <td>16</td>\n",
       "      <td>12_svm_convolutional_gender_faces</td>\n",
       "      <td>[svm, convolutional, gender, faces, discrimina...</td>\n",
       "      <td>[Gender classification using facial features h...</td>\n",
       "    </tr>\n",
       "    <tr>\n",
       "      <th>13</th>\n",
       "      <td>13</td>\n",
       "      <td>14</td>\n",
       "      <td>13_atherosclerosis_snps_genetic_biogeographic</td>\n",
       "      <td>[atherosclerosis, snps, genetic, biogeographic...</td>\n",
       "      <td>[['Background: Although the overall average 10...</td>\n",
       "    </tr>\n",
       "    <tr>\n",
       "      <th>14</th>\n",
       "      <td>14</td>\n",
       "      <td>13</td>\n",
       "      <td>14_feminism_discourses_characters_kierkegaardian</td>\n",
       "      <td>[feminism, discourses, characters, kierkegaard...</td>\n",
       "      <td>[The present study draws on theories and prior...</td>\n",
       "    </tr>\n",
       "  </tbody>\n",
       "</table>\n",
       "</div>"
      ],
      "text/plain": [
       "    Topic  Count                                               Name  \\\n",
       "0       0     57               0_embeddings_misogyny_corpus_abusive   \n",
       "1       1     39  1_masculinity_objectification_harassment_attit...   \n",
       "2       2     35      2_sexismo_religiosity_authoritarianism_femmes   \n",
       "3       3     33  3_victimization_relationships_antisocial_parental   \n",
       "4       4     29  4_discrimination_organizations_diversity_conse...   \n",
       "5       5     26      5_gender_homophobia_preconceptions_psychology   \n",
       "6       6     26         6_ethnicity_transgender_disparities_health   \n",
       "7       7     24    7_supervisors_academia_physiotherapists_careers   \n",
       "8       8     24   8_masculinity_relationships_submissiveness_women   \n",
       "9       9     23          9_sexism_politics_electability_electorate   \n",
       "10     10     20    10_victimisation_cyberviolence_attitudes_sexual   \n",
       "11     11     17       11_sexualization_masculine_gamers_moderation   \n",
       "12     12     16                  12_svm_convolutional_gender_faces   \n",
       "13     13     14      13_atherosclerosis_snps_genetic_biogeographic   \n",
       "14     14     13   14_feminism_discourses_characters_kierkegaardian   \n",
       "\n",
       "                                       Representation  \\\n",
       "0   [embeddings, misogyny, corpus, abusive, twitte...   \n",
       "1   [masculinity, objectification, harassment, att...   \n",
       "2   [sexismo, religiosity, authoritarianism, femme...   \n",
       "3   [victimization, relationships, antisocial, par...   \n",
       "4   [discrimination, organizations, diversity, con...   \n",
       "5   [gender, homophobia, preconceptions, psycholog...   \n",
       "6   [ethnicity, transgender, disparities, health, ...   \n",
       "7   [supervisors, academia, physiotherapists, care...   \n",
       "8   [masculinity, relationships, submissiveness, w...   \n",
       "9   [sexism, politics, electability, electorate, l...   \n",
       "10  [victimisation, cyberviolence, attitudes, sexu...   \n",
       "11  [sexualization, masculine, gamers, moderation,...   \n",
       "12  [svm, convolutional, gender, faces, discrimina...   \n",
       "13  [atherosclerosis, snps, genetic, biogeographic...   \n",
       "14  [feminism, discourses, characters, kierkegaard...   \n",
       "\n",
       "                                  Representative_Docs  \n",
       "0   [The freedom of expression given by social med...  \n",
       "1   [Sexual harassment (SH) in sporting environmen...  \n",
       "2   [[\"In the wake of the Supreme Court's recent W...  \n",
       "3   [['Objective: To identify sexist violence feat...  \n",
       "4   [[\"Purpose - The purpose of this paper is to e...  \n",
       "5   [Acknowledging that gender, as a construct, is...  \n",
       "6   [Introduction: Gender and ethnic differences e...  \n",
       "7   [Objective To examine the relationship between...  \n",
       "8   [We examined how sexism related to gay and bis...  \n",
       "9   [The outcome of the 2016 US presidential elect...  \n",
       "10  [This study uses a diverse sample that is nati...  \n",
       "11  [This study sought to develop and validate an ...  \n",
       "12  [Gender classification using facial features h...  \n",
       "13  [['Background: Although the overall average 10...  \n",
       "14  [The present study draws on theories and prior...  "
      ]
     },
     "execution_count": 49,
     "metadata": {},
     "output_type": "execute_result"
    }
   ],
   "source": [
    "topic_model.get_topic_info()"
   ]
  },
  {
   "cell_type": "code",
   "execution_count": 50,
   "metadata": {},
   "outputs": [
    {
     "data": {
      "application/vnd.plotly.v1+json": {
       "config": {
        "plotlyServerURL": "https://plot.ly"
       },
       "data": [
        {
         "marker": {
          "color": "#D55E00"
         },
         "orientation": "h",
         "type": "bar",
         "x": [
          0.220942884683609,
          0.22311994433403015,
          0.25114500522613525,
          0.2537516951560974,
          0.279246062040329,
          0.2841916084289551,
          0.35302209854125977,
          0.3534696400165558,
          0.38075512647628784,
          0.3832014799118042
         ],
         "xaxis": "x",
         "y": [
          "unlabeled  ",
          "accuracy  ",
          "languages  ",
          "dataset  ",
          "lstm  ",
          "twitter  ",
          "abusive  ",
          "corpus  ",
          "misogyny  ",
          "embeddings  "
         ],
         "yaxis": "y"
        },
        {
         "marker": {
          "color": "#0072B2"
         },
         "orientation": "h",
         "type": "bar",
         "x": [
          0.175333634018898,
          0.17613151669502258,
          0.17858165502548218,
          0.22622030973434448,
          0.28411775827407837,
          0.3188067078590393,
          0.36236393451690674,
          0.37434011697769165,
          0.4579731225967407,
          0.4951990246772766
         ],
         "xaxis": "x2",
         "y": [
          "dyads  ",
          "remark  ",
          "smiling  ",
          "nonverbal  ",
          "female  ",
          "socially  ",
          "attitudes  ",
          "harassment  ",
          "objectification  ",
          "masculinity  "
         ],
         "yaxis": "y2"
        },
        {
         "marker": {
          "color": "#CC79A7"
         },
         "orientation": "h",
         "type": "bar",
         "x": [
          0.15392521023750305,
          0.15662875771522522,
          0.19286461174488068,
          0.2086285948753357,
          0.25892728567123413,
          0.27045220136642456,
          0.3174838423728943,
          0.40668272972106934,
          0.4196741282939911,
          0.510438084602356
         ],
         "xaxis": "x3",
         "y": [
          "derecha  ",
          "courts  ",
          "sociales  ",
          "ideologie  ",
          "childlessness  ",
          "hierarchy  ",
          "femmes  ",
          "authoritarianism  ",
          "religiosity  ",
          "sexismo  "
         ],
         "yaxis": "y3"
        },
        {
         "marker": {
          "color": "#E69F00"
         },
         "orientation": "h",
         "type": "bar",
         "x": [
          0.13368350267410278,
          0.140687495470047,
          0.17737898230552673,
          0.19152386486530304,
          0.20264458656311035,
          0.24354520440101624,
          0.2686968743801117,
          0.27952849864959717,
          0.41573062539100647,
          0.45112529397010803
         ],
         "xaxis": "x4",
         "y": [
          "spain  ",
          "dv  ",
          "cyber  ",
          "prevalence  ",
          "teen  ",
          "prevention  ",
          "parental  ",
          "antisocial  ",
          "relationships  ",
          "victimization  "
         ],
         "yaxis": "y4"
        },
        {
         "marker": {
          "color": "#56B4E9"
         },
         "orientation": "h",
         "type": "bar",
         "x": [
          0.144566148519516,
          0.15079981088638306,
          0.15331871807575226,
          0.16048884391784668,
          0.25492167472839355,
          0.2751963138580322,
          0.2841266095638275,
          0.3178406357765198,
          0.32681161165237427,
          0.5267176628112793
         ],
         "xaxis": "x5",
         "y": [
          "wages  ",
          "newsroom  ",
          "evidence  ",
          "similarities  ",
          "male  ",
          "applicants  ",
          "conservatism  ",
          "diversity  ",
          "organizations  ",
          "discrimination  "
         ],
         "yaxis": "y5"
        },
        {
         "marker": {
          "color": "#009E73"
         },
         "orientation": "h",
         "type": "bar",
         "x": [
          0.23729455471038818,
          0.25122568011283875,
          0.26299265027046204,
          0.2714545428752899,
          0.2849939465522766,
          0.3231549859046936,
          0.36864641308784485,
          0.38049250841140747,
          0.3970910906791687,
          0.43764960765838623
         ],
         "xaxis": "x6",
         "y": [
          "analysis  ",
          "friendships  ",
          "schools  ",
          "adolescence  ",
          "heteronormative  ",
          "lesbians  ",
          "psychology  ",
          "preconceptions  ",
          "homophobia  ",
          "gender  "
         ],
         "yaxis": "y6"
        },
        {
         "marker": {
          "color": "#F0E442"
         },
         "orientation": "h",
         "type": "bar",
         "x": [
          0.1798342913389206,
          0.2158907651901245,
          0.29391106963157654,
          0.29954010248184204,
          0.3239178955554962,
          0.3316417634487152,
          0.3367270529270172,
          0.3598284125328064,
          0.37267839908599854,
          0.377555251121521
         ],
         "xaxis": "x7",
         "y": [
          "affirmation  ",
          "veterans  ",
          "marginalized  ",
          "suicidality  ",
          "heteronormativity  ",
          "stigma  ",
          "health  ",
          "disparities  ",
          "transgender  ",
          "ethnicity  "
         ],
         "yaxis": "y7"
        },
        {
         "marker": {
          "color": "#D55E00"
         },
         "orientation": "h",
         "type": "bar",
         "x": [
          0.2044699639081955,
          0.22051364183425903,
          0.2246750444173813,
          0.2278766632080078,
          0.2796245813369751,
          0.320926308631897,
          0.32854288816452026,
          0.3443966209888458,
          0.35241448879241943,
          0.3691885769367218
         ],
         "xaxis": "x8",
         "y": [
          "health  ",
          "succeed  ",
          "interventions  ",
          "barriers  ",
          "burnout  ",
          "underrepresented  ",
          "careers  ",
          "physiotherapists  ",
          "academia  ",
          "supervisors  "
         ],
         "yaxis": "y8"
        },
        {
         "marker": {
          "color": "#0072B2"
         },
         "orientation": "h",
         "type": "bar",
         "x": [
          0.1386306881904602,
          0.18432685732841492,
          0.2327088564634323,
          0.23876917362213135,
          0.25826793909072876,
          0.34534746408462524,
          0.3840576410293579,
          0.4033716917037964,
          0.4201085567474365,
          0.48226550221443176
         ],
         "xaxis": "x9",
         "y": [
          "traditional  ",
          "coping  ",
          "romanticism  ",
          "preference  ",
          "stereotypic  ",
          "heterosexual  ",
          "women  ",
          "submissiveness  ",
          "relationships  ",
          "masculinity  "
         ],
         "yaxis": "y9"
        },
        {
         "marker": {
          "color": "#CC79A7"
         },
         "orientation": "h",
         "type": "bar",
         "x": [
          0.24873802065849304,
          0.2500728666782379,
          0.2894257605075836,
          0.30036982893943787,
          0.34712672233581543,
          0.3630388081073761,
          0.3733634948730469,
          0.4077228009700775,
          0.4620594382286072,
          0.5326917767524719
         ],
         "xaxis": "x10",
         "y": [
          "undecided  ",
          "backlash  ",
          "pence  ",
          "lgbtq  ",
          "attitudes  ",
          "liberal  ",
          "electorate  ",
          "electability  ",
          "politics  ",
          "sexism  "
         ],
         "yaxis": "y10"
        },
        {
         "marker": {
          "color": "#E69F00"
         },
         "orientation": "h",
         "type": "bar",
         "x": [
          0.14080233871936798,
          0.14299243688583374,
          0.14938868582248688,
          0.15355703234672546,
          0.18314950168132782,
          0.26777780055999756,
          0.2703305184841156,
          0.3023782968521118,
          0.30266138911247253,
          0.42306074500083923
         ],
         "xaxis": "x11",
         "y": [
          "research  ",
          "campuses  ",
          "protagonist  ",
          "participants  ",
          "clergy  ",
          "attributions  ",
          "sexual  ",
          "attitudes  ",
          "cyberviolence  ",
          "victimisation  "
         ],
         "yaxis": "y11"
        },
        {
         "marker": {
          "color": "#56B4E9"
         },
         "orientation": "h",
         "type": "bar",
         "x": [
          0.19103188812732697,
          0.19633087515830994,
          0.1969004124403,
          0.22078517079353333,
          0.2395000159740448,
          0.24872438609600067,
          0.30776670575141907,
          0.4072588086128235,
          0.4090280532836914,
          0.45965057611465454
         ],
         "xaxis": "x12",
         "y": [
          "territoriality  ",
          "aggr  ",
          "anonymous  ",
          "content  ",
          "personality  ",
          "play  ",
          "moderation  ",
          "gamers  ",
          "masculine  ",
          "sexualization  "
         ],
         "yaxis": "y12"
        },
        {
         "marker": {
          "color": "#009E73"
         },
         "orientation": "h",
         "type": "bar",
         "x": [
          0.1658754199743271,
          0.17372527718544006,
          0.1958829164505005,
          0.20397493243217468,
          0.20793519914150238,
          0.3713796138763428,
          0.38855403661727905,
          0.41278696060180664,
          0.42533057928085327,
          0.4450140595436096
         ],
         "xaxis": "x13",
         "y": [
          "camouflaged  ",
          "net  ",
          "feature  ",
          "surveillance  ",
          "clusters  ",
          "discriminability  ",
          "faces  ",
          "gender  ",
          "convolutional  ",
          "svm  "
         ],
         "yaxis": "y13"
        },
        {
         "marker": {
          "color": "#F0E442"
         },
         "orientation": "h",
         "type": "bar",
         "x": [
          0.1145528256893158,
          0.12959401309490204,
          0.1325756013393402,
          0.1348382532596588,
          0.20891134440898895,
          0.22909925878047943,
          0.23563233017921448,
          0.2511996328830719,
          0.3174327611923218,
          0.3708465099334717
         ],
         "xaxis": "x14",
         "y": [
          "foods  ",
          "eureas_gplex  ",
          "prediction  ",
          "paraben  ",
          "pediatric  ",
          "assay  ",
          "biogeographic  ",
          "genetic  ",
          "snps  ",
          "atherosclerosis  "
         ],
         "yaxis": "y14"
        },
        {
         "marker": {
          "color": "#D55E00"
         },
         "orientation": "h",
         "type": "bar",
         "x": [
          0.22092241048812866,
          0.23338714241981506,
          0.24658837914466858,
          0.25356119871139526,
          0.2611434757709503,
          0.26811787486076355,
          0.2815660834312439,
          0.2822127044200897,
          0.3768090605735779,
          0.6299164295196533
         ],
         "xaxis": "x15",
         "y": [
          "preadolescents  ",
          "ministries  ",
          "advertisers  ",
          "femvertising  ",
          "media  ",
          "housewife  ",
          "kierkegaardian  ",
          "characters  ",
          "discourses  ",
          "feminism  "
         ],
         "yaxis": "y15"
        }
       ],
       "layout": {
        "annotations": [
         {
          "font": {
           "size": 16
          },
          "showarrow": false,
          "text": "Topic 0",
          "x": 0.0875,
          "xanchor": "center",
          "xref": "paper",
          "y": 1,
          "yanchor": "bottom",
          "yref": "paper"
         },
         {
          "font": {
           "size": 16
          },
          "showarrow": false,
          "text": "Topic 1",
          "x": 0.36250000000000004,
          "xanchor": "center",
          "xref": "paper",
          "y": 1,
          "yanchor": "bottom",
          "yref": "paper"
         },
         {
          "font": {
           "size": 16
          },
          "showarrow": false,
          "text": "Topic 2",
          "x": 0.6375000000000001,
          "xanchor": "center",
          "xref": "paper",
          "y": 1,
          "yanchor": "bottom",
          "yref": "paper"
         },
         {
          "font": {
           "size": 16
          },
          "showarrow": false,
          "text": "Topic 3",
          "x": 0.9125,
          "xanchor": "center",
          "xref": "paper",
          "y": 1,
          "yanchor": "bottom",
          "yref": "paper"
         },
         {
          "font": {
           "size": 16
          },
          "showarrow": false,
          "text": "Topic 4",
          "x": 0.0875,
          "xanchor": "center",
          "xref": "paper",
          "y": 0.7250000000000001,
          "yanchor": "bottom",
          "yref": "paper"
         },
         {
          "font": {
           "size": 16
          },
          "showarrow": false,
          "text": "Topic 5",
          "x": 0.36250000000000004,
          "xanchor": "center",
          "xref": "paper",
          "y": 0.7250000000000001,
          "yanchor": "bottom",
          "yref": "paper"
         },
         {
          "font": {
           "size": 16
          },
          "showarrow": false,
          "text": "Topic 6",
          "x": 0.6375000000000001,
          "xanchor": "center",
          "xref": "paper",
          "y": 0.7250000000000001,
          "yanchor": "bottom",
          "yref": "paper"
         },
         {
          "font": {
           "size": 16
          },
          "showarrow": false,
          "text": "Topic 7",
          "x": 0.9125,
          "xanchor": "center",
          "xref": "paper",
          "y": 0.7250000000000001,
          "yanchor": "bottom",
          "yref": "paper"
         },
         {
          "font": {
           "size": 16
          },
          "showarrow": false,
          "text": "Topic 8",
          "x": 0.0875,
          "xanchor": "center",
          "xref": "paper",
          "y": 0.45,
          "yanchor": "bottom",
          "yref": "paper"
         },
         {
          "font": {
           "size": 16
          },
          "showarrow": false,
          "text": "Topic 9",
          "x": 0.36250000000000004,
          "xanchor": "center",
          "xref": "paper",
          "y": 0.45,
          "yanchor": "bottom",
          "yref": "paper"
         },
         {
          "font": {
           "size": 16
          },
          "showarrow": false,
          "text": "Topic 10",
          "x": 0.6375000000000001,
          "xanchor": "center",
          "xref": "paper",
          "y": 0.45,
          "yanchor": "bottom",
          "yref": "paper"
         },
         {
          "font": {
           "size": 16
          },
          "showarrow": false,
          "text": "Topic 11",
          "x": 0.9125,
          "xanchor": "center",
          "xref": "paper",
          "y": 0.45,
          "yanchor": "bottom",
          "yref": "paper"
         },
         {
          "font": {
           "size": 16
          },
          "showarrow": false,
          "text": "Topic 12",
          "x": 0.0875,
          "xanchor": "center",
          "xref": "paper",
          "y": 0.175,
          "yanchor": "bottom",
          "yref": "paper"
         },
         {
          "font": {
           "size": 16
          },
          "showarrow": false,
          "text": "Topic 13",
          "x": 0.36250000000000004,
          "xanchor": "center",
          "xref": "paper",
          "y": 0.175,
          "yanchor": "bottom",
          "yref": "paper"
         },
         {
          "font": {
           "size": 16
          },
          "showarrow": false,
          "text": "Topic 14",
          "x": 0.6375000000000001,
          "xanchor": "center",
          "xref": "paper",
          "y": 0.175,
          "yanchor": "bottom",
          "yref": "paper"
         }
        ],
        "height": 1400,
        "hoverlabel": {
         "bgcolor": "white",
         "font": {
          "family": "Rockwell",
          "size": 16
         }
        },
        "showlegend": false,
        "template": {
         "data": {
          "bar": [
           {
            "error_x": {
             "color": "#2a3f5f"
            },
            "error_y": {
             "color": "#2a3f5f"
            },
            "marker": {
             "line": {
              "color": "white",
              "width": 0.5
             },
             "pattern": {
              "fillmode": "overlay",
              "size": 10,
              "solidity": 0.2
             }
            },
            "type": "bar"
           }
          ],
          "barpolar": [
           {
            "marker": {
             "line": {
              "color": "white",
              "width": 0.5
             },
             "pattern": {
              "fillmode": "overlay",
              "size": 10,
              "solidity": 0.2
             }
            },
            "type": "barpolar"
           }
          ],
          "carpet": [
           {
            "aaxis": {
             "endlinecolor": "#2a3f5f",
             "gridcolor": "#C8D4E3",
             "linecolor": "#C8D4E3",
             "minorgridcolor": "#C8D4E3",
             "startlinecolor": "#2a3f5f"
            },
            "baxis": {
             "endlinecolor": "#2a3f5f",
             "gridcolor": "#C8D4E3",
             "linecolor": "#C8D4E3",
             "minorgridcolor": "#C8D4E3",
             "startlinecolor": "#2a3f5f"
            },
            "type": "carpet"
           }
          ],
          "choropleth": [
           {
            "colorbar": {
             "outlinewidth": 0,
             "ticks": ""
            },
            "type": "choropleth"
           }
          ],
          "contour": [
           {
            "colorbar": {
             "outlinewidth": 0,
             "ticks": ""
            },
            "colorscale": [
             [
              0,
              "#0d0887"
             ],
             [
              0.1111111111111111,
              "#46039f"
             ],
             [
              0.2222222222222222,
              "#7201a8"
             ],
             [
              0.3333333333333333,
              "#9c179e"
             ],
             [
              0.4444444444444444,
              "#bd3786"
             ],
             [
              0.5555555555555556,
              "#d8576b"
             ],
             [
              0.6666666666666666,
              "#ed7953"
             ],
             [
              0.7777777777777778,
              "#fb9f3a"
             ],
             [
              0.8888888888888888,
              "#fdca26"
             ],
             [
              1,
              "#f0f921"
             ]
            ],
            "type": "contour"
           }
          ],
          "contourcarpet": [
           {
            "colorbar": {
             "outlinewidth": 0,
             "ticks": ""
            },
            "type": "contourcarpet"
           }
          ],
          "heatmap": [
           {
            "colorbar": {
             "outlinewidth": 0,
             "ticks": ""
            },
            "colorscale": [
             [
              0,
              "#0d0887"
             ],
             [
              0.1111111111111111,
              "#46039f"
             ],
             [
              0.2222222222222222,
              "#7201a8"
             ],
             [
              0.3333333333333333,
              "#9c179e"
             ],
             [
              0.4444444444444444,
              "#bd3786"
             ],
             [
              0.5555555555555556,
              "#d8576b"
             ],
             [
              0.6666666666666666,
              "#ed7953"
             ],
             [
              0.7777777777777778,
              "#fb9f3a"
             ],
             [
              0.8888888888888888,
              "#fdca26"
             ],
             [
              1,
              "#f0f921"
             ]
            ],
            "type": "heatmap"
           }
          ],
          "heatmapgl": [
           {
            "colorbar": {
             "outlinewidth": 0,
             "ticks": ""
            },
            "colorscale": [
             [
              0,
              "#0d0887"
             ],
             [
              0.1111111111111111,
              "#46039f"
             ],
             [
              0.2222222222222222,
              "#7201a8"
             ],
             [
              0.3333333333333333,
              "#9c179e"
             ],
             [
              0.4444444444444444,
              "#bd3786"
             ],
             [
              0.5555555555555556,
              "#d8576b"
             ],
             [
              0.6666666666666666,
              "#ed7953"
             ],
             [
              0.7777777777777778,
              "#fb9f3a"
             ],
             [
              0.8888888888888888,
              "#fdca26"
             ],
             [
              1,
              "#f0f921"
             ]
            ],
            "type": "heatmapgl"
           }
          ],
          "histogram": [
           {
            "marker": {
             "pattern": {
              "fillmode": "overlay",
              "size": 10,
              "solidity": 0.2
             }
            },
            "type": "histogram"
           }
          ],
          "histogram2d": [
           {
            "colorbar": {
             "outlinewidth": 0,
             "ticks": ""
            },
            "colorscale": [
             [
              0,
              "#0d0887"
             ],
             [
              0.1111111111111111,
              "#46039f"
             ],
             [
              0.2222222222222222,
              "#7201a8"
             ],
             [
              0.3333333333333333,
              "#9c179e"
             ],
             [
              0.4444444444444444,
              "#bd3786"
             ],
             [
              0.5555555555555556,
              "#d8576b"
             ],
             [
              0.6666666666666666,
              "#ed7953"
             ],
             [
              0.7777777777777778,
              "#fb9f3a"
             ],
             [
              0.8888888888888888,
              "#fdca26"
             ],
             [
              1,
              "#f0f921"
             ]
            ],
            "type": "histogram2d"
           }
          ],
          "histogram2dcontour": [
           {
            "colorbar": {
             "outlinewidth": 0,
             "ticks": ""
            },
            "colorscale": [
             [
              0,
              "#0d0887"
             ],
             [
              0.1111111111111111,
              "#46039f"
             ],
             [
              0.2222222222222222,
              "#7201a8"
             ],
             [
              0.3333333333333333,
              "#9c179e"
             ],
             [
              0.4444444444444444,
              "#bd3786"
             ],
             [
              0.5555555555555556,
              "#d8576b"
             ],
             [
              0.6666666666666666,
              "#ed7953"
             ],
             [
              0.7777777777777778,
              "#fb9f3a"
             ],
             [
              0.8888888888888888,
              "#fdca26"
             ],
             [
              1,
              "#f0f921"
             ]
            ],
            "type": "histogram2dcontour"
           }
          ],
          "mesh3d": [
           {
            "colorbar": {
             "outlinewidth": 0,
             "ticks": ""
            },
            "type": "mesh3d"
           }
          ],
          "parcoords": [
           {
            "line": {
             "colorbar": {
              "outlinewidth": 0,
              "ticks": ""
             }
            },
            "type": "parcoords"
           }
          ],
          "pie": [
           {
            "automargin": true,
            "type": "pie"
           }
          ],
          "scatter": [
           {
            "fillpattern": {
             "fillmode": "overlay",
             "size": 10,
             "solidity": 0.2
            },
            "type": "scatter"
           }
          ],
          "scatter3d": [
           {
            "line": {
             "colorbar": {
              "outlinewidth": 0,
              "ticks": ""
             }
            },
            "marker": {
             "colorbar": {
              "outlinewidth": 0,
              "ticks": ""
             }
            },
            "type": "scatter3d"
           }
          ],
          "scattercarpet": [
           {
            "marker": {
             "colorbar": {
              "outlinewidth": 0,
              "ticks": ""
             }
            },
            "type": "scattercarpet"
           }
          ],
          "scattergeo": [
           {
            "marker": {
             "colorbar": {
              "outlinewidth": 0,
              "ticks": ""
             }
            },
            "type": "scattergeo"
           }
          ],
          "scattergl": [
           {
            "marker": {
             "colorbar": {
              "outlinewidth": 0,
              "ticks": ""
             }
            },
            "type": "scattergl"
           }
          ],
          "scattermapbox": [
           {
            "marker": {
             "colorbar": {
              "outlinewidth": 0,
              "ticks": ""
             }
            },
            "type": "scattermapbox"
           }
          ],
          "scatterpolar": [
           {
            "marker": {
             "colorbar": {
              "outlinewidth": 0,
              "ticks": ""
             }
            },
            "type": "scatterpolar"
           }
          ],
          "scatterpolargl": [
           {
            "marker": {
             "colorbar": {
              "outlinewidth": 0,
              "ticks": ""
             }
            },
            "type": "scatterpolargl"
           }
          ],
          "scatterternary": [
           {
            "marker": {
             "colorbar": {
              "outlinewidth": 0,
              "ticks": ""
             }
            },
            "type": "scatterternary"
           }
          ],
          "surface": [
           {
            "colorbar": {
             "outlinewidth": 0,
             "ticks": ""
            },
            "colorscale": [
             [
              0,
              "#0d0887"
             ],
             [
              0.1111111111111111,
              "#46039f"
             ],
             [
              0.2222222222222222,
              "#7201a8"
             ],
             [
              0.3333333333333333,
              "#9c179e"
             ],
             [
              0.4444444444444444,
              "#bd3786"
             ],
             [
              0.5555555555555556,
              "#d8576b"
             ],
             [
              0.6666666666666666,
              "#ed7953"
             ],
             [
              0.7777777777777778,
              "#fb9f3a"
             ],
             [
              0.8888888888888888,
              "#fdca26"
             ],
             [
              1,
              "#f0f921"
             ]
            ],
            "type": "surface"
           }
          ],
          "table": [
           {
            "cells": {
             "fill": {
              "color": "#EBF0F8"
             },
             "line": {
              "color": "white"
             }
            },
            "header": {
             "fill": {
              "color": "#C8D4E3"
             },
             "line": {
              "color": "white"
             }
            },
            "type": "table"
           }
          ]
         },
         "layout": {
          "annotationdefaults": {
           "arrowcolor": "#2a3f5f",
           "arrowhead": 0,
           "arrowwidth": 1
          },
          "autotypenumbers": "strict",
          "coloraxis": {
           "colorbar": {
            "outlinewidth": 0,
            "ticks": ""
           }
          },
          "colorscale": {
           "diverging": [
            [
             0,
             "#8e0152"
            ],
            [
             0.1,
             "#c51b7d"
            ],
            [
             0.2,
             "#de77ae"
            ],
            [
             0.3,
             "#f1b6da"
            ],
            [
             0.4,
             "#fde0ef"
            ],
            [
             0.5,
             "#f7f7f7"
            ],
            [
             0.6,
             "#e6f5d0"
            ],
            [
             0.7,
             "#b8e186"
            ],
            [
             0.8,
             "#7fbc41"
            ],
            [
             0.9,
             "#4d9221"
            ],
            [
             1,
             "#276419"
            ]
           ],
           "sequential": [
            [
             0,
             "#0d0887"
            ],
            [
             0.1111111111111111,
             "#46039f"
            ],
            [
             0.2222222222222222,
             "#7201a8"
            ],
            [
             0.3333333333333333,
             "#9c179e"
            ],
            [
             0.4444444444444444,
             "#bd3786"
            ],
            [
             0.5555555555555556,
             "#d8576b"
            ],
            [
             0.6666666666666666,
             "#ed7953"
            ],
            [
             0.7777777777777778,
             "#fb9f3a"
            ],
            [
             0.8888888888888888,
             "#fdca26"
            ],
            [
             1,
             "#f0f921"
            ]
           ],
           "sequentialminus": [
            [
             0,
             "#0d0887"
            ],
            [
             0.1111111111111111,
             "#46039f"
            ],
            [
             0.2222222222222222,
             "#7201a8"
            ],
            [
             0.3333333333333333,
             "#9c179e"
            ],
            [
             0.4444444444444444,
             "#bd3786"
            ],
            [
             0.5555555555555556,
             "#d8576b"
            ],
            [
             0.6666666666666666,
             "#ed7953"
            ],
            [
             0.7777777777777778,
             "#fb9f3a"
            ],
            [
             0.8888888888888888,
             "#fdca26"
            ],
            [
             1,
             "#f0f921"
            ]
           ]
          },
          "colorway": [
           "#636efa",
           "#EF553B",
           "#00cc96",
           "#ab63fa",
           "#FFA15A",
           "#19d3f3",
           "#FF6692",
           "#B6E880",
           "#FF97FF",
           "#FECB52"
          ],
          "font": {
           "color": "#2a3f5f"
          },
          "geo": {
           "bgcolor": "white",
           "lakecolor": "white",
           "landcolor": "white",
           "showlakes": true,
           "showland": true,
           "subunitcolor": "#C8D4E3"
          },
          "hoverlabel": {
           "align": "left"
          },
          "hovermode": "closest",
          "mapbox": {
           "style": "light"
          },
          "paper_bgcolor": "white",
          "plot_bgcolor": "white",
          "polar": {
           "angularaxis": {
            "gridcolor": "#EBF0F8",
            "linecolor": "#EBF0F8",
            "ticks": ""
           },
           "bgcolor": "white",
           "radialaxis": {
            "gridcolor": "#EBF0F8",
            "linecolor": "#EBF0F8",
            "ticks": ""
           }
          },
          "scene": {
           "xaxis": {
            "backgroundcolor": "white",
            "gridcolor": "#DFE8F3",
            "gridwidth": 2,
            "linecolor": "#EBF0F8",
            "showbackground": true,
            "ticks": "",
            "zerolinecolor": "#EBF0F8"
           },
           "yaxis": {
            "backgroundcolor": "white",
            "gridcolor": "#DFE8F3",
            "gridwidth": 2,
            "linecolor": "#EBF0F8",
            "showbackground": true,
            "ticks": "",
            "zerolinecolor": "#EBF0F8"
           },
           "zaxis": {
            "backgroundcolor": "white",
            "gridcolor": "#DFE8F3",
            "gridwidth": 2,
            "linecolor": "#EBF0F8",
            "showbackground": true,
            "ticks": "",
            "zerolinecolor": "#EBF0F8"
           }
          },
          "shapedefaults": {
           "line": {
            "color": "#2a3f5f"
           }
          },
          "ternary": {
           "aaxis": {
            "gridcolor": "#DFE8F3",
            "linecolor": "#A2B1C6",
            "ticks": ""
           },
           "baxis": {
            "gridcolor": "#DFE8F3",
            "linecolor": "#A2B1C6",
            "ticks": ""
           },
           "bgcolor": "white",
           "caxis": {
            "gridcolor": "#DFE8F3",
            "linecolor": "#A2B1C6",
            "ticks": ""
           }
          },
          "title": {
           "x": 0.05
          },
          "xaxis": {
           "automargin": true,
           "gridcolor": "#EBF0F8",
           "linecolor": "#EBF0F8",
           "ticks": "",
           "title": {
            "standoff": 15
           },
           "zerolinecolor": "#EBF0F8",
           "zerolinewidth": 2
          },
          "yaxis": {
           "automargin": true,
           "gridcolor": "#EBF0F8",
           "linecolor": "#EBF0F8",
           "ticks": "",
           "title": {
            "standoff": 15
           },
           "zerolinecolor": "#EBF0F8",
           "zerolinewidth": 2
          }
         }
        },
        "title": {
         "font": {
          "color": "Black",
          "size": 22
         },
         "text": "Topic Word Scores",
         "x": 0.5,
         "xanchor": "center",
         "yanchor": "top"
        },
        "width": 1400,
        "xaxis": {
         "anchor": "y",
         "domain": [
          0,
          0.175
         ],
         "showgrid": true
        },
        "xaxis10": {
         "anchor": "y10",
         "domain": [
          0.275,
          0.45
         ],
         "showgrid": true
        },
        "xaxis11": {
         "anchor": "y11",
         "domain": [
          0.55,
          0.7250000000000001
         ],
         "showgrid": true
        },
        "xaxis12": {
         "anchor": "y12",
         "domain": [
          0.825,
          1
         ],
         "showgrid": true
        },
        "xaxis13": {
         "anchor": "y13",
         "domain": [
          0,
          0.175
         ],
         "showgrid": true
        },
        "xaxis14": {
         "anchor": "y14",
         "domain": [
          0.275,
          0.45
         ],
         "showgrid": true
        },
        "xaxis15": {
         "anchor": "y15",
         "domain": [
          0.55,
          0.7250000000000001
         ],
         "showgrid": true
        },
        "xaxis16": {
         "anchor": "y16",
         "domain": [
          0.825,
          1
         ],
         "showgrid": true
        },
        "xaxis2": {
         "anchor": "y2",
         "domain": [
          0.275,
          0.45
         ],
         "showgrid": true
        },
        "xaxis3": {
         "anchor": "y3",
         "domain": [
          0.55,
          0.7250000000000001
         ],
         "showgrid": true
        },
        "xaxis4": {
         "anchor": "y4",
         "domain": [
          0.825,
          1
         ],
         "showgrid": true
        },
        "xaxis5": {
         "anchor": "y5",
         "domain": [
          0,
          0.175
         ],
         "showgrid": true
        },
        "xaxis6": {
         "anchor": "y6",
         "domain": [
          0.275,
          0.45
         ],
         "showgrid": true
        },
        "xaxis7": {
         "anchor": "y7",
         "domain": [
          0.55,
          0.7250000000000001
         ],
         "showgrid": true
        },
        "xaxis8": {
         "anchor": "y8",
         "domain": [
          0.825,
          1
         ],
         "showgrid": true
        },
        "xaxis9": {
         "anchor": "y9",
         "domain": [
          0,
          0.175
         ],
         "showgrid": true
        },
        "yaxis": {
         "anchor": "x",
         "domain": [
          0.825,
          1
         ],
         "showgrid": true
        },
        "yaxis10": {
         "anchor": "x10",
         "domain": [
          0.275,
          0.45
         ],
         "showgrid": true
        },
        "yaxis11": {
         "anchor": "x11",
         "domain": [
          0.275,
          0.45
         ],
         "showgrid": true
        },
        "yaxis12": {
         "anchor": "x12",
         "domain": [
          0.275,
          0.45
         ],
         "showgrid": true
        },
        "yaxis13": {
         "anchor": "x13",
         "domain": [
          0,
          0.175
         ],
         "showgrid": true
        },
        "yaxis14": {
         "anchor": "x14",
         "domain": [
          0,
          0.175
         ],
         "showgrid": true
        },
        "yaxis15": {
         "anchor": "x15",
         "domain": [
          0,
          0.175
         ],
         "showgrid": true
        },
        "yaxis16": {
         "anchor": "x16",
         "domain": [
          0,
          0.175
         ],
         "showgrid": true
        },
        "yaxis2": {
         "anchor": "x2",
         "domain": [
          0.825,
          1
         ],
         "showgrid": true
        },
        "yaxis3": {
         "anchor": "x3",
         "domain": [
          0.825,
          1
         ],
         "showgrid": true
        },
        "yaxis4": {
         "anchor": "x4",
         "domain": [
          0.825,
          1
         ],
         "showgrid": true
        },
        "yaxis5": {
         "anchor": "x5",
         "domain": [
          0.55,
          0.7250000000000001
         ],
         "showgrid": true
        },
        "yaxis6": {
         "anchor": "x6",
         "domain": [
          0.55,
          0.7250000000000001
         ],
         "showgrid": true
        },
        "yaxis7": {
         "anchor": "x7",
         "domain": [
          0.55,
          0.7250000000000001
         ],
         "showgrid": true
        },
        "yaxis8": {
         "anchor": "x8",
         "domain": [
          0.55,
          0.7250000000000001
         ],
         "showgrid": true
        },
        "yaxis9": {
         "anchor": "x9",
         "domain": [
          0.275,
          0.45
         ],
         "showgrid": true
        }
       }
      }
     },
     "metadata": {},
     "output_type": "display_data"
    }
   ],
   "source": [
    "topic_model.visualize_barchart(topics=None, top_n_topics=20, n_words=10, custom_labels=True, width=350, height=350)"
   ]
  },
  {
   "cell_type": "code",
   "execution_count": 52,
   "metadata": {},
   "outputs": [
    {
     "data": {
      "application/vnd.plotly.v1+json": {
       "config": {
        "plotlyServerURL": "https://plot.ly"
       },
       "data": [
        {
         "hoverinfo": "text",
         "hovertext": [
          null
         ],
         "marker": {
          "color": "#CFD8DC",
          "opacity": 0.5,
          "size": 5
         },
         "mode": "markers+text",
         "name": "other",
         "showlegend": false,
         "type": "scattergl",
         "x": [
          null
         ],
         "y": [
          null
         ]
        },
        {
         "hoverinfo": "text",
         "hovertext": [
          "Online Social Network has let people connect and interact with each other. It does, however, also provide a platform for online abusers to propagate abusive content. The majority of these abusive remarks are written in a multilingual style, which allows them to easily slip past internet inspection. This paper presents a system developed for the Shared Task on Abusive Comment Detection (Misogyny, Misandry, Homophobia, Transphobic, Xenophobia, CounterSpeech, Hope Speech) in Tamil DravidianLangTech@ACL 2022 to detect the abusive category of each comment. We approach the task with three methodologies - Machine Learning, Deep Learning and Transformerbased modeling, for two sets of data - Tamil and Tamil+English language dataset. The dataset used in our system can be accessed from the competition on CodaLab. For Machine Learning, eight algorithms were implemented, among which Random Forest gave the best result with Tamil+English dataset, with a weighted average F1-score of 0.78. For Deep Learning, Bi-Directional LSTM gave best result with pre-trained word embeddings. In Transformer-based modeling, we used IndicBERT and mBERT with fine-tuning, among which mBERT gave the best result for Tamil dataset with a weighted average F1-score of 0.7.",
          "Counterfactually Augmented Data (CAD) aims to improve out-of-domain generalizability, an indicator of model robustness. The improvement is credited to promoting core features of the construct over spurious artifacts that happen to correlate with it. Yet, over-relying on core features may lead to unintended model bias. Especially, construct-driven CAD-perturbations of core features-may induce models to ignore the context in which core features are used. Here, we test models for sexism and hate speech detection on challenging data: non-hateful and nonsexist usage of identity and gendered terms. On these hard cases, models trained on CAD, especially construct-driven CAD, show higher false positive rates than models trained on the original, unperturbed data. Using a diverse set of CAD-construct-driven and construct-agnostic-reduces such unintended bias.",
          "Post-authorship attribution is a scientific process of using stylometric features to identify the genuine writer of an online text snippet such as an email, blog, forum post, or chat log. It has useful applications in manifold domains, for instance, in a verification process to proactively detect misogynistic, misandrist, xenophobic, and abusive posts on the internet or social networks. The process assumes that texts can be characterized by sequences of words that agglutinate the functional and content lyrics of a writer. However, defining an appropriate characterization of text to capture the unique writing style of an author is a complex endeavor in the discipline of computational linguistics. Moreover, posts are typically short texts with obfuscating vocabularies that might impact the accuracy of authorship attribution. The vocabularies include idioms, onomatopoeias, homophones, phonemes, synonyms, acronyms, anaphora, and polysemy. The method of the regularized deep neural network (RDNN) is introduced in this paper to circumvent the intrinsic challenges of post-authorship attribution. It is based on a convolutional neural network, bidirectional long short-term memory encoder, and distributed highway network. The neural network was used to extract lexical stylometric features that are fed into the bidirectional encoder to extract a syntactic feature-vector representation. The feature vector was then supplied as input to the distributed high networks for regularization to minimize the network-generalization error. The regularized feature vector was ultimately passed to the bidirectional decoder to learn the writing style of an author. The feature-classification layer consists of a fully connected network and a SoftMax function to make the prediction. The RDNN method was tested against thirteen state-of-the-art methods using four benchmark experimental datasets to validate its performance. Experimental results have demonstrated the effectiveness of the method when compared to the existing state-of-the-art methods on three datasets while producing comparable results on one dataset.",
          "Along with the increasing activity on social media, hate speech is getting out of control. Hate speech detection can be done by utilizing text mining technology. There have been many hate speech detection studies conducted. To identify and analyze research trends, data sources, methods and features used in hate speech detection, this systematic literature review was created. Until early 2020, the topics of hate speech were found, including hate speech against minorities, religion, women, the general election agenda, and politics. Sources of data that are widely used to be used as datasets come from twitter. Hate speech is not only classified into HS (hate speech) and Non-HS (non-hate speech) but can be further classified into racism, sexism, offensive, abusive, threats of violence and others. Of the 38 studies that meet inclusion and exclusion, there are 26 algorithms and 28 features that have been used to detect hate speech. However, these methods and features do not necessarily guarantee a good hate detection performance. Hate speech classification performance is also influenced by the dataset, the features chosen, the number of classes and mutually exclusive classes.",
          "Sexism, a pervasive form of oppression, causes profound suffering through various manifestations. Given the rising number of experiences of sexism reported online, categorizing these recollections automatically can aid the fight against sexism, as it can facilitate effective analyses by gender studies researchers and government officials involved in policy making. In this paper, we explore the fine-grained, multi-label classification of accounts (reports) of sexism. To the best of our knowledge, we consider substantially more categories of sexism than any related prior work through our 23-class problem formulation. Moreover, we present the first semi-supervised work for the multi-label classification of accounts describing any type(s) of sexism wherein the approach goes beyond merely fine-tuning pre-trained models using unlabeled data. We devise self-training based techniques tailor-made for the multi-label nature of the problem to utilize unlabeled samples for augmenting the labeled set. We identify high textual diversity with respect to the existing labeled set as a desirable quality for candidate unlabeled instances and develop methods for incorporating it into our approach. We also explore ways of infusing class imbalance alleviation for multi-label classification into our semi-supervised learning, independently and in conjunction with the method involving diversity. Several proposed methods outperform a variety of baselines on a recently released dataset for multi-label sexism categorization across several standard metrics.",
          "Online communication provides space for content dissemination and opinion sharing. However, the limit between opinion and offense might be exceeded, characterizing hate speech. Moreover, its automatic detection is challenging, and approaches focused on the Portuguese language are scarce. This paper proposes an interface between linguistic concepts and computational interventions to support hate speech detection. We applied a Natural Language Processing pipeline involving topic modeling and semantic role labeling, allowing a semi-automatic identification of hate speech. We also discuss how such speech qualifies as a type of verbal violence widespread on social networks to reinforce a sexist stereotype. Finally, we use Twitter data to analyze information that resulted in virtual attacks against a specific person. As an achievement, this work validates the use of linguistic features to annotate data either as hate speech or not. It also proposes using fallacies as a potential additional feature to identify potential intolerant discourses.",
          "Detecting hate speech in the workplace is a unique classification task, as the underlying social context implies a subtler version of conventional hate speech. Applications regarding a state-of-the-art workplace sexism detection model include aids for Human Resources departments, AI chatbots and sentiment analysis. Most existing hate speech detection methods, although robust and accurate, focus on hate speech found on social media, specifically Twitter. The context of social media is much more anonymous than the workplace, therefore it tends to lend itself to more aggressive and \"hostile\" versions of sexism. Therefore, datasets with large amounts of \"hostile\" sexism have a slightly easier detection task since \"hostile\" sexist statements can hinge on a couple words that, regardless of context, tip the model off that a statement is sexist. In this paper we present a dataset of sexist statements that are more likely to be said in the workplace as well as a deep learning model that can achieve state-of-the art results. Previous research has created state-of-the-art models to distinguish \"hostile\" and \"benevolent\" sexism based simply on aggregated Twitter data. Our deep learning methods, initialized with GloVe or random word embeddings, use LSTMs with attention mechanisms to outperform those models on a more diverse, filtered dataset that is more targeted towards workplace sexism, leading to an F1 score of 0.88.",
          "We address the problem of identifying misogyny in tweets in mono and multilingual settings in three languages: English, Italian and Spanish. We explore model variations considering single and multiple languages both in the pre-training of the transformer and in the training of the downstream task to explore the feasibility of detecting misogyny through a transfer learning approach across multiple languages. That is, we train monolingual transformers with mono-lingual data and multilingual transformers with both monolingual and multilingual data. Our models reach state-of-the-art performance on all three languages. The single-language BERT models perform the best, closely followed by different configurations of multilingual BERT models. The performance drops in zero-shot classification across languages. Our error analysis shows that multilingual and monolingual models tend to make the same mistakes.",
          "Social media networking is a prominent topic in real life, particularly at the current moment. The impact of comments has been investigated in several studies. Twitter, Facebook, and Instagram are just a few of the social media networks that are used to broadcast different news worldwide. In this paper, a comprehensive AI-based study is presented to automatically detect the Arabic text misogyny and sarcasm in binary and multiclass scenarios. The key of the proposed AI approach is to distinguish various topics of misogyny and sarcasm from Arabic tweets in social media networks. A comprehensive study is achieved for detecting both misogyny and sarcasm via adopting seven state-of-the-art NLP classifiers: ARABERT, PAC, LRC, RFC, LSVC, DTC, and KNNC. To fine tune, validate, and evaluate all of these techniques, two Arabic tweets datasets (i.e., misogyny and Abu Farah datasets) are used. For the experimental study, two scenarios are proposed for each case study (misogyny or sarcasm): binary and multiclass problems. For misogyny detection, the best accuracy is achieved using the AraBERT classifier with 91.0% for binary classification scenario and 89.0% for the multiclass scenario. For sarcasm detection, the best accuracy is achieved using the AraBERT as well with 88% for binary classification scenario and 77.0% for the multiclass scenario. The proposed method appears to be effective in detecting misogyny and sarcasm in social media platforms with suggesting AraBERT as a superior state-of-the-art deep learning classifier.",
          "The task of automatic misogyny identification and categorization has not received as much attention as other natural language tasks have, even though it is crucial for identifying hate speech in social Internet interactions. In this work, we address this sentence classification task from a representation learning perspective, using both a bidirectional LSTM and BERT optimized with the following metric learning loss functions: contrastive loss, triplet loss, center loss, congenerous cosine loss and additive angular margin loss. We set new state-of-the-art for the task with our fine-tuned BERT, whose sentence embeddings can be compared with a simple cosine distance, and we release all our code as open source for easy reproducibility. Moreover, we find that almost every loss function performs equally well in this setting, matching the regular cross entropy loss.",
          "Social cybermedia has greatly changed the world's perspective on information sharing and propagation. These platforms build virtual user communities in the form of followings or followers that can spread positive or negative content. These virtual communities play a vital role in the spread of hate content, which may create a severe law-and-order situation and social unrest in any country. Hate content can include offensive, anti -state, anti-religion, sexist, and racist posts. Classifying such content and identifying influential individuals who participate in these communities are challenging tasks for law enforcement agencies. This study proposes novel deep learning and graph-based approaches to identifying hate content, followed by approaches to detecting communities and exploring social media to detect hate content. Twitter is used as a case study, and tweets are extracted and annotated by linguistic experts to develop a dataset for experimentation and validation. The proposed customized LSTM-GRU model is used to classify hate content into six categories. The developed model offers an accuracy of 98.14% on the obtained dataset. The Girvan-Newman algorithm is employed for Twitter community detection and successfully identifies the most influential individuals. Moreover, the proposed approach precisely detects intraclass communities and highly influential persons. The developed model effectively identifies hate tweets and communities and can be used to monitor social media to identify any potential threat of unrest.",
          "The data set is composed of 2285 definitions posted on the Urban Dictionary platform from 1999 to May 2016. The data was classified as misogynistic and non-misogynistic by three independent researchers with domain knowledge. The data set is available in public repository in a table containing two columns: the text-based definition from Urban Dictionary and its respective classification (1 for misogynistic and 0 for non-misogynistic). (C) 2019 The Authors. Published by Elsevier Inc.",
          "[\"New social and economic activities massively exploit big data and machine learning algorithms to do inference on people's lives. Applications include automatic curricula evaluation, wage determination, and risk assessment for credits and loans. Recently, many governments and institutions have raised concerns about the lack of fairness, equity and ethics in machine learning to treat these problems. It has been shown that not including sensitive features that bias fairness, such as gender or race, is not enough to mitigate the discrimination when other related features are included. Instead, including fairness in the objective function has been shown to be more efficient.\", 'We present novel fair regression and dimensionality reduction methods built on a previously proposed fair classification framework. Both methods rely on using the Hilbert Schmidt independence criterion as the fairness term. Unlike previous approaches, this allows us to simplify the problem and to use multiple sensitive variables simultaneously. Replacing the linear formulation by kernel functions allows the methods to deal with nonlinear problems. For both linear and nonlinear formulations the solution reduces to solving simple matrix inversions or generalized eigenvalue problems. This simplifies the evaluation of the solutions for different trade-off values between the predictive error and fairness terms. We illustrate the usefulness of the proposed methods in toy examples, and evaluate their performance on real world datasets to predict income using gender and/or race discrimination as sensitive variables, and contraceptive method prediction under demographic and socio-economic sensitive descriptors.']",
          "Patriarchal behavior, such as other social habits, has been transferred online, appearing as misogynistic and sexist comments, posts or tweets. This online hate speech against women has serious consequences in real life, and recently, various legal cases have arisen against social platforms that scarcely block the spread of hate messages towards individuals. In this difficult context, this paper presents an approach that is able to detect the two sides of patriarchal behavior, misogyny and sexism, analyzing three collections of English tweets, and obtaining promising results.",
          "['The number of social media users is ever-increasing. Unfortunately, this has also resulted in the massive rise of uncensored online hate against vulnerable communities such as immigrants, LGBT and women. Current work on the automatic detection of various forms of hate speech (HS) typically employs supervised learning, requiring manually annotated data. The highly polarizing nature of the topics involved raises concerns about the quality of annotations these systems rely on, because not all the annotators are equally sensitive to different kinds of hate speech. We propose an approach to leverage the fine-grained knowledge expressed by individual annotators, before their subjectivity is averaged out by the gold standard creation process. This helps us to refine the quality of training sets for hate speech detection. We introduce a measure of polarization at the level of single instances in the data to manipulate the training set and reduce the impact of most polarizing text on the learning process.', 'We test our approach on three datasets, in English and Italian, annotated by experts and workers hired on a crowdsourcing platform. We classify instances of sexist, racist, and homophobic hate speech in tweets and show how our approach improves the prediction performance of a supervised classifier. Moreover, the proposed polarization measure helps towards the manual exploration of the individual instances of tweets in our datasets.']",
          "Television shows play an important role in propagating societal norms. Owing to the popularity of the situational comedy (sitcom) genre, it contributes significantly to the overall development of society. In an effort to analyze the content of television shows belonging to this genre, we present a dataset of dialogue turns from popular sitcoms annotated for the presence of sexist remarks. We train a text classification model to detect sexism using domain adaptive learning. We apply the model to our dataset to analyze the evolution of sexist content over the years. We propose a domain-specific semi-supervised architecture for the aforementioned detection of sexism. Through extensive experiments, we show that our model often yields better classification performance over generic deep learning based sentence classification that does not employ domain-specific training. We find that while sexism decreases over time on average, the proportion of sexist dialogue for the most sexist sitcom actually increases.. A quantitative analysis along with a detailed error analysis presents the case for our proposed methodology.",
          "In recent years, it is evident the interest in the role of women within society and, in particular, the way we approach and refer to them. However, sexism as a form of discrimination towards women spread exponentially through the web and at a very high frequency, especially in the form of memes. Memes, which are typically composed of pictorial and textual components, can convey messages ranging from women stereotype, shaming, objectification to violence. In order to counterattack this phenomenon, in this paper we give a first insight in the field of automatic detection of sexist memes, by investigating both unimodal and multimodal approaches to understand the contribution of textual and visual cues.",
          "Social media networks have become a space where users are free to relate their opinions and sentiments which may lead to a large spreading of hatred or abusive messages which have to be moderated. This paper presents the first French corpus annotated for sexism detection composed of about 12,000 tweets. In a context of offensive content mediation on social media now regulated by European laws, we think that it is important to be able to detect automatically not only sexist content but also to identify if a message with a sexist content is really sexist (i.e. addressed to a woman or describing a woman or women in general) or is a story of sexism experienced by a woman. This point is the novelty of our annotation scheme. We also propose some preliminary results for sexism detection obtained with a deep learning approach. Our experiments show encouraging results.",
          "Misogyny is a form of hate against women and has been spreading exponentially through theWeb, especially in social media platforms. Hateful contents may be expressed through popular communication tools, like memes. A meme is an image characterised by a pictorial content with an overlaying text introduced a posteriori, and its main aim is originally to be funny and/or ironic. However, the use of memes to convey misogynous messages has increased and thus an automatic detection of these contents seems to be necessary to counteract this phenomenon. This task is particularly challenging, having that (1) different memes can present the same image, but different texts and vice versa, (2) two memes with the same image but different texts can convey a misogynous and not misogynous message, respectively, (3) misogyny can be expressed by image alone, text alone or their combination. In this paper both unimodal and multimodal approaches are investigated whose classifiers are trained and tested on a dataset of in the wild memes, which present both experts and perceived labels. The proposed multimodal approach provides better results compared to the unimodal ones and the VisualBERT state-of-the-art benchmark.",
          "Recent moves to consider misogyny as a hate crime have refocused efforts for owners of web properties to detect and remove misogynistic speech. This paper considers the use of deep learning techniques for detection of misogyny in Urban Dictionary, a crowdsourced online dictionary for slang words and phrases. We compare the performance of two deep learning techniques, Bi-LSTM and Bi-GRU, to detect misogynistic speech with the performance of more conventional machine learning techniques, logistic regression, Naive-Bayes classification, and Random Forest classification. We find that both deep learning techniques examined have greater accuracy in detecting misogyny in the Urban Dictionary than the other techniques examined.",
          "This paper presents a study of the (now suspended) online discussion forum Incels.me and its users, involuntary celibates or incels, a virtual community of isolated men without a sexual life, who see women as the cause of their problems and often use the forum for misogynistic hate speech and other forms of incitement. Involuntary celibates have attracted media attention and concern, after a killing spree in April 2018 in Toronto, Canada. The aim of this study is to shed light on the group dynamics of the incel community, by applying mixed-methods quantitative and qualitative approaches to analyze how the users of the forum create in-group identity and how they construct major out-groups, particularly women. We investigate the vernacular used by incels, apply automatic profiling techniques to determine who they are, discuss the hate speech posted in the forum, and propose a Deep Learning system that is able to detect instances of misogyny, homophobia, and racism, with approximately 95% accuracy.",
          "This paper introduces CoRoSeOf, a large corpus of Romanian social media manually annotated for sexist and offensive language. We describe the annotation process of the corpus, provide initial analyses, and baseline classification results for sexism detection on this data set. The resulting corpus contains 39 245 tweets, annotated by multiple annotators (with an agreement rate of Fleiss' kappa = is 0.45), following the sexist label set of a recent study. The automatic sexism detection yields scores similar to some of the earlier studies (macro averaged F1 score of 83.07% on binary classification task). We release the corpus with a permissive license.",
          "Creating effective mechanisms to detect misogyny online automatically represents significant scientific and technological challenges. The complexity of recognizing misogyny through computer models lies in the fact that it is a subtle type of violence, it is not always explicitly aggressive, and it can even hide behind seemingly flattering words, jokes, parodies, and other expressions. Currently, it is even difficult to have an exact figure for the rate of misogynistic comments online because, unlike other types of violence, such as physical violence, these events are not registered by any statistical systems. This research contributes to the development of models for the automatic detection of misogynistic texts in Latin American Spanish and contributes to the design of data augmentation methodologies since the amount of data required for deep learning models is considerable.",
          "Memes are the combinations of text and images that are often humorous in nature. But, that may not always be the case, and certain combinations of texts and images may depict hate, referred to as hateful memes. This work presents a multimodal pipeline that takes both visual and textual features from memes into account to (1) identify the protected category (e.g. race, sex etc.) that has been attacked; and (2) detect the type of attack (e.g. contempt, slurs etc.). Our pipeline uses state-ofthe-art pre-trained visual and textual representations, followed by a simple logistic regression classifier. We employ our pipeline on the Hateful Memes Challenge dataset with additional newly created fine-grained labels for protected category and type of attack. Our best model achieves an AUROC of 0.96 for identifying the protected category, and 0.97 for detecting the type of attack.",
          "During the last decade, hateful and sexist content towards women is being increasingly spread on social networks. The exposure to sexist speech has serious consequences to women's life and limits their freedom of speech. Previous studies have focused on identifying hatred or violence towards women. However, sexism is expressed in very different forms: it includes subtle stereotypes and attitudes that, although frequently unnoticed, are extremely harmful for both women and society. In this work, we propose a new task that aims to understand and analyze how sexism, from explicit hate or violence to subtle expressions, is expressed in online conversations. To this end, we have developed and released the first dataset of sexist expressions and attitudes in Twitter in Spanish (MeTwo) and investigate the feasibility of using machine learning techniques (both traditional and novel deep learning models) for automatically detecting different types of sexist behaviours. Our results show that sexism is frequently found in many forms in social networks, that it includes a wide range of behaviours, and that it is possible to detect them using deep learning approaches. We discuss the performance of automatic classification methods to deal with different types of sexism and the generalizability of our task to other subdomains, such as misogyny.",
          "This work aims to identify judgement evaluative processes in a corpus composed by 545 Twitter posts that contain the hashtag #MulheresNoFutebol. In order to perform this analysis, we rely on the theoretical framework of Systemic-Functional Linguistics, focusing on the Appraisal Theory (MARTIN; WHITE, 2005) as well as Transitivity (HALLIDAY; MATHIESSEN, 2014), and also considering the functioning of the social network site (boyd; ELLISON, 2007) in question. Our results show that a large proportion of the judgements, supported by verbal and mental processes, question women's knowledge about rules and other elements related to soccer, reflecting a language representation system that explains the sexist structure present in this sport.",
          "Misogyny is a multifaceted phenomenon and can be linguistically manifested in numerous ways. The evaluation campaigns of EVALITA and IberEval in 2018 proposed a shared task of Automatic Misogyny Identification (AMI) based on Italian, English and Spanish tweets. Since the participating teams' results were pretty low in the misogynistic behaviour categorization, the aim of this study is to investigate the possible causes. We measured the overlap and the homogeneity of the clusters by varying the number of categories. This experiment showed that the clusters overlap. Finally, we tested several machine learning models both using the original data sets and merging together some categories according to their overlap, obtaining an increase in terms of macro F1.",
          "In this paper, we investigate the ability of CNN, CNN-LSTM, and BiLSTM-CNN deep learning networks to automatically classify or discover hateful content posted on social media. These deep networks were trained and tested using ArHS dataset which consists of 9833 tweets that were annotated to suite hateful speech detection in Arabic. To the best of our knowledge, this is the largest Arabic dataset which handles the subclasses of hate speech. Moreover, we investigate the performance on two existing Arabic hate speech datasets along with ArHS dataset resulting in a combined dataset which consists of 23,678 tweets. Three types of experiment are reported: first, the binary classification of tweets into Hate or Normal, second, ternary classification of tweets into (Hate, Abusive, or Normal), and lastly, multi-class classification of tweets into (Misogyny, Racism, Religious Discrimination, Abusive, and Normal). Using the ArHS dataset, in the binary classification task, the CNN model outperformed other models and achieved an accuracy of 81%. In the ternary classification task, both the CNN and BiLSTM-CNN models achieved the best accuracy of 74%. Lastly, in the multi-class classification task, CNN-LSTM and the BiLSTM-CNN models both achieved the best results with an accuracy of 73%. On the Combined dataset, in the binary classification task, the BiLSTM-CNN achieved an accuracy of 73%. In the ternary classification task, BiLSTM-CNN achieved the best accuracy of 67%. Lastly, in the multi-class classification task, the CNN-LSTM and the BiLSTM-CNN achieved the best accuracy of 65%.",
          "In a context of offensive content mediation on social media now regulated by European laws, it is important not only to be able to automatically detect sexist content but also to identify if a message with a sexist content is really sexist or is a story of sexism experienced by a woman. We propose: (1) a new characterization of sexist content inspired by speech acts theory and discourse analysis studies, (2) the first French dataset annotated for sexism detection, and (3) a set of deep learning experiments trained on top of a combination of several tweet's vectorial representations (word embeddings, linguistic features, and various generalization strategies). Our results are encouraging and constitute a first step towards offensive content moderation.",
          "Online social networks allow powerless people to gain enormous amounts of control over particular people's lives and profit from the anonymity or social distance that the Internet provides in order to harass other people. One of the most frequently targeted groups comprise women, as misogyny is, unfortunately, a reality in our society. However, although great efforts have recently been made to identify misogyny, it is still difficult to distinguish as it can sometimes be very subtle and deep, signifying that the use of statistical approaches is not sufficient. Moreover, as Spanish is spoken worldwide, context and cultural differences can complicate this identification. Our contribution to the detection of misogyny in Spanish is two-fold. On the one hand, we apply Sentiment Analysis and Social Computing technologies for detecting misogynous messages in Twitter. On the other, we have compiled the Spanish MisoCorpus-2020, a balanced corpus regarding misogyny in Spanish, and classified it into three subsets concerning (1) violence towards relevant women, (2) messages harassing women in Spanish from Spain and Spanish from Latin America, and (3) general traits related to misogyny. Our proposal combines a classification based on average word embeddings and linguistic features in order to understand which linguistic phenomena principally contribute to the identification of misogyny. We have evaluated our proposal with three machine-learning classifiers, achieving the best accuracy of 85.175%. Finally the proposed approach is also validated with existing corpora for misogyny and aggressiveness detection such as AMI and HatEval obtaining good results (C) 2020 Elsevier B.V. All rights reserved.",
          "In September 2012, the Japanese celebrity and porn star Sora Aoi posted two messages on her Sina Weibo account expressing friendship between Japanese and Chinese citizens. The messages elicited more than 200,000 comments, ranging from virulently anti-Japanese to supportive. These comments are a unique corpus that captures how netizens engage in what Chinese scholars term online verbal violence. Using mixed methods to examine this corpus, this article identifies misogynistic and nationalist slurs and examines how these slurs are used, particularly when they interact with each other. These words not only express strong emotion or engage fellow commenters, but they also reference historical events and emphatically convey one's national identity.",
          "The important growth of social media and online gaming sites in recent years have increased the challenge of online moderation to keep the internet safe and without toxic content. Today, machine learning techniques play an important role in detecting inappropriate content and help moderate online interaction. Text classification using Natural Language Processing (NLP) methods has been extensively studied using deep learning models and transformers which have shown impressive results. Despite this, specific classification tasks on limited datasets still need to be improved. In this paper, we propose an approach based on an Attention-Based Bidirectional LSTM model and a combination of custom features to enhance automatic misogyny identification (AMI) on social media. We present a multi-lingual study of the phenomena by carrying out different classification experiments. Our study focuses on selecting most important features to improve the model for misogyny detection. The proposed model outperforms many state-of-the-art approaches across multiple datasets.",
          "As large Pre-trained Language Models (PLMs) trained on large amounts of data in an unsupervised manner become more ubiquitous, identifying various types of bias in the text has come into sharp focus. Existing 'Stereotype Detection' datasets mainly adopt a diagnostic approach toward large PLMs. Blodgett et al. (2021a) show that there are significant reliability issues with the existing benchmark datasets. Annotating a reliable dataset requires a precise understanding of the subtle nuances of how stereotypes manifest in text. In this paper, we annotate a focused evaluation set for 'Stereotype Detection' that addresses those pitfalls by de-constructing various ways in which stereotypes manifest in text. Further, we present a multi-task model that leverages the abundance of data-rich neighboring tasks such as hate speech detection, offensive language detection, misogyny detection, etc., to improve the empirical performance on 'Stereotype Detection'. We then propose a reinforcement-learning agent that guides the multi-task learning model by learning to identify the training examples from the neighboring tasks that help the target task the most. We show that the proposed models achieve significant empirical gains over existing baselines on all the tasks.",
          "Online misogyny, a category of online abusive language, has serious and harmful social consequences. Automatic detection of misogynistic language online, while imperative, poses complicated challenges to both data gathering, data annotation, and bias mitigation, as this type of data is linguistically complex and diverse. This paper makes three contributions in this area: Firstly, we describe the detailed design of our iterative annotation process and codebook. Secondly, we present a comprehensive taxonomy of labels for annotating misogyny in natural written language, and finally, we introduce a high-quality dataset of annotated posts sampled from social media posts.",
          "Hate speech may take different forms in online social media. Most of the investigations in the literature are focused on detecting abusive language in discussions about ethnicity, religion, gender identity and sexual orientation. In this paper, we address the problem of automatic detection and categorization of misogynous language in online social media. The main contribution of this paper is two-fold: (1) a corpus of misogynous tweets, labelled from different perspective and (2) an exploratory investigations on NLP features and ML models for detecting and classifying misogynistic language.",
          "The paper describes the organization, goals, and results of the sEXism Identification in Social neTworks (EXIST) challenge, a shared task proposed for the first time at IberLEF 2021. EXIST 2021 proposes two challenges: sexism identification and sexism categorization of tweets and gabs, both in Spanish and English. We have received a total of 70 runs for the sexism identification task and 61 for the sexism categorization challenge, submitted by 31 different teams from 11 countries. We present the dataset, the evaluation methodology, an overview of the proposed systems, and the results obtained. The final dataset consists of more than 11,000 annotated texts from two social networks (Twitter and Gab) and its development has been supervised and monitored by experts in gender issues.",
          "Sexism, an injustice that subjects women and girls to enormous suffering, manifests in blatant as well as subtle ways. In the wake of growing documentation of experiences of sexism on the web, the automatic categorization of accounts of sexism has the potential to assist social scientists and policy makers in utilizing such data to study and counter sexism better. The existing work on sexism classification, which is different from sexism detection, has certain limitations in terms of the categories of sexism used and/or whether they can co-occur. To the best of our knowledge, this is the first work on the multi-label classification of sexism of any kind(s), and we contribute the largest dataset for sexism categorization. We develop a neural solution for this multi-label classification that can combine sentence representations obtained using models such as BERT with distributional and linguistic word embeddings using a flexible, hierarchical architecture involving recurrent components and optional convolutional ones. Further, we leverage unlabeled accounts of sexism to infuse domain-specific elements into our framework. The best proposed method outperforms several deep learning as well as traditional machine learning baselines by an appreciable margin.",
          "The freedom of expression given by social media has a dark side: the growing proliferation of abusive contents on these platforms. Misogynistic speech is a kind of abusive language, which can be simplified as hate speech targeting women, and it is becoming a more and more relevant issue in recent years. AMI IberEval 2018 and AMI EVALITA 2018 were two shared tasks which mainly focused on tackling the problem of misogyny in Twitter, in three different languages, namely English, Italian, and Spanish. In this paper, we present an in-depth study on the phenomena of misogyny in those three languages, by focusing on three main objectives. Firstly, we investigate the most important features to detect misogyny and the issues which contribute to the difficulty of misogyny detection, by proposing a novel system and conducting a broad evaluation on this task. Secondly, we study the relationship between misogyny and other abusive language phenomena, by conducting a series of cross-domain classification experiments. Finally, we explore the feasibility of detecting misogyny in a multilingual environment, by carrying out cross-lingual classification experiments. Our system succeeded to outperform all state of the art systems in all benchmark AMI datasets both subtask A and subtask B. Moreover, intriguing insights emerged from error analysis, in particular about the interaction between different but related abusive phenomena. Based on our cross-domain experiment, we conclude that misogyny is quite a specific kind of abusive language, while we experimentally found that it is different from sexism. Lastly, our cross-lingual experiments show promising results. Our proposed joint-learning architecture obtained a robust performance across languages, worth to be explored in further investigation.",
          "Sexism, a permeate form of oppression, causes profound suffering through various manifestations. Given the increasing number of experiences of sexism shared online, categorizing these recollections automatically can support the battle against sexism, since it can promote successful evaluations by gender studies researchers and government representatives engaged in policy making. In this paper, we examine the fine-grained, multi-label classification of accounts (reports) of sexism. To the best of our knowledge, we consider substantially more categories of sexism than any related prior work through our 23-class problem formulation. Moreover, we present the first semi-supervised work for the multi-label classification of accounts describing any type(s) of sexism. We devise self-training-based techniques tailor-made for the multi-label nature of the problem to utilize unlabeled samples for augmenting the labeled set. We identify high textual diversity with respect to the existing labeled set as a desirable quality for candidate unlabeled instances and develop methods for incorporating it into our approach. We also explore ways of infusing class imbalance alleviation for multi-label classification into our semi-supervised learning, independently and in conjunction with the method involving diversity. In addition to data augmentation methods, we develop a neural model which combines biLSTM and attention with a domain-adapted BERT model in an end-to-end trainable manner. Further, we formulate a multi-level training approach in which models are sequentially trained using categories of sexism of different levels of granularity. Moreover, we devise a loss function that exploits any label confidence scores associated with the data. Several proposed methods outperform various baselines on a recently released dataset for multi-label sexism categorization across several standard metrics.",
          "In this paper we present a benchmark dataset generated as part of a project for automatic identification of misogyny within online content, which focuses in particular on memes. The benchmark here described is composed of 800 memes collected from the most popular social media platforms, such as Facebook, Twitter, Instagram and Reddit, and consulting websites dedicated to collection and creation of memes. To gather misogynistic memes, specific keywords that refer to misogynistic content have been considered as search crite-rion, considering different manifestations of hatred against women, such as body shaming, stereotyping, objectification and violence. In parallel, memes with no misogynist con-tent have been manually downloaded from the same web sources. Among all the collected memes, three domain ex-perts have selected a dataset of 800 memes equally bal-anced between misogynistic and non-misogynistic ones. This dataset has been validated through a crowdsourcing plat-form, involving 60 subjects for the labelling process, in or-der to collect three evaluations for each instance. Two fur-ther binary labels have been collected from both the ex-perts and the crowdsourcing platform, for memes evaluated as misogynistic, concerning aggressiveness and irony. Finally for each meme, the text has been manually transcribed. The dataset provided is thus composed of the 800 memes, the labels given by the experts and those obtained by the crowd -sourcing validation, and the transcribed texts. This data can be used to approach the problem of automatic detection of misogynistic content on the Web relying on both textual and visual cues, facing phenomenons that are growing every day such as cybersexism and technology-facilitated violence. (c) 2022 Published by Elsevier Inc. This is an open access article under the CC BY license ( http://creativecommons.org/licenses/by/4.0/ )",
          "The paper describes the organization, goals, and results of the sEXism Identification in Social neTworks (EXIST)2022 challenge, a shared task proposed for the second year at IberLEF. EXIST 2022 consists of two challenges: sexism identification and sexism categorization of tweets and gabs, both in Spanish and English. We have received a total of 45 runs for the sexism identification task and 29 runs for the sexism categorization task, submitted by 19 different teams. In this paper, we present the dataset, the evaluation methodology, an overview of the proposed systems, and the results obtained. The final dataset consists of more than 12,000 annotated texts from two social networks (Twitter and Gab) labelled following two different procedures: external contributors and trained experts.",
          "We target the complementary binary tasks of identifying whether a tweet is misogynous and, if that is the case, whether it is also aggressive. We compare two ways to address these problems: one multi-class model that discriminates between all the classes at once: not misogynous, non aggressive-misogynous and aggressive-misogynous; as well as a cascaded approach where the binary classification is carried out separately (misogynous vs non-misogynous and aggressive vs non-aggressive) and then joined together. For the latter, two training and three testing scenarios are considered. Our models are built on top of AlBERTo and are evaluated on the framework of Evalita's 2020 shared task on automatic misogyny and aggressiveness identification in Italian tweets. Our cascaded models -including the strong naive baseline- outperform significantly the top submissions to Evalita, reaching state-of-the-art performance without relying on any external information.",
          "During the last years, the phenomenon of hate against women increased exponentially especially in online environments such as microblogs. Although this alarming phenomenon has triggered many studies both from computational linguistic and machine learning points of view, less effort has been spent to analyze if those misogyny detection models are affected by an unintended bias. This can lead the models to associate unreasonably high misogynous scores to a non-misogynous text only because it contains certain terms, called identity terms. This work is the first attempt to address the problem of measuring and mitigating unintended bias in machine learning models trained for the misogyny detection task. We propose a novel synthetic test set that can be used as evaluation framework for measuring the unintended bias and different mitigation strategies specific for this task. Moreover, we provide a misogyny detection model that demonstrate to obtain the best classification performance in the state-of-the-art. Experimental results on recently introduced bias metrics confirm the ability of the bias mitigation treatment to reduce the unintended bias of the proposed misogyny detection model.",
          "The use of misogynistic and sexist language has increased in recent years in social media, and is increasing in the Arabic world in reaction to reforms attempting to remove restrictions on women lives. However, there are few benchmarks for Arabic misogyny and sexism detection, and in those the annotations are in aggregated form even though misogyny and sexism judgments are found to be highly subjective. In this paper we introduce an Arabic misogyny and sexism dataset (ArMIS) characterized by providing annotations from annotators with different degree of religious beliefs, and provide evidence that such differences do result in disagreements. To the best of our knowledge, this is the first dataset to study in detail the effect of beliefs on misogyny and sexism annotation. We also discuss proof-of-concept experiments showing that a dataset in which disagreements have not been reconciled can be used to train state-of-the-art models for misogyny and sexism detection; and consider different ways in which such models could be evaluated.",
          "Nowadays, online learning is preferable as it allows learners to learn anytime and anywhere, especially in pandemic crisis. However, this type of learning suffers from high dropout and low completion rates. Identifying at-risk students can improve students' success and institutes effectiveness. Therefore, this paper proposes an at-risk predictive model by exploiting students behavioral and assessment data using data from a large distance-based university, Open University in UK. Unlike the tradition way of training and testing a model using one course, the proposed model is trained based on three historical course data and tested on the last offering. The prediction models show high performance values like 0.91 in accuracy. At same time, the paper examines if including protected feature like gender make prediction models discriminates against underrepresented student groups and aggravate present inequalities. To achieve this, different fairness metrics are used to compare models predictions with and without demographic characteristics. We find including of demographic characteristics does affect prediction performance of the models. In terms of fairness, there is no bias towards male and female students' groups, but models can not be called fair for other features as there is bias in at least one metric towards other attributes.",
          "Computational models of hate speech detection and related tasks (e.g., detecting misogyny, racism, xenophobia, homophobia etc.) have emerged as major Natural Language Processing (NLP) research topics in recent years. In the present work, we investigate a range of alternative implementations of three of these tasks - namely, hate speech, aggressive behavior and target group recognition - by presenting a number of experiments involving different learning methods, including regularized logistic regression, convolutional neural networks (CNN) and deep bidirectional transformers (BERT), and using word embeddings, word n-grams, character n-grams and psycholinguistics-motivated (LIWC) features alike. Results suggest that a purely data-driven BERT model, and to some extent also a hybrid psycholinguisticly informed CNN model, generally outperform the alternatives under consideration for all tasks in both English and Spanish languages.",
          "Supervised machine learning methods depend highly on the quality of the training dataset and the underlying model. In particular, neural network models, that have shown great success in dealing with natural language problems, require a large dataset to learn a vast number of parameters. However, it is not always easy to build a large (labelled) dataset. For example, due to the complex nature of tweets and the manual labour involved, it is hard to create a large Twitter data set with the misogynistic label. In this paper, we propose to regularise a long short-term memory (LSTM) classifier using a pretrained LSTM-based language model (LM) to build an accurate classification model with a small training set. We explain transfer learning (TL) with a Bayesian interpretation and show that TL can be viewed as an uncertainty regularisation technique in Bayesian inference. We show that a LM pre-trained on a sequence of general to task-specific domain datasets can be used to regularise a LSTM classifier effectively when a small training dataset is available. Empirical analysis with two small Twitter datasets reveals that an LSTM model trained in this way can outperform the state-of-the-art classification models.",
          "How online social behavior covaries with real-world outcomes remains poorly understood. We examined the relationship between the frequency of misogynistic attitudes expressed on Twitter and incidents of domestic and family violence that were reported to the Federal Bureau of Investigation. We tracked misogynistic tweets in more than 400 areas across 47 American states from 2013 to 2014. Correlation and regression analyses found that misogynistic tweets were related to domestic- and family-violence incidents in those areas. A cross-lagged model showed that misogynistic tweets positively predicted domestic and family violence 1 year later; however, this effect was small. Results were robust to several known predictors of domestic violence. Our findings identify geolocated online misogyny as co-occurring with domestic and family violence. Because the longitudinal relationship between misogynistic tweets and domestic and family violence was small and conducted at the societal level, more research with multilevel data might be useful in the prediction of future violence.",
          "Current abusive language detection systems have demonstrated unintended bias towards sensitive features such as nationality or gender. This is a crucial issue, which may harm minorities and underrepresented groups if such systems were integrated in real-world applications. In this paper, we create ad hoc tests through the CheckList tool (Ribeiro et al., 2020) to detect biases within abusive language classifiers for English. We compare the behaviour of two BERT-based models, one trained on a generic abusive language dataset and the other on a dataset for misogyny detection. Our evaluation shows that, although BERT-based classifiers achieve high accuracy levels on a variety of natural language processing tasks, they perform very poorly as regards fairness and bias, in particular on samples involving implicit stereotypes, expressions of hate towards minorities and protected attributes such as race or sexual orientation. We release both the notebooks implemented to extend the Fairness tests and the synthetic datasets usable to evaluate systems bias independently of CheckList.",
          "This article presents a survey of automated misogyny identification techniques in social media, especially in Twitter. This problem is urgent because of the high speed at which messages on social platforms grow and the widespread use of offensive language (including misogynistic language) in them. In this article we survey approaches proposed in the literature to solve the problem of misogynistic message recognition. These include classical machine learning models like Support Vector Machines, Naive Bayes, Logistic Regression and ensembles of different classical machine learning models, as well as deep neural networks such as Long Short-term memory and Convolutional Neural Networks. We consider results of experiments with these models in different languages: English, Spanish and Italian tweets. The survey describes some features, which help to identify misogynistic tweets and some challenges, which aim was to create misogyny language classifiers. The survey includes not only models, which help to identify misogyny language, but also systems which help to recognize a target of an offense (an individual or a group of persons).",
          "['Warning: This paper contains examples of language that some people may find offensive.', 'Transformer-based Natural Language Processing models have become the standard for hate speech detection. However, the unconscious use of these techniques for such a critical task comes with negative consequences. Various works have demonstrated that hate speech classifiers are biased. These findings have prompted efforts to explain classifiers, mainly using attribution methods. In this paper, we provide the first benchmark study of interpretability approaches for hate speech detection. We cover four post-hoc token attribution approaches to explain the predictions of Transformer-based misogyny classifiers in English and Italian. Further, we compare generated attributions to attention analysis. We find that only two algorithms provide faithful explanations aligned with human expectations. Gradient-based methods and attention, however, show inconsistent outputs, making their value for explanations questionable for hate speech detection tasks.']",
          "Today, misogyny and xenophobia are some of the most important social problems. With the increase in the use of social media, this feeling of hatred toward women and immigrants can be more easily expressed, and therefore it can have harmful effects on social media users. For this reason, it is important to develop systems capable of detecting hateful comments automatically. In this article, we analyze the hate speech in Spanish tweets against women and immigrants conducting classification experiments using different approaches. Moreover, we create appropriate language resources for hate speech detection in Spanish.",
          "Language can be a tool to marginalize certain groups due to the fact that it may reflect a negative mentality caused by mental barriers or historical delays. In order to prevent misuse of language, several agents have carried out campaigns against discriminatory language, criticizing the use of some terms and phrases. However, there is an important gap in detecting discriminatory text in documents because language is very flexible and, usually, contains hidden features or relations. Furthermore, the adaptation of approaches and methodologies proposed in the literature for text analysis is complex due to the fact that these proposals are too rigid to be adapted to different purposes for which they were intended. The main novelty of the methodology is the use of ontologies to implement the rules that are used by the developed text analyzer, providing a great flexibility for the development of text analyzers and exploiting the ability to infer knowledge of the ontologies. A set of rules for detecting discriminatory language relevant to gender and people with disabilities is also presented in order to show how to extend the functionality of the text analyzer to different discriminatory text areas.",
          "\"Misogynoir\" is a term that refers to the anti-Black forms of misogyny that Black women experience. To explore how current automated hate speech detection approaches perform in detecting this type of hate, we evaluated the performance of two state-of-the-art detection tools, HateSonar and Google's Perspective API, on a balanced dataset of 300 tweets, half of which are examples of misogynoir and half of which are examples of supporting Black women and an imbalanced dataset of 3138 tweets of which 162 tweets are examples of misogynoir and 2976 tweets are examples of allyship tweets. We aim to determine if these tools flag these messages under any of their classifications of hateful speech (e.g. \"hate speech\", \"offensive language\", \"toxicity\" etc.). Close analysis of the classifications and errors shows that current hate speech detection tools are ineffective in detecting misogynoir. They lack sensitivity to context, which is an essential component for misogynoir detection. We found that tweets likely to be classified as hate speech explicitly reference racism or sexism or use profane or aggressive words. Subtle tweets without references to these topics are more challenging to classify. We find that the lack of sensitivity to context may make such tools not only ineffective but potentially harmful to Black women.",
          "Sexism, an injustice that subjects women and girls to enormous suffering, manifests in blatant as well as subtle ways. In the wake of growing documentation of experiences of sexism on the web, the automatic categorization of accounts of sexism has the potential to assist social scientists and policymakers in studying and thereby countering sexism. The existing work on sexism classification has certain limitations in terms of the categories of sexism used and/or whether they can co-occur. To the best of our knowledge, this is the first work on the multi-label classification of sexism of any kind(s).(1) We also consider the related task of misogyny classification. While sexism classification is performed on textual accounts describing sexism suffered or observed, misogyny classification is carried out on tweets perpetrating misogyny. We devise a novel neural framework for classifying sexism and misogyny that can combine text representations obtained using models such as Bidirectional Encoder Representations from Transformers with distributional and linguistic word embeddings using a flexible architecture involving recurrent components and optional convolutional ones. Further, we leverage unlabeled accounts of sexism to infuse domain-specific elements into our framework. To evaluate the versatility of our neural approach for tasks pertaining to sexism and misogyny, we experiment with adapting it for misogyny identification. For categorizing sexism, we investigate multiple loss functions and problem transformation techniques to address the multi-label problem formulation. We develop an ensemble approach using a proposed multi-label classification model with potentially overlapping subsets of the category set. Proposed methods outperform several deep-learning as well as traditional machine learning baselines for all three tasks.",
          "Online misogyny is a pernicious social problem that risks making online platforms toxic and unwelcoming to women. We present a new hierarchical taxonomy for online misogyny, as well as an expert labelled dataset to enable automatic classification of misogynistic content. The dataset consists of 6,567 labels for Reddit posts and comments. As previous research has found untrained crowdsourced annotators struggle with identifying misogyny, we hired and trained annotators and provided them with robust annotation guidelines. We report baseline classification performance on the binary classification task, achieving accuracy of 0.93 and F1 of 0.43. The codebook and datasets are made freely available for future researchers.",
          "This paper provides an overview of the first shared task on misogyny identification in Arabic tweets. Arabic Misogyny Identification task (ArMI) is introduced within the Hate Speech and Offensive Content detection (HASOC) track at FIRE-2021. The ArMI task combines two related classification subtasks: a main binary classification subtask for detecting the presence of misogynistic language, and a fine-grained multi-class classification subtask for identifying seven misogynistic behaviors found in misogynistic contents of 9,833 Arabic/dialectal tweets1. The systems introduced by the participants employed various methods including feature-based, neural networks using either classical machine learning techniques, ensemble methods or transformers. The best performing system achieved an F-measure of 91.4% and 66.5% for subtask A and subtask B, respectively.",
          null
         ],
         "marker": {
          "opacity": 0.5,
          "size": 5
         },
         "mode": "markers+text",
         "name": "0_embeddings_misogyny_corpus",
         "text": [
          "",
          "",
          "",
          "",
          "",
          "",
          "",
          "",
          "",
          "",
          "",
          "",
          "",
          "",
          "",
          "",
          "",
          "",
          "",
          "",
          "",
          "",
          "",
          "",
          "",
          "",
          "",
          "",
          "",
          "",
          "",
          "",
          "",
          "",
          "",
          "",
          "",
          "",
          "",
          "",
          "",
          "",
          "",
          "",
          "",
          "",
          "",
          "",
          "",
          "",
          "",
          "",
          "",
          "",
          "",
          "",
          "",
          "0_embeddings_misogyny_corpus"
         ],
         "textfont": {
          "size": 12
         },
         "type": "scattergl",
         "x": [
          6.414003372192383,
          6.609470844268799,
          6.160322666168213,
          7.097911834716797,
          5.926252365112305,
          7.0717082023620605,
          6.163625240325928,
          6.305899143218994,
          6.540794372558594,
          5.914133071899414,
          6.233642101287842,
          6.823395729064941,
          6.115925312042236,
          7.014145851135254,
          6.989071846008301,
          5.86501932144165,
          6.687705039978027,
          6.215660572052002,
          6.692060947418213,
          6.378933429718018,
          6.793028354644775,
          6.557095527648926,
          6.552969932556152,
          6.725889682769775,
          6.241888999938965,
          6.917198181152344,
          6.532832622528076,
          6.441891670227051,
          6.123570442199707,
          6.770784854888916,
          6.839892387390137,
          6.124107837677002,
          6.372583866119385,
          6.7354302406311035,
          7.007882118225098,
          6.3605570793151855,
          5.903797626495361,
          6.497514724731445,
          5.8999857902526855,
          6.742260456085205,
          6.292625904083252,
          6.514102458953857,
          6.598259449005127,
          6.673630714416504,
          6.056888580322266,
          6.890409469604492,
          6.159469127655029,
          7.100216865539551,
          6.592257976531982,
          6.45975923538208,
          6.7639336585998535,
          7.020020008087158,
          7.053220748901367,
          7.011212348937988,
          5.892556190490723,
          6.752745151519775,
          6.570512771606445,
          6.522151947021484
         ],
         "y": [
          -0.2618502378463745,
          0.20157884061336517,
          -0.20411460101604462,
          -0.12982743978500366,
          0.20919431746006012,
          -0.23265057802200317,
          -0.09457798302173615,
          -0.05862266570329666,
          -0.3283331096172333,
          0.0841422751545906,
          -0.08946720510721207,
          -0.27091217041015625,
          0.5488126277923584,
          -0.41031405329704285,
          -0.032697901129722595,
          0.15307268500328064,
          -0.6667891144752502,
          -0.21627114713191986,
          -0.67445307970047,
          -0.3630368709564209,
          -0.12749892473220825,
          -0.23201996088027954,
          -0.4154195785522461,
          -0.5970668196678162,
          -0.21344472467899323,
          -0.1731325089931488,
          -0.20227012038230896,
          -0.042124226689338684,
          -0.15962351858615875,
          -0.35141825675964355,
          -0.4393782317638397,
          -0.05697990208864212,
          0.03739985078573227,
          -0.37500473856925964,
          -0.26149606704711914,
          -0.30868858098983765,
          0.12327271699905396,
          -0.26423919200897217,
          0.20775574445724487,
          -0.5734103322029114,
          -0.24005593359470367,
          -0.21257734298706055,
          0.13183237612247467,
          -0.31425145268440247,
          0.5809363722801208,
          0.05822359398007393,
          -0.03454475477337837,
          -0.4920499920845032,
          0.3056519031524658,
          -0.39080703258514404,
          0.1723998785018921,
          -0.09167847782373428,
          -0.16760557889938354,
          -0.14284688234329224,
          0.12641575932502747,
          -0.3363572359085083,
          -0.3155803382396698,
          -0.15131227672100067
         ]
        },
        {
         "hoverinfo": "text",
         "hovertext": [
          "Jokes have been recognized as ways in which negative attitudes and prejudice can be communicated and enacted in hidden ways (e. g., Allport 1954; Freud 2004 [1905]). In this paper, we review the existing literature on the functions and effects of sexist humor, using Martineau's (1972) model on the social functions of humor as well as Tajfel and Turner's (2004 [1986]) Social Identity Theory (SIT) and Turner et al.'s (1987) Self Categorization Theory. Within these frameworks, we particularly focus on sex as an intergroup context and on the way sexist humor functions to a) enhance male in-group cohesion (sexist humor as a predictor) b) serves as a form of sexual harassment (sexist humor as an outcome) and c) amplifies self-reported rape proclivity and victim blame (sexist humor as a moderator). The paper concludes by highlighting gaps in the existing literature and providing directions for future research.",
          "Ambivalent sexism has many pernicious consequences. Since gender stereotypes also affect leadership roles, the present research investigated the effects of ambivalent sexism on envisioning oneself as a leader. Our studies tested the influence of sexist attitudes (toward women Study 1 - and men - Study 2) on leadership aspiration, taking into account the interaction among ambivalent attitudes, personal characteristics (e.g. self-esteem), and group processes (e.g. level of identification with gender). Specifically, the current study used a 3 (sexism: hostile, benevolent, control) x 2 (social identification: high, low) x 2 (self-esteem: high, low) factorial design. 178 women participated in Study 1. Results showed that, although sexism was not recognised as a form of prejudice and did not trigger negative emotions, in sexist conditions high-identified women increase their leadership aspiration. In Study 2 men (N = 184) showed to recognise hostility as a form of prejudice, to experience more negative emotions, but to be not influenced in leadership aspiration. For both men and women self-esteem had a significant main effect on leadership aspiration.",
          "Although hostile expressions of masculinity have robust negative impacts in multiple domains among civilian populations, in the military, masculinity is a rarer target of inquiry and remains a polarizing subject. This article examines hostile and hypermasculine attitudes that prior work suggests may be associated with negative consequences for the social environment and men themselves in a U.S. military educational environment (N = 1,560 freshmen and 499 graduating senior men). Multivariate moderated multiple regressions (MMMR) linked military hypermasculinity facets (Machiavellian desire for status and control; conformity to masculine norms including emotional control, violence tolerance, needing to win, and impersonal sex preference; hostile and benevolent sexism) to performance outcomes including academics, leadership, and fitness; perceptions of peers, leadership, and antibias programming; and behavior. Desire for status, impersonal sex preference, violence tolerance, and benevolent sexism predicted negative performance outcomes. Violence tolerance, emotional control, and hostile sexism were associated with poorer perception of character education and/or anti-bias programming. Needing to win and control were associated with positive performance outcomes. Healthy messaging surrounding emotions, sex, and perception of women may help assuage toxic expressions of masculinity in the military. Contextualized demonstration of the counterproductive aspects of military hypermasculinity might sidestep opposition to altering hegemonic norms.",
          "Sexual objectification is a significant problem that permeates all areas of women's lives including the workplace. This research examines the impact of sexual objectification on women in work settings by integrating objectification, sexual harassment, and affective forecasting theories. We used a laboratory analogue that included undergraduate women who actually experienced objectification during a work interview (i.e., experiencers) and third-party predictors (including female and male undergraduates as well as female and male community workers) who anticipated the effects of objectification (i.e., predictors). We measured actual and anticipated emotions, performance, and sexual harassment following objectification. We found that both mild and severe objectification caused weaker positive affect, stronger negative affect, worse work performance, and higher sexual harassment judgments, but these effects were primarily driven by predictors anticipating worse outcomes following objectification compared to what experiencers actually reported. We also found that experiencers' responses to objectification were moderated by benevolent sexism with women lower in benevolent sexism responding more similarly to predictors relative to women higher in benevolent sexism. Both experiencers and predictors evaluated interviewers who engaged in objectification equally negatively. Finally, we explored differences between predictors who were female and male undergraduate students versus community workers and found that these parties anticipated different consequences, depending on worker status and gender. Implications for sexual objectification, sexual harassment, and affective forecasting theories as well as practical implications for policy and law are discussed.",
          "This research examined bias and accuracy in judging hostile and benevolent sexism during mixed-gender interactions. Bias is defined as underestimation or overestimation of a partner's sexism. Accuracy is defined as covariation in two different ways, as (a) the strength of the association between a dyad member's judgment and their partner's sexism, across dyads, and (b) the ability to differentiate sexism between multiple targets. In Studies 1 and 2, members of mixed-gender dyads rated their own and their partners' benevolent and hostile sexism. Overall, there was no covariation, across dyads, between perceptions and the partner's self-reported sexism. However, women overestimated men's hostile sexism; there was no evidence of biases for women judging men's benevolent sexism. Men underestimated women's hostile sexism and overestimated benevolent sexism. In Study 3, participants watched brief videos of male or female students (targets) from Study 1 and completed benevolent or hostile sexism items for each target as they thought the target would fill them out. Accuracy for detecting sexism across multiple targets (using sensitivity correlations) was significantly above chance for both forms of sexism. Male and female participants were more accurate at detecting hostile sexism in male targets than female targets. Participants were more accurate at detecting benevolent sexism of same-gender targets than opposite-gender targets. When judging targets of opposite gender, women's judgments were significantly above chance for both forms of sexism, but men were not accurate for either forms of sexism. These studies suggest that there is bias and accuracy in first impression judgments of sexism.",
          "The main purpose of this study was to explore the associations among self-silencing, the perceived devaluation of women in the family and the country, and hostile/ benevolent sexism in both women and men samples. To reach the aim, we developed three scales. The self-silencing scale included silencing to (1) sexist personal experiences, (2) observed sexist communications, and (3) discrimination against women. Other scales were the devaluation of women in the family and the devaluation of women in the country. We analyzed 379 participants (248 female & 131 male) with a mean age of 21.98 (SD = 2.82). The results presented that the scales were reliable and valid. Participants, in general, had low scores on self-silencing. Men scored higher on the self-silencing scale than women. For women, benevolent sexism and devaluation of women in the family positively predicted self-silencing to sexist personal experiences. Hostile sexism and the devaluation of women in the family positively predicted self-silencing to observed sexist communications. Finally, only hostile sexism positively predicted self-silencing to discrimination against women. For men, the devaluation of women in the family positively and the devaluation of the women in the country negatively predicted self-silencing to sexist personal experiences. None of the independent variables predicted self-silencing to observed sexist communications. Finally, hostile sexism positively and the perceived devaluation of women in the country negatively predicted self-silencing to discrimination against women. Results were discussed in light of the literature on sexism and self-silencing.",
          "Hostile sexism is a blatant and explicit form of sexism consisting of antagonistic attitudes toward women. We hypothesized that men's personal relative deprivation, a subjectively perceived disadvantage, would predict their hostile sexism toward women. In addition, we expected that, if this effect occurs, a sense of control would act as a mediator. Five studies (N = 1352) confirmed these hypotheses. Study 1 showed that personal relative deprivation predicted hostile sexism only for men, but not for women among Chinese college students. In addition, we observed the effect of personal relative deprivation only on hostile sexism, but not on benevolent sexism. Study 2, which employed participants from the United States, directly replicated the findings of Study 1. Studies 3 and 4 further showed that a sense of control acted as a mediator in this process. As such, increased hostile sexism attitude (Study 3) and hostile sexism behavior (Study 4) predicted by personal relative deprivation could result from a reduced sense of control. Study 5 further provided causal evidence that a temporarily induced state of personal relative deprivation resulted in a higher level of hostile sexism via a reduced sense of control. We discuss theoretical and practical implications for relative deprivation, gender inequality, and interventions.",
          "The alarming frequency with which women face stranger harassment (i.e., catcalling) calls for further understanding of how they cope with it, and the present research sought to examine coping strategies within the context of system justification theory (Jost and Banaji 1994). We explored whether women's strategies (Study 1) and men's prescriptive strategies (Study 2) for coping with stranger harassment were associated with system-justifying motives. Study 1 (N = 143) revealed that system justifying ideologies positively predicted the degree to which women made benign attributions for stranger harassment experiences. Additionally, we found that self-esteem negatively predicted both: (a) women's benign attributions for stranger harassment and (b) women's propensity to engage in self-blame following stranger harassment encounters. Study 2 (N = 117) found that ambivalent attitudes toward women (i.e., benevolent and hostile sexism) differentially predicted the degree to which men believed that women should engage in active coping; hostile sexism negatively predicted active coping, while benevolent sexism positively predicted it. Hostile sexism also positively predicted the degree to which men believed that women should make benign attributions, blame themselves, and employ passive coping strategies when harassed by strangers. These results suggest that the ways in which women cope with stranger harassment (and the way that men felt that a stranger harassment victim should cope with her encounter) tended to result from their status quo-legitimizing ideologies about gender relations.",
          "We investigated how men's masculine identification and ambivalent sexism relate to evaluations of male and female subtypes. Masculine identification correlated with positive attitudes toward male and female types that conform to traditional gender norms (i.e., masculine men, feminine women), but negative attitudes toward feminine men. However, masculine identification was not associated with negative evaluations toward other nontraditional male (stay-at-home fathers, feminist men) or with nontraditional female (masculine women, career women, and feminist women) subtypes. By contrast, hostile sexism consistently predicted negative evaluations of nontraditional female and male types, whereas benevolent sexism predicted positive evaluations of traditional female types. We suggest that masculine identification generally promotes favoritism toward traditional male and (like benevolent sexism) traditional female subtypes, rather than (as hostile sexism does) derogation toward nontraditional subtypes.",
          "Three studies examine how women's benevolent sexism (BS) shapes support for other women's agentic responses to gender-based threat. In Study 1, women read vignettes about a woman who agentically responded (vs. no response) to gender-based threat (e.g., sexism). As hypothesized, BS predicted more positive attitudes towards the woman who chose not to challenge sexism and more negative attitudes towards the woman who did. Studies 2 and 3 focused on whether these effects are driven by the behaviour displayed by the target (response or not) or by the ideology it seeks to uphold (traditional or non-traditional). There may be circumstances under which BS is associated with positive attitudes towards women's agentic (i.e., non-gender role conforming) behaviour, for instance, when it is used to support traditional gender roles. Studies 2 and 3 showed that when women's agentic behaviour is used to uphold traditional gender roles (vs. challenge them), BS is positively associated with support for such behaviour. These findings underscore the importance of ideology underlying women's agentic behaviour: BS can support women's agentic responses that violate prescribed gender roles, so long as they reinforce the status quo.",
          "Sexual harassment (SH) in sporting environments has developed as an important field of research. However, a more comprehensive understanding of factors affecting SH behavior is needed. We hypothesized how these effects appear and the scenarios in which they exist. Based on the perspectives of SH, this study aims to reveal the athletes' perceptions of SH and organizational climate (OC) impacts on SH, as well as the mediating mechanisms of low self-esteem (LSE) and the moderating role of hostile sexism (HS). Data collected from 422 female athletes in Pakistan, using random sampling and using SEM techniques analyze that these factors are responsible of increased likelihood of female athlete SH. Our results suggest that athletes' perceptions of OC positively predict SH, and OC is positively related to LSE. In addition, LSE partially mediates the positive effects of athletes' perceptions of OC on SH, where HS strengthens the perceived relationship between OC and LSE, which stimulates the SH of athletes. The overall model predictive ability was carried out by moderated mediation model. This study had deep implications for the literature. It clarified the ways that are crucial for predicting OC. Whether there are written laws on the subject, organizations are reluctant to acknowledge them, which entails developing methods of quantifying SH and creating data accessible to the public. A future study is recommended to evaluate the abuse of power concerning benevolent sexism to identify athlete perception of SH.",
          "This study examined how endorsement of benevolent sexist ideologies predicts perceptions of requesters who use a term of endearment and of the female addressees who comply with their requests. Undergraduate women who previously completed the Benevolent Sexism Scale as part of the Ambivalent Sexism Inventory were randomly assigned to one of four groups. They watched one of four videos in which a female addressee responded to a request that either included or did not include the term of endearment \"hon\"; the requester was either male or female. Participants then rated both actors' social likeability. Among participants who watched a woman respond to a female requester who addressed her with the term \"hon,\" benevolent sexism scores predicted liking for the female responder and disliking of the female requester. Findings reflect the dissatisfaction of women who are high in benevolent sexism with women who act outside of traditional gender role expectations.",
          "Sexism is often discussed in amateur and professional sport but has rarely been the focus of scientific research. This study sought to test whether benevolent and hostile sexism relate to dark personality traits (the dark core of personality [D]) and whether benevolent and hostile sexism and D differ across age, performance levels, and athlete sex. In total, 354 German athletes (177 men, 177 women; mean age = 32.0 +/- 12.6 years) completed questionnaires at a single time-point. Results showed that, compared to female athletes, male athletes scored higher on ambivalent sexism and D. No differences were found between different performance levels or age in terms of D or components of sexism. Linear regression models showed that D is a significant predictor of ambivalent sexism. Psychological Entitlement predicted hostile and benevolent sexism in women, whereas Machiavellianism, Egoism, Greed, and Amoralism-Crudality predicted hostile sexism (but not benevolent sexism) in men. These findings provide a foundation for further research into the emergence of sexism in amateur and professional sport.",
          "This study examined the nonverbal and verbal expressions of hostile and benevolent sexism. Hostile sexism is sexist antipathy and benevolent sexism is a chivalrous belief that women are warm yet incompetent. We predicted that hostile sexist men would display less affiliative expressions but benevolent sexist men would display more affiliative expressions during mixed-gender interactions. Twenty-seven pairs of U.S. male and female undergraduates from a private university in New England participated in this study. These mixed-gender dyads participated in two social interactions: a structured trivia game followed by an unstructured conversation period. During the trivia game, men with more benevolent sexism were perceived to be more patient overall when waiting for the woman to answer the trivia questions. Furthermore, we examined the men's nonverbal and verbal expressions during the unstructured interaction-na < ve raters made impression ratings of the men's nonverbal and verbal behavior, and trained coders counted the frequency of specific nonverbal cues (e.g., smiles). A word count software was used for verbal content analysis. As predicted, more hostile sexism was associated with less affiliative nonverbal and verbal expressions (e.g., less approachable, less friendly, and less smiling), but more benevolent sexism was associated with more affiliative nonverbal and verbal expressions (e.g., more approachable, more likely to smile, and more positive word usage). The effects held after controlling for men's personality traits and partners' nonverbal behavior. Differential behavioral expressions of benevolent and hostile sexism have theoretical importance as we can examine how sexism maintains the status quo at the interpersonal level.",
          "Gender stereotypes and sexism has been a topic of discussion in politics and social psychology since the 1960s. The relationships between sexism and various social-psychological variables, as well as the effects of sexism and gender stereotypes on life satisfaction and accessibility of educational opportunities, have been examined. Therefore, previous research on sexism-reduction intervention has not reached a consensus. The major goal of this research is to review intervention studies and the current literature on the effects of sexism, as well as draw attention to the theoretical and methodological limitations of intervention studies and suggest a new classification model for future studies. According to this classification model, intervention studies addressing sexism can be classified into four basic dimensions: (1) intervention to the process of perceiving a stimulus containing sex information; (2) intervention to (implicitly or explicitly) the process of binding sex information to traits; (3) intervention to (explicit, subtle or implicit) sexist attitudes; and (4) intervention to sexist behavior. The essential aims of this model are to reduce the conceptual challenges and discrepancy between the findings and minimize the low comparability of such findings in the intervention studies. Considering various dimensions categorically and the transactions between the dimensions suggested in this model can contribute to the cumulative progress of relevant literature by providing comparable standards for results from different intervention studies. However, this model can facilitate an understanding of not only contradictory patterns of different intervention methods on various dimensions (e.g., reducing sexism on one dimension and increasing on another dimension) but also the complex relationships between sexist attitudes and behaviors. Lastly, the suggested four dimension classification model was discussed within the scope of sexism theories and empirical intervention studies; focusing on sexism.",
          "This research examined the effects of ambivalent sexist attitudes on the attribution of emotions to men and women in terms of the emotion valence and perceived humanness. In line with ambivalent sexism theory, Study 1 showed that hostile sexist men attributed less positive emotions to women, and benevolent sexist men attributed more positive emotions. Similarly, men's hostile attitudes toward men predicted the attribution of more negative and less positive emotions to men, with the reverse pattern for benevolent attitudes. Also as hypothesized, Study 2 showed that hostile sexism uniquely predicted less favourable attributions to career women, whereas benevolent sexism predicted more favourable attributions to housewives. Finally, although there was no evidence for infrahumanization on the part of hostile sexists, findings from Study 2 revealed the infrahumanization of housewives. The implications for ambivalent sexism theory and for gender infrahumanization are discussed.",
          "Previous research suggests online trolls choose their victims at random, and are motivated by sadistic tendencies. Gendertrolling, however, is directed specifically toward women (and those perceived as feminists or social justice warriors) and is often part of an organized effort to silence their voices. Thus, the purpose of this study was to determine if gendertrolling is predicted by hostile sexism and social dominance orientation, rather than the sadism underlying random trolling. Male participants (N = 347) were recruited online from highly trollable websites, including Youtube, Reddit, 4chan, and Amazon Mechanical Turk, and were asked to complete a series of personality and attitude inventories. As predicted, gendertrolling was correlated with both hostile sexism and social dominance orientation; however, a regression analysis showed neither variable was a unique predictor. Instead, gendertrolling was significantly related to random trolling, and both types of trolling were related to sadism, particularly physical sadism. Therefore, gendertrolling is evidently motivated less by sexism than is commonly believed.",
          "Ambivalent sexism is a two-dimensional framework that assesses sexist and misogynous attitudes. The current corpus of research on such attitudes suggest that they are predicted by numerous variables, including religious beliefs, ideological variables, and men's facial hair. Most studies, however, have treated such predictors as if they are independent inferring that zero-order correlations between sexism and its predictors are not confounded by omitted third variables. In the current work, we address ambivalent sexism using a large array of known correlates of sexist attitudes in two large and demographically diverse samples. We show that low empathic concern is the primary driver of hostile-, but not benevolent sexism (Study 1); that social dominance orientation, right-wing authoritarianism, religiosity, and low Openness and Agreeableness differentially predict ambivalent sexism (Study 2); along with male gender and low education level (Study 1 and 2). Contradicting an earlier finding, men's facial hair was not correlated with hostile sexism in either studies and a short full beard predicted lower scores on benevolent sexism in Study 2. Thus, we replicated the main findings from most previous research except for men's facial hair, and we also show the paths through which predictors of sexist attitudes exert their effects.",
          "We investigated whether ambivalent sexism predicts bias against female drivers in a simulated civil trial paradigm. Participants were randomly assigned to read a vignette of an automobile accident involving a male or female defendant. In a driving context designed to incite feelings of competitiveness toward women (Study 1), hostile sexism predicted greater responsibility attributed to the female defendant. In a context designed to elicit paternalistic attitudes toward women (Study 2), benevolent sexism predicted increased responsibility attributed to the female defendant. Findings show that hostile and benevolent sexism predict different patterns of discriminatory treatment depending on contextually triggered concepts of women.",
          "This study responds to the alarmingly frequent occurrence of sexual harassment (SH) in Chinese colleges by investigating female college students' experience, tolerance of SH and evaluation of the #metoo social media campaign. Guided by the system justification theory, this study has confirmed the association between their tolerance of SH, the traditional gender role value and hostile sexism they hold. In total, 31% of variance of tolerance of SH can be explained by the variables of cultural values and sex information access. Hostile sexism is significantly predictive of tolerance of SH, but not of the evaluation of the #metoo campaign. As the first of its kind, this study has demonstrated the positive relationships between family sex communication, school sex education and the tolerance of SH in current China. Moreover, the respondents' evaluation on the #metoo social media campaign is reversely related to their family sex communication. Theoretical and practical implications are discussed.",
          "Benign violation theory suggests humor mocking normative values is funny if the humor is non-threatening. Research suggests sexism toward women (versus men) is particularly threatening due to inequalities in social power. In Study 1, we examined whether men and women differ in how amused and offended they were by sexist humor. We predicted men would perceive sexist humor as more funny and less offensive than women would. In Study 2, we examined whether perceptions of threat were related to perceptions of sexist jokes. We predicted women would perceive more threat than men from sexist humor, which would lead to lower amusement and greater perceived offensiveness. Across both studies, jokes targeting women were perceived to be less funny, more offensive, and more sexist than jokes targeting men. Additionally, greater perceptions of threat were related to greater perceptions of jokes as offensive and sexist. However, women were not more threatened than men by sexist jokes. While these findings were not entirely consistent with our hypotheses, our findings suggest disparagement humor targeting lower-status groups is perceived more negatively than disparagement humor targeting higher-status groups and these perceptions may be inextricably rooted in threat posed to lower-status groups.",
          "The military is a work environment in which the underrepresentation of women and the presence of gender prejudices continue to exist. The present study validated the Ambivalent Sexism Inventory (ASI) for the Croatian military population. To determine the ASI scale's basic metric characteristics, data were collected from a sample of 895 active-duty military personnel (445 men and 450 women). The study results determined satisfactory measurement characteristics for the ASI scale and confirmed the ambivalent sexism construct with its basic dimensions. Sexism in the military environment was found to a moderately high degree, and gender differences were observed. Three types of sexism endorsement were identified in both subsamples (egalitarian, moderate egalitarian and traditional for women, and moderate egalitarian, traditional and hostile for men), with additional differences detected in their socio-demographic and professional characteristics. The findings support the apparent exposure of women to sexism in the military environment, and suggest the need to raise awareness of the negative impact of gender prejudice on gender relations in the military.",
          "Despite sexism occurring frequently, people often do not identify it as such. Using a vignette design, the current project explored whether sexism was identified at a different rate and intensity depending on the specific form of sexism enacted (hostile or benevolently sexist behavior) and race (Black or White) of the man perpetrating sexist behaviors. When a Black man engaged in a benevolently (paternalistic) sexist behavior he was perceived as more sexist than a White man. However, White and Black men were perceived similarly when they engaged in a hostile (overtly negative and derogatory) sexist behavior. Overall, female participants identified sexism more often and viewed it as more sexist than male participants did, especially in the context of benevolent sexism. These findings suggest there are significant effects of perceiver gender and perpetrator race in the perception of sexism. This demonstrates the importance of examining both race- and gender-based discrimination together.",
          "Within a given culture, sexist ideologies and stereotypes are largely characterized by their prescriptive expectations for the types of social and behavioural domains men and women occupy. The activities that take place within these respective domains, however, frequently involve designed, physical artefacts. This study reports a pair of studies that test whether sexist schemas are capable of guiding not only impressions of men and women as social groups, but also their impressions of the inanimate objects associated with these groups. In Study 1, benevolent sexism was found to predict a greater willingness to classify physical objects as being either highly feminine or highly masculine, even when these objects had a neutral rating by the sample as a whole. In Study 2, stereotypes consistent with legitimizing ideologies (i.e., competence and warmth) predicted rating associated objects in complementary ways, in terms of greater liking of feminine objects but greater presumed competence needed for using masculine objects. These results demonstrate how sexist beliefs and attitudes are capable of bleeding into people's impressions of the physical world.",
          "Many researchers in the fields of law, sociology and psychology have already identified how sexist humor is connected with improper sexist behavior, leading to tolerance towards sexual misconduct and the exclusion of (mostly) women from the working community, among other results. However, scholars have yet to address the problematic nature of non-sexist sexual humor, which could potentially constitute sexual harassment. This paper seeks to address this gap in the scholarship by creating a distinction between two forms of humor-based sexual harassment. The first and the more familiar type is sexual harassment using sexist humor. The second type, which has been unaddressed to date, is sexual harassment using non-sexist sexual humor. Using a pragmatic-linguistic analysis of sexual humorous expressions, this paper argues that in some cases the use of even non-sexist sexual humor could be considered an inappropriate sexual advance, or a form of quid pro quo sexual harassment in the work place.",
          "This study examined four forms of sexist beliefs as predictors of attitudes toward women in the military and in combat. Survey data revealed that military-affiliated college students (n = 62) held more negative attitudes than civilian students (n = 254) toward women in combat, but the groups did not differ on attitudes toward women in the military. All forms of sexism contributed uniquely to the prediction of attitudes toward women in the military, and 3 forms were associated with approval of women in combat. Sexist beliefs mediated the relationship between military-affiliation status and approval of women in combat.",
          "Much work has been carried out on sexist attitudes, but only little on sexist behaviors. The goal of the present research was to close this gap by testing how a variety of benevolent and hostile sexist behaviors correlate with implicit and explicit sexist attitudes. In Study 1 (N=126), we developed implicit association tests for benevolent sexism and hostile sexism and illustrated that implicit and explicit benevolent sexist beliefs, as well as implicit and explicit hostile sexist beliefs, were positively correlated. In Study 2 (N=83 of Study 1), we tested whether implicit and explicit benevolent and hostile sexist attitudes correlate with benevolent and hostile sexist behaviors. As expected, explicit benevolent (but not hostile) sexist attitudes predicted benevolent sexist behavior, whereas explicit hostile (but not benevolent) sexist attitudes predicted hostile sexist behavior. Implicit sexist attitudes did not predict sexist behavior. The implications of these findings are discussed.",
          "Many studies have examined the consequences of being objectified by others and of self-objectification, but less attention has been given to those who objectify others. We therefore examined the relationship between attitudes accepting the objectification of women, self-objectification, and sexist beliefs. Using data from 314 male and female participants, analyses revealed that men and women's self-objectification and hostile sexism significantly predicted their acceptance of the objectification of women. These findings suggest that adopting an objectified sense of self and sexist perspectives are associated with endorsing an objectifying view of women. Future research should continue to expand our understanding of the possible motivations behind the objectification of women.",
          "Extending evidence that nonverbal complementary behavior can occur in dyads to the intergroup domain, the authors predicted that women assume a relatively submissive (narrow) posture when confronted with a male instructor adopting a dominant (broad) posture, but only when he smiles (affiliation motive) and when gender is salient. Male affiliation (smiling vs. not smiling) and gender salience were manipulated in Study 1 by focusing on sex differences (vs. individual differences) in presentation style, strengthened by the instructor making a sexist remark. As predicted, women adopted a more submissive posture when gender was salient and the male instructor smiled. In Study 2, male posture was manipulated (dominant vs. submissive) to examine postural complementarity in women. Study 3 replicated the postural effect, especially when the sexist remark is present. This effect was mediated by the instructor's perceived warmth. Implications for gender, benevolent sexism, and intergroup power relations are discussed.",
          "Research suggests that women weigh the perceived costs and benefits when deciding whether to confront sexism on behalf of themselves or other women. Novel to the present research, we tested whether men similarly weigh the anticipated costs and benefits when deciding whether to confront sexism on behalf of women. Using path analysis across 2 correlational studies, we also investigated how endorsement of a masculine protection ideology predicted frequency of confronting sexism on behalf of socially close (e.g., girlfriend, sister) versus distant (e.g., acquaintance, stranger) women. Results from Study 1 (N = 148 undergraduate men) revealed that men were motivated by the perceived benefit, but not the perceived cost, when deciding whether to confront sexism. In both studies (Study 2 N = 205 male MTurk workers), the extent to which men endorsed a masculine ideology of protection positively predicted their frequency of confronting for socially close, but not distant women. We conclude that in some cases paternalistic masculinity may promote antisexist behavior (confronting on behalf of socially close women), although the impact of those confrontations for sexism reduction remains to be tested.",
          "Kilianski and Rudman (1998) developed \"standard\" profiles of a benevolent and a hostile sexist man from the Ambivalent Sexism Inventory (ASI) and tested if a U.S. sample of female students would perceive them as referring to the same person (i.e. an ambivalent sexist). Results showed that although they appraised the benevolent sexist profile favourably, and the hostile sexist one unfavourably, they considered it unlikely that they could refer to the same man. We developed \"non-standard\" profiles similar to those used by Kilianski and Rudman, with the major difference that they were not made directly from the ASI, but on the basis of attitudes and actions of a realistic soap-opera character, and tested if they would be considered as referring to the same individual by a sample of 238 undergraduate students (81 males and 157 females) at the University of Zimbabwe. Our results showed that both male and female participants found it as difficult to detect ambivalent sexism on the basis of non-standard ASI profiles as on the basis of standard ASI profiles.",
          "Previous research has shown that short-term mating orientation (STMO) and hostile sexism (HS) selectively predict different types of sexual harassment. In a priming experiment, we studied the situational malleability of those effects. Male participants could repeatedly send sexist jokes (gender harassment), harassing remarks (unwanted sexual attention), or nonharassing messages to a (computer-simulated) female target. Before entering the laboratory, participants were unobtrusively primed with the concepts of either sexuality or power. As hypothesized, sexuality priming strengthened the link between STMO and unwanted sexual attention, whereas power priming strengthened the link between HS and gender harassment. Practical implications are discussed.",
          "Gender stereotypes are beliefs about attributes associated to women and men that reveal gender discrimination. In order to identify. changes of gender discrimination, the study of the stereotypes that prevail nowadays is essential. With this in mind, a scale consisting of 258 stereotypic characteristics was elaborated. This scale comprised two versions, one for female and one for male, which permits the understanding of how each gender is perceived currently. Both versions were filled out by 164 undergraduates (50% women). Taking into account those stereotypes that are still differentially assigned to each gender, this study identifies current gender stereotypes that are independent of sociodemographic characteristics, such as age or sex. In addition, new gender stereotypes emerged recently were gathered, and important changes of stereotypes were emphasized, especially those of feminine stereotypes. According to social role theory, these changes are the consequence of social roles changes. Conclusions highlight that, although part of the results involve progress on the achievement of equality, traditional stereotypic characteristics are still referred to each gender, which perpetuate discrimination.",
          "Sexist humor may be more difficult to confront than serious expressions of sexism because humor disguises the biased nature of the remark. The present research investigated whether delivering a sexist remark as a joke, compared to a serious statement, tempered perceptions that the speaker was sexist which, in turn, made women less likely to confront. Using a computer-mediated instant messaging paradigm, women were randomly assigned to receive the same sexist remark phrased either in a serious manner or as a joke. We recorded how women actually responded to the sexist remark and coded for confrontation. In Experiments 1 (195 women) and 2 (134 women) we found that humor decreased perceptions that the speaker was sexist. Furthermore, as perceptions that the perpetrator was sexist decreased, women's confronting also decreased. Experiment 2 demonstrated an additional consequence of reducing the perceived sexism of the perpetrator-it increased tolerance of sexist behavior perpetrated against an individual woman and sexual harassment more generally. Interestingly, the indirect effects only appeared when women at least moderately endorsed hostile sexism. For hostile sexists, failure to identify sexism reduced confrontation and increased tolerance for sexual harassment and sexist behavior. Contrary to popular belief, humor can actually make sexist messages more dangerous and difficult to confront than serious remarks.",
          "Facial hair, like many masculine secondary sexual traits, plays a significant role in perceptions of an array of sociosexual traits in men. While there is consensus that beards enhance perceptions of masculinity, age, social dominance, and aggressiveness, the perceived attractiveness of facial hair varies greatly across women. Given the ease with which facial hair can be groomed and removed entirely, why should some men retain beards and others choose to remove them? We hypothesized that men with relatively sexist attitudes would be more likely to allow their facial hair to grow than men with less sexist attitudes. Men from the USA (n = 223) and India (n = 309) completed an online survey measuring demographic variables, ambivalent sexism, and facial hair status. After controlling for demographic variables, men with facial hair were significantly higher in hostile sexism than clean-shaven men; hostile sexism was a significant predictor of facial hair status over and above demographic variables; and facial hair was more frequent among ambivalent and hostile sexists than among benevolent and non-sexists. It is suggested that sexist men choose to grow facial hair because it maximizes sexual dimorphism and augments perceived masculinity and dominance.",
          "People often disagree about what constitutes sexism, and these disagreements can be both socially and legally consequential. It is unclear, however, why or how people come to different conclusions about whether something or someone is sexist. Previous research on judgments about sexism has focused on the perceiver's gender and attitudes, but neither of these variables identifies comparative standards that people use to determine whether any given behavior (or person) is sexist. Extending Devine and colleagues' values framework (Devine, Monteith, Zuwerink, &Elliot, 1991; Plant & Devine, 1998), we argue that, when evaluating others' behavior, perceivers rely on the morally-prescriptive values that guide their own behavior toward women. In a series of 3 studies we demonstrate that (1) people's personal standards for sexism in their own and others' behavior are each related to their values regarding sexism, (2) these values predict how much behavioral evidence people need to infer sexism, and (3) people with stringent, but not lenient, value-based standards get angry and try to regulate a sexist perpetrator's behavior to reduce sexism. Furthermore, these personal values are related to all outcomes in the present work above and beyond other person characteristics previously used to predict sexism inferences. We discuss the implications of differing value-based standards for explaining and reconciling disputes over what constitutes sexist behavior.",
          "Why do people support the masculine structure of the Turkish military? Why do women hold inferior positions in the military? How are sexism and Turkish identification relevant to attitudes toward the masculine structure of the military? Focusing on these questions, the current study explored the associations among Turkish identification, ambivalent sexism (including hostile and benevolent sexism), and attitudes toward the masculine structure of the military in Turkey after controlling for gender, political views, and military affiliation. University students (316 women; 262 men; M (age) = 22.02, SD = 2.20) completed the Attitude toward The Masculine Structure of the Military, Turkish Identification, Ambivalent Sexism scales and provided information about age, gender, political view, and military affiliation. The results showed that Turkish identification, hostile sexism, and benevolent sexism predicted attitudes toward the masculine structure of the military after controlling for gender, political view, and military affiliation. Participants who scored higher on Turkish identification and hostile and benevolent sexism supported the masculine structure of the military. The findings may be useful for researchers who aim to better understand why Turkish military personnel is primarily male, how some improvement can be provided for the process of recruitment and retention of military personnel, and how to improve the positions of women in the military or women who would like to join military.",
          "Recent research has shown that narcissistic men in the United States express more ambivalent sexism than their non-narcissistic counterparts. The present study sought to extend these findings by hypothesizing that psychological entitlement would be a predictor of ambivalent sexism but that that this relationship may vary by gender. Given entitlement's associations with hostility and aggression and the previously established link between narcissism and sexism in men, we hypothesized that entitlement would predict hostile sexism in men. Given that entitlement is characterized by a pervasive sense of deservingness for special treatment and goods, we expected that entitled women would endorse attitudes of benevolent sexism. These hypotheses were tested using two cross-sectional samples in the U.S.-a sample of undergraduates from a private university in the Midwest (N = 333) and a web-based sample of adults across the U.S. (N = 437). Results from regression analyses confirmed that psychological entitlement is a robust predictor of ambivalent sexism, above and beyond known predictors of sexism such as low openness and relevant covariates such as impression management. In addition, entitlement was a consistent predictor of benevolent sexism in women, but not in men, and a consistent predictor of hostile sexism in men, but not in women. These relationships were largely robust, persisting even when relevant covariates (e.g., socially desirable responding, trait openness) were controlled statistically, although in one sample the link between entitlement and hostile sexism in men was reduced to non-significance when benevolent sexism was controlled for statistically. Implications of these findings are discussed.",
          "This study explores the relationship between sexism (both hostile and benevolent) and the dark-triad personality traits of narcissism, psychopathy, and Machiavellianism, using the Ambivalent Sexism Inventory, the Short Dark Triad, and the Dirty Dozen. It also assesses whether the genders differed in dark-triad scores, as in other studies, and whether any gender differences are mediated by sexism scores. In bivariate correlations, sexism accounted for 12%-17% of dark triad scores. The magnitude of correlations between sexism and dark-triad scores were similar for men and women. Replicating earlier research, t-tests indicated that men had higher dark-triad scores than women. Analyses of covariance indicated that these gender differences in dark triad scores were substantially, though not completely, accounted for by hostile sexism. These findings demonstrated that sexist ideology substantially predicted dark-triad scores, suggesting sexism as one source of dark-triad traits. Though correlational, these findings are consistent with the idea that, the dark triad, unlike many other traits, is partly the result of sexism and the socially-supported, unearned male power and privilege that sexism reflects.",
          null
         ],
         "marker": {
          "opacity": 0.5,
          "size": 5
         },
         "mode": "markers+text",
         "name": "1_masculinity_objectification_harassment",
         "text": [
          "",
          "",
          "",
          "",
          "",
          "",
          "",
          "",
          "",
          "",
          "",
          "",
          "",
          "",
          "",
          "",
          "",
          "",
          "",
          "",
          "",
          "",
          "",
          "",
          "",
          "",
          "",
          "",
          "",
          "",
          "",
          "",
          "",
          "",
          "",
          "",
          "",
          "",
          "",
          "1_masculinity_objectification_harassment"
         ],
         "textfont": {
          "size": 12
         },
         "type": "scattergl",
         "x": [
          1.7373290061950684,
          1.9177982807159424,
          1.718788981437683,
          2.1987063884735107,
          2.135874032974243,
          2.4809093475341797,
          2.557368516921997,
          1.587848424911499,
          1.979439377784729,
          2.7426435947418213,
          1.296289324760437,
          2.515568733215332,
          1.396947979927063,
          2.23911452293396,
          1.6965081691741943,
          2.132871389389038,
          1.9492278099060059,
          2.6461751461029053,
          2.3952136039733887,
          1.079078197479248,
          1.742784857749939,
          1.7384731769561768,
          2.4099864959716797,
          2.1029069423675537,
          1.7627047300338745,
          1.7581034898757935,
          2.334488868713379,
          2.10931658744812,
          2.2509052753448486,
          2.5147087574005127,
          2.233710289001465,
          1.242348551750183,
          1.9474992752075195,
          1.807199478149414,
          2.544854164123535,
          2.4405438899993896,
          1.7568838596343994,
          2.5420584678649902,
          2.4624292850494385,
          2.053990125656128
         ],
         "y": [
          6.341434001922607,
          7.75298547744751,
          7.710638523101807,
          8.948982238769531,
          7.508476257324219,
          8.082950592041016,
          8.11924934387207,
          6.938988208770752,
          8.425780296325684,
          8.036235809326172,
          7.418559551239014,
          7.384297847747803,
          7.364696979522705,
          7.492624759674072,
          8.608880996704102,
          7.596884250640869,
          6.494388580322266,
          7.845456600189209,
          8.36138916015625,
          6.609381198883057,
          6.35032320022583,
          7.706199645996094,
          8.808026313781738,
          8.31838321685791,
          6.359979629516602,
          7.75842809677124,
          7.614219665527344,
          8.657906532287598,
          7.502790927886963,
          8.14631175994873,
          7.51741886138916,
          6.780398845672607,
          8.382993698120117,
          6.470374584197998,
          7.837857246398926,
          8.676809310913086,
          7.716587066650391,
          7.5701799392700195,
          7.573329925537109,
          7.661303520202637
         ]
        },
        {
         "hoverinfo": "text",
         "hovertext": [
          "This research examines the relationship between religious identification and feminist identification. Additionally, it investigates the extent of hostile sexist attitudes among those who identify as religious feminists. Utilizing 2016 American National Election Survey data, I find that religious women are no more or less likely to identify as feminist than the religiously unaffiliated, while evangelical and black Protestant men are less likely to identify as feminist. Further, both black Protestant women and Catholic men who identify as feminist express hostile sexist sentiment to a higher degree than their feminist unaffiliated counterparts, along with Latinas and Asian-identified men. This study offers quantitative insights into the relationship between feminist identification, religious affiliation, and hostile sexist attitudes. Additional implications for this study include conceptualizations of feminism and sexism more broadly in society.",
          "[\"Despite close relationships between men and women in daily lives, gender inequality is ubiquitous and often supported by sexist ideology. The understanding of potential bases of sexist ideology is thus important. According to Duckitt's dual-process model (2001), different worldviews may explain different types of sexist ideology. Individuals who hold a competitive world worldview tend to endorse group-based dominance. This lends itself to the endorsement of hostile sexism, because hostile sexism is an obvious form of male dominance. Conversely, individuals who hold a dangerous world worldview tend to adhere to social cohesion, collective security, and social traditions. This lends itself to the endorsement of benevolent sexism, because benevolent sexism values women who conform to gender norms. As predicted by Duckitt's model, research has shown that social dominance orientation, a general orientation towards the endorsement of group-based dominance, is closely associated with hostile sexism. Furthermore, right-wing authoritarianism, which measures adherence to social traditions, is closely associated with benevolent sexism. Due to the interdependent nature of gender relationships, the current research proposed that a relationship-based belief in hierarchy, deferential family norms, and norms depicting proper manners among family members should predict the endorsement of hostile and benevolent sexism, after controlling for social dominance orientation and right-wing authoritarianism. As predicted, according to student samples collected in Taiwan and the US, the endorsement of deferential family norms predicted the endorsement of hostile sexism and of benevolent sexism, respectively. In addition, among men and women, social dominance orientation predicted hostile sexism more strongly (as opposed to benevolent sexism), whereas right-wing authoritarianism predicted benevolent sexism more strongly (as opposed to hostile sexism). Implications regarding relationship norms, social dominance orientation, right-wing authoritarianism, and sexist ideology are discussed.\", \"En depit des relations intimes entre les hommes et les femmes dans la vie quotidienne, l'inegalite des genres est omnipresente et souvent soutenue par une ideologie sexiste. La comprehension des bases potentielles qui engendrent l'ideologie sexiste est, par consequent, importante. Selon le modele de double processus de Duckitt (2001), differentes visions du monde peuvent expliquer differents types d'ideologie sexiste. Les individus qui entretiennent une vision competitive du monde ont tendance a adherer a une dominance basee sur le groupe. L'adhesion a cette dominance mene a son tour a l'endossement d'un sexisme hostile parce que le sexisme hostile est une forme evidente de dominance masculine. Inversement, les individus qui entretiennent une vision dangereuse du monde ont tendance a adherer a la cohesion sociale, la securite collective et les traditions sociales. Cette adherence mene a son tour a l'endossement d'un sexisme bienveillant parce que le sexisme bienveillant valorise les femmes qui se conforment aux normes liees au genre. Tel que predit par le modele de Duckitt, la recherche anterieure a montre que l'orientation de dominance sociale, une orientation generale envers l'endossement d'une dominance basee sur le groupe, est etroitement associee avec le sexisme hostile. En outre, l'aile droite de l'autoritarisme, laquelle mesure l'adherence aux traditions sociales, est etroitement associee avec le sexisme bienveillant. En raison de la nature interdependante des relations entre les hommes et les femmes, la presente etude proposait qu'une croyance de hierarchie basee sur les relations, les normes familiales differentielles et les normes decrivant les manieres convenables entre les membres de la famille devraient predire l'endossement d'un sexisme hostile et bienveillant, apres avoir controle pour l'orientation de dominance sociale et l'autoritarisme de l'aile droite. L'etude fut realisee aupres d'echantillons d'etudiants de Taiwan et des Etats-Unis. Tel que predit, les resultats ont indique que l'adherence aux normes familiales differentielles predisait l'endossement du sexisme hostile et l'endossement du sexisme bienveillant, pour les participants taiwanais et americains. De plus, pour les hommes et les femmes, l'orientation de dominance sociale predisait plus fortement le sexisme hostile (par opposition au sexisme bienveillant), tandis que l'autoritarisme de l'aile droite predisait plus fortement le sexisme bienveillant (par opposition au sexisme hostile). Les implications pour les normes relationnelles, l'orientation de dominance sociale, l'autoritarisme de l'aile droite et l'ideologie sexiste sont discutees. A pesar de la estrecha relacion que existe entre hombres y mujeres en la vida cotidiana, la desigualdad de genero es omnipresente y a menudo esta apoyada por la ideologia sexista. La comprension de las posibles bases que conforman la ideologia sexista es, por lo tanto, importante. Segun el modelo del proceso dual de Duckitt (2001), distintas cosmovisiones pueden explicar los diferentes tipos de ideologia sexista. Las personas que tienen una cosmovision competitiva tienden a adherir a la dominacion basada en el grupo. El apoyo a la dominacion basada en el grupo, entonces, se presta a la adhesion al sexismo hostil, ya que el sexismo hostil es una forma evidente de dominacion masculina. Por el contrario, los individuos que tienen una vision peligrosa del mundo tienden a adherir a la cohesion social, la seguridad colectiva y las tradiciones sociales.\", 'El respaldo a la cohesion social, la seguridad colectiva y la tradicion social se presta, entonces, a la aprobacion del sexismo benevolente, dado que el sexismo benevolente valora a las mujeres que se ajustan a las normas de genero. Asi como fue predicho por el modelo de Duckitt, las investigaciones previas han demostrado que la orientacion a la dominacion social, una orientacion general hacia la adhesion a la dominacion basada en el grupo, esta estrechamente relacionada con el sexismo hostil. Aun mas, el autoritarismo de derecha, que determina la adherencia a las tradiciones sociales, esta estrechamente relacionado con el sexismo benevolo. Debido a la naturaleza interdependiente de las relaciones de genero, la presente investigacion propone que la creencia de la jerarquia basada en las relaciones, las normas familiares de deferencia, las normas que muestran buenos modales entre los miembros de la familia, deberia predecir el apoyo al sexismo hostil y benevolente, despues de controlar la orientacion a la dominancia social y el autoritarismo de derecha. Como predicho, de acuerdo a los datos recolectados de muestras de estudiantes de Taiwan y Estados Unidos, la adherencia a las normas familiares deferentes predicen la adhesion al sexismo hostil y el sexismo benevolente, respectivamente. Ademas, entre los hombres y mujeres, la orientacion a la dominacion social predijo con mas fuerza el sexismo hostil (en comparacion con el sexismo benevolente), mientras que el autoritarismo de derecha predijo mas significativamente el sexismo benevolente (en comparacion con el sexismo hostil). Se discuten las implicaciones respecto de las normas de relacionamiento, la orientacion a la dominacion social, el autoritarismo de derecha y la ideologia sexista.']",
          "The foundation of Kenya's economy is agriculture. Accordingly, the majority of Kenyan families rely on agriculture for both food and livelihood. Notably, in many of these families, the largest share of agricultural work is carried out by women; nevertheless, regardless of their significant role, these women are faced with discrimination in terms of having access to and control over the benefits gained from agricultural labor. In 2011, tea farming managed to become the primary foreign exchange earner. However, gender inequalities with respect to access to and control of the benefits gained from tea farming in Kenya is prevalent despite the important role of this sector. Moreover, there is a lack of adequate academic examinations on the present gender inequalities. Consequently, this study was aimed at conducting an investigation into the gender dynamics while taking into account access to tea benefits and control over them in Mundoro which is located in Kiganjo division, Gatundu District. Accordingly, two sub-locations were selected using simple random sampling; in addition, random sampling was employed for selecting 73 tea farming households. In this study, respondents included the heads of households and two authorities from Theta tea factory. Data collection was carried out through conducting interviews with the household heads as well as an interview guide prepared for the officials of the tea factory. Data analysis was based on the emerging themes related to the purposes of the study. Results demonstrated the discrimination faced by women living in male-headed households with respect to access to tea benefits and control over them. Conversely, the female heads of households were found to have access to tea benefits and control over them in their own households. The identified obstacles that support gender discrimination entailed culture, the KTDA (Kenya Tea Development Authority), education level, and widowhood. Conscious attempts should be made with the purpose of informing stakeholders on the need for equitable sharing of benefits gained from tea farming. It is recommended to employ strategies in which gender equity is enhanced so that every woman and man are allowed to have access to and control over tea benefits.",
          "We proposed that the Prescriptive Beauty Norm (PBN), the injunctive demand for women to intensively pursue beauty, reflects motives to maintain gender hierarchy and translates into employment discrimination. In Studies 1a and 1b, the PBN (distinct from other \"beauty myth\" [Wolf, 1990] components; namely, bodily and grooming standards, and attainability beliefs) uniquely correlated with hierarchy-supporting values and ideologies. In Study 2, experimentally threatening (vs. affirming) gender hierarchy increased PBN endorsement among sexist (but not nonsexist) participants, an effect mediated by power values. In Studies 3 and 4, participants who scored high (vs. low) in sexism (Study 3) and social dominance orientation (Study 4) enforced higher appearance requirements for women in powerful (vs. entry-level), masculine professions. This \"beauty tax\" targeted women more than men (Study 3) and was mediated by PBN endorsement (Study 4). Illustrating real-life implications, in an organizational setting (Study 5), sexism predicted penalizing \"insufficiently groomed\" female candidates more for high-power (vs. low-power) jobs. Finally, supporting the hypothesis that the PBN represents a contemporary, subtle replacement for traditional hierarchy-maintaining ideologies that have lost their influence in modern secular society, Social Dominance Orientation (SDO) correlated with PBN endorsement among secular more than among religious respondents (Study 6), whose \"ideological arsenal\" contains more straightforward means to police women. We discuss practical implications for gender equality, as well as theoretical implications for reconciling evolutionary and feminist perspectives on beauty norms.",
          "This study explored the relationships between Jewish religiosity and ambivalent sexist attitudes toward men and women. Drawing on ambivalent sexism theory and Judaism's views of gender relations, it was hypothesized that religiosity would be positively related to benevolent sexism and benevolent attitudes toward men. The hypotheses were tested in a convenience sample of 854 Israeli Jews (471 women, 355 men) who completed measures of ambivalent sexism, ambivalence toward men and religiosity. Controlling for the effects of age, education and marital status, religiosity predicted more benevolent sexist attitudes for both men and women. The findings also revealed negative associations between Jewish religiosity and hostile attitudes, mainly among men. That is, more religious men were less likely to express hostile attitudes toward men and women. These findings attest to the complex relationships between religiosity and sexist attitudes, and underscore the importance of investigating the impact of diverse religious traditions on gender attitudes.",
          "The present research investigated the antecedents of ambivalent sexism (i.e., hostile and benevolent forms) in both men and women toward own and other gender. In two heterogeneous adult samples (Study 1: N?=?179 and Study 2: N?=?222), it was revealed that gender itself was only a minor predictor of sexist attitudes compared with the substantial impact of individual differences in general motivated cognition (i.e., need for closure). Analyses further showed that the relationship between need for closure and sexism was mediated by social attitudes (i.e., right-wing authoritarianism and social dominance orientation), which were differently related to benevolent and hostile forms of sexism. In the discussion, it is argued that sexism primarily stems from individual differences in motivated cognitive style, which relates to peoples' perspective on the social world, rather than from group differences between men and women. Copyright (c) 2011 John Wiley & Sons, Ltd.",
          "Ambivalent sexism theory highlights the pernicious effects of benevolent sexism on women's freedoms in society. Because the ideology idealizes women as nurturing mothers, benevolent sexism should be negatively associated with support for women's reproductive rights. The current study examined this possibility by assessing the relationship between benevolent sexism and support for (a) elective abortion (i.e., abortions pursued, regardless of the reason) and (b) traumatic abortion (i.e., abortions pursued when the woman's life is endangered) in a national probability sample of New Zealand adults (N = 6,132). As predicted, benevolent sexism was negatively associated with support for both elective and traumatic abortion. In contrast, hostile sexism-the punitive component of ambivalent sexism-was only negatively associated with support for traumatic abortion. These results demonstrate that ambivalent sexism-and particularly benevolent sexism-restricts women's reproductive rights even in extreme cases where a woman's life is in danger.",
          "Scholars have long argued that sexism is partly rooted in dominance motives over animals and nature, with women being perceived as more animal-like and more closely connected to nature than men. Yet systematic research investigating these associations is currently lacking. Five studies (N = 2,409) consistently show that stronger beliefs in human supremacy over animals and nature were related to heightened hostile and benevolent sexism. Furthermore, perceiving women as more closely connected to nature than men was particularly associated with higher benevolent sexism, whereas subtle dehumanization of women was uniquely associated with higher hostile sexism. Blatant dehumanization predicted both types of sexism. Studies 3 and 4 highlight the roles of social dominance orientation and benevolent beliefs about nature underpinning these associations, while Study 5 demonstrates the implications for individuals' acceptance of rape myths and policies restricting pregnant women's freedom. Taken together, our findings reveal the psychological connections between gender relations and human-animal relations.",
          "With the growing relevance of work-family balance and gender equality at work, researchers have extensively recognized the importance of men's greater home involvement. Yet, little is known about how people evaluate men and particularly male leaders with involved fathering behaviours, such as taking a long paternity leave. Using a social normative perspective, we explore whether cultural standards providing social approval for work-life balance influence competence evaluations of male leaders who request a paternity leave. Results from three experimental and field studies suggest that perceptions of a supportive work-family culture favour more positive evaluations of male leaders with a paternity leave. Associations were stronger for people with leadership aspirations and roles. Several main effects emerged too: male leaders taking a leave beyond the standard (from 2 weeks to 3 months) received more negative evaluations than male leaders with a shorter, statutory leave (from 2 days to 2 weeks), and employees' sexism predicted negative evaluations. Also, slightly lower status was attributed to male compared to female leaders who requested a leave. Findings are discussed in terms of how male managers' domestic behaviour should be further reinforced with organizational discourses and practices.",
          "Infectious disease poses a threat to reproductive fitness. However, the costs associated with infectious disease are often greater for females than males. Sexist attitudes toward females may have in part emerged from disease-avoidance concerns, in order to decrease infectious disease threat and promote reproductive success for females (and males indirectly). Across three studies, disease-avoidance tendencies were positively correlated with benevolent sexism (perceiving females as pure and in need of protection). Hostile sexism, or more traditional negative attitudes toward females, was inconsistently related to disease avoidance. Furthermore, right-wing authoritarianism partially accounted for the relation between disease avoidance and benevolent sexism, whereas right-wing authoritarianism fully accounted for the relation between disease avoidance and hostile sexism. By encouraging traditional sex roles and restricting female sexual behavior, benevolent sexism may reduce infectious disease threat in females, while maintaining positive relations between the sexes (unlike hostile sexism), which is important for reproduction.",
          "We investigated the sexist application of a morality concept of Tsika, characterized by communal traits, in the Shona culture of Zimbabwe. Tsika has been defined as politeness, civility and circumlocution (Samkange & Samkange, 1980, p. 74), thus generally falling under communal traits. Theoretical literature suggests that although Tsika is a cultural ideal for all Shona people, it is especially expected of women and children, and that women can be punished like children if they lack Tsika. This research tested whether Tsika would be expected more of women (and children) than men. In line with ambivalent sexism theory, it was predicted that, because Tsika is constituted of communal traits, a bias in its expectation of women over men would be predicted by benevolent sexism. Furthermore, the research tested whether women (and children) would be judged more negatively than men if they defaulted on Tsika. It was hypothesized that a more negative evaluation of women than men if they defaulted on Tsika would be predicted by hostile sexism. Results confirmed that Tsika is expected more of women than of men. Benevolent sexism and its interaction with hostile sexism predicted the bias in expectation of Tsika of women over men. Results also confirmed that women who default on Tsika are evaluated more negatively than men. Hostile sexism predicted the bias in negative evaluations of women over men who default on Tsika.",
          "Despite the ongoing shift in societal norms and gender-discriminatory practices toward more equality, many heterosexual women worldwide, including in many Western societies, choose to replace their birth surname with the family name of their spouse upon marriage. Previous research has demonstrated that the adherence to sexist ideologies (i.e., a system of discriminatory gender-based beliefs) among women is associated with their greater endorsement of practices and policies that maintain gender inequality. By integrating the ideas from the system justification theory and the ambivalent sexism theory, we proposed that the more women adhere to hostile and benevolent sexist beliefs, the more likely they would be to justify existing gender relations in society, which in turn, would positively predict their support for traditional, husband-centered marital surname change. We further argued that hostile (as compared to benevolent) sexism could act as a particularly strong direct predictor of the support for marital surname change among women. We tested these possibilities across three cross-sectional studies conducted among women in Turkey (Study 1, N=118, self-identified feminist women; Study 2, N=131, female students) and the United States (Study 3, N=140, female students). Results of Studies 1 and 3 revealed that higher adherence to hostile (but not benevolent) sexism was associated with higher support for marital surname change indirectly through higher gender-based system justification. In Study 2, the hypothesized full mediation was not observed. Consistent with our predictions, in all three studies, hostile (but not benevolent) sexism was found to be a direct positive predictor of the support for marital surname change among women. We discuss the role of dominant ideologies surrounding marriage and inegalitarian naming conventions in different cultures as obstacles to women's birth surname retention upon marriage.",
          "In a cross-sectional survey, we measured the extent to which 256 Italian women, (a) identified with Italy, (b) justified broader systems in Italy, (c) justified their gender system, and (d) held ambivalent sexist ideologies. Supporting predictions derived from the social identity model of system attitudes (SIMSA), results revealed that women supported the Italian gender system, and endorsed ambivalent sexist views the stronger they identified with Italy as this national attachment allowed them to embrace their broader Italian systems. Alternative models investigating plausible alternative association with respect to the foregoing variables did not fit the data better than the SIMSA model.",
          "[\"In the wake of the Supreme Court's recent Windsor opinion, the focus of marriage equality litigation has returned to challenging state gender-specific marriage laws that make a couple's right to marry a function of their genders. The outcomes of these future legal challenges will be affected by the level of scrutiny that courts apply. To date, all courts that have applied heightened scrutiny have held same-sex marriage prohibitions to be unconstitutional, while courts applying rational basis review have often upheld such laws.\", 'Laws that classify or discriminate based on gender are generally subject to heightened scrutiny. Yet the vast majority of courts have held that gender-specific marriage laws neither classify nor discriminate based on gender because the laws apply to both men and women, and thus are not subject to heightened scrutiny. In Loving v. Virginia, however, the Supreme Court explicitly rejected the parallel argument that if a race-specific marriage law applies equally to all affected races then heightened scrutiny is unnecessary.', 'Courts wishing to avoid heightened scrutiny have attempted to distinguish Loving. For example, courts have concluded that Loving is irrelevant to the level of scrutiny applied in equal protection challenges to gender-specific marriage laws because, while miscegenation laws were implemented to further the theory of white supremacy, gender-specific marriage laws do not have a similar improper discriminatory purpose. In particular, they assert that gender-specific marriage laws are not motivated by a desire to put one gender in a superior position to another gender.', 'This Article explains why these attempts to distinguish Loving are flawed. First, courts misapply the basic equal protection framework when they demand a discriminatory motivation for gender-specific marriage laws as part of determining the appropriate level of scrutiny. Furthermore, even if intent were relevant to that determination, supporters of same-sex marriage bans seek to implement and reinforce a gendered model of marriage in which a woman is presumed to be subordinate to a man. To social conservatives, who are the driving force behind gender-specific marriage laws, same-sex marriage is dangerous precisely because it threatens the gendered model of marriage in which a husband dominates his wife. The Article concludes by noting that following the logic of Loving, same-sex marriage bans necessarily classify based on gender and, thus, gender-specific marriage laws should receive heightened scrutiny.']",
          "Social constructionist beliefs posit that sociocultural forces shape power-stratified social categories, whereas essentialist beliefs posit that social categories are defined by an immutable, natural essence shared by category members. Across three studies, we developed and validated the Social Constructionist and Essentialist Beliefs Scale (SCEBS) to assess the latent structure of ontological beliefs about two social categories: gender and race. In Study 1 (N = 598), we found a three-factor structure for SCEBS-Gender and SCEBS-Race, consisting of Social Constructionism, Essentialism, and Realism. In Study 2a (N = 300), we examined factor structure stability and criterion-related validity. We found incremental validity of SCEBS, and social constructionist beliefs particularly, for predicting modern sexism and symbolic racism beyond extant, essentialism-focused measures. In Study 2b (N = 218), we established 4-week test-retest reliability of SCEBS. Our research demonstrates the value of assessing both social constructionist and essentialist beliefs in the study of prejudice.",
          "Despite progress towards equality on many fronts, sexism remains a problem. If sexism is to be combatted, an understanding of the attitudes underlying its various expressions is required. Previous research has strongly linked sexism to right-wing authoritarianism (a preference for collective security) and social dominance orientation (a preference for group-based hierarchy). Both are often considered unitary constructs, however recent attention to their facets has revealed finer details. This study breaks ground by utilising these facets to predict benevolent sexism (paternalistic attitudes towards women) and hostile sexism (antipathy towards women) in an Australian sample (N = 229). Both sexism variables were significantly predicted by two of the five attitude facets. For benevolent sexism, these were traditionalism and dominance, and for hostile sexism, they were conservatism and anti-egalitarianism. Hostile sexism was also predicted by gender. These findings add to the theoretical understanding of ambivalent sexism, have implications for addressing sexism in society, and support calls for future research to utilise the facets of right-wing authoritarianism and social dominance orientation.",
          "The aim of the current study was to investigate the relationship between ambivalent sexism, specifically hostile sexism (HS) and benevolent sexism (BS), religiosity, and attitudes toward childlessness in Muslim undergraduate students. The sample consisted of 157 (79 women, 78 men) Turkish Islamic undergraduate students studying in North Cyprus, aged between 17 and 30 years-old and originating from various regions in Turkey. Participants completed measures of ambivalent sexism and attitudes toward childlessness as well as rated their level of religiosity. It was expected that due to its emphasis of traditional gender roles, benevolent sexism and high Islamic religiosity would predict negative attitudes toward childlessness in the Turkish sample. Results showed that in women, higher levels of religiosity and benevolent sexism predicted negative attitudes toward childlessness, whereas in men, benevolent sexism alone was predictive of negative attitudes toward childlessness. The results are discussed in accordance with literature on ambivalent sexism and the religion of Islam.",
          "Results of three cross-sectional studies indicate that sexism in Poland is associated with collective narcissism-a belief that one's own group's (the in-group's) exaggerated exceptionality is not sufficiently recognized by others-with reference to three social identities: male, religious, and national. In Study 1 (n = 329), male collective narcissism was associated with sexism. This relationship was sequentially mediated by precarious manhood and traditional gender beliefs. In Study 2 (n = 877), Catholic collective narcissism predicted tolerance of violence against women (among men and women) over and above religious fundamentalism and in contrast to intrinsic religiosity. In Study 3 (n = 1070), national collective narcissism was associated with hostile sexism among men and women and with benevolent sexism more strongly among women than among men. In contrast, national in-group satisfaction-a belief that the nation is of a high value-predicted rejection of benevolent and hostile sexism among women but was positively associated with hostile and benevolent sexism among men. Among men and women collective narcissism was associated with tolerance of domestic violence against women, whereas national in-group satisfaction was associated with rejection of violence against women.",
          "Is having children related to benevolent sexism? Two theoretical accounts-benevolent sexism as role justification and benevolent sexism as a mating strategy-suggest the possibility of a positive and bidirectional association. Gender disparities in childrearing could prompt inequality-justifying endorsement of benevolent sexism and/or endorsing benevolent sexism could promote traditional gender roles that facilitate having more children. We assessed the bidirectional associations between individuals' number of children and their endorsement of benevolent sexism over a two-year period in a large national panel sample of New Zealanders (N = 6,017). Zero-inflated structural equation modeling indicated that having a greater number of children was associated with stronger endorsement of benevolent sexism two years later, but no evidence emerged for the reverse direction. This study illustrated ways to tentatively test predictions of theoretical accounts on sexism and identified new, though small, evidence for the role justification perspective.",
          "Why are so few women being elected to positions of leadership in Zimbabwe? This article provides insights into the barriers that women face getting elected. In documenting the experiences of 11 female candidates who ran in the July 2018 elections in Harare, the article argues that intersectional axes of discrimination based on gender, age, class, party identification and marital status became significant barriers for these women in getting elected. The article draws on ethnographic material consisting of in-depth interviews, focus groups, participant observation and media analysis. The article concludes that the growing feminist scholarship on intersectionality which originated in the United States needs to go beyond the factors of race, class and gender, to include age, marital status and party identification particularly when considering the experiences of women of colour in the global South as reflected in the case of Zimbabwe.",
          "Sexist language excludes, trivializes, or diminishes either gender. Despite efforts by many professional bodies to encourage the use of nonsexist alternatives, sexist language use persists across many languages. Furthermore, research has shown that men are less supportive of nonsexist language alternatives than women, and that this effect is mediated by attitudes toward women. We propose that broader ideologies related to the perceived legitimacy of dominance hierarchies and existing social systems also explain this gender gap. British undergraduate participants completed measures of attitudes toward women, gender-specific system justification, and social dominance orientation. They also completed an inventory of attitudes toward sexist language. There was a strong gender difference in attitudes toward sexist language that was significantly mediated by gender-specific system justification and social dominance orientation. The relationship between gender and attitudes toward sexist language therefore appears to be driven by broader ideologies that serve to keep women in their place.",
          "Previous research suggests that benevolent sexism is an ideology that perpetuates gender inequality. But despite its negative consequences, benevolent sexism is a prevalent ideology that some even find attractive. To better understand why women and men alike might be motivated to adopt benevolent sexism, the current study tested system justification theory's prediction that benevolent sexism might have a positive linkage to life satisfaction through increased diffuse system justification, or the sense that the status quo is fair. A structural equation model revealed that benevolent sexism was positively associated with diffuse system justification within a sample of 274 college women and 111 college men. Additionally, benevolent sexism was indirectly associated with life satisfaction for both women and men through diffuse system justification. In contrast, hostile sexism was not related to diffuse system justification or life satisfaction. The results imply that although benevolent sexism perpetuates inequality at the structural level, it might offer some benefits at the personal level. Thus, our findings reinforce the dangerous nature of benevolent sexism and emphasize the need for interventions to reduce its prevalence.",
          "Life satisfaction is one of the most relevant indicators of psychological health. The present study aimed at extending previous research on life satisfaction by examining its antecedents for men and women in five countries (e.g., Italy, Poland, Romania, the UK, and Iran), with different levels of gender equality, according to the Global Gender Gap Index. Besides traditional variables (i.e., age, self-esteem and income), we also investigated the role of ambivalent sexism and gender identification. Participants were 2561 adults (54% female). Results showed the key role of self-esteem for both men and women and across countries. Gender identification was positively associated with life satisfaction, with the only exception of the more gender egalitarian country, i.e., the UK. Furthermore, in the less egalitarian countries, i.e., Italy and Iran, life satisfaction is also positively related to benevolent stereotypes toward men. Taken together, findings underline the interdependence between personal and contextual dimensions in sustaining life satisfaction, and the role of gender as a significant variable in terms of both the existence of different patterns for men and women and the effects of gender stereotypes across cultures.",
          "The New Year's Eve 2015 mass sexual assaults in Germany led to a broader debate about whether the perpetrators, most of them self-identifying as Muslims, were encouraged to such acts by particularly sexist attitudes toward girls and women. Here, we argue that it is not the specific religious affiliation of individuals per se that predicts sexism. Rather it should be the extent to which they are involved in their religion, i.e., their religiosity and their endorsement of religious fundamentalism. In line with the theory of ambivalent sexism, we distinguish hostile and benevolent sexism, while controlling for right-wing authoritarianism and social dominance orientation. In two Pilot Studies, we explored differences in ambivalent sexism (a) between male and female individuals of Muslim faith, Christian faith, Muslim faith, Christian faith, and no religious affiliation residing in Germany, while at the same time (b) differentiating between sexism directed toward girls and sexism directed toward women. In our Main Study, we tested the interrelations between religiosity, religious fundamentalism, and ambivalent sexism in our religious subsamples of male Christians, female Christians, male Muslims, and female Muslims using a multigroup multivariate moderated mediation analysis. In all three studies, Muslims were more religious, endorsed religious fundamentalism more strongly, and held stronger benevolent sexist beliefs toward girls and women as well as stronger hostile sexist beliefs toward women than Christians and non-religious participants. In our Main Study, with female Christians as the reference group, male Muslims' stronger benevolent and hostile sexist beliefs toward girls were mediated by religiosity and fundamentalism. Female Muslims' stronger endorsement of benevolent sexism toward girls could be explained by their higher level of fundamentalism. While our findings show that differences in ambivalent sexism between religious groups were partly due to different levels of religiosity and fundamentalism, they also suggest that there are factors other than those investigated in our studies responsible for male Muslims' particularly strong sexism. We discuss specific contents of Islamic religious teachings and honor beliefs as possible causes to be investigated further in future research.",
          "Sexism as a variety of prejudice is widely addressed as a severe social problem for society owing to its quality of establishing various forms of inequality. However, sexism is a rather neglected issue in geography especially concerning the global South. The postcolonial island state of Mauritius, agrarian oriented and socially conservative but well integrated in global value chains, shows the unique combination of a strong paternalistic form of inward ethnic orientation, characteristic for most postcolonial states, combined with a minor tendency for metropolisation, which makes the island state worthwhile for the further development of generic theories of sexism in general. The paper analyses relevant predictors of sexism in Mauritius that can be useful in informing approaches that focus especially north/south differences of gender inequality. It becomes apparent that mechanisms of sexism in Mauritius are in most dimensions the same as the mechanisms found in the global North. Communalism and absent metropolisation remain significant, yet other important predictors are sex, life satisfaction, withholding citizen rights to foreign wives of Mauritian men, and xenophobic attitudes. These results point in the direction of the necessity to think in new ways about attitudinal differences of societies in the global North/South especially in postcolonial contexts. (C) 2016 Elsevier Ltd. All rights reserved.",
          "Previous research has examined many aspects of ambivalent sexism theory, although there has been an overall dearth of research conducted on its potential relationship to abortion attitudes. This study aims to compare the extent to which hostile and benevolent sexism, the two primary components of the Ambivalent Sexism Inventory, predict antichoice attitudes. Data were collected at six U.S. colleges and universities (N = 627), and findings generally support the hypothesis that higher endorsements of either form of sexist beliefs are linked with antichoice attitudes.",
          "Cultures of honor, such as Turkey, prioritize defending individual and family reputations, but in gender-specific ways (Nisbett and Cohen 1996). Men maintain honor via reputations for toughness, aggression, control over women, and avenging insults. Women maintain honor through obedience to men, sexual modesty, and religious piety. Honor beliefs support women's subordination, justifying violence against them (Sev'er and Yurdakul, Violence against Women, 7, 964-998, 2001) and therefore should be challenged. Understanding honor beliefs' ideological correlates may inform such efforts. We hypothesized that benevolent sexism, a subjectively favorable system-justifying ideology, would more strongly, positively predict Turkish women's (versus men's) honor beliefs; whereas hostile sexism, which is openly antagonistic toward women, would more strongly, positively predict Turkish men's (versus women's) honor beliefs. Additionally, due to justifications for gender inequality embedded in Islamic religious teachings, we expected Islamic religiosity to positively predict honor beliefs for both genders. A convenience sample of Turkish undergraduates (313 women and 122 men) in Ankara completed the Ambivalent Sexism Inventory, Religious Orientation Scale, and Honor Endorsement Index. Regression analyses revealed that benevolent (but not hostile) sexism positively predicted women's honor beliefs, whereas hostile (but not benevolent) sexism positively predicted men's honor beliefs. Islamic religiosity positively predicted honor beliefs for both genders, but (unexpectedly) did so more strongly for men than women. We suggest that combating benevolent sexism and promoting feminist interpretations of Islamic religiosity may help to empower Turkish women to challenge honor beliefs.",
          "Despite the rapid rise of women's education and the fall of their fertility rates in the Middle East and North Africa (MENA), female labor force participation (FLFP) rates remain low. This paper argues that oil and gas rents and Islamic family law jointly matter. Controlling for country and year fixed-effects in a long panel dataset, it shows that per capita oil and gas rents reduce FLFP rates in countries with Islamic family law more than others. The results are robust to econometric methodology and to controlling for the interaction of rents and all other time-constant factors that are common across the MENA region, such as culture, social norms, and institutions. Moreover, the results cannot be replicated by substituting historical plough use, a strong predictor of gender discrimination, in place of Islamic family law. Policy implications are discussed.",
          "The present set of studies investigated the role of both religiosity and social-ideological attitudes in the prediction of various forms of sexist and gender-related attitudes. Hierarchical regression analyses on data collected in three countries (i.e., two heterogeneous adult samples from Turkey and the Netherlands, and two student samples from Belgium; combined N = 964) revealed that although individual differences in religiosity did predict traditional gender role beliefs and sexism (towards both women and men), its impact was limited compared to the impact of individual differences in social-ideological attitudes (i.e., social dominance orientation and particularly authoritarianism). In the discussion, we argue that sexism primarily relates to individual differences in peoples' perspective on the social world, and that religiosity explains little additional variance.",
          "['ObjectiveWe examine how women high in social dominance orientation reconcile supporting a social system that seemingly disadvantages them. We propose that women high in social dominance orientation are more likely to adopt a benevolently sexist worldview.', \"MethodThis paper contains data from two survey studies. Study 1 used data from the New Zealand Attitudes and Values Survey (N=10,485) which is a study of social attitudes, personality, and health outcomes among New Zealanders. Measures of Social Dominance Orientation, as well as Hostile and Benevolent Sexism were included in Study 1. Study 2 consisted of data from a smaller sample of American females (N=269). In addition to the variables described above, we also measured the extent to which participants perceived the gender hierarchy to be legitimate and their perceived personal need for protection from men. Control variables included hostile sexism and demographic variables (participants' age, race, and socioeconomic status).\", \"ResultsResults revealed that social dominance orientation was a stronger predictor of benevolent sexism among women compared to men. Serial mediation analysis was then conducted in Study 2. Study 2 confirmed the hypothesised mechanism: Higher social dominance orientation was associated with perceptions that women's low status is legitimate which, in turn, was associated with higher perceived personal need for protection from men. This was then associated with the endorsement of a benevolently sexist worldview.\", 'ConclusionOur findings suggest that social dominance orientation might help to explain why some women endorse benevolent sexism.']",
          "The studies presented here focus on the relationship between legitimizing ideologies and ambivalent sexism. 544 Italian students (Study 1) and 297 US students (Study 2) completed several scales: social dominance orientation (SDO), system justification (SJ), political orientation, religiosity, and the Glick and Fiske (J Pers Soc Psychol 70(3):491-512, 1996) Ambivalent Sexism Inventory. Zero-order correlations revealed all facets of ideological attitudes to be positively related to each other and correlated with ambivalent sexism. In particular, the SDO was related to both ideology components of SJ and political orientation and to ambivalent sexism (hostile and benevolent). Moderated regressions revealed that SDO has a positive impact on hostile sexism for men only, while SJ has a positive impact on hostile sexism for women only. While the first result was stable across the two studies, the last moderated effect has been detected only in Study 1. We discuss the results with respect to different facets of social ideologies and cultural differences between the two countries.",
          "This study examined the proportion of people who held ambivalent versus univalent sexist attitudes, that is, those who simultaneously endorsed benevolent sexism (BS) and hostile sexism (HS). We examined this by capitalizing on recent innovations in latent class analysis to model latent types of sexists, or response profiles to BS and HS, in a nationally representative New Zealand sample (n?=?6450). Our results show, for the first time, that by far, the most common pattern was for people to hold similar levels of BS and HS. Strongly ambivalent sexists, however, constituted only 8%9% of the population. Most were classified as mild or moderate ambivalent sexists (28% and 44%, respectively). Univalent sexism was exceedingly rare, with between 2% and 5% of people solely endorsing HS but not BS, or BS but not HS. We validated the model by showing theoretically predicted differences across sexist types in demographics (gender, age), ideology (social dominance orientation, right-wing authoritarianism), and relationship satisfaction. Strongly ambivalent sexists also held the highest levels of gender-specific system justification, invariant of gender. This provides novel evidence for the premise that strong sexist ambivalence promotes support for and faith in the patriarchical system. Copyright (C) 2012 John Wiley & Sons, Ltd.",
          "Though gender-role attitudes correlate with attitudes toward abortion (Wang, 2004), past research has treated gender-role attitudes as a unidimensional construct. The theory of ambivalent sexism (Glick & Fiske, 1996) holds that attitudes toward women form 2 distinct ideologies; namely, benevolent and hostile sexism. The current study examined the relationship between these ideologies and attitudes toward elective and traumatic abortion in a sample of Internet users (N = 529). As expected, both benevolent and hostile sexism predicted attitudes toward elective abortion, but only benevolent sexism predicted attitudes toward traumatic abortion. These results remained robust after controlling for important demographic factors. Such findings highlight the importance of differentiating between hostile and benevolent sexism when predicting attitudes toward complex issues.",
          "Ambivalent Sexism Theory delineates two forms of sexist beliefs: hostile and benevolent. While several studies have indicated interpersonal problems associated with both forms of sexist beliefs, few have examined mental health factors. Gender role strain theories suggest that rigid adherence to traditional gender roles is associated with psychological dysfunction. By extension, adherence to sexist beliefs should be associated with mental health symptoms. However, this specific connection between sexist beliefs and mental illness remains untested. To address this gap, we analyzed data from a large community sample of men and women (N= 1,025) that was gathered online via survey from 2017-2019. Multi-group structural equation modeling indicated hostile sexism as a significant predictor of depression, anxiety, and stress across men and women. Benevolent sexism was significantly positively associated with stress and anxiety in men, as well as anxiety symptoms in women at the bivariate level; however, these connections became non-significant when controlling for hostile sexist beliefs. Structural invariance analyses failed to indicate any moderating effects associated with gender. Our results support a modest positive connection between hostile sexist beliefs and mental health symptoms. Clinical implications, directions for future research, and limitations are discussed.",
          "The present study investigates the sexist implications of endorsement of bride price payment (known locally and regionally as Lobola), with a Zimbabwean sample (n = 437; mean age = 22.19, SD = 2.34). Specifically, we predicted that endorsement of Lobola and benevolent sexism would predict placing restrictions on women's behaviour (i.e. paternalistic chivalry). More importantly, we also predicted that benevolent sexism would mediate the relationship between endorsement of Lobola and paternalistic chivalry. Results supported both hypotheses. We discuss the results within the framework of ambivalent sexism theory.",
          null
         ],
         "marker": {
          "opacity": 0.5,
          "size": 5
         },
         "mode": "markers+text",
         "name": "2_sexismo_religiosity_authoritarianism",
         "text": [
          "",
          "",
          "",
          "",
          "",
          "",
          "",
          "",
          "",
          "",
          "",
          "",
          "",
          "",
          "",
          "",
          "",
          "",
          "",
          "",
          "",
          "",
          "",
          "",
          "",
          "",
          "",
          "",
          "",
          "",
          "",
          "",
          "",
          "",
          "",
          "2_sexismo_religiosity_authoritarianism"
         ],
         "textfont": {
          "size": 12
         },
         "type": "scattergl",
         "x": [
          3.8292925357818604,
          3.2654409408569336,
          3.1501669883728027,
          2.997148275375366,
          3.8403117656707764,
          2.611116647720337,
          3.564486026763916,
          2.8815770149230957,
          1.615653395652771,
          2.667405605316162,
          3.128615617752075,
          3.436758041381836,
          3.216181516647339,
          0.6319827437400818,
          3.086820602416992,
          3.098386764526367,
          3.8157095909118652,
          3.4621689319610596,
          3.1085398197174072,
          3.2116892337799072,
          2.9752464294433594,
          3.0057148933410645,
          2.895134210586548,
          3.7538797855377197,
          3.128312826156616,
          3.794163942337036,
          3.731118679046631,
          3.7061665058135986,
          3.6242806911468506,
          3.0058488845825195,
          3.4205193519592285,
          3.0484201908111572,
          3.798048496246338,
          2.671570062637329,
          3.1020467281341553,
          3.15085506439209
         ],
         "y": [
          7.479495525360107,
          7.741093158721924,
          7.06842565536499,
          7.963964462280273,
          7.65582275390625,
          7.933975696563721,
          8.214771270751953,
          8.18163013458252,
          8.529658317565918,
          7.804091453552246,
          7.247054100036621,
          7.761805057525635,
          7.496338844299316,
          9.163045883178711,
          8.280881881713867,
          7.894468784332275,
          7.630828857421875,
          7.72476863861084,
          7.908443450927734,
          7.120060443878174,
          7.439237117767334,
          7.742303371429443,
          7.747536659240723,
          7.58445930480957,
          7.18441104888916,
          8.409963607788086,
          7.694890975952148,
          9.286529541015625,
          7.698966979980469,
          7.869940280914307,
          7.765768527984619,
          7.9539055824279785,
          8.415119171142578,
          7.830336570739746,
          7.342828273773193,
          7.850480556488037
         ]
        },
        {
         "hoverinfo": "text",
         "hovertext": [
          "The knowledge of the promoting variables of dating violence has been a topic much studied in the last decade. However, the definition of the profile of this type of victim still presents numerous unknowns that hinder the effectiveness of prevention programs against violence. This study analyzes the interaction of cognitive, emotional and behavioral variables that converge in the victim profile. The sample comprised 2577 adolescents (55.2% girls) of 14 to 18 years in age (M = 15.9, SD = 1.2). The instruments used were the dating violence questionnaire (CUVINO), the scale of detection of sexism in adolescents (DSA), Mechanisms of Moral Disengagement Scale and Child and Adolescent Disposition Scale (CADS). To study the relationship between the different variables considered in this article, a SEM analysis was used. The results show that victims of gender violence and emotional abuse have high scores in benevolent sexism, moral disengagement and emotionally negative behavioral patterns. Likewise, the existence of an interdependent relationship between these three sets of variables was found.",
          "Background: Emotional dependency in couples involves excessive and dysfunctional emotional bonding. Aims: This work aimed to determine the relationship between violence, jealousy, and ambivalent sexism according to emotional dependence in adolescent student couples. Methods: A cross-sectional study. A total of 234 Spanish adolescents (69.7% female, M-age = 16.77, SD = 1.11) participated in the study. Participants completed an ad hoc interview and several validated tests (Partner's Emotional Dependency Scale, the Ambivalent Sexism Inventory, the Jealousy subscale of the Love Addiction Scale, the Conflict in Adolescent Dating Relationship Inventory). Results: Of the sample, 40.6% indicated high emotional dependence and 14.5% extreme emotional dependence. Differences were observed according to gender (t = 3.92, p < 0.001), with adolescent boys scoring higher than adolescent girls. Extremely emotionally dependent participants showed differences in both violence (sexual, relational, verbal, and physical) and ambivalent sexism (hostile, benevolent) and jealousy scores. Generating a predictive model of emotional dependence, with the variable jealousy and ambivalent sexism as predictor variables, it was found that jealousy has the greatest predictive and major explanatory capacity (R-2 = 0.297); with an R-2 = 0.334. However, the contribution of the ASI-Hostile subscale was not significant when the ASI-Benevolent subscale was introduced into the model. Further, in a second model where the scores on jealousy and the couple conflict inventory's subscales were considered as predictors, are again jealousy makes the greatest predictive contribution and shows the greatest explanatory capacity (R-2 = 0.296). It was found that the contribution is significant only for the predictive capacity of Sexual Violence and Relational Violence. In this sense, the educational context is one of the propitious places to detect and correct behaviors that may be indicative of potentially unbalanced and unbalancing relationships for adolescents.",
          "In this article, the special conditions of inequality that women deprived of liberty in Colombia undergo are analyzed after identifying how gender discrimination is present in the causes of female delinquency. The aforementioned analysis is done in the context of the crisis of the Penitentiary and Prison System of Colombia, of which an unconstitutional state of affairs was declared since the issuance of the judgments T-388 of 2013 and T-762 of 2015 by the Constitutional Court. In accordance with the former, the purpose of this work is to establish the need to implement a differential gender focus that permits the restoration and guarantee of the female prison population's rights in Colombia in the follow-up process to overcome the country's penitentiary and prison crisis.",
          "In this study, we examined intimate partner violence (IPV), cold violence, and controlling behaviors in male same-sex relationships in China, with a focus on the characteristics of IPV and controlling behaviors, and their relationships with ambivalent sexism. IPV was categorized as psychological aggression, physical injury, physical assault, and sexual coercion and was measured using the revised Conflict Tactics Scales (CTS2), an eight-item scale measuring cold violence that was designed specifically for this study. Controlling behaviors were measured using a 34-item scale that was designed for this study, and sexist attitudes toward women and men were assessed using the short forms of the Ambivalent Sexism Inventory (ASI) and the Ambivalence toward Men Inventory (AMI), respectively. Participants (N = 272) reported instances of perpetration of or victimization by IPV and controlling behaviors within the past 6 months and indicated ambivalent sexism (hostile attitude toward men and women and benevolent attitude toward men and women [HM, HS, BM, and BS, respectively]). Almost 47.1% of the participants reported an experience of IPV, and the prevalence of cold violence and controlling behaviors was found to be 65.1% and 80.5%, respectively. Psychological aggression was the most common, followed sequentially by sexual coercion, physical assault, and injury in present study. We found a strong association between perpetration and victimization and that different forms of violence tend to co-occur in both IPV and controlling behaviors. As predicted, ambivalent sexism was positively correlated with IPV and controlling behaviors, specifically HS and HM. The results indicated the high prevalence of IPV and controlling behaviors among male same-sex relationships, and sexism contributing to this high prevalence.",
          "Assuming that some moral variables can play a role in explaining intimate partner violence (IPV) and its treatment, this study explores the evolution of the relationship between some moral variables, which have recently been connected to IPV, and sexist attitudes in 160 men convicted of violence against the partner. The general hypothesis is that the moral variables can change during psychological treatments, and therefore be intervention targets, because they are related to more traditional variables in the field of IPV, such as sexist attitudes. To test this idea, we took pretreatment and posttreatment measures on moral variables (moral absolutism and moral foundations) and sexist attitudes (benevolent and hostile sexism) and analyzed their relationships and their changes after the completion of a prescribed psychological treatment. The results showed that (a) the moral variables were significantly correlated with the sexist attitudes before and after the treatment; (b) the men convicted of violence against the partner held with less certainty their general beliefs about morality and their particular beliefs about the binding moral foundations (in-group, authority, and purity) after the unspecific psychological treatment; and (c) their moral absolutism before the treatment predicted the remaining sexist attitudes after the treatment. Practical implications can be drawn to better understand this kind of prevalent violence and eventually to improve the psychological treatments.",
          "This study analysed the capacity of emergency physicians and nurses working in the city of Granada (Spain) to respond to intimate partner violence (IPV) against women, and the mediating role of certain factors and opinions towards certain sexist myths in the detection of cases. This is a cross-sectional study employing the physician readiness to manage intimate partner violence survey (PREMIS) between October 2020 and January 2021, with 164 surveys analysed. Descriptive and analytical statistics were applied, designing three multivariate regression models by considering opinions about different sexist myths. Odds ratios and 95% confidence intervals (CIs) were considered for the detection of cases. In the past six months, 34.8% of professionals reported that they had identified some cases of IPV, particularly physicians (OR = 2.47, 95% CI = 1.14-5.16; OR = 2.65, 95% CI = 1.26-5.56). Those who did not express opinions towards sexist myths related to the understanding of the victim or the consideration of alcohol/drug abuse as the main causes of violence and showed a greater probability of detecting a case (NS) (OR = 1.26 and OR = 1.65, respectively). In order to confirm the indicia found, further research is required, although there tends to be a common opinion towards the certain sexual myth of emergency department professionals not having an influence on IPV against women.",
          "['Teen dating violence is defined as the physical, sexual, psycho-emotional violence that occurs within couple relationships during adolescence. These are relationships that threaten the well-being, health or integrity of the couple and that use mechanisms of control or domination of the couple through coactive or coercive tactics.', 'With this research we have tried to find out about life satisfaction, the physical, psychological and communicative violence suffered by adolescent men and women who are religious or not. In addition, detect sexist behaviours in young people of both sexes and assess behaviours based on religious practice.', 'A descriptive, cross-sectional and predictive study was carried out. Cluster random sampling was carried out when selecting secondary schools in South-eastern Spain. The study included 1 036 adolescents with ages between 14 and 19 years old, of whom 48.1 % were men and 51.9 % women.', 'To fulfill the objectives together with demographic and personal data, the Satisfaction with Life Scale (SWLS) is applied, which assesses the cognitive aspects of well-being. The Psychological Violence Scale is applied with the objective of assessing the psychological and emotional violence. To know the physical violence and authoritarian behaviour, the Physical Violence Scale is applied. Finally, the Violence in Communication and Relationship with Others Scale is introduced for studying online violence and relationship violence. The three violence scales have been adapted, developed and validated by Soriano and Aguilera (2017). Finally, the questionnaire on sexist behaviours collects information on false beliefs and sexist behaviours.', 'The data collection procedure followed the standards set out in the Helsinki Convention (2013) for scientific research involving human participants.', 'Regarding the results, in the first of the logistic regression models, it is good for boys to go out with many girls, but not the other way around (Wald = 14.461; p=.000; OR = 4.047), it is observed to be that boys are 4.047 times more likely to agree with this attitude than girls. Also, it is statistically significant that sometimes you have to threaten others to know who is in charge, (Wald = 8.107; p=.004; OR = 2.173), which indicates that the boys are 2.173 times more likely in accordance with that conduct that the girls. It is also statistically significant that when a woman is assaulted by her partner she will have done something to provoke him, (Wald = 16.315; p=.000; OR = 3.538), making it 3.538 times more likely that boys support this attitude than girls. At the same time, it is statistically significant that the violence that occurs within the home is a family matter and should not leave there, (Wald = 4.132; p=.042; OR = 1.694), which also indicates that boys are 1.694 times more likely to adopt this behaviour than girls. Regarding the perception of violence, it is observed that men perceive more violence than women, being significant for the three types of violence studied (p <.05): Communication, psychological and physical. Personal satisfaction also shows significant results (Z = -2.61; p=.009). In this case, men perceive greatersatisfaction with their life than women.', 'For students with religious beliefs and practices, statistically significant results were evident only in personal satisfaction (Z = -3.42; p=.001), showing that students who practice a religion have more satisfaction with life.', 'The results show higher levels of physical, psychological and communication / relationship violence suffered by men. However, men feel more satisfation with life and show more sexist behaviour. Religious belief does not intervene in violence, but the practicing adolescents are those most satisfied with life.']",
          "(1) Background: Gender-based violence has no geographical, personal, or social boundaries. It constitutes a serious public health problem that affects the entire society. This research aims to identify and compare the level of ambivalent sexism in Spanish and Colombian university students and its relationship with sociodemographic factors. Ambivalent sexism, developed by Glick and Fiske (1996), is considered a new type of sexism since, for the first time, it combines negative and positive feelings that give rise to hostile and benevolent sexism, maintaining the subordination of women through punishment and rewards. (2) Methods: The methodology consisted of the application of the validated Spanish version of the Ambivalent Sexism Inventory (ASI) to a sample of 374 students in their final academic year of the Law program, of which 21.7% were students at the University of Santander (Bucaramanga, Colombia), 45.5% at the University Rey Juan Carlos (Madrid, Spain), and the remaining 32.9% at the University of Seville (Seville, Spain). (3) Results: A high level of ambivalent sexism is reported in Colombian students nowadays. In the two countries. there are similarities (e.g., the great weight of religion and the variation in attitudes towards sexism in people who identify themselves as women, compared to male or students consulted that prefer not to answer) and differences (e.g., absence in Colombia of gender-specific legislation, low number of students who have received gender education in Spain). (4) Conclusions: These findings may contribute to the construction of laws that take into account the particular problems of women and the development of educational programs on gender that are offered in a transversal and permanent way and that take into account cultural factors and equity between men and women as an essential element in the training of future judges who have the legal responsibility to protect those who report gender violence.",
          "Sexism and violence are serious problems in today's society. Therefore, our study analyzes the relationships between: sexism and justification of violence, right-wing authoritarianism and social dominance orientation, identifying predictors of sexism and violence justification. The sample included 2,867 participants, i.e. 1,455 adolescents between 11 and 17 years and their parents (764 mothers, 648 fathers). Analyses confirmed the following results: 1) positive correlations between sexism (hostile, benevolent, ambivalent, neosexism) and justification of violence (bullying, gender, against minorities), 2) negative correlations between sexism (hostile, neosexism) and rejection of violence, 3) positive correlations betweeen sexism (hostile, benevolent, ambivalent) and authoritarianism and social dominance; 4) High level of justification of violence (gender, against minorities, bullying) and being male were predictors of hostile sexism, and high level of justification of violence (against minorities, gender) and authoritarianism in the mother predicted benevolent sexism in adolescents; and 5) Sexism among adolescents was the most relevant explanatory predictor variable of justification of violence. The discussion focuses on the need to implement programmes to promote equality and prevent violence.",
          "The normalization of aggressive behavior in teenage couples when they are dating is a phenomenon that is currently reaching very worrying proportions. The consequences are creating a serious public health problem and have hence aroused the interest of many researchers as to its causes. Most have centered on the role of the aggressor. However, the processes of aggression and victimization are inseparable, and relegating the victims to the background only contributes to increasing the prevalence, severity, and perdurability of the problem. The objectives of this study were to: (i) identify the types and frequency of abuse that adolescents suffer in their relationships; (ii) analyze the relationship between sexist attitudes, acceptance of violence, and victimization; and (iii) determine predictors of the violence suffered in adolescent dating relationships. The sample comprised 2577 adolescents (55.2% girls) of 14 to 18 years in age (M = 15.9, SD = 1.2). The instruments used were the dating violence questionnaire (Cuestionario de Violencia de Novios, CUVINO) and the Scale of detection of sexism in adolescents (Escala de Deteccion de Sexismo en Adolescentes, DSA). The results indicate that victims showed high tolerance towards gender violence. Acceptance was greater the more frequent the abuse or aggressions suffered. Regarding sexist attitudes, only those belonging to the benevolent dimension had predictive value. The results also show that the interaction between acceptance of the abuse suffered and the manifestation of benevolent sexist attitudes predicted victimization involving specific forms of aggression.",
          "Background: Within the context of the widespread use of technologies by adolescents, the objectives of this study were to identify the perpetrators of intimate partner cyberstalking (IPCS) in adolescents; to analyze the relationship between IPCS and gender, age, sexting behaviors, pornography consumption, and ambivalent sexism; and to investigate the influence of the study variables as predictors of IPCS and determine their moderating role. Methods: Participants were 993 Spanish students of Secondary Education, 535 girls and 458 boys with mean age 15.75 (SD = 1.47). Of the total sample, 70.3% (n = 696) had or had had a partner. Results: Boys perform more sexting, consume more pornographic content, and have more hostile and benevolent sexist attitudes than girls. However, girls perpetrate more IPCS than boys. The results of the hierarchical multiple regression indicate that hostile sexism is a predictor of IPCS, as well as the combined effect of Gender x Pornography and Benevolent Sexism x Sexting. Conclusions: it is essential to implement sexual affective education programs in schools in which Information and Communication Technologies (ICT) are incorporated so that boys and girls can experience their relationships, both offline and online, in an egalitarian and violence-free way.",
          "The aim of this research was to know the factors associated with teen dating violence and victimization because violence in teenagers' relationships is increasing in recent years, constituting a serious social problem. For this purpose, we analyzed teen dating violence and explored the variables (sexist attitudes, personal adjustment, clinical maladjustment, and resilience) related to teen dating violence and victimization using multinomial logistic models. The sample was composed of 268 school teenagers aged 12 to 17 from the Basque Country (Spain). Results showed that sex, age, sexism, and self-esteem predicted teen dating violence and that sex and social problems predicted victimization. Associations between the wide range of variables and types of perpetration and victimization (verbal-emotional, relational, and physical) were also explored. These results could be taken into consideration for future prevention programs.",
          "The main purpose of this study was to analyse whether children's exposure to marital violence was associated with higher levels of hostile or benevolent sexism and with lower psychological well-being when they are adults. The sample consisted of 1,378 university students of both sexes aged between 17 and 30. As was expected, marital violence and ambivalent sexism inversely predicted children's psychological well-being. Children's exposure to marital violence was a significant predictor of ambivalent sexism, although its low predictive value is discussed.",
          "The objectives of this study were to analyze the prevalence of cyber dating violence perpetration (cyber-control and cyber-aggression) in adolescent boys and girls, and to explore the relations between adolescents' involvement in cyber dating violence perpetration (never, occasional, and frequent) and their sexist attitudes (hostile and benevolent), romantic myths, and offline dating violence perpetration (relational, physical, and verbalemotional). The predictive weight of these variables in relation to cyber dating violence perpetration (cybercontrol and cyber-aggression) was also analyzed. Of an initial sample of 919 adolescents, who had or had had a dating relationship in the past 12 months, 492 adolescents were included in this study (M age = 15.10, SD = 1.59). The results revealed a higher prevalence of cyber-control behaviors and a different predictive weight of the analyzed variables in relation to cyber-control and cyber-aggression for boys and girls. Physical and relational offline dating violence were significant predictors of cyber-aggression for boys, while sexist attitudes and romantic myths were the main predictors for girls. Hostile sexism and relational offline dating violence were positive predictors of cyber-control for boys, while romantic myths and verbal-emotional offline dating violence were the main predictors of cyber-control for girls. These results highlight the need for gender analyses in cyber dating violence research.",
          "Prevalence of dating violence (DV) is increasing, so the detailed study of the related factors can help to intervene in it more specifically. This study had three goals: to analyse the frequency of DV; to explore the differences between the frequency of perpetration and victimization of DV and sexist attitudes, antisocial and criminal behaviours and personal adjustment and to identify predictor variables of the frequency of DV. The sample consisted of 271 adolescents in residential care (54.6% boys and 45.4% girls), aged between 12 and 17 years (M = 15.23, SD = 1.60). The results showed that 91.5% of the adolescents perpetrate violence and 88.6% are victimized in their dating relationships. Of them, 28% said they committed frequent violence and 27.3% suffered it frequently. Adolescents who frequently perpetrate or experience violence differ from those who do so occasionally in their personal adjustment, antisocial and criminal behaviours and sexist attitudes. The predictors of the violence perpetration were age, hostile paternalistic sexism and antisocial behaviours. The predictors of victimization were sex, age, hostile paternalistic sexism and self-esteem. The results of this study could be useful for the prevention and intervention in DV in the area of residential care.",
          "This article, from a socio-legal perspective, reflects on the comprehensive protection of victims of gender violence in couples and ex-partners in the contexts of Cuba and Spain. The methods used are the legal theorist, comparative legal, exegetical-analytical and legal sociological, in order to develop a theoretical, normative and axiological approach. Among the results are the assessment of the 2004 Spanish Comprehensive Law as a normative reference, the analysis of the Cuban Penal Code as a text that requires legal reform, and the identification of sexist patterns in both judicial systems. It is argued that the specificity of the violence exerted against women because of structural inequality, requires adequate criminal treatment around the criminal categorization, the configuration of the principle of equality, the complaint and resignation of the victim; as well as the timely intervention of social agencies that contribute to eradicating institutional violence.",
          "The main aim of this preliminary study was to explore if Power and Gender model by Pratto and Walker (2004) constitutes an adequate theoretical tool for the analysis of dyadic power and violence against women in couples. According to this model, power differences between genders are built upon four bases: resources control, social obligations, sexist ideology and threat or use of force. Sixty four battered women were interviewed and asked to express their perceptions about her and his partner's power in three of these four bases. They also informed the frequency of psychological, physical and sexual episodes suffered in these relationships. Results showed that women perceived less power than their batterers in the three bases; these bases also correlated among them and those who had more power in one base was also more powerful in the others. Resources control by him and social obligations distribution in the couple significantly predicted psychological violence, but batterers' sexist ideology predicted physical violence. Finally, women gave different importance to the four power bases as obstacles when considering leaving her abusive partner. In conclusion, Power and Gender model should be investigated more in the field of intimate partner violence against women.",
          "Young adults' transition into college includes risk for onset of mental health problems and sexual violence, particularly for women. Compared to men and boys, women and girls across the lifespan are more likely to be sexually abused, with the perpetrators often being someone close to them. High betrayal trauma is linked to varied mental health outcomes. Despite literature depth, many samples are not ethnically diverse, which results in uncertainty about the generalizability of these findings outside of majority White American populations. The purpose of the current study is to assess gender and high betrayal in sexual violence and mental health outcomes among ethnically diverse college students in the U.S. Participants (N= 368) were ethnically diverse college students attending a public university in the Pacific Northwest, who completed online measures assessing sexual violence and mental health outcomes. When controlling for medium betrayal sexual trauma (perpetrator: unclose other), the associations between high betrayal sexual trauma and dissociation and anxiety, respectively, were moderated by the female gender. The findings point to the utility of relational cultural therapy as a feminist framework that can identify sexism as a contributing factor to young women's increased risk for sexual violence and associated mental health problems.",
          "This paper analyzes how the sexist attitudes are related to the assumption of responsibility, as well as the predictive capacity of this variable with respect to the aggressors' minimization of the harm and a lack of attributing responsibility of 129 aggressors convicted in Spain for gender violence. There was applied the Scale of Attribution of Responsibility and Minimization and the Inventory of Ambivalent Sexism (ASI). The results indicate that a high percentage of aggressors tends to assume the responsibility for the violence exercised and do not justify the aggression. Likewise, there has been stated that the aggressors do not present a high number of sexist attitudes. Nevertheless, sexist attitudes allow to predict the minimization of hurt of the aggressors. The conclusions redound to the importance of intervention with this population, given the efficiency of the programs in the assumption of responsibility and in the decrease of sexist attitudes.",
          "Romantic love myths can work out as a script to guide thoughts, feelings, and behaviors in relationships. The objective of this research was to analyze in adolescents the acceptance of romantic myths and their relationship with sexism and other variables such as sex, age, partner tenure, religiosity and pornography consumption. To carry out the research, a sample of 1840 students in Obligatory Secondary Education from Castilla-La Mancha, with an average age of 14.67 years (DT=.89) was used. Participants completed the Scale of Myths towards Love (Rodriguez-Castro et al., 2013) and the Adolescent Sexism Detection Scale (Recio et al., 2007). The results show that the myth of eternal passion, the myth of omnipotence and the myth of the better half are the most accepted. Comparison of arithmetical averages reports statistically significant differences in the internalization of romantic love according to sex, partner tenure, educational course, religiosity and pornography consumption. Finally, regression analyses indicate that the myths of the Love-Maltreatment association dimension are influenced by hostile sexism, and myths of the Idealization of Love dimension are influenced by sex, religiosity, partner tenure and benevolent sexism. These results can help to understand in the educational community the scope of the ideology of romantic love in the adolescent population and to implement preventive actions that address affective relationships and promote equality between men and women.",
          "Gender violence is a major public health issue. The aim of this study was to determine the prevalence of sexist attitudes that could be associated with said violence, and to identify some sociodemographic variables that predict sexism. A cross-sectional observational study was conducted with 723 adolescents between the ages of 14 to 19. Their explicit sexist attitudes were measured with the EVAMVE and EARG scales, and their implicit attitudes were measured with a series of assessment items regarding the behavior of the protagonists of a video and a story in which a young couple interacts. Explicit and implicit sexist attitudes were detected in adolescents of both sexes. Qualitatively, the assessment of the behavior of the female protagonist is striking. Regarding the sexism predictors, it was found that male adolescents, those born outside of Spain, those who were studying in a public school, those whose parents did not have university studies, and those who consumed the most pornography presented attitudes that were significantly more sexist. These results suggest that it is necessary to strengthen education in equality and prevention of gender violence in adolescents, and to develop affective-sexual education programs.",
          "Youth workers are on the front line for supporting children and young people with the violence some of them face. However, education and training for this part of the role seemed lacking in our experience as a Youth and Community Worker and a Youth and Community Work Lecturer in the UK. An international project that sought to address this educational gap for 'youth practitioners' had a UK arm, which is the context for this article. This project created a three-day training course that sought to improve responses to gender-related violence (GRV) by increasing awareness, improving knowledge about providing support and making referrals, and also sought to prevent or reduce gender-related violence by challenging the inequalities on which it rests. The UK 'youth practitioners' who attended the training wrote almost 500 'action plans'-plans to act on the basis of the training, and analysis of these offers an indication of their concerns and priorities. Here, we present the concerns that UK-based teachers and youth workers had for the children and young people they worked with, and the forms of violence they were aware of when they began this training course. We then describe the interventions with young people or changes to their practice that these attendees said they would make in response to the training once they were back at work. This provides an agenda for action in youth, education and social services to address gender-related violence in the lives of children and young people in the UK. By the end of the training, the interventions they had committed to making included changes to their own practice, showing their reflexivity and their understanding that key tools for tackling gender-related violence included their own behaviour and reflexive practice in their service or team. They highlighted the need for culture change at an organisational level, and identified the problems of sexism and homophobia, even in their own workplaces. Their views about the value of the term gender-related violence (GRV) were mixed, with some practitioners finding it unnecessarily theoretical and others finding it a helpful link between areas of discrimination and of violence that they tended to tackle separately, such as between homophobia and violence against women and girls.",
          "['Objective: To identify sexist violence features on different technological generations (Millennials and Generation X).', 'Design: Descriptive cross-sectional study. Site: Region of Murcia, Spain.', 'Participants: A total of 1269 users of social networks belonging to the Millennials generation (19-38 years) and Generation X (39-54 years) who are in a romantic relationship.', 'Main measurements: The instrument \"Questionnaire about new technologies to transmit gender violence\\'\\', analyzes the use of social networks, suffered and exercised violence on couples. The study variables have been the generational group, age, sex, alcohol and drug consumption, the level of formal education, origin and residence country and sexual orientation.', 'Results: Millennials show a statistically significant association with the items on risk patterns in networks related to phising, sexting, flaming, false offers, cyberstalking, and webcam hijacking (p < 0.05), while regarding violence suffered only has been observed association in items related to flaming (OR: 0.405) (95% CI: 0.226-0.726) and sexual coercion (OR: 0.420) (95% CI: 0.200-0.882). Drugs increase risky activities, as well as violence suffered and practiced (p < 0.05). The women sample reports more pressure in sexual activities (OR: 2587) (95% CI: 1702-3931) and fears from their partners (OR: 2598) (95% CI: 1749-3857).', 'Conclusions: The study shows higher risk patterns, as well as violence suffered and practiced in the Millennial group compared to Generation X. Also, it shows an increase generated by alcohol and drugs in the violence suffered and practiced by the study subjects. On the other hand, there are differences between the behaviors and violence suffered and practiced according to the different sexes, where the violence suffered by women is related to fear and activities of a sexual nature. (C) 2021 The Authors. Published by Elsevier Espana, S.L.U.']",
          "The current study explores associations among sexism, gender, and support for two approaches to reduce men's violence toward women targeting (a) men's behavior to reduce male violence toward women and (b) women's behavior so that they can avoid male violence. The associations between sexism and support for these two interventions were examined in 21,937 participants in the New Zealand Attitudes and Values Survey. For both women and men, hostility toward nontraditional women (hostile sexism) was associated with lower support for targeting men to reduce men's violence against women. To a lesser degree, stronger attitudes that women who adhere to traditional feminine roles should be rewarded (benevolent sexism) were associated with greater support for targeting men to reduce men's violence. In contrast, both hostile and benevolent sexism were positively associated with support for targeting women to avoid men's violence. These complex and nuanced relationships could suggest that sexism perpetuates the idea that women are responsible for keeping themselves safe from men's violence while excusing men from accountability. This possibility has implications for addressing how society can be best engaged in the campaign against men's violence toward women.",
          "This paper deals with the dominant male form of eroticism and the main gender ideologies amongst users of prostitution in Spain. It begins with a review of the literature on this theme. This previously published work is then compared and contrasted with the results of our own research, carried out in the period 2010-2013 and financed by \"Instituto de la Mujer\" of the Spanish government. From the theoretical perspective of frame analysis we obtained a classification of clients: misogynist frame, friend frame, consumer frame, including the subgroup pseudo-responsible consumer, and critic frame. These categories are compatible with those obtained in earlier approaches.",
          "This research aims to identify sexism of a sample of adolescents and examine whether the styles of socialization associated with age and gender, reproduce sexist attitudes and ideals of romantic love. A cross-sectional quantitative study was carried out with questionnaires in a sample composed of 298 subjects were collected: school and high school students, and antisocial adolescents placed in juvenile justice educational centres. The Inventory of Ambivalent Sexism in Adolescents (De Lemus, Castillo, Moya, Padilla & Ryan, 2008) and the scale of Myths, Fallacies and Erroneous Beliefs of De la Pena, Ramos, Luzon & Recio (2011) were applied. The results reported that levels of sexism and stereotypes of romantic love influence adolescents: a greater difficulty in socialization, more sexism; at older age, less sexism in prosocial adolescents but not antisocials, and for some ideals, antisocial girls' equal boys in percentage prosocial values.",
          "Background: The co-occurrence of intimate partner violence (IPV) has been usually determined by co-occurring reports of perpetration and victimization, but still not considering the interdependence of both members' reports. The current research aimed to analyze the dyadic patterns of IPV perpetration and victimization, considering the influence of sexism toward women, family functioning, and relationship duration. Method: The sample involved 242 couples heterosexual couples. The Actor-Partner Interdependence Model was calculated to analyze the violent dynamics in the couple. For males, a couple-oriented pattern was identified, but for females the pattern was between couple-oriented and actor-only pattern. Results: These patterns remained stable when personal, family, and relational variables were included in the model, which present different effects on perpetration and victimization: males' hostile sexism predicted higher levels of male IPV perpetration and victimization as well as higher levels of male and female victimization via male perpetration. Regarding family functioning, higher family good functioning predicted lower IPV perpetration in males and lower victimization in females. Finally, relationship length predicted higher levels of IPV perpetration of both couple members and higher victimization via perpetration. Conclusions: These results are discussed in light of the interdependence of couple members' IPV perpetration and victimization.",
          "Two million women and one million men experience rape, stalking, or physical assault by a current or former romantic partner each year in the U.S. Not only do women report twice the incidents, but intimate partner violence (IPV) that women experience is typically more severe. Explanations for IPV gender asymmetry include male dominance attitudes, hostile sexism, and men's control-seeking. There are gaps in our knowledge of how attitudes and control-seeking co-relate to influence IPV. This study demonstrates a mediation analysis to investigate these relationships. Data were from a cross-sectional online survey of male undergraduate students from a public Southeastern university. The survey measured attitudes of male dominance and hostile sexism, desire for control, and IPV perpetration. After including age and academic level in the model, male dominance remained a significant predictor of likelihood of physical IPV (OR = 1.16, p = .004) but not psychological IPV. The addition of control-seeking (physical OR = 1.65, p < .001) mediated the influence of male dominance on the likelihood of physical IPV perpetration (OR = 1.018, p = .753). Hostile sexism was a significant predictor of psychological and physical IPV (psychological IPV OR = 1.31, p < .001; physical IPV OR = 1.54, p < .001), over and above age and academic level. The addition of control-seeking (psychological IPV OR = 1.27, p < .001; physical OR = 1.53, p < .001) partially mediated the influence of hostile sexism on IPV (psychological IPV OR = 1.21, p = .001; physical OR = 1.34, p < .001). Results suggest control-seeking mediates the relationship between male dominance and physical IPV and partially mediates the relationship between hostile sexism and IPV. Practical implications for IPV prevention programs and theoretical implications are discussed.",
          "['The article analyzes documentary films made by female filmmakers about the episodes of systematic sexual femicides and disappearances of women in Ciudad Juarez (Mexico). Through the study of the main works developed by female filmmakers, the transformative and denouncing capacity of documentary film is addressed, applying the gender perspective in its analysis in a transversal way.', 'This research reflects on the role of documentary films when it comes to addressing abuses of power and negligence as flagrant as those detected in the misogynist crimes of the northern border of Mexico from a double reading: The representation of women in Mexican society and the role of the woman behind the camera to break the dominant androcentric gaze.']",
          "While the literature examining physical intimate partner violence (IPV) is extensive, the impact of psychological IPV on mental health during high-risk times such as the period following childbirth is not well understood. The current study examined associations between psychological IPV and the course and severity of women's postnatal mental health symptoms (depression, anxiety, and trauma symptoms). Both main effects of psychological IPV exposure and possible exacerbation by broader social victimization (i.e., gender discrimination) were considered. Participants were 76 mothers from a larger longitudinal study, who completed self-report measures of IPV, gender discrimination, and affective symptoms at 3, 6, 12, and 18 months postnatal. Hierarchical linear modeling revealed a main effect of psychological IPV on the course of trauma symptoms only. As hypothesized, gender discrimination moderated the effect of psychological IPV on all symptom trajectories in a synergistic manner. At moderate to high levels of gender discrimination only, psychological IPV predicted higher affective symptom severity and an escalating course of postnatal anxiety symptoms. These findings underscore the importance of expanding current conceptualizations of IPV impacts to incorporate relevant aspects of individuals' social-ecological context. Future directions and implications for prevention and intervention are discussed.",
          "This study aims to analyze the relationships between sexist attitudes, distorted thoughts about women, the use of violence and violent behaviors in couples. The study was carried out in Ecuadorian universities with students related to Welfare and Health studies. There were 646 students from three universities (424 men and 222 women). The following tests were applied: Modified version of the Scale Conflict Tactics, Ambivalent Sexism Inventory, Inventory of Distorted Thoughts and Social Desirability Scale. The Mann-Whitney and Kruskal Wallis tests were applied to detect statistically significant differences. In order to estimate the effect of social desirability on responses it was performed different linear regressions. The results identify high levels of sexism and perpetrated and suffered violence, although these results seemed to be influenced by social desirability. This becomes especially important due to the role played by these professionals in the detection and treatment of intimate partner violence. The results show the importance to work on educational interventions in universities to minimize sexist thoughts that cause violence against women.",
          "The aim of the present study is to examine whether marital attitude is predicted by gender perception and ambivalent sexism. In addition, it was examined whether the marriage attitude differs according to some variables (gender, whether the parents live together, and whether victims of sexual abuse). The study group of the research consists of 377 individuals between the ages of 18-36. The research data were collected using the Inonu Marriage Attitude Scale, the Gender Perception Scale, and the Ambivalent Sexism Scale. As a result of the correlation analysis, it was concluded that the marriage attitude was positively and significantly associated with gender perception, hostile, and benevolent sexism. The regression analysis concluded that benevolent sexism statistically significantly predicted marriage attitude, but gender perception and hostile sexism did not significantly predict marriage attitude. As a result of the t-test, it was seen that the marital attitude differed significantly according to the variables of gender, whether the parents lived together and whether the victim of sexual abuse.",
          "['Background: Violence Against Women and Girls (VAWG) (physical, sexual, and psychological/emotional) is a type of structural discrimination that violates the basic human rights of females on a global scale. Cultural norms that glorify male dominance, power imbalances, and abuse of authority are the most encountered reasons for VAWG. Emotional abuse, which can start in childhood, is widely recognised as the most prevalent form of VAWG. However, although victims of emotional abuse usually suffer terribly, perpetrators often evade accountability. Emotional abuse is underestimated in part because it is normalized by victims who are mostly women and girls. The normalization of VAWG is contributing to the propagation and perpetuation of biased perceptions of sexism. The intergenerational transmission of parenting styles - which is an important contributory factor for child development often includes gender-stereotyping norms, or patriarchy. Hitherto, limited focus has been directed towards the consequences that emotional abuse related to patriarchal upbringing has on children. Aim - to investigate if emotional abuse related to patriarchal upbringing influences the perception of sexism and gender stereotyping across genders, and the development of unresolved trauma in children.', 'Methods: Participants were recruited via social media platforms to complete online questionnaires assessing parental emotional abuse, control, trauma, misogyny, and perceptions of sexism. Parametric analyses were conducted on the 188 participants (158 women and 30 men) recruited. Trauma and perceptions of sexism were statistically analysed using correlation and multiple linear regression.', 'Results: Our findings show that parental emotional abuse and control in females predicted for unresolved traumatic experiences (16.6%). Misogynistic culture and male gender predicted for hostile sexism (9.9%), whereas emotional abuse predicted for benevolent sexism (40%).', 'Conclusion: Emotional abuse related to patriarchal upbringing contributes to the genesis of gender inequality and unresolved trauma in children. Given that parental styles are transmitted from one generation to the next, to reduce sexism and improve mental health outcomes, the patriarchal parental cycle must be broken.']",
          null
         ],
         "marker": {
          "opacity": 0.5,
          "size": 5
         },
         "mode": "markers+text",
         "name": "3_victimization_relationships_antisocial",
         "text": [
          "",
          "",
          "",
          "",
          "",
          "",
          "",
          "",
          "",
          "",
          "",
          "",
          "",
          "",
          "",
          "",
          "",
          "",
          "",
          "",
          "",
          "",
          "",
          "",
          "",
          "",
          "",
          "",
          "",
          "",
          "",
          "",
          "",
          "3_victimization_relationships_antisocial"
         ],
         "textfont": {
          "size": 12
         },
         "type": "scattergl",
         "x": [
          -0.5115940570831299,
          -0.3820411264896393,
          0.17012371122837067,
          -0.7986704111099243,
          -0.7545997500419617,
          -0.2680191993713379,
          -0.37208718061447144,
          0.25017160177230835,
          -0.09410950541496277,
          -0.3446364402770996,
          -0.28916341066360474,
          -0.44991135597229004,
          -0.5712022185325623,
          -0.3896292448043823,
          -0.4849565029144287,
          0.17440149188041687,
          -0.7295807600021362,
          -0.6394335627555847,
          0.04419131949543953,
          -0.27791327238082886,
          0.10398845374584198,
          -0.12697389721870422,
          -0.352524071931839,
          -0.14318087697029114,
          0.2543470561504364,
          -0.14521424472332,
          -0.7034962177276611,
          -0.7543259859085083,
          0.2153434455394745,
          -0.5992565751075745,
          -0.27206429839134216,
          -1.0512733459472656,
          -0.48814594745635986,
          -0.32671019434928894
         ],
         "y": [
          7.147430896759033,
          7.248414993286133,
          7.485527038574219,
          7.693807601928711,
          7.693288326263428,
          7.545323371887207,
          7.059197425842285,
          7.626351833343506,
          7.771584510803223,
          7.157709121704102,
          6.9458818435668945,
          7.077682018280029,
          7.505807399749756,
          7.001420497894287,
          7.110156536102295,
          7.454319000244141,
          7.7069854736328125,
          7.589132308959961,
          7.382590293884277,
          7.338569641113281,
          7.084102153778076,
          7.799651145935059,
          7.011016845703125,
          7.798610687255859,
          7.476927757263184,
          7.385015964508057,
          7.648127555847168,
          7.77548885345459,
          7.464833736419678,
          7.657163143157959,
          7.466510772705078,
          8.242406845092773,
          7.706474304199219,
          7.456287860870361
         ]
        },
        {
         "hoverinfo": "text",
         "hovertext": [
          "Men increasingly identify as victims of gender discrimination, but it is unclear how people react to men who claim to be victims of gender bias. We examined how status-legitimizing belief endorsement (SLBs) and gender identification (GID) moderated men and women's reactions to a man who claimed to have lost a promotion because of anti-male sexism or another cause. Consistent with theory that claiming bias against high-status groups reinforces the status hierarchy, SLB endorsement was associated with more positive reactions toward an anti-male bias claimant for both men and women. Group identification, in contrast, affects group-specific concerns and thus differentially predicted male and female participants' reactions. Men evaluated the claimant more positively the more strongly they identified with their gender. The more women identified with their gender, the more negatively they evaluated the male claimant. We also demonstrated that SLBs and GID moderated the extent to which the claimant was perceived as sexist. We discuss how these reactions may perpetuate gender inequality.",
          "Purpose The purpose of this study is to provide an extended model of the theory of planned behaviour (TPB) and examine how institutional infrastructure and two social factors - peer effect and gender discrimination - determine entrepreneurial intention in emerging economies such as India. Design/methodology/approach Using a structural equation modelling (SEM) approach, the proposed model is tested on a sample of 265 post-graduate students from the Indian Institute of Management campuses in India. Perceived gender discrimination is used as a grouping variable to test its impact in the model. Findings The study found that peer effect has positive association with an individual attitude towards entrepreneurship. It also found positive moderating effect of institutional infrastructure on entrepreneurial intention in a regional entrepreneurial ecosystem, but in case of entrepreneurial self-efficacy, the result is non-conclusive. Further, our results establish that gender discrimination has varying influence but remains a significant factor to choose entrepreneurial career in emerging countries such as India. Research limitations/implications - The study adds to the understanding of drivers or antecedents to entrepreneurial intention, especially in emerging economy context and finds its usefulness in country such as India. It contributes to the existing model by empirically proving the role of peer effect and institutional infrastructure in emerging economies which are characterised by weak institutions and inadequate access to resources to start and sustain any entrepreneurial activity. Practical implications - The results make several implications for academic institutions, entrepreneurial ecosystem stakeholders and policy makers in emerging economies. The academic institutions, universities and incubation hubs can consider promoting a peer-group culture that strengthens individual's EI in emerging economies. Policy makers and stakeholders should build an encouraging entrepreneurial ecosystem with adequate institutional infrastructure to promote entrepreneurship. Originality/value The authors extend research on entrepreneurial intention beyond individual factors (personal-level variables) and examine the contingent role of institutional infrastructure and socio-cultural factors (peer effect and gender discrimination). Whilst TPB successfully predicted entrepreneurial intention in Western settings, this study provides strong empirical evidence to this research in emerging countries.",
          "This study attempts to identify gender and age discrimination by individual lenders in P2P lending markets by analyzing empirical transaction data from multiple platforms including Moneyauction, Popfunding, and 8percent. To do this, the study investigates the effects and importance of a borrower's gender and age on individual lenders' preferences and a borrower's actual repayment performance using multiple linear regression and relative weight analyses. As a result, no gender discrimination is found in the three Korean P2P lending markets, and such indiscrimination is rational, on the grounds that the borrower's gender does not have a statistically significant impact on the lenders' preferences as well as his/her actual repayment performance, and its relative importance is minimal. While, there marginally exists age discrimination against a borrower in the markets, and such ageism is likely to be irrational, on the grounds that the borrower's age has a partly significant and minimally important impact on the lenders' preferences, but has no significant and important impact on his/her repayment performance. For the first time, these findings help to clarify gender and age discrimination issues in the P2P lending market by identifying the rationality of individual lenders' preferences to the borrower's gender and age in the Korea.",
          "This study identifies what similar aspects determine access to financial capital for female entrepreneurs both in Denmark and Indonesia. Departing from a structuralist constructivist perspective (including the concepts of symbolic violence, social similarity, female otherness), we identify the impact of gender-discrimination, nationality, and further variables. The sample comprises 124 female respondents and, for reasons of comparison, 86 male respondents from Denmark and Indonesia. Binary logistic regressions and t-tests show that financial discrepancies between male and female entrepreneurs (FEs) were larger in Indonesia than in Denmark. However, findings also suggest that gender discrimination prevails in both countries, as men have easier access to funds from family, banks, and angel investors. This study provides evidence of gender bias prevailing in both a maturing and a matured economy with a strong discourse on gender equality. We propose explaining the similarities in gender discrimination with veiled, structural discrimination being able to linger in both post-feminist, legally equality-granting, as well as in legally less egalitarian societies.",
          "This article presents the current state of research on confronting and reducing sexism. We first provide a systematic overview about prior work on confronting sexism. We identify gaps in the literature by outlining situational and contextual factors that are important in confronting sexism and introduce how these are addressed in the current volume. Second, we review prior work on reducing sexism. Compared to research on reducing other forms of prejudice, research on interventions to reduce sexism is rare. We explain why mechanisms that are successful in reducing other forms of prejudice cannot simply be adapted to reducing sexism. We then outline how the articles of this issue promote research, theory, and policy on reducing sexism. In conclusion, the aim of this issue is to bring together novel theoretical approaches as well as empirically tested methods that identify key antecedents and consequences of diverse ways of confronting and reducing sexism.",
          "Three experiments tested the hypothesis that the mere presence (vs. absence) of diversity structures makes it more difficult for women to detect sexism. In Experiment 1, even when a company's hiring decisions disadvantaged women, women perceived the company as more procedurally just for women and were less supportive of sexism litigation when the company offered diversity training, compared to when it did not. In Experiment 2, women perceived a company as more procedurally just for women and as less likely to have engaged in sexism when the company offered diversity training, compared to when it did not. This effect was not moderated by women's endorsement of status legitimizing beliefs. In Experiment 3, women perceived a company as more procedurally just and less discriminatory when the company had been recognized for positive gender diversity practices compared to when it had not. Additionally, these effects were most pronounced among women who endorsed benevolent sexist beliefs and mitigated among those who rejected benevolent sexist beliefs. Together, these experiments demonstrate that diversity structures can make it difficult for women to detect and remedy discrimination, especially women who hold benevolent sexist beliefs. (C) 2014 Elsevier Inc. All rights reserved.",
          "Inspired by audit studies methodology, we monitored a job intermediation service in Peru to detect gender and racial discrimination in hiring. We capture individual racial information using the approach of Nopo. Saavedra, and Torero (2007), enabling a richer exploration of racial differences. Overall, the study finds discriminatory treatment in hiring only when comparing groups with extremely different observable racial characteristics. We detect discriminatory treatment for female Indigenous applicants in secretarial positions. In terms of aimed wages. females tend to ask for wages 7% below those of males with comparable skills (although this has no negative impact on wages at hiring). (C) 2011 Elsevier Ltd. All rights reserved.",
          "We investigate women's and men's willingness to engage in action on behalf of women, and we identify two distinct categories of behavior: action that aims to challenge gender inequality (feminist action) and action that aims to protect women from violence (protective action). Three online studies were conducted. For each study, a U.S. community sample was recruited. In Study 1 (n=602), women reported greater intentions to engage in feminist action than men did. Men, however, were just as willing as women to participate in protective action. In Study 2 (n=726), we replicated these gender differences and found that protective action was positively predicted by benevolent sexism among men. In Study 3 (N=582), we investigated why women reported greater intentions to engage in feminist action compared to men. We found that women were more aware of gender inequality, which was associated with identification as a feminist, and through this, intentions to engage in feminist action. Awareness of gender inequality also predicted intentions to engage in protective action among women. Men, however, were less aware of gender inequality, which was associated with the belief that feminist action leads to women having more rights than men do and subsequently greater willingness to participate in protective action. Our results can assist social policymakers and activists to develop appropriate campaigns for gender equality if their goal is to challenge, rather than protect women from, the status quo.",
          "[\"Purpose - The purpose of this paper is to examine the effects of gender and strength of gender identification on employees' perception of gender discrimination. It also explores whether gender comparison and perceived gender bias against women act as mediators in the above relationships. It aims to advance the understanding of the processes leading to individual's perception of gender discrimination in the Chinese workplace.\", 'Design/methodology/approach - Data were collected from 362 workers via an employee survey in three large companies in China. The human resource staff helped us to distribute a self-administered questionnaire to the employees, and the authors assured them of confidentiality and protected their anonymity. To test the hypotheses, the authors employed structural equation modeling. The authors first conducted confirmatory factor analysis on the measurement model, and then the authors estimated three nested structural models to test the mediating hypotheses.', 'Findings - The results reveal that gender and strength of gender identification are related to perceived gender discrimination. The authors further found that gender comparison and perceived gender bias against women partially mediated the relationship between gender and perceived gender discrimination, while gender comparison fully mediated the relationship between strength of gender identification and perceived gender discrimination.', 'Practical implications - The study helpsmanagers understand why and how their subordinates form perceptions of gender discrimination. Given the findings, they should be aware of the importance of gender identity, gender comparison, and gender bias in organizational practices in affecting such perceptions.', \"Originality/value - This study is the first exploration of the complex relationships among gender, gender identification, gender comparison, perceived gender bias against women, and perceived gender discrimination. It shows the salient role of gender comparison and gender bias against women in shaping employees' perceptions of gender discrimination, apart from the direct effects of gender and strength of gender identification.\"]",
          "The Ambivalent Sexism Inventory (ASI) measures hostile (overt antagonism towards women) and benevolent (chivalry) sexism. Previous research shows that political ideology contributes to ASI. Yet little attention has been given to increasingly popular political websites in terms of measuring sexism. Furthermore, recent firings of news professionals over accused sexual misconduct reveal the seriousness of sexism in the news industry. This study surveyed political online reporters (N = 210) using ASI and predicting sociodemographic and organizational factors. Results show benevolent sexism levels mostly similar for all factors, but not hostile sexism. Those working for conservative websites had higher levels of hostile sexism, but website partisanship had no significance for benevolent sexism. Men reported higher levels of hostile sexism and protective paternalism, but not complementary gender differentiation. Overall, individual levels of conservatism also predicted hostile sexism, but not benevolence. The pervasiveness of benevolence jeopardizes women's progression in the workplace. High levels of hostility ultimately endanger newsrooms, as well as negatively impact political coverage of gender related issues.",
          "People higher in benevolent sexism often outwardly endorse gender equality, but support men over women for challenging positions and experiences. Reflecting shifting standards (a tendency to evaluate stereotyped group members against within-category judgment standards), people higher in sexism may evaluate prominent women's competence against a lower competency standard for women (who are stereotyped as less competent than men are), and not against a standard for men. Thus prominent women could be perceived as especially competent (versus other women), yet men might still garner ultimate support. Study 1 tested for this possibility using an ecologically valid example: the 2016 U.S. presidential election. Study 1 showed that benevolent (and not hostile) sexism predicted less opposition to Donald Trump's candidacy and more positive attitudes toward the election outcome among 57 mostly female U.S. college students. Study 1 also showed that benevolent sexism positively predicted competence perceived in Hillary Clinton. To determine if this positive relationship reflected shifting standards, we manipulated the gender to which a prominent woman would be compared in Study 2 with 189 U.S. adults. Reflecting shifting standards, benevolent sexism related to evaluating women as more competent when they were evaluated against other women versus other men. Shifting standards also mediated a relationship between benevolent sexism and expecting lower female success. Using shifting standards may be one way that people higher in benevolent sexism might evaluate prominent women as especially competent, yet ultimately support men.",
          "Despite lab-based evidence supporting the argument that double standards-by which one group is unfairly held to stricter standards than another-explain observed gender differences in evaluations, it remains unclear whether double standards also affect evaluations in organization and market contexts, where competitive pressures create a disincentive to discriminate. Using data from a field study of investment professionals sharing recommendations on an online platform, and drawing on status theory, we identify the conditions under which double standards in multistage evaluations contribute to unequal outcomes for men and women. We find that double standards disadvantaging women are most likely when evaluators face heightened search costs related to the number of candidates being compared or higher levels of uncertainty stemming from variation in the amount of pertinent information available. We rule out that systematic gender differences in the actions or characteristics of the investment professionals being evaluated are driving these results. By more carefully isolating the role of this status-based mechanism of discrimination for perpetuating gender inequality, this study identifies not only whether but also the conditions under which gender-based double standards lead to a female disadvantage, even when relevant and objective information about performance is readily available.",
          "Past research has assumed that social egalitarians reject group-based hierarchies and advocate for equal treatment of all groups. However, contrary to popular belief, we argue that egalitarian advocacy predicts greater likelihood to support \"Succession\"-based ageism, which prescribes that older adults step aside to free up coveted opportunities (e.g., by retiring). Although facing their own forms of discrimination, older individuals are perceived as blocking younger people, and other unrepresented groups, from opportunities-that in turn, motivates egalitarian advocates to actively discriminate against older adults. In 9 separate studies (N = 3,277), we demonstrate that egalitarian advocates endorse less prejudice toward, and show more support for, women and racial minorities, but harbor more prejudice toward (Studies 1 and 2), and show less advocacy for (Studies 3-6), older individuals. We demonstrate downstream consequences of this effect, such as support for, and resource allocation to, diversity initiatives (Studies 3-6). Further, we isolate perceived opportunity blocking as a critical mediator, demonstrating that egalitarian advocates believe that older individuals actively obstruct more deserving groups from receiving necessary resources and support to get ahead (Studies 4-6). Finally, we explore the intersectional nature of this effect (Study 7). Together this research suggests that when it comes to egalitarianism, equality for all may only mean equality for some.",
          "The metoo and timesup movements aim to raise awareness of several gender inequalities across many sectors in many countries. In newsrooms, issues include sexist attitudes, gendered norms, and various forms of sexual harassment and abuse. This survey focused on news personnel from Kenya, South Africa, and Nigeria to identify ambivalent sexism, perceptions of newsroom equality, and personal experiences of sexual harassment. Nigerian participants had the highest levels of hostile (antipathy for women) and benevolent (belief in traditional gendered roles) sexism. Overall, men had higher levels of hostile sexism and perceived newsroom equality. Experienced newsroom sexual harassment was: 77.5% of women and 29.7% of men in Kenya, 57.5% of women and 11.4% of men in South Africa, and 38.1% of women and 10% of men in Nigeria.",
          "Racism and sexism are pervasive forms of discrimination that cause significant individual and societal burden. Understanding manipulable psychological processes that contribute to these modes of discrimination would aid in developing anti-prejudice interventions that target them. Psychological flexibility has been proposed as a potential tool in combating prejudice by modifying one's relationship with unwanted or automatic prejudicial thoughts, in addition to the ability to take the perspective of marginalized groups. A survey assessing psychological inflexibility and perspective taking along with anti-racist/anti-sexist attitudes and behaviors was administered to a sample of 395 undergraduate students. Perspective taking predicted anti-racist/anti-sexist behaviors above and beyond their corresponding attitudes. Psychological inflexibility was a not a significant predictor of relevant attitudes or behaviors. Our findings suggest that perspective taking may be an important target of anti-prejudice interventions.",
          "Prior research finds that women receive lower salaries than men. Similarly, we show that female audit partners in Belgium receive significantly lower compensation than male partners. However, there are alternative explanations for the pay gap other than gender discrimination. For example, the gap in compensation could reflect that men are paid more because they have higher levels of productivity. We provide new predictions and tests of gender discrimination by comparing the fees generated by audit partners (a measure of partner productivity) and the types of clients assigned to partners. Consistent with our prediction of female partners having to meet higher performance thresholds than male partners, we show that female partners generate larger fee premiums, but they are less likely to be assigned to prestigious clients. To test whether these patterns are attributable to gender discrimination, we examine whether the results are stronger in male-dominated offices, because this is where we would expect to find the most discrimination against women. We find the fee premiums generated by female partners are larger in male-dominated offices, while the negative association between prestigious clients and female partners is stronger in male-dominated offices. Collectively, our combined predictions and tests are consistent with female partners facing gender discrimination in audit offices that are dominated by male partners.",
          "How fundamentally different do people generally think men and women are? Gender essentialism refers to beliefs that women and men have distinct, innate, and fixed biological essences that differentiate them from each other. Exposure to popularized neuroscience research may shape such views. We examined whether exposure to scientific evidence for gender differences or similarities in the brain affects beliefs about gender essentialism, and indirectly shapes sexism and justification of gender inequality, using samples from Turkey. Study 1 (n = 414 undergraduates) showed that exposure to evidence on brain similarities led to lower gender essentialist beliefs, which, in turn, negatively predicted sexism and justification of gender inequality. Unexpectedly, exposure to evidence on gender differences did not lead to an increase in gender essentialist beliefs. Although men scored higher than women on all measures, the indirect effects were significant for both men and women. In Study 2 (n = 119 online community respondents), we found indirect effects of exposure to evidence of brain similarities on justification of gender inequality. We discuss the implications of our findings for challenging gender essentialist views among students and the general public through exposure to research on gender similarities and increased critical thinking about scientific research evidence.",
          "Previous research has indicated that witnessing gender discrimination may instigate women's participation in collective action for gender justice. However, relatively little is known about the role of perceived female support in motivating collective action among women who witness gender discrimination in public life. This study aims to analyse whether and when perceived support from feminist-minded women moderates the association between women's witnessing gender discrimination and their willingness to engage in collective action for gender justice. We argue that the association between witnessing gender discrimination and willingness to engage in collective action depends on the support women perceive from their female friends and family members. In studies of women in the U.S. (Study 1; N = 271) and Ukraine (Study 2; N = 256), witnessing gender discrimination predicted greater willingness to participate in collective action for gender justice, and this association was stronger when female support was perceived to be lower. Study 3 (N = 1,304) replicated the findings of Studies 1 and 2 with self-identified feminist women in Turkey. Our research offers novel insights regarding why perceived lack of female support may encourage women to engage in collective action for gender justice.",
          "Researchers have shown that prejudice encourages explanations for inequality that attribute stigmatized groups' negative outcomes to internal-controllable causes. We extended this research by investigating how ambivalent sexism affects attributions for gender income inequality. Hostile sexism should facilitate acceptance of gender income inequality through attributions that emphasize individual choice. We tested this hypothesis in two web-based samples of predominately White American men and women, ranging in age from 18 to 82 years (M-age = 33.8). In Study 1 (N = 650), hostile sexism, but not benevolent sexism, positively predicted acceptance of gender income inequality. Attributions of choice and societal unfairness mediated this effect. In Study 2 (N = 242), following exposure to hostile sexism, participants increased acceptance of gender income inequality; choice explanations mediated this relation, although these effects occurred for political conservatives only. Consistent with prior work on attributions, hostile sexism was linked to victim-blaming attributions for gender income inequality. Overall, hostile sexism creates an attitudinal barrier-especially for conservatives-to supporting equal pay for women. To overcome this barrier, organizations could implement strategies aimed at ensuring more objective performance evaluations and pay decisions. Further, policy makers and communicators should be careful in choosing how they frame the gender pay gap. Additional online materials for this article are available on PWQ's website at http://journals.sagepub.com/doi/suppl/10.1177/0361684318815468",
          "Although many researchers have explored the relations among gender identification, discriminatory attributions, and intentions to challenge discrimination, few have examined the causal impact of gender identity salience on women's actual responses to a sexist encounter. In the current study, we addressed this question by experimentally manipulating the salience of gender identity and assessing its impact on women's decision to confront a sexist comment in a simulated online interaction. Female participants (N = 114) were randomly assigned to complete a short measure of either personal or collective self-esteem, which was designed to increase the salience of personal versus gender identity. They were then given the opportunity to confront a male interaction partner who expressed sexist views. Compared to those who were primed to focus on their personal identity, participants who were primed to focus on their gender identity perceived the interaction partner's remarks as more sexist and were more likely to engage in confrontation. By highlighting the powerful role of subtle contextual cues in shaping women's perceptions of, and responses to, sexism, our findings have important implications for the understanding of gender identity salience as an antecedent of prejudice confrontation. Online slides for instructors who want to use this article for teaching are available on PWQ's website at http://journals.sagepub.com/page/pwq/suppl/index .",
          "A recent mathematical model by Karen Petrie explains how sexism towards women can arise in organizations where male and female are equally sexist. Indeed, the Petrie model predicts that such sexism will emerge whenever there is a male majority, and quantifies this majority bias by the 'Petrie multiplier': the square of the male/female ratio. In this paper-emulating the shift from 'normal' to 'anomalous' diffusion-we generalize the Petrie model to a stochastic Poisson model that accommodates heterogeneously sexist men and woman, and that extends the 'normal' quadratic Petrie multiplier to 'anomalous' non-quadratic multipliers. The Petrie multipliers span a full spectrum of behaviors which we classify into four universal types. A variation of the stochastic Poisson model and its Petrie multipliers is further applied to the context of cyber warfare.",
          "At the intersection of race and gender, Black women can face multifaceted marginalization as members of two marginalized groups. Is such bias against Black women due to individual differences in racism or sexism, or are both implicated? In the present study, non-Black undergraduates at a Canadian university (N = 231) rated stereotype endorsement of Black women (\"Mammy,\" \"Jezebel,\" \"Sapphire,\" \"Ratchet\") and their willingness to discriminate against Black women (hiring of, sublet to, voting for). Hostile sexism uniquely predicted stronger stereotype endorsement, whereas modern racism uniquely predicted greater discrimination willingness. Generalized right-wing ideology (tapping the variance shared by right-wing authoritarianism, social dominance orientation, and political conservatism) was not uniquely related to the criteria. Implications in terms of group category suppression or activation, and the designing of interventions, are discussed.",
          "We examine how feelings of power affect gender identification and the endorsement of sexism. Participants wrote essays about a time when they felt powerful or powerless (Studies 1-3) or about an event unrelated to power (Studies 2-3). Then, they reported how much they identified with their gender group. When primed with high power, women reported lower levels of gender identification, as compared to those primed with low power (Studies 1-2) and to a control condition (Studies 2-3). In Study 3, we also found that women primed with high power endorsed benevolent (but not hostile) sexism less than women in both the low power and control conditions. Power had no impact on men's gender identification or sexism. (C) 2016 Elsevier Inc. All rights reserved.",
          "The present 2 studies involved undergraduate participants and investigated whether various types of sexism and other correlated predictors, such as political conservatism and scientific discounting, can predict people's evaluations of social science research on sex stereotypes, sexism, and sex discrimination. In Study 1, participants high in hostile sexism, scientific discounting, and/or political conservatism were more critical of scientific studies that provided evidence for sexism than identical studies showing null results. Study 2 showed that participants high in modern sexism, hostile sexism, and political conservatism evaluated social scientific studies more negatively; in addition, assessments of social scientific evidence quality mediated the effect of modern sexism on admissibility ratings (b = -0.15, z = -4.16, p = .00). Overall, these results suggest that sexist beliefs can bias one's judgments of social scientific evidence. Future research should explore whether the same psychological processes operate for judges and jurors as they evaluate the admissibility of evidence and examine ways to attenuate the effect of sexism on evaluations.",
          "The zero-sum perspective (ZSP) implies gains made by one group (e.g., women) translate into equivalent loss for another group (e.g., men). The present studies extend prior research by examining whether individuals with a ZSP of gender status exhibit later discrimination. In Study 1, 624 U.S. undergraduates completed online measures of political orientation, social dominance orientation (SDO), right-wing authoritarianism (RWA), sexism, and ZSP of gender status. One month later, they read three online scenarios depicting a male target and three depicting a female target in a leadership or collaborative role, then rated their endorsement of the target. Regression results indicated that beyond the effects of participants' gender, political orientation, RWA, SDO, and sexism, the greater participants' ZSP of gender status, the less they endorsed female leaders and collaborators. ZSP did not predict endorsement of male targets. In Study 2, 249 adults across the United States completed the same initial measures as in Study 1 then one month later, read two online scenarios depicting a male target and two depicting a female target, then rated target endorsement. Greater ZSP of gender status again predicted less endorsement of female targets. A significant ZSP x Target Gender interaction showed endorsement of female targets declined with increasing ZSP whereas endorsement of male targets remained unchanged across levels of ZSP. These findings show discrimination against female leaders and collaborators by individuals who possess a ZSP of gender status and provide insight into how win-lose perceptions of gender status may impede gender equality.",
          "Female consumers often experience marketplace discrimination in service encounters. Researchers have examined women's differential treatment in many settings, but they have yet to study how women are treated during service-recovery encounters. We found evidence that male providers discriminated against female consumers during the service-recovery process in three experiments. Specifically, male providers offered less compensation to female consumers who complained after a failure than to male consumers who experienced the same failure. Further, we found that perceptions of consumer social power may explain this effect. We offer suggestions for how firms can identify internal marketplace gender discrimination, as well as how they can prevent and treat this significant problem. We also suggest that managers create anticipatory protocols and scripts and engage employees in both bias and interpersonal accuracy training. (C) 2020 Kelley School of Business, Indiana University. Published by Elsevier Inc. All rights reserved.",
          "Purpose This paper examines antecedents to perceived injustice in exclusive talent identification practices. Design/methodology/approach 31 in-depth interviews with individuals working in for-profit organizations in France were conducted and analyzed. Interviewees represented a variety of sectors such as transportation, aerospace, energy and telecommunications. Findings The use of exclusivity in talent identification influences perceived organizational justice through ambiguous advancement policies, support from hidden networks, lack of diversity in the talent identification process, frequent gender discrimination, and premature labeling of talent. These practices suggest breaches in procedural, distributive and interactional justice by allocating advantages to some employees over others. Exclusivity yielded frustration, jealousy and potential retaliatory behavior against those individuals deemed to be unfairly identified as talent. Practical implications The challenge of ensuring fair and equitable talent identification is a growing issue for organizations. For managers, it requires paying close attention to how some forms of exclusivity in talent identification may create unfair treatment of employees. Originality/value While organizational justice research focuses on the background and practices that promote justice, our research finds its originality in examining the sentiments of injustice that remain contextual, subjective and comparative.",
          "Most employment discrimination research has focused on race and gender. The relatively fewer papers dealing with religion suggests that discrimination exists. We extend the literature by examining the effects of job type (public safety/non-public safety), religion (Muslim/non-Muslim) and Muslim gender on selection decisions. Participants ranked applicants and made judgments on trust and whether to interview applicants after evaluating seven resumes for either a shipping clerk or a security guard position. Participants rated Muslim applicants lower than non-Muslim applicants for the security guard position. We found no evidence of discrimination in the shipping clerk position. Perceived trust may be a possible explanation for some of the decisions people made. We also found that the Muslim female candidate was rated higher than the Muslim male candidate for the security guard position; no gender differences existed for the shipping clerk position. Our findings are consistent with the gender discrimination literature in that job type affected the extent to which religious-based discrimination occurred and the intersectionality literature/models specifying that combinations of demographics can impact judgments. One implication is the need to incorporate religion in discrimination interventions.",
          "Within the social identity tradition, individual and collective responses to social disadvantage are typically seen as mutually exclusive. This study (N = 120) provides a more nuanced understanding of individual and collective responses to social disadvantage by examining the ways in which women anticipate responding to daily sexism. We test how responses are independently related to ingroup identification, disidentification, and perceived ingroup homogeneity. Results show that women favor confronting sexism over inaction, even if that involves disparaging the ingroup. Specifically, women expect to engage in both individual and collective strategies in response to a sexist statement. Identification with women was positively associated with both collective and individual (nongroup disparaging) responses, but only collective responses related to broader intentions to engage in collective action for social change. Finally, perceived group homogeneity uniquely increased agreement with the sexist statement, endorsement of inaction, and group-disparaging responses. Theoretical and practical implications are discussed.",
          null
         ],
         "marker": {
          "opacity": 0.5,
          "size": 5
         },
         "mode": "markers+text",
         "name": "4_discrimination_organizations_diversity",
         "text": [
          "",
          "",
          "",
          "",
          "",
          "",
          "",
          "",
          "",
          "",
          "",
          "",
          "",
          "",
          "",
          "",
          "",
          "",
          "",
          "",
          "",
          "",
          "",
          "",
          "",
          "",
          "",
          "",
          "",
          "4_discrimination_organizations_diversity"
         ],
         "textfont": {
          "size": 12
         },
         "type": "scattergl",
         "x": [
          2.906949758529663,
          2.750652313232422,
          3.1237800121307373,
          3.1660070419311523,
          2.36779522895813,
          2.606090784072876,
          2.925318717956543,
          2.7952935695648193,
          2.4659409523010254,
          4.104022979736328,
          3.251356601715088,
          2.959655523300171,
          2.8476738929748535,
          2.422527313232422,
          2.7511212825775146,
          2.97432541847229,
          2.334052562713623,
          2.8387160301208496,
          2.8363988399505615,
          2.568427562713623,
          3.5400874614715576,
          2.737191915512085,
          3.0573389530181885,
          2.3713669776916504,
          3.2745368480682373,
          2.699759006500244,
          2.766221761703491,
          3.8332462310791016,
          2.7458608150482178,
          2.8973002433776855
         ],
         "y": [
          8.843843460083008,
          9.628515243530273,
          9.478425979614258,
          9.476482391357422,
          8.932611465454102,
          9.186267852783203,
          9.372265815734863,
          8.239605903625488,
          9.228005409240723,
          9.247053146362305,
          8.796111106872559,
          9.367274284362793,
          8.8705415725708,
          9.343904495239258,
          8.760127067565918,
          9.376797676086426,
          8.53774642944336,
          8.395986557006836,
          8.839844703674316,
          8.909605979919434,
          8.812956809997559,
          8.745128631591797,
          8.685754776000977,
          8.794049263000488,
          8.777542114257812,
          9.270307540893555,
          9.28062915802002,
          7.724799156188965,
          8.822561264038086,
          8.956714630126953
         ]
        },
        {
         "hoverinfo": "text",
         "hovertext": [
          "['On gender markers in Chinese. In this paper we study the ways in which gender is marked in Chinese. Beginning with the radicals that denote gender, three pairs of gender markers that function as morphemes in some cases and as nouns in others are studied. These are (nan/nu, man / woman, male /female), (gong / mu, male / female) and (ci / xiong, female /male). We also study the semantic symmetry and asymmetry in the animate world and the inanimate one. It is concluded that the linguistic sexism that has been detected in Chinese is rather a consequence of social and cultural sexism.', 'This presentation of gender markers in Chinese, on the one hand, helps the understanding of the Spanish- speaking students of Chinese in learning; And on the other hand, shows us how the Chinese students of Spanish interpret the marked and unmarked forms in their mother tongue and to what extent this concept of the natural gender may affect the acquisition of the grammatical gender.']",
          "In this study, data on grades awarded for bachelor and master theses at a large Polish university were used to identify possible discrimination on gender or physical attractiveness. The focus is on the gap between the grades awarded by the advisor (who knows the student personally) and the referee (who typically does not, so that gender is less salient and attractiveness is not observable). This provides an excellent control for actual quality of the work, which is often problematic in previous literature. Observations on nearly 15,000 students are available, of which some 2600 also have their physical attractiveness rated and are included in the analysis. It can thus be checked if the advisor-referee grade gap depends on students' gender and attractiveness, also in interaction with their genders. Based on stereotypes discussed in the literature one can hypothesise that females are treated relatively favourably by advisors (and males by referees). Likewise, it can be expected that physically attractive individuals' advisors award them relatively high grades. Overall, we observe some evidence that females indeed get relatively high grades from advisors and no evidence of influence of physical attractiveness.",
          "This study analyzed the behavior of 240 students to determine how sexist behavior is established among Secondary Education students in Seville (Spain), during the practical session of Physical Education. Descriptive codes were set for observation. Three categories related to sexist behavior were identified: involvement in the task; requesting additional information; and task acceptance. An observation scale was used to record frequencies. The Mann-Whitney test established p<0.05 to reject the null hypothesis. Sexist behaviors emerge in involvement in task. No discrimination appears in requesting additional information and task acceptance.",
          "During adolescence young people not only strongly compare themselves with each other, they also monitor and judge each other based on gender norms. Therefore, this article focuses on the interpersonal dynamics of gender conformity among adolescents. The central research question is whether adolescents conform to gender norms in order to 'fit in'? First, we study how adolescents come to internalise (pressure for gender conformity from oneself) and externalise gender norms (behaving in gender typical ways). Second, we assess the potential social benefits of gender conformity by studying the association between satisfaction with friendships and different aspects of gender conformity. Multi-group structural equation modelling was used to assess differences between adolescent girls (n = 631) and boys (n = 633) in Belgium (M-age = 19.52). Benevolent sexism predicted adolescents' internalisation and externalisation of gender norms. For boys, the pressure for gender conformity from others predicted the externalisation of gender norms. In general, adolescents benefited from higher satisfaction with friendships when they endorsed benevolent sexism and translated normative pressures into gender typical behaviours. Our findings urge for increasing awareness to recognize subtle manifestations of sexism and to reduce the pressure young people experience to conform to gender norms.",
          "A perspective to assess prejudice against women can be obtained through the Ambivalent Sexism Inventory (ASI). Ambivalent sexism consists of two forms of manifestation: hostile and benevolent. The main objective of this study was to evaluate the factorial structure of ambivalent sexism in a sample of Brazilian psychologists. In addition, ambivalent sexism was also evaluated in relation to age, time served and how much the professional identified with a list of psychology fields. A total of 497 psychologists, between the ages of 22 and 69 (M = 34.52; SD = 9.57) from all regions of the country responded to an online survey. In addition to descriptive statistical analysis, the confirmatory factor analysis was carried out using several quality indices to adjust the model to the data, and the associations were calculated with Pearson's correlations. Results showed reliable psychometric scores for the bifactorial structure of ambivalent sexism (hostile and benevolent). Sexism was positively correlated with age and showed no correlations with time of occupation. As far as the identification with psychology fields, sexism was negatively correlated with Social and Community Psychology, and positively correlated with Psychological Evaluation, Neuropsychology and Behavioral Neurosciences, Sport Psychology, Traffic Psychology, Experimental Psychology and Organizational Psychology.",
          "The aim of this study is to analyse how women are represented in the sports paintings, taking as reference a selection of works supported by the Superior Council of Sports, collected in the publication \"Sport, art and literature\". Quantitative analysis note that the female figure appears in a very small number of works and they are represented young and thin. Qualitative analysis allows to identify a sexist treatment and discriminatory of women, who is painted from an androcentric perspective: a sexual object, passive character, secondary and based on the male character. When the women appears as an active character and central of the work, they are marked by the emphasis in the aesthetic aspects and expressive of the movement, what defines the physical-sports activities that the gender ideology considers to be female. In conclusion, sport painting offers an image skewed and uneven, reproducing stereotypes regarding the masculinization of the sport and the limited nature of female sports.",
          "Piropos, a form of stranger harassment typical in Spain, consist of appearance-related comments that unknown men direct at women in public spaces, such as on the street. There is some controversy within Spanish society as to whether piropos should be rejected or accepted-at least a certain type of them. In this research, we analyzed how young Spanish women perceive piropos and tested whether women's evaluation and emotional reactions to them depend on the type of piropo (\"mild\" or \"lewd\") and participants' ambivalent sexism. Women participants (N = 288) indicated their evaluation and emotional reactions to a mild or lewd piropo (having also a control condition where no piropo was presented) in a between-participants design. Results showed that the lewd piropo elicited lower happiness and feelings of power and greater angerhostility than the mild piropo and the control condition. Similarly, the mild piropo also generated lower happiness and feelings of power and greater anger-hostility and anxiety than the control condition. We also conducted eight moderated mediation analyses, four each with participants' hostile sexism scores and participants benevolent sexism scores as the predictor variable, using participants' evaluation of the piropo as the mediator and the type of piropo (i.e., lewd or mild) as the moderator. The dependent variable on each analysis constituted the reactions of happiness, feelings of power, anger-hostility, and anxiety. Results revealed that relation between endorsing hostile sexism beliefs, while controlling for benevolent sexism beliefs, and emotional reactions to both types of piropos can be explained through participants' evaluations of the piropos. In contrast, no indirect effect was found between benevolent sexism beliefs, when controlling for hostile sexism beliefs, and emotional reactions. Our results suggest that educating the public about the negative consequences of both types of piropos on women and reducing hostile sexism beliefs may help to eradicate street piropos. Additional online materials for this article are available on PWQ's website at http://journals.sagepub.com/doi/suppl/10.1 177/036 16843221115339.",
          "The aim of the present study was to assess the combined influence of gender stereotypes, sexism, and homophobia on attitudes toward bullying and bullying behavior. A total of 1,500 Spanish adolescents between 12 and 18 years of age (49.3% girls and 50.7% boys) completed a questionnaire that included measures of bullying, attitudes toward bullying, gender-stereotyped personality traits (instrumentality and expressiveness), hostile and benevolent sexism, and attitudes toward gay men and lesbians. First, the findings demonstrated that boys scored significantly higher on all the variables assessed except on benevolent sexism. Two similar models were obtained for both sexes. Benevolent sexism and, in boys, more positive attitudes toward gay men predicted more negative attitudes toward bullying when mediated by more expressive gender traits. An inverse pattern was also observed: Hostile sexism predicted more favorable attitudes toward bullying when mediated by instrumental gender traits. Attitudes toward bullying were highly correlated with bullying behavior. The five-predictor variables (including attitudes toward bullying) explained 58% of the variance of bullying behavior in girls and 37% of such variance in boys.",
          "Previous research on the antecedents of sexism against women have not considered simultaneously the effects of sex, personality, and cognitive variables (need for closure and critical thinking disposition) in relation to sexism. We evaluated whether in adolescence, these indicators could predict sexist attitudes towards women using structural models. The sample comprised 709 Spanish high-school students (mean age = 16.79). 51.5% were female. Sex (being male), need for closure and critical thinking were the most relevant predictors of sexism. The disposition to think critically is as relevant as the motivational dimension of cognition (need for closure) to predict sexism. Multi-group structural models by sex were estimated, and a moderator effect was found between openness to experience and sexism. We suggest future lines of research to disentangle the effects of personality and cognition on sexism and to guide intervention programs to reduce sexist attitudes among adolescents.",
          "The research explores the relationship between sexism and homophobia in adolescents of a public educational institution in Chimbote. The research design was descriptive - correlational with a sample of 406 students, including boys and girls, from 1st to 5th level of secondary education. They were evaluated using the Acosta's Adaptation (2010) of the Sexism Detection Scale (Ramos, Cuadrado and Recio 2007), and the Paredes' Adaptation (2013) of the Modern Homophobia Scale (Raja and Stokes 2005). The results of the study exhibit a very significant, direct and strong relationship indicating that the greater sexism in adolescents, the more homophobic attitudes they show. A correlation of (r=.641** p < .01) was obtained for hostile sexism and homophobia toward gays, while a correlation of (r=. 658** p < .01) was obtained for hostile sexism and homophobia toward lesbians. A correlation of (r=.574** p < .01) was obtained for benevolent and sexism and homophobia toward gays, while a correlation of (r=.646** p < .01) was obtained for benevolent sexism and homophobia toward lesbians. There are levels of sexism by gender, a high level of hostile and benevolent sexism for male population with 14.1% and 15.7%, respectively. In addition, there are levels of homophobia by gender in adolescents toward gays and lesbians with 35.3% and 25.3%, respectively.",
          "The Display of Negative Emotions scale and The Social Consequences Of Negative Emotions scale are two understudied questionnaires that assess parents' emotion beliefs about their children's expression of negative emotions. Therefore, the aims of this study were to ascertain the factorial structure of both questionnaires, to reexamine the internal consistency of each instrument's scales, and to assess the age- and gender-related discriminant validity of the measures. The two questionnaires were administered by a web-based survey to a sample of 253 Portuguese mothers with children of elementary school age (6-12 years). A two-factor solution (expression of submissive emotions, expression of dominant emotions) was preferred for the first questionnaire, and a single-factor solution emerged for the second questionnaire. Both measures revealed good internal consistency, but while the former was able to identify gender differences, the latter discriminated between age groups. The simultaneous use of these questionnaires is recommended for an informative assessment of parents' beliefs about their children's expression of negative emotions.",
          "Elementary school-age children (N = 137, 70 boys, ages 4-10) were randomly assigned to receive one of two types of lessons aimed at increasing the inclusiveness of peer relations and improving children's ability to identify bias in media. Children in the pro-social condition were taught to identify and respond to undesirable/unfair social behaviors (e.g., teasing), whereas children in the pro-egalitarian condition were taught to respond to these same behaviors, with additional attention to gender bias (e.g., teasing about gender role nonconformity). After five lessons, children completed immediate and 6-month delayed measures of egalitarian attitudes, intergroup liking, responses to hypothetical peers' sexist remarks, and ability to identify sexism in media. The lessons did not differentially affect children's gender egalitarian attitudes and intergroup liking. As expected, however, children in the pro-egalitarian condition were better able to identify sexism in media and to respond to peers' sexist comments than were children in the pro-social condition.",
          "The problematic of interculturality appeared in the last decades as an educational response to the increasing phenomenon of globalization, in a society preoccupied by knowledge. Its aim is to construct a world which accepts diversity and promotes tolerance and active participation; to optimize the interactions between people belonging to different ethnic, cultural, racial or religious communities; to solve optimally the conflicts generated by the preconceptions referring to the affiliation to different ethnical, racial or religious communities. Moral values can be valorized and promoted whilst developing intercultural activities which treat cultural diversity and national identity; interethnic stereotypes and identity models; racial stereotypes, gender stereotypes; discrimination; identification of mechanisms which lead to the apparition of preconceptions; the advantages of the promotion of moral values like goodness, acceptance, tolerance, fair play, understanding, empathy etc. As we can see, the accent does not fall on the cognitive dimension of knowledge, but rather on the affective, attitudinal and action one. Approach - the research design: 1 homogenous lots of intentionality composed of 70 students. There were used quantitative and qualitative research methods: cooperation method, structured questionnaire, semi-structured interview, focus-group method, evaluative techniques and statistics applied on a 1 year period. Results and implications - our researched showed a change in the students' behavior and mentality after participating at our proposed activities. They acknowledged better the moral values and their importance in the world they live in, their fundamental role and impact if we desire to live in a world of peacefulness and acceptance.",
          "The goal of this study is to evaluate the impact of gender education on the level of ambivalent sexism in Madrid college students. To achieve this goal, we study a sample of 280 students from the Universidad Rey Juan Carlos in Madrid (220 women and 60 men). 126 are students majoring in Criminology who had received 60 hours of gender education. 154 are students majoring in Nursing who received no gender education. We chose students in Criminology and Nursing because their professional practice is linked to gender violence. The methodology consisted of applying the Scale for Detection of Sexism in Adolescents. The results show that students who learned about gender are less sexist. Of the students with gender education, women are less sexist. Our study is action-oriented research in that it provides information useful for professionals interested in creating actions to prevent sexism among college students.",
          "This article explores the connections between the construct of sexism and other sociodemographic and attitudinal variables, such as internalized homonegativity and heteronormative resistances, among psychology students. Both unrefined and inferential analyses were used with a representative sample of 841 psychology students from public universities in Madrid. Results showed higher levels of sexism, internalized homonegativity and low resistances to heteronormativity among groups of men, heterosexuals and conservatives. Interactions were found that showed a higher degree of hostile sexism in: heterosexual people with respect to LGB and heterosexual men with respect to heterosexual women. Also, interactions were found to show a greater degree of heteronormative resistance in: LGB people with respect to heterosexuals and left-wing women with respect to right-wing women. Correlations with sexism varied according to gender identity and sexual orientation. In addition, heteronormative resistances correlated negatively with sexism, while some components of internalized homonegativity correlated positively. Political affiliation was the most frequent predictor of sexism. The results highlight the need for an intersectional approach to understanding the phenomenon of sexism.",
          "This article is part of the project \"Elaboration of typologies on gender biases and stereotypes in the teaching practice, and development of material that guides the teaching practice in this respect\", requested by the Ministry of Education and UNDP in 2017. Analysis and results are presented, with the data obtained after the application of a characterization pattern of gender biases in teaching practice to videos of classes from teachers throughout the country in the context of teacher evaluation. Both the pattern used, and the analysis executed are based on the Az6a and Farias Model \"Theoretical model that identifies sexism and gender discrimination in pedagogical interactions\". It is concluded that in the educational practice gender discrimination prevails towards girls, young people and sexual minorities, and these discriminations translate mainly into a cultural type of injustice.",
          "Sexist attitudes are configured in differential socialisation processes sexism is justifying inequality between men and women. This article aims to identify the variables that make it possible to explain and to predict sexist attitudes in adolescence in Castilla-La Mancha. This research uses a quantitative methodological strategy and a cross-sectional design through the Adolescent Sexism Detection Scale (DSA). The sample, based on stratified random sampling, is representative at the Autonomous Community level (95% confidence level and 2.2% margin of error) and is made up of 1,840 students (50.1% women and 49.9% men) of Compulsory Secondary Education. Pearson's correlations between sexist attitudes and possible explanatory variables show that levels of hostile sexism are higher as religiosity, positioning on the political right, consumption of pornography and non-perception of sexism in society increase. At the same time, the levels of benevolent sexism are higher as the size of the municipalities, the religiosity, the position on the political right and the consumption of pornography increases. Finally, the results of the multiple linear regression, using the successive steps method, show that sex, religiosity, political ideology, and life-long partnerhood predict both hostile and benevolent sexism.",
          "From the perspective of the Think manager - Think male, this study was conducted to examine the type of leadership role depending on gender in a sample of 158 Spanish adolescents -according to three types of leaders: \"male middle leader\", \"female middle leader\" and \"middle leader in general\". The kind of emotional expression (positive and negative) evoked by their leadership behaviors (task- and relationship- oriented) was also analyzed. Lastly, whether adolescents' sexist beliefs affected the attribution of traits and the emotional expression towards these leaders was examined. Results showed that task-oriented traits were more characteristic of the leadership role than relationship-oriented traits. Adolescents expressed more positive emotions towards a task-oriented leader and towards a leader behaving in ways associated with both task- and relationship- oriented styles, but only for men. Finally, hostile sexism predicted fewer task-oriented traits to female leaders, more negative affect towards task-oriented male leaders and towards counter-stereotypic leaders. These results were moderated by the sex of adolescents.",
          "This paper analyzes the food and wine narratives produced by fifty-one Italian participants who, in different ways, place food and drink at the center of their professional and social lives. Considering the cultural and symbolic value of food and wine and the conservatism of the Italian culinary tradition, the analysis highlights the sexist and heteronormative contents that dominate the discourse on food and drink in Italy: in fact, even in food and wine narratives we detect a promotion of sexist values and attitudes that place women in conditions of subordination and characterize homosexuality as a threat to the tradition and authenticity of Italian culture.",
          "The aim of this study was to identify which factors were the best predictors of sexist attitudes. To achieve this aim, two groups of variables were analysed. The first group consisted of variables relating to parenting styles and the division of housework. The second group consisted of personal factors related to prosocial behaviour and physical and verbal aggression. The sample was made up of 732 adolescents aged 12-14 from Valencia (Spain). The analysis was conducted separately for boys and girls. Correlation analyses and multiple linear regression analyses were conducted on each subsample. The results show that the division of housework and parenting styles were related to sexist attitudes. This connection was especially strong for the division of housework according to traditional gender roles, which was found to lead to hostile and benevolent sexist attitudes. The results also showed that prosocial and aggressive behaviours were correlated with sexist attitudes. The results varied by gender. The findings of this research have implications for the prevention of sexist attitudes.",
          "The aim of this study is the analysis of the implementation of a program in physical education classes for the improvement of sexism in school. The instrument was administered before and after the implementation of the program, sexist attitudes questionnaire in primary education, drawn from the Sexism Scale Detection in Adolescents (Recio, Cuadrado, and Ramos, 2007). It was applied to 155 students between 7 and 12 years of age (9,3 +1,24), in a public institution of the municipality of Murcia (Spain), in the months of September 2008 and June 2009. The duration of the intervention was conducted in eight sessions that were distributed in a month. The results show, first, that children revealed more sexist attitudes about girls before and after the intervention. On the other hand, the effectiveness of intervention for the development of attitudes of equality, influenced in the same way in both genders and ages, and it did reduce these behaviors throughout the school year Physical activity and sport is a tool that allows professionals to work on aspects related to equality, coexistence and democratic values in the educational context.",
          "Sexist attitudes constitute the fundamental axis on which unequal relationships between men and women are built and maintained. At present, and despite the fact that in Western countries sexism manifests itself in more subtle ways, it is found that a portion of the population continues to harbor sexist beliefs. This work aims to analyze, from a gender perspective, the effect of a series of personal characteristics on the prediction of sexist beliefs in a sample of college students in Spain (N = 2,112, 63.6% women and 36.4% men). To evaluate the degree of sexism, the short version of the Ambivalent Sexism Scale (ASI, Exposit degrees, Moya, & Glick, 1998) was used, on which higher scores represent higher levels of sexism (alpha = .88). Explanatory variables included age, political ideology, nationality, religious affiliation, sexual orientation, experiences of victimization, and media consumption. The results indicated that men scored significantly higher than women on the ambivalent sexism scale. In addition, higher scores were found for men on the subscales of both hostile and benevolent sexism. On the other hand, the results showed that conservative ideologies and religious faith predict more sexist attitudes in both men and women. However, it was found that the effect of age, political ideology, and sexual orientation depends on the participant's gender. These results will contribute to the development of educational programs aimed at young people, facilitating the identification of particularly vulnerable groups and areas that require special attention.",
          "The nationwide effort to reduce bullying in U.S. schools can be regarded as part of larger civil and human rights movements that have provided children with many of the rights afforded to adult citizens, including protection from harm in the workplace. Many bullied children find that their schools are hostile environments, but civil rights protections against harassment apply only to children who fall into protected classes, such as racial and ethnic minorities, students with disabilities, and victims of gender harassment or religious discrimination. This article identifies the conceptual challenges that bullying poses for legal and policy efforts, reviews judicial and legislative efforts to reduce bullying, and makes some recommendations for school policy. Recognition that all children have a right to public education would be one avenue for broadening protection against bullying to all children.",
          "Acknowledging that gender, as a construct, is an expression of a power structure, observed differences favoring males were explained for two standardized tests of mathematical context: the Mathematics section of the University of Costa Rica's Admission Test and the Mathematics test from the Secondary School's Exit Exam. The sample was 487 students in the last year of high school in ten public schools from the Greater Metropolitan Area of Costa Rica; 269 were women. Multilevel regression models were estimated using the scores in these tests as dependent variables.The reduced model only included sex as a predictor, whereas the complete model included, additionally, an indicator of reasoning abilities and the following scales: hostile sexism, benevolent sexism, attitude toward gender equity in mathematics, and self-efficacy in mathematics. Results point out that gender differences are reduced by controlling for reasoning abilities. Benevolent sexism predicted performance in the tests to a lesser degree. There was also evidence of the moderating effect of the school for the relationship between sex and the score in the admission test, and, especially, for the means in the secondary school exit test. Mathematics self-efficacy also had considerable predictive power in the latter. These findings provide evidence of the need for teachers to actively promote self-efficacy in their students, especially women.The considerable differences in the average scores of the Secondary School's Exit Exam, even though they are all public and from the Greater Metropolitan Area of Costa Rica, suggests the presence of inequities that should be studied more in-depth, including schools beyond this area, which could reveal even more disadvantages.",
          "This project aims to analyse the perceptions of university students about the use of language, as its correct use constitutes an important element for the development of gender equality. We question the idea that in university teaching, language is free of sexism and claim that this sexism is more evident in some branches of knowledge than in others. To this end, we will analyse the degree of importance attributed to language across different branches of knowledge and the identification of sexist expressions in daily use. The methodology used is based on a survey and interview. Different groups belonging to different degree courses of the academic communities of the Universities of Malaga and Seville participated in the research. Following this analysis, we reflect on the language use prevailing in the university environment since it constitutes a central space of action for its educational and socializing mission.",
          "Motherhood is an important part of gender inequality discussions and the basis of the unequal division of labor based on gender is mostly based on motherhood roles. It is stated that employed women have a high level of work-family conflict, perceive themselves to be far from being the \"ideal\" mother, and have higher levels of guilt. The internalization of sexist standards is thought to be effective in triggering and increasing feelings of guilt. In this context, this research sought to examine the sense of guilt felt by working mothers of pre-school children and the relationship of this feeling with internalized sexism and sociodemographic variables. 209 working mothers of pre-school children either in a part-time or full-time job participated in the study. Descriptive analysis, correlation analysis, and regression analysis were employed in the study. The results showed that the mother's guilt was positively related to the sub-dimensions of internalized sexism. Specifically, internalized powerlessness/loss of self and self -objectification from sub-dimensions of internalized sexism significantly predicted the mother's guilt. Additionally, weekly working hours and the number of children also predicted the mother's guilt. These results are important in terms of revealing the risks caused by the internalization of sexist norms that put serious pressure on mothers. Efforts towards gender equality are of great importance in increasing the quality of life for mothers in the family life and workplace.",
          null
         ],
         "marker": {
          "opacity": 0.5,
          "size": 5
         },
         "mode": "markers+text",
         "name": "5_gender_homophobia_preconceptions",
         "text": [
          "",
          "",
          "",
          "",
          "",
          "",
          "",
          "",
          "",
          "",
          "",
          "",
          "",
          "",
          "",
          "",
          "",
          "",
          "",
          "",
          "",
          "",
          "",
          "",
          "",
          "",
          "5_gender_homophobia_preconceptions"
         ],
         "textfont": {
          "size": 12
         },
         "type": "scattergl",
         "x": [
          3.240527629852295,
          0.5251263976097107,
          0.6089237928390503,
          0.7316316366195679,
          1.3356761932373047,
          0.5543403625488281,
          1.084627389907837,
          0.8418067693710327,
          0.9364904165267944,
          0.6741683483123779,
          1.0030720233917236,
          1.2006573677062988,
          0.4594113826751709,
          0.4629218578338623,
          0.851303219795227,
          0.5203624367713928,
          0.7019544839859009,
          0.9686267375946045,
          3.0535390377044678,
          0.7492384314537048,
          0.6439800262451172,
          1.0261688232421875,
          0.8629032373428345,
          0.6295035481452942,
          0.5483058094978333,
          1.6529961824417114,
          0.9949331879615784
         ],
         "y": [
          6.84476375579834,
          7.8499884605407715,
          7.771973609924316,
          7.687129974365234,
          7.725462913513184,
          7.662635803222656,
          7.589503765106201,
          8.129921913146973,
          7.881430625915527,
          8.266576766967773,
          7.589383602142334,
          8.020071983337402,
          7.930029392242432,
          7.803105354309082,
          8.653395652770996,
          7.903026103973389,
          7.866143226623535,
          7.835026264190674,
          6.90728759765625,
          7.7792768478393555,
          7.799089431762695,
          7.952966213226318,
          8.17356014251709,
          7.949190616607666,
          7.871781826019287,
          8.561452865600586,
          7.846314430236816
         ]
        },
        {
         "hoverinfo": "text",
         "hovertext": [
          "Relatively little is known about identity-related resilience factors associated with well-being among transgender and gender non-conforming (TGNC) people. Drawing upon theory on stigma-related stress and resilience and work examining group identification as a buffer against discrimination, the aim of the current study was to model perceived discrimination, transgender identification, and gender identity affirmation as predictors of well-being for TGNC people. We also tested whether the positive association between gender identity affirmation and well-being might be explained by the benefits affirmation has for individual self-concept clarity. Participants were 105 TGNC individuals (42% transgender male, 39% transgender female, 19% other gender non-conforming [e.g., non-binary]) recruited through online forums and support groups in the UK and North America who completed an online survey including self-report measures of key constructs. Results from structural equation models demonstrated that: (1) experiences of discrimination were associated with lower well-being overall, but having a stronger transgender identity moderated this association; (2) after adjustment for discrimination and transgender identification, experiences of gender identity affirmation were independently associated with greater well-being for TGNC people. Secondary analyses demonstrated that gender identity affirmation was linked to well-being through reinforcing a strong, internalized sense of clarity about individual self-concept. Results are discussed in terms of the implications for TGNC health and well-being, particularly with regard to the need for supportive, identity-affirming social environments.",
          "This study examined the relationship between experiences of day-to-day discrimination and two measures of health among Gujaratis, one of the largest ethnic groups of Asian Indians in the U.S. Data were collected via computer-assisted telephone interviews with a random sample of Gujarati men and women aged 18-64 in Metropolitan Detroit (N = 423). Using structural equation modeling, we tested two gender-moderated models of the relationship between day-to-day discrimination and health, one using the single-item general health status and the other using the 4-item emotional wellbeing measure. For both women and men, controlling for socio-demographic and other relevant characteristics, the experience of day-to-day discrimination was associated with worse emotional wellbeing. However, day-to-day discrimination was associated with the single-item self-rated general health status only for men. This study identified not only gender differences in discrimination-health associations but also the importance of using multiple questions in assessing perceived health status.",
          "The present research examined the extent to which one's negative attitudes towards gay individuals influences perceptions of psychological differences between straight and gay groups. Previous research indicates that endorsement of sexist ideologies predicts the exaggeration of psychological differences between men and women. We attempted to replicate these findings in the domain of sexual identity across two studies. Study 1 presented participants with two fabricated research abstracts about the psychology of sexuality: one advocating for large psychological differences between gay and straight people, while the other advocating for small differences. Participants then chose the abstract most consistent with their personal beliefs and completed a measure of attitudes towards gay men and lesbian women. We found that greater negative attitudes towards gay men and lesbian women predicted the selection of the larger differences abstract. Study 2 used an experimental design and found that participants who read and wrote about large differences reported more negative attitudes towards gay individuals. These results are discussed in the context of intergroup relations and prejudice.",
          "Transgender individuals experience violence and discrimination, which, in addition to gender transitioning, are established correlates of psychological distress. In a statewide sample of 350 transgender adults, we investigated whether a history of violence and discrimination increased the odds of reporting lifetime suicidal ideation (SI) and whether differences in SI were predicted by gender transition status. Violence, discrimination, and transition status significantly predicted SI. Compared with individuals with no plans to transition, individuals with plans or who were living as their identified gender reported greater odds of lifetime SI. We discuss implications for SI disparities using Meyer's minority stress model.",
          "To study the power of lived experiences and conscious attitudes in helping individuals to overcome nonconscious gender schemas, U.S. university students (n = 152) were administered a classic riddle requiring the gender schema-inconsistent realization that a surgeon could be a woman. Fewer than a third of participants (30%) responded that the surgeon in the riddle could be a woman. More participants (36%) responded to the riddle by noting that the surgeon could be a second father in a same-sex marriage. Regression analysis tested whether demographic, experiential, and attitudinal variables predicted the realization that the surgeon in the riddle could be a woman. Having an employed mother or female physicians, identifying as a feminist or a political liberal, and reporting low levels of sexism did not predict the realization that the surgeon in the riddle could be a woman. Only identifying as female predicted a greater likelihood of this response. In the present study, the historically newer role of father in a same-sex marriage was more accessible to research participants than the gender schema-inconsistent role of mother as surgeon. We conclude that the gender schema that impeded the realization that a surgeon could also be a mother lies so deep that it is largely unaffected by personal attitudes and experiences.",
          "Given the diversity of military veterans and growing evidence of ethnoracial disparities in posttraumatic stress disorder (PTSD) within this population, elucidating the role of discrimination-related stress in contributing to these disparities is crucial. We examined the relative impact of discriminatory stress (i.e., due to race/ethnicity, religion, nationality, gender, sexual orientation, or physical appearance) on 6-month changes in PTSD symptom severity among trauma-exposed White (74%), Black (11%) and Hispanic/Latino/a/x (15%) veterans (17% female). PTSD symptoms were measured with the 8-item PTSD Checklist for DSM-5. A measure of the extent to which discrimination has caused stress for the respondent assessed discriminatory stress. Hierarchical regression analyses examined interactions among race/ethnicity, gender and discriminatory stress in predicting six-month changes in PTSD severity. Black and Hispanic/Latino/a/x veterans reported higher baseline PTSD severity and discriminatory stress than White veterans, with some variation by gender. Three-way interactions of race/ethnicity by discriminatory stress by gender were significant, controlling for income, education and age. The relationship between discriminatory stress and increases in PTSD severity was significantly stronger for Black women compared with Black men and did not differ between White men and women. There was also a stronger relationship between discriminatory stress and increases in PTSD severity for Hispanic/Latino/x men as compared to Black men. These findings suggest that discriminatory stress impacts PTSD severity differentially for various ethnoracial/gender groups and highlight the value of applying an intersectional framework that accounts for the synergistic connections among multiple identities to future screening, intervention, and research efforts.",
          "Objectives: Survey data of 155 Midwestern African American adolescents (M-age = 13.25, 54.8% female) and their parents were assessed to examine whether parents' racial discrimination experiences and adolescents' gender moderated the association between adolescents' racial discrimination experiences and involved-vigilant parenting. Methods: Path analyses were conducted with racial discrimination and gender at Wave 1 predicting parenting at Wave 2, controlling for Wave 1 parenting and demographic variables. Results: Boys with high levels of racial discrimination experiences and who had parents with low racial discrimination experiences had declines in involved-vigilant parenting. There were no significant differences in involved-vigilant parenting by level of racial discrimination experience among girls. Conclusions: The results indicate that parenting may depend on both parents' and adolescents' racial discrimination experiences and characteristics.",
          "We argue that parental attitudes of (prospective) children's gendered behavior are influenced by sexual orientation and the given social climate. In Study 1 (N = 448), moderated mediations showed that sexual orientation predicted whether or not high-status occupations are preferred for the (prospective) children through modern sexism. For girls, however, the perceived stability of the gender hierarchy moderated the effect of modern sexism. In an experiment (Study 2, N = 704), hierarchical regression analyses showed that in the case of gay people, modern sexism predicted boys' preferred gendered behavior well. While, in the case of bisexual people, modern sexism (along with fear of backlash) predicted preferences for both boys' and girls' gendered behavior depending on the stability of the gender hierarchy. Unlike the other groups, in the case of straight people, modern sexism only predicted preferences regarding girls' gendered behavior. Implications of the studies are discussed.",
          "[\"Background Research within the Italian context on the determinants of attitudes toward gay men and lesbian women is relatively poor compared with the large number of investigations carried out in other countries. Our goal is to examine Italians' attitudes toward gay men and lesbian women, as well as the factors that encourage these perspectives. We are interested in whether socio-demographic characteristics such as gender, age, education level, and religiosity predict negative attitudes toward gay men and lesbian women. Another goal is to examine affectivity and sexism's role in predicting attitudes toward homosexuality.\", 'Methods The study was conducted online with 1328 Italian heterosexual participants (women, 67.3%; men, 32.7%) ranging in age from 18 to 78 (women: M = 23.9, SD = 5.2; men: M = 26, SD = 8.9).', 'Results The results show that men, older people, more religious people, sexists, and those who had higher negative affectivity were more predisposed to having negative attitudes toward gay men and lesbian women.', 'Conclusions The results are discussed, while considering their practical implications for prevention and education programs focused on reducing discrimination against lesbian and gay people in Italian society today.']",
          "Introduction: Per the minority stress framework, trans individuals often experience psychological distress given the unique stress engendered by gender identity-related discrimination. Prior research has identified social support as particularly important for psychological distress and has suggested that social support may moderate this relationship. The purpose of the current study was to explore the patterns of connections among discrimination, mental health, and suicidal ideation in trans individuals and whether social support moderates these relationships. Methods: Participants (N D 78) completed measures of these constructs as part of a national online survey. Results: A series of simultaneous multiple regressions found that harassment/rejection discrimination was a unique positive predictor of mental health symptoms and suicidal ideation, with depression positively predicting suicidal ideation. A mediational model indicated that the association between harassment/rejection discrimination and suicidal ideation was fully mediated by depression. Three moderated meditational models were run, and one yielded a significant interaction, such that discrimination predicted suicidal ideation most strongly when participants had low social support from a significant other in comparison to participants who had moderate or high support. Further, conditional direct effects identified that discrimination led to ideation only for individuals with low support from friends or a significant other but not for those with moderate or high support. Conclusions: Helping trans individuals cope with harassment and rejection, particularly by drawing on social support, may promote better mental health, which could help reduce suicidality in this population.",
          "Introduction: Gender and ethnic differences exist in suicidal ideation, plan, and attempt among adolescents in the U.S. However, limited research has used theoretically-informed approaches to integrate how cultural and classic risk factors together account for suicide-related pathways among vulnerable populations. Informed by the interpersonal theory of suicide, the present crosssectional study examined gender differences in the association between a cultural (i.e., discrimination) and classic (i.e., depressive symptomatology) risk factor, and suicidality among youth of Latin American heritage. Methods: A total of 390 Latinx adolescents (ages 13?18; 50% female) attending a high school in Southern California, U.S.A. completed a series of questionnaires that included measures of depressive symptoms, suicidality (including ideation, past attempts, and likelihood of future behavior), perceived discrimination, and demographics. Results: We found that discrimination was associated with increased suicidality among Latinx adolescents. The discrimination-suicidality association was stronger for girls versus boys, such that girls who experienced greater discrimination demonstrated the highest levels of suicidality. Although depression was also significantly associated with suicidality, the discrimination x gender interaction was found above and beyond the main effect of depressive symptomatology and covariates. Additional analyses revealed significant gender and moderation effects only for suicidal ideation and not for attempts. Conclusions: These findings indicate that the relationship between discrimination and suicidality (particularly ideation) is more pronounced for Latinx girls than boys. This study also highlights the importance of drawing on theory-driven and culturally informed work that incorporates classic and cultural correlates of suicidality among diverse subpopulations.",
          "Intersectionality addresses power structures and systemic oppressions tied to marginalized identities, which qualitatively differentiates marginalized individuals from each other. This study examines the intersection of gender, sexuality, and nationality to understand possible sexist attitudes of gay men in the US and UK. It uses the Ambivalent Sexism Inventory along with five predictor variables: religiosity, political ideology, nationalism, anti-immigration attitudes, and news consumption. The importance of this study is to analyze a potentially overlooked source of sexism. Results show UK participants had significantly higher benevolent sexism, but US participants had significantly higher hostile sexism. Self-identified conservatives in both countries had the highest hostile sexism, but benevolent sexism was not significantly different according to political identity. Religiosity was a significant predictor variable of benevolent sexism in the US and UK. Nationalism and anti-immigration attitudes were significant predictor variables of hostile sexism in the US and UK. Consuming conservative news was a significant predictor variable of hostile sexism in the US only. This study illustrates the importance of intersectionality in order to identify problematic attitudes, even within an already marginalized group.",
          "Despite extensive investigations of the Depression Anxiety Stress Scales-21 (DASS-21) since its development in 1995, its factor structure and other psychometric properties still need to be firmly established, with several calls for revising its item structure. Employing confirmatory factor analysis (CFA), this study examined the factor structure of the DASS-21 and five shortened versions of the DASS-21 among psychiatric patients (N = 168) and the general public (N = 992) during the COVID-19 confinement period in Saudi Arabia. Multigroup CFA, Mann Whitney W test, Spearman's correlation, and coefficient alpha were used to examine the shortened versions of the DASS-21 (DASS-13, DASS-12, DASS-9 (two versions), and DASS-8) for invariance across age and gender groups, discriminant validity, predictive validity, item coverage, and internal consistency, respectively. Compared with the DASS-21, all three-factor structures of the shortened versions expressed good fit, with the DASS-8 demonstrating the best fit and highest item loadings on the corresponding factors in both samples (chi(2)(16, 15) = 16.5, 67.0; p = 0.420, 0.001; CFI = 1.000, 0.998; TLI = 0.999, 0.997; RMSEA = 0.013, 0.059, SRMR = 0.0186, 0.0203). The DASS-8 expressed configural, metric, and scalar invariance across age and gender groups. Its internal consistency was comparable to other versions (alpha = 0.94). Strong positive correlations of the DASS-8 and its subscales with the DASS-21 and its subscales (r = 0.97 to 0.81) suggest adequate item coverage and good predictive validity of this version. The DASS-8 and its subscales distinguished the clinical sample from the general public at the same level of significance expressed by the DASS-21 and other shortened versions, supporting its discriminant validity. Neither the DASS-21 nor the shortened versions distinguished patients diagnosed with depression and anxiety from each other or from other psychiatric conditions. The DASS-8 represents a valid short version of the DASS-21, which may be useful in research and clinical practice for quick identification of individuals with potential psychopathologies. Diagnosing depression/anxiety disorders may be further confirmed in a next step by clinician-facilitated examinations. Brevity of the DASS-21 would save time and effort used for filling the questionnaire and support comprehensive assessments by allowing the inclusion of more measures on test batteries.",
          "The present study aimed to: (a) investigate the relationship between attitudes toward same-sex parenting and sexism both in heterosexuals and sexual minorities; (b) verify whether sexism predicted negative attitudes toward same-sex parenting via the mediating role of sexual stigma (sexual prejudice in heterosexual people and internalized sexual stigma [ISS] in lesbians and gay men [LG]). An Italian sample of 477 participants (65.6% heterosexual people and 34.4% LG people) was used to verify three hypotheses: (a) heterosexual men showed higher levels of sexism than heterosexual women and LG people; (b) heterosexual men reported more negative attitudes toward same-sex parenting than those of heterosexual women and LG people; and (c) sexual prejudice in heterosexual people and ISS in LG people mediated the relationship between sexism and attitudes toward same-sex parenting. Overall, men and heterosexual people showed stronger sexist tendencies and more negative attitudes toward same-sex parenting. Moreover, sexism affected attitudes toward same-sex parenting via sexual prejudice in heterosexual people and ISS in LG people. These results suggest that negative attitudes toward same-sex parenting reflect sociocultural inequalities based on the traditional gender belief system and points to the necessity of social policies to reduce prejudice toward sexual minority groups.",
          "There is wide research investigating negative attitudes and behaviors toward gays and lesbians within Western societies. However, only a small amount of studies have addressed attitudes toward transgender individuals, particularly in non-Western societies with younger populations. This study, therefore, aimed to examine the predictors of transphobic attitudes in north Cyprus using young adults. Participants were 148 (96 women, 51 men) Turkish speaking young adults, aged between 18 and 25 years (M= 20.29,SD = 2.38). Participants completed a questionnaire package containing measures of intergroup contact, ambivalent sexism, social dominance orientation, homophobic feelings and attitudes, and transphobia. As expected, results showed that intergroup contact, hostile sexism, and homophobia predicted transphobic attitudes. Implications to ameliorate discriminatory attitudes toward transgender individuals in non-Western cultures are discussed.",
          "['Emerging data suggest that African-American women may fare worse than African-American men in health-related quality-of-life (HRQOL). Perceived discrimination is an important contributor to poor health overall among African Americans, but few studies examined the intersecting effects of perceived discrimination and gender in explaining HRQOL disparities. We investigated gender differences in HRQOL and tested whether perceived discrimination accounted for these differences.', 'We examined data from the Chicago Health and Aging Project in which 5652 African-American adults aged 65 and older completed structured questionnaires about demographic and socioeconomic characteristics, HRQOL, perceived discrimination, and health-related variables. Logistic regression models were used to identify associations between perceived discrimination and gender differences in poor HRQOL outcomes (defined as 14+ unhealthy days in overall, physical, or mental health over the past 30 days) when controlling for the other variables.', 'More women reported poor overall HRQOL than men (24 vs. 16% respectively). Higher perceived discrimination was significantly associated with worse overall HRQOL (OR 1.11; 95% CI 1.08, 1.15), with stronger effects for women in overall and mental HRQOL. These gender disparities remained significant until controlling for potentially confounding variables. Perceived discrimination did not account for gender differences in poor physical HRQOL.', 'Perceived discrimination is associated with poor HRQOL in older African Americans, with this association appearing stronger in women than men for mental HRQOL. These findings warrant further investigation of effects of perceived discrimination in gender disparities in overall health, and such research can inform and guide efforts for reducing these disparities.']",
          "The connection between holding gender-traditional attitudes and the reluctance to identify as a feminist is well established, yet little is known about factors that might underlie this association. One factor that may serve this function is the tendency to hold negative stereotypes about feminists. Indeed, the constructs of ambivalent sexism (Glick and Fiske 1996) and ambivalence toward men (Glick and Fiske 1999) provide a strong theoretical basis for the prediction that traditional attitudes toward women and men are related to the derogation of women who do not conform to the feminine-stereotyped gender role. Therefore, the present study utilized path analysis to test a mediational model in which traditional attitudes toward women and men predict the tendency to stereotype feminists, which in turn predicts feminist identity. The present study also examined whether the relations between the variables in the model differed for African American, European American, and Latina women. Participants consisted of 544 women from the southern United States who, despite being undergraduates, were in their mid-to-late twenties on average. As expected, participant ethnicity moderated the paths in the model. Among African American and Latina women, hostility toward men and hostile sexism predicted the tendency to stereotype feminists, which then predicted feminist identity. Support for the mediational model was not obtained among European American women; instead, the model for European American women was characterized by direct paths from traditional attitudes toward women and men to feminist identity. Discussion focuses on the importance of considering participants' ethnic background when assessing predictors of feminist identity.",
          "This study examined experiences of external and internalized heterosexism and sexism and their links to coping styles and psychological distress among 473 sexual minority women. Using an online sample of United States lesbian and bisexual women, the findings indicated that many participants experienced heterosexist and sexist events at least once during the past 6 months, and a number of participants indicated some level of internalized oppression. Supporting an additive multiple oppression perspective, the results revealed that when examined concurrently heterosexist events, sexist events, internalized heterosexism, and internalized sexism were unique predictors of psychological distress. In addition, suppressive coping and reactive coping, considered to be maladaptive coping strategies, mediated the external heterosexism-distress, internalized heterosexism-distress, and internalized sexism-distress links but did not mediate the external sexism-distress link. Reflective coping, considered to be an adaptive coping strategy, did not mediate the relations between external and internalized heterosexism and sexism and psychological distress. Finally, the variables in the model accounted for 54 % of the variance in psychological distress scores. These findings suggest that maladaptive but not adaptive coping strategies help explain the relationship between various oppressive experiences and psychological distress.",
          "Heteronormativity has been implicated as afoundational contributor to both heterosexism and sexism. While exposure to sexism and heterosexism consistently predict negative psychosocial outcomes among women and sexual minorities, respectively, direct relationships between heteronormative attitudes and psychosocial functioning remain largely unexplored. The present study fills this gap by examining psychosocial functioning correlates of heteronormativity among sexual minority and heterosexual women in long-term relationships, via actor-partner independence modelling. Findings differed by sexual orientation and across subscales of heteronormativity. In particular, we foundnegative associations for sexual minority women between their own heteronormative behavioural attitudes and eudaimonic outcomes of autonomy, personal growth, and life purpose. We also observed some contradictory results, which reinforceconceptualizations of heteronormativity and heterosexual privilege as complex, multi-faceted aspects of everyday life for women. Results support recommendations that clinicians and researchers assess sexual minority women's heteronormative attitudes and beliefs, and that prejudice-reduction efforts attend to the ways in which heteronormativity may be experienced as protective or reassuring when individuals conform to its expectations. Future research is recommended to increase understanding of the relevance of heteronormativity in women's lives, and to explore whether interventions that reduce internalised heteronormativity may yield improvement in eudaimonic wellbeing among sexual minority women.",
          "A social dominance explanation of the well-established sex difference in anti-gay male prejudice, whereby heterosexual men (vs. women) are more negative toward gay men, is proposed. We test a mediation model whereby respondent sex (male vs. female) predicts prejudice toward gay men indirectly through social dominance orientation and sexism (itself predicted by social dominance orientation (SDO). The model is also considered for anti-lesbian prejudice. Across three samples the model is supported, with the relation between participant sex and anti-gay male prejudice mediated (explained). The model was not consistently supported for anti-lesbian prejudice. Implications are discussed.",
          "Young women of color (among others) face both subtle and overt discrimination on a regular basis, but few studies have examined relations between discrimination and sexual outcomes using quantitative tools. We surveyed 154 self-identified undergraduate women of color to examine connections between race- and sex-based discrimination and subjective sexual well-being (i.e., condom use self-efficacy and sexual life satisfaction) and also tested whether sexual autonomy mediated these relations. When examined individually, each form of discrimination was related negatively to condom use self-efficacy and sexual life satisfaction, such that as women reported more discrimination, they reported poorer sexual well-being. However, when examining both racism and sexism as joint predictors, only racism remained significant and there were no racismxsexism interaction effects. In a path model, sexual autonomy mediated the relation between racism and each measure of subjective sexual well-being; racism was negatively related to sexual autonomy, which in turn was positively related to both condom use self-efficacy and sexual life satisfaction. These findings are consistent with the broader literature on the negative impact of discrimination on various aspects of mental and physical health. They also reinforce the position that redressing social inequality is a vital component of promoting individual health.",
          "Over a half century of research has identified constellations of rigid, sexist, and hegemonic beliefs about how men should think, feel, and behave within Western societies (i.e., traditional masculine ideologies; TMI). However, there is a dearth of literature examining why people adhere to TMI. Within in this study, we examined TMI from an identity perspective. Specifically, we focused on the concepts of identity exploration and identity commitment to identify distinct identity statuses based on Marcia's (1966) identity status theory. Our sample (N = 1136) was composed of college and community cisgender women (n = 890) and cisgender men (n = 244) in the United States. We conducted a Latent Profile Analysis (LPA) to allow identity status groups to naturally emerge based on levels of identity exploration and commitment. A three-class solution emerged as the best fit to the data. Individuals in the foreclosed status (i.e., high commitment but low exploration) scored higher on all seven TMI domains and lower on feminist attitudes compared to those who were high in exploration but low in identity commitment (i.e., identity moratorium). However, there was no difference between individuals high in both identity commitment and exploration (i.e., identity achievement) and the identity foreclosed individuals on feminist attitudes and three of seven dimensions of TMI. Implications and future directions are discussed.",
          "Racial and gender discrimination are risk factors for adverse mental health outcomes in the general population; however, the effects of discrimination on the mental health of healthcare workers needs to be further explored, especially in relation to competing stressors. Thus, we administered a survey to healthcare workers to investigate the associations between perceived racial and gender discrimination and symptoms of depression, anxiety, posttraumatic stress, and burnout during a period of substantial stressors related to the COVID-19 pandemic and a national racial reckoning. We used multivariable linear regression models, which controlled for demographics and pandemic-related stressors. Of the 997 participants (Mean Age = 38.22 years, SD = 11.77), 688 (69.01%) were White, 148 (14.84%) Asian, 86 (8.63%) Black, 73 (7.32%) Latinx, and 21 (2.11%) identified as another race. In multivariable models, racial discrimination predicted symptoms of depression (B = 0.04; SE: 0.02; p = .009), anxiety (B = 0.05; SE: 0.02; p = .004), and posttraumatic stress (B = 0.01; SE: 0.01; p = .006) and gender discrimination predicted posttraumatic stress (B = 0.11; SE: 0.05; p = .013) and burnout (B = 0.24; SE: 0.07; p = .001). Discrimination had indirect effects on mental health outcomes via inadequate social support. Hospital-wide diversity and inclusion initiatives are warranted to mitigate the adverse mental health effects of discrimination.",
          "Testing hypotheses from the emerging Identity Pathology (IP) framework, we assessed race-gender differences in the effects of reporting experiences of racial and gender discrimination simultaneously compared with racial or gender discrimination alone, or no discrimination, on future cardiovascular health (CVH). Data were from a sample of 3758 black or white adults in CARDIA, a community-based cohort recruited in Birmingham, AL; Chicago, IL; Minneapolis, MN, and Oakland, CA in 1985-6 (year 0). Racial and gender discrimination were assessed using the Experiences of Discrimination scale. CVH was evaluated using a 12-point composite outcome modified from the Life's Simple 7, with higher scores indicating better health. Multivariable linear regressions were used to evaluate the associations between different perceptions of discrimination and CVH scores two decades later by race and gender simultaneously. Reporting racial and gender discrimination in >= 2 settings were 48% of black women, 42% of black men, 10% of white women, and 5% of white men. Year 30 CVH scores (mean, SD) were 7.9(1.4), 8.1(1.6), 8.8(1.6), and 8.7(1.3), respectively. Compared with those of their race-gender groups reporting no discrimination, white women reporting only gender-based discrimination saw an adjusted score difference of +0.3 (95% CI: 0.0,0.6), whereas white men reporting only racial discrimination had on average a 0.4 (95% CI: 0.1,0.8) higher score, and scores among white men reporting both racial and gender discrimination were on average 0.6 (95% CI: 1.1,-0.1) lower than those of their group reporting no discrimination. Consistent with predictions of the IP model, the associations of reported racial and gender discrimination with future CVH were different for different racially-defined gender groups. More research is needed to understand why reported racial and gender discrimination might better predict deterioration in CVH for whites than blacks, and what additional factors associated with gender and race contribute variability to CVH among these groups.",
          "Prejudice against lesbian, gay, bisexual, and transgender (LGBT) individuals can affect a number of attitudes and behaviors relevant to sports; however, there is comparatively little focus on sexual prejudice among sport fans. As such, the purpose of the present study was to examine the associations among sexual prejudice, sexism, gender, and identification with two sports: men's figure skating and U.S. football. To examine these associations, we draw from multiple perspectives, including Robinson and Trail's (2005) work on identification, Herek's (2007, 2009) sexual stigma and prejudice theory, and McCormack and Anderson's (2014a, 2014b) theory of homohysteria. Questionnaire data were collected from 150 students (52 women, 98 men) enrolled at a large, public university in the Southwest United States. Consistent with the study hypotheses, results from a structural equation model indicate sexual prejudice held a positive association with identification with U.S. football and a negative association with identification with men's figure skating. Both gender and sexism were significantly associated with sexual prejudice. Men and individuals who expressed sexist attitudes were more prone to express sexual prejudice than were their counterparts. The authors also discuss theoretical and practical implications, limitations, and future directions.",
          "Racism and its ramifications are salient societal-level factors that detrimentally affect African American youth and families. Few studies have investigated how African American youth experience discrimination within families and society and colorism's impact on racial identity, despite extensive racial discrimination research. We assessed whether the perceptions of African American youth of their skin tone affected their racial identity, familial functioning, and everyday discrimination, using the National Survey of American Life-Adolescent Supplement data. We found no significant relationships among skin tone perception, racial identity, familial functioning, or everyday experiences of discrimination. Conversely, age and gender differences were significant predictors of racial identity, family functioning, and discrimination reports. We discuss the theoretical and practical implications of these findings for social work practice.",
          null
         ],
         "marker": {
          "opacity": 0.5,
          "size": 5
         },
         "mode": "markers+text",
         "name": "6_ethnicity_transgender_disparities",
         "text": [
          "",
          "",
          "",
          "",
          "",
          "",
          "",
          "",
          "",
          "",
          "",
          "",
          "",
          "",
          "",
          "",
          "",
          "",
          "",
          "",
          "",
          "",
          "",
          "",
          "",
          "",
          "6_ethnicity_transgender_disparities"
         ],
         "textfont": {
          "size": 12
         },
         "type": "scattergl",
         "x": [
          -0.07761754840612411,
          -0.12015332281589508,
          0.3694027066230774,
          -0.11052337288856506,
          1.9059795141220093,
          -0.11437080800533295,
          -0.13458938896656036,
          0.3540392518043518,
          0.38440844416618347,
          -0.10032514482736588,
          -0.11997250467538834,
          0.7528742551803589,
          -0.17210114002227783,
          0.3760533928871155,
          0.049137867987155914,
          -0.14925715327262878,
          2.012779951095581,
          -0.04345079883933067,
          0.04484517499804497,
          0.35040560364723206,
          -0.10655143111944199,
          1.9377001523971558,
          -0.11445043236017227,
          -0.12354321777820587,
          0.3889988660812378,
          -0.1355375200510025,
          0.2809300720691681
         ],
         "y": [
          10.197510719299316,
          10.697893142700195,
          9.20695972442627,
          10.256414413452148,
          8.498536109924316,
          10.665416717529297,
          10.677624702453613,
          9.221447944641113,
          9.178977012634277,
          10.240690231323242,
          10.30692195892334,
          8.81894588470459,
          10.758111000061035,
          9.203021049499512,
          9.776483535766602,
          10.689034461975098,
          8.603614807128906,
          10.277694702148438,
          10.101582527160645,
          9.217720031738281,
          10.559843063354492,
          8.603645324707031,
          10.691973686218262,
          10.653034210205078,
          9.185373306274414,
          10.669527053833008,
          9.883000373840332
         ]
        },
        {
         "hoverinfo": "text",
         "hovertext": [
          "From the perspectives of Saudi female journalists, the current study examined the predictive associations between gender discrimination, supervisor support, government support, and work-related outcomes (i.e., job stress and job satisfaction). Supporting our predictions, regression analyses results revealed that perceptions of gender discrimination were positively and perceptions of supervisor support were negatively associated with job stress. In addition, we found that perceptions of supervisor support and government support had positive associations with job satisfaction. Findings are discussed considering women's participation in the media industry in Saudi Arabia in relation to gender discrimination, supervisor and government support of women.",
          "Background Innovation in STEM (science, technology, engineering, and math) fields in the U.S. is threatened by a lack of diversity. Social identity threat research finds messages in the academic environment devalue women and underrepresented groups in STEM, creating a chilly and hostile environment. Research has focused on the mechanisms that contribute to STEM engagement and interest at the K-12 and undergraduate level, but the mechanisms that predict sustained engagement at the graduate level have not been studied. Results In a longitudinal study of doctoral students in STEM disciplines, we demonstrate that students' beliefs that their STEM colleagues believe intelligence is a fixed (vs. malleable) trait undermine women's engagement in STEM. Specifically, perceiving a fixed ability environment predicts greater perceptions of sexism, which erode women's self-efficacy and sense of belongingness and lead women to consider dropping out of their STEM career. Conclusion These findings identify one potential pathway by which women leave their STEM fields, perpetuating gender disparities in STEM.",
          "Scholars are increasingly responding to calls for interventions to address persistent gender disparities in the sciences. Yet, interventions that emphasize the pervasiveness of bias may inadvertently damage efficacy to confront sexism by creating the perception that bias is immutable. We examined this possibility in the context of a successful bias literacy program, Video Interventions for Diversity in STEM (VIDS; Moss-Racusin et al., in press). In two studies with working adults from the general public (N = 343) and science faculty (N = 149), we modified VIDS by developing a module (UNITE) that offers tools for addressing bias and promotes the mindset that bias is malleable. VIDS alone was sufficient to increase awareness of bias, reduce sexism, and improve bias identification. However, UNITE buffered against perceptions that bias is immutable and restored self-efficacy to address bias. We conclude that interventions must aim not only to increase bias literacy but also offer concrete tools and avoid implying that these problems are insurmountable.",
          "Objective To examine the relationship between gender and a career in academic medicine. Design Mixed-methods study. Setting Obstetrics-gynaecology postgraduate training programme in Paris, France. Sample Postgraduate trainees in obstetrics-gynaecology (n = 204). Methods Statistical analysis of quantitative survey data, thematic analysis of qualitative interview data and integrative analysis. Main outcome measures Women's aspirations and obstacles related to their decision about a career in academic medicine. Results A career in academic medicine was envisaged by 13% of the women residents and 27% of the men (P = 0.01). Women reported receiving advice from a mentor less often than men (38.8% versus 52.9%, P = 0.002). Overall, 40.6% of women and 2.9% of men reported experiencing gender discrimination (P < 0.001). In response to the question 'Do you have doubts about your ability to pursue or succeed at an academic career?', 62.4% of the women and only 17.7% of the men answered yes (P < 0.001). The global analysis identified the following obstacles: persistent gender stereotypes that produce everyday sexism, lack of identification with male role models, lack of mentors, perceived discrimination, an ideal of professional excellence that is difficult to attain, constraining professional organisational norms, inequality between men and women in the domestic and family spheres, and finally self-censorship and important doubts about their ability to combine a demanding career and a fulfilling personal life. Conclusions Women reported the desire to follow a career in academic medicine half as often as men. Improving the presence and visibility of role models for residents and combating workplace discrimination will address some of the barriers to women choosing a career in academic medicine. Tweetable abstract Women obstetric trainees in France are only half as likely as men to envisage following an academic path.",
          "The present study sought to apply an intersectional lens in predicting decent work (i.e., work that meets minimum standards for supporting worker dignity and livelihood). With a racially diverse sample of 302 women workers, we tested a moderated mediation model predicting decent work from economic constraints, experiences of sexism, experiences of racism, and the interaction of racism and sexism. Following psychology of working theory (PWT), we positioned work volition and career adaptability as mediators. Main effects were consistent with previous PWT theory and research, indicating that experiences of sexism and racism were important direct and indirect predictors of decent work. Interaction effects indicated that the interaction of sexism and racism predicted work volition and that the indirect effect of sexism on decent work was stronger at higher levels of racism. Results have implications for policymakers and practitioners seeking to support women across racial backgrounds in securing decent work.",
          "Background: Professional burnout is a growing problem among physicians. Neurology has been found to be one of the specialties with the highest prevalence for burnout. However, little is known about gender-specific risk factors. The objectives of this study were (1) to determine the prevalence of burnout among a sample of women neurologists in the United States and (2) to identify predictive factors leading to burnout. Materials and Methods: An online survey was distributed to 798 U.S. women neurologists through the closed Facebook group Women Neurologists Group. Burnout was assessed with the Mini-Z survey. Additional questions assessed current practice settings, family and childcare responsibilities, work-life balance, gender discrimination experiences, career satisfaction, and plans for career changes. Results: The survey received 181 responses, yielding a 22.7% response rate. Most respondents were 1-10 years post-training and 35.4% indicated they felt neutral or dissatisfied toward their current job; 42.6% of respondents reported symptoms of burnout. Working in a high stress environment, lack of control over the work schedule, a higher number of hours at work, and self-reported gender discrimination were each independent predictive factors for burnout. Having more children was associated with decreased likelihood of becoming a physician again, and less than a third of respondents with three or more children indicated they would become a physician again. While 91.1% of respondents considered themselves effective with electronic health record use, 56.9% indicated insufficient time for documentation. Conclusions: Professional burnout and career dissatisfaction have high prevalence in women neurologists and threaten the future of the neurology workforce. There is an urgent need for interventions to alleviate stressors associated with burnout and measures to reduce gender discrimination.",
          "Although the effects of confronting sexism have been examined in the past, no research to date has demonstrated the most common dimensions along which confrontations of workplace sexism differ. Furthermore, previous research has not fully examined how different forms of sexism confrontations differentially impact the workplace experiences of targets experiencing these sexist actions. Thus, these two studies examine how confrontations of workplace sexism commonly differ and the workplace implications of these differences. In Study 1, data were collected from individuals who had witnessed a sexist encounter in the workplace that was subsequently confronted. Using a content analysis approach, we found that the most common differences in confrontations of workplace sexism included the identity of the confronter, the tone of the confrontation, the location of the confrontation, the number of confronters, and the timing of the confrontation. In Studies 2 and 3, we examined how these differences impacted job stress, turnover intentions, perceived organizational support, job satisfaction, and workplace diversity climate of women targets. In Study 2, analysis of survey data from women employees determined that workplace confrontations of workplace sexism of any form are equally beneficial for women targets. Study 3, an experimental vignette study, provided support for the Study 2 findings. This study aids researchers in understanding the dimensionality of sexism confrontations as well as the relationships between these dimensions and important workplace outcomes. This study will also prove useful for practitioners intent on educating allies and targets on when and how they should confront sexism at work.",
          "Purpose The purpose of this paper is to understand what (if any) actual and perceived barriers exist for women to take on fire and emergency management leadership roles within the Department of Environment, Land, Water and Planning, Victoria, Australia. Design/methodology/approach An anonymous quantitative online survey was used to collect data about opinions and thoughts of staff. This informed the qualitative component of the research - in-depth, semi-structured interviews and a focus group. The combination of these techniques provides deeper insight into the nature of the barriers for women. Findings Respondents identified real barriers for women accessing leadership roles in fire and emergency. Reflecting the wider literature on barriers to women in executive roles, those identified related to sexism, career penalties not faced by men for family responsibilities, and assumptions of women helping other women's careers. There were more men in senior roles, leaving senior women isolated and often overlooked. Women had fewer role models and sponsors than men and less developed networks, finding it harder to access training and deployments. The context was described by most as \"a boys' club\", where men were seen to dominate meetings and stereotype the abilities of women. Originality/value This paper analyses the barriers to women in fire and emergency leadership roles within a masculine workplace and is rare in including a qualitative aspect to the issue in the Australian context.",
          "In this feminist, constructivist case study we explored how 28 classified, administrative, and faculty women's experiences working at one university for 25-40 years have changed. Participants ranged from 45- to 70-years-old at the time of their interview, with more than half older than 60, and 84% identified as White. Women with extended history of service to a single institution provide a unique lens for examining institutional change and gendered structures as they have, in their longevity, thrived or survived. In this article we explore a subset of the findings focused on how women recognize gendered dynamics within the university, and how women respond to inequitable dynamics. Women's descriptions of the climate include experiences of modern and benevolent forms of sexism in this institution; however, few participants identified these behaviors as sexist. We extend current understandings by documenting modern sexism in higher education and identifying patterns of description and denial of sexism, as well as adaptation and resistance to gendered dynamics. We demonstrate that climate cannot be measured solely by reports of sexual harassment, and explain why sexism is likely to be underreported.",
          "Past research on occupational choices often focuses on the role of personal attributes. Research is needed that examines whether daily environments and individuals' reactivity to these environments contribute to occupational choices. This study utilizes experience sampling methodology to examine whether daily sexism and affective reactivity to sexism predict the gender typicality of desired occupations of emerging adults in male-dominated majors (MDMs). 40 women and 40 men college students in MDMs reported desired occupations and experiences of sexism and general mood during the past hour four times a day for 2 weeks - allowing for an examination of whether some individuals report a more negative mood when they recently experienced sexism (i.e., reactivity). Results indicated that higher reactivity to sexism (but not daily sexism) predicted women desiring more female-typed and men desiring more male-typed occupations. Results suggest that career counselors should consider the role of daily sexism in career development.",
          "Phenomenon: A growing number of women are entering the medical workforce, yet their distribution across medical specialties remains nonuniform. We sought to describe how culture, bias, and socialization shape gendered thinking regarding specialty choice at a Canadian undergraduate medical institution. Approach: We analyzed transcripts from the Career Choices Project: 16 semistructured focus group discussions with 70 students graduating from Memorial University of Newfoundland in 2003, 2006, 2007, and 2008. The questions and prompts were designed to explore factors influencing specialty choice and did not specifically probe gender-based experiences. Focus groups were audio-recorded, transcribed, and deidentified before analysis. Analysis was inductive and guided by principles of orientational qualitative inquiry using a gender-specific lens. Findings: The pursuits of personal and professional goals, as well as contextual factors, were the major themes that influenced decision-making for women and men. Composition of these major themes varied between genders. Influence of a partner, consideration of familial commitments (both present and future), feeling a sense of connectedness with the field in question, and social accountability were described by women as important. Both genders hoped to pursue careers that would afford flexibility in order to balance work with their personal lives, though the construct of work-life balance differed between genders. Women did not explicitly identify gender bias or sexism as influencing factors, but their narratives suggest that these elements were at play. Insights: Our findings suggest that unlike men, women's decision-making is informed by tension between personal and professional goals, likely related to the context of gendered personal and societal expectations.",
          "Black women face the same struggles as White women; however, they have to face issues of diversity on top of inequality. The purpose of this study was to explore work-related stressors that affect the lives of Black women and how they cope with them. Using an exploratory design with grounded-theory methods, five basic themes emerged that identify when racism and sexism are experienced as stressors for African American women in the workplace. The themes are: (1) being hired or promoted in the workplace, (2) defending one's race and lack of mentorship, (3) shifting or code switching to overcome barriers to employment, (4) coping with racism and discrimination, and (5) being isolated and/or excluded. The results from this study indicate African American women use emotion- and problem-focused coping responses to manage stress (e.g., racism and sexism) in the workplace. The article concludes with a discussion of practice implications of these findings.",
          "Girls and women continue to be underrepresented in STEM fields (science, technology, engineering, and mathematics), and this underrepresentation has been partly attributed to gendered socialization processes early in life. One common feature of girls' developmental years is the experience of gender discrimination, yet relatively few studies have examined how girls' own experiences with gender discrimination may shape their connectedness to school and STEM. Using data from a cross-sectional study of ethnically and socioeconomically diverse adolescent girls (N = 295; M-age = 15.1, SD = 1.1; 54% White, 21% African American, 13% Latinx), we examined the unique and interactive effects of girls' subjective experiences with gender discrimination and implicit gender-science stereotypes on school connectedness and STEM orientation. Participants completed a survey on their experiences with gender discrimination, school connectedness, math and science achievement motivations, and the gender-science implicit association test. Results demonstrated that girls who experienced more gender discrimination reported lower levels of school connectedness. Gender discrimination also negatively predicted math achievement motivations for girls who more strongly endorsed implicit gender-science stereotypes (i.e., science associated with men and liberal arts associated with women). The theoretical and practical significance of these findings are discussed.",
          "['BACKGROUND', 'Inequity exists in surgical training and the workplace. The Eastern Association for the Surgery of Trauma (EAST) Equity, Quality, and Inclusion in Trauma Surgery Ad Hoc Task Force (EAST4ALL) sought to raise awareness and provide resources to combat these inequities. METHODS', 'A study was conducted of EAST members to ascertain areas of inequity and lack of inclusion. Specific problems and barriers were identified that hindered inclusion. Toolkits were developed as resources for individuals and institutions to address and overcome these barriers. RESULTS', 'Four key areas were identified: (1) harassment and discrimination, (2) gender pay gap or parity, (3) implicit bias and microaggressions, and (4) call-out culture. A diverse panel of seven surgeons with experience in overcoming these barriers either on a personal level or as a chief or chair of surgery was formed. Four scenarios based on these key areas were proposed to the panelists, who then modeled responses as allies. CONCLUSION', 'Despite perceived progress in addressing discrimination and inequity, residents and faculty continue to encounter barriers at the workplace at levels today similar to those decades ago. Action is needed to address inequities and lack of inclusion in acute care surgery. The EAST is working on fostering a culture that minimizes bias and recognizes and addresses systemic inequities, and has provided toolkits to support these goals. Together, we can create a better future for all of us.']",
          "The current study investigated the extent to which gender-based workplace issues were associated with women miners' mental health and job satisfaction. Participants were 263 women miners from Australian and other international mines sites owned by an Australian-based mining company. They completed an online survey that contained measures of gender-based workplace issues, mental health, and job satisfaction. An exploratory factor analysis identified three higher-order factors: organizational sexism, interpersonal sexism, and sense of belonging. Both organizational and interpersonal sexism were positive independent predictors of mental health and job satisfaction. In addition, sense of belonging mediated the associations between organizational sexism and (a) mental health and (b) job satisfaction. Potential strategies for reducing organizational and interpersonal sexism and increasing women's sense of belonging are considered.",
          "Students from underrepresented groups face numerous challenges during their scientific education and training, including discrimination. Research tends to investigate student experiences with discrimination on the basis of a single characteristic, but an intersectional framework is necessary for understanding the complexity of discrimination. Using data from a survey of more than 1,300 U.S. graduate students in five natural and social science disciplines, the authors examine the predictors of reported discrimination across three different characteristics: gender, race, and religion. They find that nearly two thirds of students report discrimination on at least one characteristic, while almost 30 percent report discrimination along multiple characteristics. Multivariate analyses show that a student's report of discrimination on any one characteristic is significantly associated with increased odds of reporting discrimination on each of the other two characteristics. This suggests that an individual's experiences within one social location are often intertwined with and influence their experiences with in other social locations.",
          "Female correctional staff face multiple challenges when working in a male prison environment. Perceptions of competence and gendered divisions of labor are prevalent in the negotiated order of a prison. Sexuality is a dynamic that is irrelevant to the demands of a correctional officer yet a significant identity to be managed and negotiated in interactions with both colleagues and prisoners. This study adopts an auto ethnographic approach to highlight discrimination in prison officer occupational culture. Drawing upon personal narratives whilst working in an adult male prison in England, lived experiences of homophobia and sexism are presented to identify the challenges faced as a gay female prison officer. Themes of sexual objectification, homophobia and workplace incivility identify failings within the English prison service in supporting workplace diversity and inclusivity.",
          "There has long been a gender bias in medicine. This qualitative study aims to identify the experience of sexism among frontline female nurses and further explore their expectations and possible strategies to get rid of gender bias. This is a descriptive phenomenological study of 23 female nurses with 11 +/- 3.98 years of experience who spent 36 +/- 6.50 days at the frontline during the initial COVID-19 outbreak. We employed Colaizzi's phenomenological analysis method to understand the subjective experiences, revealing the following themes: (a) materialization of gender identity; (b) incoordinate relationships; (c) future voice of female nurses. The gender bias experienced by female frontline nurses further challenges their emotional identity and self-identity. Therefore, it is important to require extensive consciousness-raising and policy support to defend female nurses' rights.",
          "We examined associations of perceived ambivalent sexism with women's outcomes in university Science, Technology, Engineering, and Mathematics (STEM) courses as a function of their STEM identity. Women (N = 592) who varied in STEM identification reported on their personal experiences with benevolent and hostile sexism and indicated their STEM major intentions, STEM self-efficacy, and STEM grade point average (GPA). Women perceived more benevolent sexism (i.e., protective paternalism and complementary gender differentiation) than hostile sexism in STEM courses, and their STEM identity moderated the associations between sexism and STEM outcomes. Among weakly-identified (but not strongly-identified) women, protective paternalism predicted lower STEM major intentions, STEM self-efficacy, and STEM GPA; hostile sexism predicted lower STEM GPA. Male STEM students (N = 163) reported more protective paternalism attitudes than hostile sexism attitudes, suggesting that women's perceptions were not without warrant. We discuss implications of these results for understanding women's underrepresentation in STEM and advise STEM educators to avoid well-intended, but paternalistic, messages that convey negative stereotypes about women's STEM competence.",
          "Across many disciplines, women are underrepresented in faculty positions relative to men. The present research focuses on the academic conference as a setting because it is a gateway to an academic career and a context in which women might experience sexism. We surveyed 329 presenters (63% women) from three U.S. national academic conferences, which differed in women-to-men ratios, about their perceptions of the conference climate, their coping tactics (e.g., gender performance, silence, or voice), and their intentions to exit the conference or academia. The greater the representation of women at the conference relative to men, the less likely were women to perceive sexism and to feel they had to behave in a masculine manner in that setting. In contrast, women who perceived the conference as sexist and felt silenced also expressed increased intentions to exit from academic careers. Men's perceptions of sexism predicted increased intentions to exit from that particular conference, but not from academia. Because conferences signal the norms of a discipline, it is important to explore their climates as they relate to gender. Perhaps especially for new and aspiring female academics, they may signal devalued status and lack of fit and as such play an inadvertent role in the \"leaky pipeline.\" We discuss strategies that conference organizers could implement to mitigate sexist climates, including broader inclusion of women in speaking and leadership roles and explicit attention to cues that women belong.",
          "Women comprise three quarters of students who graduate from psychology doctoral programs (Cope, Michalski. & Folwer, 2016), but gender disparity in pay and position prestige persist in the workforce (American Psychological Association, 2018; Wicherski, Mulvey, Hart, & Kohout, 2011). Women who are mothers may experience a \"maternal wall\" (Crosby, Williams, & Biernat, 2004; Williams, 2005) that further impedes professional advancement. Because supervisors are positioned to facilitate trainees' professional development and supervision processes have been found to differ based on gender (Chung, Marshall, & Gordon, 2001; Granello. 2003; Hindes & Andrew's, 2011), more work is needed to highlight the unique challenges faced by trainees who are mothers and to demonstrate how supervisors' behaviors can help trainees navigate these challenges. This article describes supervisory experiences of trainees who identified as new mothers during clinical internship. Authors share paraphrased supervision interactions on topics positioned at the intersection of training and motherhood to illustrate how supervisors impacted trainees who were navigating these challenges. Authors identify gender-based discrimination as harmful to the supervisory alliance and highlight self-disclosure, flexibility, and corrective feedback as supervisor behaviors that enhance the supervisory alliance and support trainees. The discussion section situates trainees' needs in the context of national and site policies that impact mothers.",
          "In academia, the proportion of women decreases with each career level. In this research, we examined how this so-called leaky pipeline relates to gender-based relative expectations of success. The participants were students from social sciences where women are the majority among students, such that it is more readily - but erroneously - inferred that gender discrimination is not an issue. We assumed that gender-based relative expectations of success should be predicted by two variables. Women students should experience higher gender-based rejection sensitivity than men students, with gender-based rejection sensitivity mitigating relative success expectations in women, but not in men. Men students should exhibit higher hostile-sexist attitudes toward women than women students, with hostile sexism reducing men students' but not women students' relative success expectations. We tested our hypotheses in an (under-)graduate sample of women and men students enrolled in educational or psychological majors (N = 372). Results show that a quarter of the women students expected men to be more successful than women and that proportionately more women than men students indicated that women have worse chances of success than men in the job they aspire to. Women were more concerned about being treated differently because of their gender than men, and men held more sexist attitudes toward women than women, with gender-based rejection sensitivity contributing to women students' and sexism to men students' expectation that their own gender group will less likely succeed in their aimed for future job. Implications how the leaky pipeline can be patched are discussed.",
          "Background: Gender differences in personal discrimination experience, burnout, and job stress among physiotherapists and occupational therapists are considered as associated factors of job loss, poor job quality, high turnover, and economic losses due to the outflow of medical personnel. Thus, the purpose of this study is to analyze the level of burnout, personal discrimination experience, and job stress according to gender differences for young physiotherapists and occupational therapists. Furthermore, we used regression analyses to determine the contribution of gender differences in personal discrimination experience and job stress to self-reported burnout, considering gender and two age groups (younger than 30 years old vs. 30 years old and over). Methods: A total of 325 professional physiotherapists and occupational therapists were part of this study (n = 325; male n = 131; female n = 194. Age: 20-29 years old, n = 178; >= 30 years old, n = 147). Data were collected using a questionnaire including our three study variables (scales: the Maslach Burnout Inventory (MBI), a modified version of the gender section of the Medical School Graduation Questionnaire from the Association of American Medical Colleges; and the Korean version of the Job Content Questionnaire (JCQ)). Further, data on socio-demographic factors, job-related factors, health-related factors, and subjective job satisfaction were also collected. Results: There were significant positive correlations between job stress and gender differences in personal discrimination experience and job stress and burnout in women 30 years old and over. Personal experience of gender discrimination (beta = 0.179, p = 0.015) and job stress (beta = 0.162, p = 0.028) explained a significant 42.4% of the variance in burnout in the case of younger female participants (20-29 years old). However, this model did not explain a significant amount of the variance in burnout in the case of younger male participants (R-2 = 0.156, p = 0.072). Regarding participants aged 30 years and over, our results showed that only job stress (but no personal experience of gender discrimination) was a relevant predictor for both males (beta = 0.471, p < 0.001) and females (beta = 0.373, p = 0.001). Conclusion: In this study, female therapists showed higher levels of burnout than male therapists. In particular, personal discrimination experience and job stress significantly contributed to burnout in younger female therapists while job stress was the most relevant predictor variable of burnout for both males (under 30 years old and 30 years old and over) and females in their thirties and beyond. For young female physiotherapists and occupational therapists, safe working environments should be created to reduce work-related mental burdens. It is also necessary to consider policies and regulations that can prevent job stress for therapists and measures that can positively resolve the unavoidable job stress.",
          "['Background: Gender discrimination and inequality in health professional education (HPE) affect students and faculty and hinder production of the robust health workforces needed to meet health and development goals, yet HPE reformers pay scant attention to these gender barriers. Gender equality must be a core value and professional practice competency for all actors in HPE and health employment systems.', 'Methods: Peer-review and non-peer-review literature previously identified in a review of the literature identified interventions to counter gender discrimination and inequality in HPE and tertiary education systems in North America and the Caribbean; West, East, and Southern Africa; Asia; the Middle East and North Africa; Europe; Australia; and South America. An assessment considered 51 interventions addressing sexual harassment (18), caregiver discrimination (27), and gender equality (6). Reviewers with expertise in gender and health system strengthening rated and ranked interventions according to six gender-transformative criteria.', 'Results: Thirteen interventions were considered to have transformational potential to address gender-related obstacles to entry, retention, career progression, and graduation in HPE, when implemented in core sets of interventions. The review identified one set with potential to counter sexual harassment in HPE and two sets to counter caregiver discrimination. Gender centers and equal employment opportunity units are structural interventions that can address multiple forms of gender discrimination and inequality.', \"Conclusions: The paper's broad aim is to encourage HPE leaders to make gender-transformative reforms in the current way of doing business and commit to themselves to countering gender discrimination and inequality. Interventions to counter gender discrimination should be seen as integral parts of institutional and instructional reforms and essential investments to scale up quality HPE and recruit and retain health workers in the systems that educate and employ them. Implementation challenges spanning financial, informational, and cultural barriers need consideration. The application of core sets of interventions and a strong learning agenda should be part of ongoing HPE reform efforts.\"]",
          null
         ],
         "marker": {
          "opacity": 0.5,
          "size": 5
         },
         "mode": "markers+text",
         "name": "7_supervisors_academia_physiotherapists",
         "text": [
          "",
          "",
          "",
          "",
          "",
          "",
          "",
          "",
          "",
          "",
          "",
          "",
          "",
          "",
          "",
          "",
          "",
          "",
          "",
          "",
          "",
          "",
          "",
          "",
          "7_supervisors_academia_physiotherapists"
         ],
         "textfont": {
          "size": 12
         },
         "type": "scattergl",
         "x": [
          2.3393712043762207,
          1.9034905433654785,
          1.913528323173523,
          1.5133503675460815,
          2.491029977798462,
          1.5035792589187622,
          2.267080783843994,
          1.498826026916504,
          1.9999229907989502,
          1.9387716054916382,
          1.5125912427902222,
          0.054531700909137726,
          1.8003120422363281,
          1.4410227537155151,
          2.024996280670166,
          1.8834353685379028,
          1.364526391029358,
          1.3444023132324219,
          1.892054557800293,
          2.023650646209717,
          1.5124120712280273,
          1.9479455947875977,
          1.5189621448516846,
          1.3998699188232422,
          1.7120693922042847
         ],
         "y": [
          9.442930221557617,
          9.4481840133667,
          9.399791717529297,
          10.201386451721191,
          9.315449714660645,
          10.185995101928711,
          9.297452926635742,
          9.832356452941895,
          9.641321182250977,
          9.572510719299316,
          10.188508033752441,
          10.772857666015625,
          9.34192943572998,
          10.113819122314453,
          9.637832641601562,
          9.441970825195312,
          9.701814651489258,
          10.000444412231445,
          9.461604118347168,
          9.585832595825195,
          10.171980857849121,
          9.488691329956055,
          10.18781566619873,
          10.059568405151367,
          9.770501136779785
         ]
        },
        {
         "hoverinfo": "text",
         "hovertext": [
          "Previous research on subclinical orgasmic difficulties among women has focused on intrapsychic and interpersonal variables, but little attention has been paid to the more distal ideological factors that might indirectly constrain sexual pleasure. We hypothesized that women's endorsement of a benevolently sexist worldview would be negatively associated with orgasm frequency. Specifically, we predicted that benevolent sexism would be associated with increased perceptions of male sexual selfishness. This perception of men as interested in their own sexual pleasure would then predict decreased willingness to ask a partner for sexual pleasure, which in turn would be associated with less frequent orgasms. We found support for our model across two studies (Study 1: N = 339; Study 2: N = 323). We did not, however, find a direct effect of benevolent sexism on orgasm frequency. We discuss possible additional variables linking benevolent sexism with orgasm frequency, implications, and future directions.",
          "Benevolent sexism promises women a revered place within intimate relationships, which should lead to greater dissatisfaction when they face relationship difficulties. We collected self-reports of relationship problems and relationship satisfaction (Study 1; N=91 heterosexual couples), relationship problems and relationship evaluations daily over 3weeks (Study 1), and hurtful partner behaviour and relationship evaluations over 10days (Study 2; N=86 women). Women's endorsement of benevolent sexism predicted sharper declines in relationship satisfaction when they faced greater relationship problems (Study 1) and hurtful partner behaviour (Study 2). These effects were magnified in longer relationships (Studies 1 and 2), indicating that the sensitivity to relationship problems associated with women's endorsement of benevolent sexism is particularly pronounced when women have more invested in their relationship role being revered and cherished. The results suggest that women who endorse benevolent sexism are vulnerable within their relationships because their satisfaction is contingent upon the fulfilment of the promises of benevolent sexism. Copyright (c) 2013 John Wiley & Sons, Ltd.",
          "Drawing on ambivalent sexism and Chicana feminist theories, the purpose of the study was to explore ambivalent sexism and traditional relational scripts among a regional sample of 141 Hispanic young adults. Data derived from self-report questionnaires indicated that men scored higher on hostile sexism and traditional relational scripts but not on benevolent sexism. Structural equation modeling with maximum likelihood procedure was applied and path analyses indicated that, for both men and women, higher endorsement of benevolent and hostile sexism predicted higher traditional dating scripts and family roles. Gender made a difference only in relation to hostile sexism on traditional dating scripts, with men having a stronger association than women. Women's strongest path was between hostile sexism and family scripts. We discuss these nuanced gendered differences between dating and family relationships as well as stereotypical gendered and cultural notions of Hispanic values. Implications are considered.",
          "Based on research suggesting that alcohol consumption can be used as a means of coping with negative affect (Cooper et al. 1995), the current study examines sexism as a factor in college women's alcohol consumption. Despite being more prevalent than hostile sexism, benevolent sexism is often viewed as less sexist (Oswald et al. 2018) and having a less aversive impact on women (Bosson et al. 2010). To increase understanding of the negative effects of both hostile and benevolent sexism, the current study experimentally manipulated sexism during a lab session and measured 176 U.S. college women's actual alcohol consumption that evening. As predicted, college women who experienced either the hostile or the benevolent sexism condition reported consuming a greater number of alcoholic drinks, and those in the hostile sexism condition were more likely to meet the binge drinking threshold than participants in the control condition. This pattern suggests the importance of examining the unique effects of benevolent sexism in addition to hostile sexism because both may influence women's behavior even in important health domains. Given the many negative consequences associated with alcohol consumption, our results provide evidence for education on healthy coping mechanisms and interventions to reduce both hostile and benevolent sexism.",
          "Nearly half of college students engage in risky alcohol use, and college women may be more likely than men to drink in excess. However, little research has examined predictors of alcohol use unique to college women. College women often experience sexism; however, whether sexism contributes to greater alcohol use is not well established. 'the present study assessed alcohol-related outcomes among college women, examining the interaction between sexism and alcohol identity, associations in memory between self and alcohol-related constructs. Part 1 found that greater anticipation of sexism predicted higher self-reported alcohol use among women strongly identifying with alcohol. Part 2 manipulated the presence of sexist feedback and assessed automatic alcohol action tendencies. Results indicated that women receiving sexist feedback and strongly identifying with alcohol exhibited greater automatic tendencies toward alcohol compared to women receiving non-sexist feedback. Results suggest that sexism may contribute to greater alcohol use among college women who strongly identify with alcohol.",
          "New women-focused mobile dating apps purport to empower women by having them \"make the first move\" and disrupt traditional male-dominated dating norms. Drawing on feminist approaches and technological affordances, we examine how heterosexual cisgender women and men experience this \"empowerment\" and contrast it to other mobile dating app use. We used a multimethod approach to conducting app walkthroughs, focus groups, and interviews to contrast the mobile dating apps, Tinder and Bumble. The findings reveal that perceptions of free choice and action determine empowerment experiences. Our study reveals that the \"forced empowerment\" on Bumble was still strongly shaped by heterosexual gender norms that encouraged \"good\" girls and guys to use the app to look for long-term relationships but continue to use Tinder to hook up, despite the popular misogyny on Tinder identified by both men and women in our study. We conclude by discussing the empowerment paradox of dating apps through popular feminism and misogyny.",
          "This study examined whether gender roles, particularly male role beliefs and sexism, may underlie self-reported attitudes toward and participation in casual sex and intoxication prior to sexual contact in a sample of heterosexual undergraduate men from the United States. We utilized online survey methods to examine whether men's (N = 223 from a large mid-Atlantic University) endorsement of traditional masculinity (power and status, toughness, and anti-femininity) and sexist attitudes regarding women's roles (hostile, benevolent) were related to engagement in casual sex (i.e., number of one-time-only sex partners), and whether masculinity was related to intoxicated sexual contact (i.e., propensity to consume alcohol prior to sexual contact). Structural Equation Modeling (SEM) revealed that, as expected, endorsement of the toughness male role norm was positively associated with favorable attitudes toward casual sex, and endorsement of benevolent sexism was negatively associated with favorable attitudes toward casual sex. Favorable attitudes toward casual sex, in turn, were positively associated with men's reported number of casual sex partners, as partially mediated by intoxicated sexual contact. Further, toughness endorsement was positively associated with number of casual sex partners via its positive association with intoxicated sexual contact; whereas power and status demonstrated the opposite, negative pattern. We discuss the contribution of this research to the broader literature on gender roles and sexual behavior and the utility of the findings for interventions aimed at reducing men's casual sex behavior and intoxication prior to sexual contact.",
          "Based on theorizing that helping relations may serve as a subtle mechanism to reinforce intergroup inequality, the present research (N = 1,315) examined the relation between benevolent sexism (i.e., a chivalrous yet subtly oppressive view of women) and helping. In cross-gender interactions, the endorsement of (Studies 1, 3, and 4) or exposure to (Study 2) benevolent sexism predicted (a) men's preference to provide women with dependency-oriented help (i.e., direct assistance) rather than tools for autonomous coping, and (b) women's preference to seek dependency-oriented help rather than tools for autonomous coping. Benevolent sexism did not predict men's and women's engagement in dependency-oriented helping relations in same-gender interactions. Studies 1 and 2 examined behavioral intentions in response to a series of hypothetical scenarios; Studies 3 and 4 examined actual behavior in tests of mathematical and logical ability, and pointed to assumed partner's expectations as a potential mediator. The converging evidence supports the hypothesis that benevolent sexism encourages engagement in cross-gender helping relations that perpetuate traditional gender roles.",
          "The current research examined whether men's hostile sexism was a risk factor for family-based aggression during a nationwide COVID-19 lockdown in which families were confined to the home for 5 weeks. Parents who had reported on their sexist attitudes and aggressive behavior toward intimate partners and children prior to the COVID-19 pandemic completed assessments of aggressive behavior toward their partners and children during the lockdown (N = 362 parents of which 310 were drawn from the same family). Accounting for pre-lockdown levels of aggression, men who more strongly endorsed hostile sexism reported greater aggressive behavior toward their intimate partners and their children during the lockdown. The contextual factors that help explain these longitudinal associations differed across targets of family-based aggression. Men's hostile sexism predicted greater aggression toward intimate partners when men experienced low power during couples' interactions, whereas men's hostile sexism predicted greater aggressive parenting when men reported lower partner-child relationship quality. Novel effects also emerged for benevolent sexism. Men's higher benevolent sexism predicted lower aggressive parenting, and women's higher benevolent sexism predicted greater aggressive behavior toward partners, irrespective of power and relationship quality. The current study provides the first longitudinal demonstration that men's hostile sexism predicts residual changes in aggression toward both intimate partners and children. Such aggressive behavior will intensify the health, well-being, and developmental costs of the pandemic, highlighting the importance of targeting power-related gender role beliefs when screening for aggression risk and delivering therapeutic and education interventions as families face the unprecedented challenges of COVID-19.",
          "Benevolent sexism prescribes that men should cherish and protect women in intimate relationships. Despite the romantic tone of these attitudes, prior research indicates that benevolent sexism undermines women's competence, ambition, and independence. Ambivalent sexism theory proposes that benevolent sexism is able to incur these costs because the promise of a chivalrous and protective partner offers women security in their intimate relationships. We tested this key proposition by examining whether women who intensely need relationship securitywomen higher in attachment anxietyare more attracted to men who endorse benevolent sexism. Highly anxious women (N=632) rated men described as endorsing benevolent sexism as relatively more attractive, and reported greater preferences for partners to hold benevolently sexist attitudes. These results advance understanding regarding the underlying reasons women find benevolent sexism appealing and identify who will be most vulnerable to the potential costs of benevolent sexism.",
          "Marriage is a rite of passage in U.S. culture influenced by fairy-tale expectations presented in the media and perpetuated through gender role socialization. Our study tested endorsement of marriage myths and benevolent sexism as predictors of engaged heterosexual college women's premarital relationship outcomes and psychological well-being. Women in heterosexual relationships (N = 99) completed an online questionnaire 6-12 months before their wedding. Results indicated endorsement of marriage myths predicted positive experiences, whereas benevolent sexism predicted negative experiences. However, several interactions indicated that women who rejected marriage myths but endorsed benevolent sexism showed more negative patterns including lower relationship satisfaction and confidence, lower educational expectations, and higher depression. Results are interpreted using self-discrepancy theory such that when actual and ideal experiences are congruent, higher relationship satisfaction and more positive well-being results, whereas discrepant actual-ideal experiences predict dissatisfaction and more negative well-being. These results have implications for counseling couples on holding realistic expectations for their romantic partners. Marriage counselors can advise couples about the potential negative consequences of endorsing benevolent sexism. Exposure of common myths or unrealistic expectations about one's partner and relationship may decrease the real-ideal discrepancy and increase marital satisfaction, thus increasing the likelihood of relationship longevity.",
          "Ambivalent sexism theory recognizes that sexist attitudes maintain gender inequalities via sociocultural and close relationship processes. This review advances established work on sociocultural processes by showing how people's need for relationship security is also central to the sources and functions of sexism. Men's hostile sexism-overtly derogatory attitudes toward women-involves insecurities about women exploiting men's relational dependence. Accordingly, men's hostile sexism predicts relational aggression when their dependence on partners is risky. Men's benevolent sexism-patronizing and protective attitudes toward women-offers men relationship security by idealizing traditional gender roles in romantic relationships. Benevolent sexism also appeals to women who seek the security of a devoted partner, but requires women to invest in their relationship at the expense of their independence. Our relationship science perspective reveals that romantic (in)security is critical to why people adopt sexist attitudes and why sexist attitudes create differential costs and benefits for women and men.",
          "Men's hostile sexism promotes aggressive attitudes, motivations and behaviors toward women. Despite the costs these effects should have for women, prior research has failed to test how men's hostile sexism predicts the problems women experience in important domains. We address this oversight by utilizing dyadic data from 363 heterosexual couples to test how male partners' hostile sexism predicts women's relationship experiences and evaluations. Male partners' hostile sexism was associated with women experiencing more severe problems across a greater number of domains. Moreover, the areas experienced as most problematic were consistent with the power, dependence, and trust concerns underlying men's hostile sexism, including problems with power dynamics, jealousy, and serious problems involving gender-role conflict, abuse, infidelity and alcohol/drugs. The greater problems associated with male partners' hostile sexism predicted more negative relationship evaluations for women. These results demonstrate the importance of examining how men's hostile sexism harms women in important life domains.",
          "Previous studies have indicated that sexism is related to romantic partner preference in heterosexual men and women. We examined the association between sexism and preference for male facial masculinity among 185 gay men in China. Hostile sexism (HS; hostility toward women who oppose traditional roles) was positively correlated with facial masculinity preference. Protective paternalism, a component of benevolent sexism (BS: ideation of women who conform to traditional gender roles) was negatively correlated with facial masculinity preference. These findings indicated that sexism was related to male facial masculinity preferences in gay men. Thus, regardless of sexual orientation, men high on HS tend to prefer sex-typicality in potential partners. (C) 2014 Elsevier Ltd. All rights reserved.",
          "Behavioral prescription specifies how people ought to act. Five studies investigated prescription for men of protective paternalism, a particular form of benevolent sexism, depending on contextual and individual factors. In Studies 1 and 2, female participants prescribed for men more protective paternalistic behavior toward women in a romantic than in a work context. In Study 3, male participants prescribed the same level of protective paternalistic behavior as female participants did. Conversely, more gender egalitarianism was prescribed for men in a work than in a romantic context (Studies 1-3). In Study 4, the same protective paternalistic behavior was labeled as intimacy in a romantic context but was identified to the same extent as intimacy and as sexism in a work context. In Study 5, female participants' benevolent sexist beliefs predicted their prescription of protective paternalistic behavior for men in both contexts. These studies demonstrated that prescription of protective paternalism for men is a complex phenomenon because it depends on contextual as well as individual variables. These findings need to be added to the list of factors explaining how this particular form of sexism is maintained within gender relationships and how it contributes to women's subordination.",
          "Hostile sexism encompasses aggressive attitudes toward women who contest men's power and suspicions that women will manipulate men by exploiting their relational dependence. Prior research has shown that these attitudes predict greater aggression toward female relationship partners, but has overlooked the contexts in which such aggression should occur. The present research identified an important contextual factor that determines when men's hostile sexism is (and when it is not) associated with relationship aggression. Men who more strongly endorsed hostile sexism were more aggressive toward their female partners during couples' daily life (Study 1) and conflict discussions (Study 2), but only when their female partners were perceived to be, or reported being, low in relationship commitment. These findings show that men who endorse hostile sexism do not always enact aggression toward female partners, but do so in contexts relevant to their fears that women will exploit men's relational dependence and undermine men's power.",
          "Women report lower sexual satisfaction than men. Given that sexual dissatisfaction adversely impacts health and well-being, it is imperative that we investigate why women are sexually dissatisfied. In the present study, we explored whether women's benevolently sexist attitudes might predict their sexual dissatisfaction. In a sample of 308 (M-age = 38.09) heterosexual American women who had previously had sex with a man, we hypothesized that women's benevolent sexism would be associated with an increased adoption of the traditional sexual script (i.e., an increased propensity for submissiveness and passivity during sex) and that this, in turn, would be associated with increased sexual dissatisfaction. We also hypothesized that the relationship between the adoption of the traditional sexual script and sexual dissatisfaction would be moderated by the degree to which participants enjoy submissiveness. Overall, we did not find support for our model: benevolent sexism did not predict sexual dissatisfaction. However, we did find that adopting the traditional sexual script was predictive of sexual dissatisfaction for women who do not enjoy submissiveness. These findings contribute to an emerging literature pertaining to women's sexual health. Specifically, results suggest that benevolent sexism does not contribute to women's experiences of sexual dissatisfaction. Instead, they suggest that sexual dissatisfaction in women may (in part) be driven by their engagement in sexual roles that do not align with their sexual preferences. Theoretical and clinical implications for these findings are discussed.",
          "We investigated the relations between the endorsement of ambivalent sexism and relationship qualities in heterosexual romantic couples during emerging adulthood. The sample included 94 heterosexual emerging adult dating couples attending a public university (M-age = 21 years; 39% White, 25% Latinx, 11% Asian, and 18% Other). Each partner separately completed survey measures of ambivalent sexism and perceived relationship satisfaction and conflict. Dyadic analyses were performed using structural equation modeling. Results indicated men's hostile sexism predicted lower satisfaction and more conflict for men and their partners, whereas men's benevolent sexism (BS) predicted more satisfaction and lower conflict for men and their partners. Women's BS was negatively related to the length of the couple's relationship. The results are discussed in relation to ways that ambivalent sexism may affect the dating relationships of many emerging adults in college settings and how these effects may change over time in relationships and at later life stages.",
          "This research investigates whether ambivalent sexism impacts individuals' perceptions of what is appropriate and valued dating behavior, as these perceptions may contribute to the perpetuation of traditional dating scripts. Two hundred seventeen undergraduate students from the Midwestern United States read a gender-stereotypic, gender-counter stereotypic, or egalitarian heterosexual dating vignette. Participants made judgments of appropriateness, warmth, and competence separately for the man and woman on the date. Overall, gender stereotypic dates were evaluated most positively, consistent with previous work suggesting that dating behaviors remain gendered. Evidence of the restrictive nature of the masculine gender role was obtained. Men in egalitarian and counter-stereotypic dating scenarios were evaluated negatively in terms of warmth, competence, and appropriateness, thus potentially experiencing backlash effects. Indeed, the man in the gender counter-stereotypic condition was rated as less competent, warm, and appropriate than the women, but the man in the gender stereotypic condition was rated as more competent, warm, and appropriate than the woman. Consistent with predictions, those high in ambivalent sexism had more negative reactions to gender counter-stereotypic dating scenarios than those low in ambivalent sexism. However, ambivalent sexism did not predict different reactions towards gender stereotypic and egalitarian dating scenarios, and egalitarian dates were rated as most typical regardless of participants' ambivalent sexism. Thus, greater acceptance of gender counter-stereotypic dates was observed among those low in ambivalent sexism, and even those high in ambivalent sexism were accepting of egalitarian dating practices.",
          "In two studies, we examined how romantic attachment style relates to women's sexism toward men. Specifically, we applied structural equation modeling and mediation analyses to the responses of over 500 self-reported heterosexual women. Study 1 included 229 women who answered questionnaires tapping attachment anxiety and avoidance, ambivalent sexism toward men, romanticism, and interpersonal trust. We conducted Study 2 as a replication, changing questionnaire order to gauge the robustness of results, using a new sample of 273 women. In general, women's attachment anxiety predicted ambivalent sexism (both benevolence and hostility) toward men, whereas women's attachment avoidance predicted univalent hostility (and lower benevolence) toward men. Romanticism mediated attachment style's relationship to benevolence toward men, whereas lower interpersonal trust mediated attachment's relationship to hostility toward men. The results suggest that, for women (as for men), sexist attitudes toward members of the other sex have roots in attachment style and associated worldviews. Better understanding of women's ambivalence toward men in romantic relationships may help to inform marital therapy.",
          "Women and men are particularly vulnerable to the costs of sexism in intimate relationships, which may override relationship enhancement motives that produce positive biases. Inspired by error management principles, we propose that women and men should make biased judgments of intimate partners' sexist attitudes to help avoid the harmful costs of sexism that occur within mixed-gender relationships. Women may overestimate partners' hostile sexism because failing to detect men's hostile sexism should render women especially vulnerable to the risk of maltreatment, whereas women may underestimate partners' benevolent sexism because expecting special treatment that is unavailable is more costly than receiving unexpected benevolence. By contrast, men may overestimate partners' benevolent sexism because failing to prevent women's dissatisfaction and anger when men do not fulfill gallant gender roles would be most costly than providing more benevolence than expected. Comparing perceptions of partners' attitudes to partners' actual sexist attitudes in two studies of mixed-gender couples (N = 91 and 84 dyads) confirmed this gender-differentiated pattern. On average, women overestimated their partners' hostile sexism and underestimated their partners' benevolent sexism, whereas men overestimated their partners' benevolent sexism. Although we did not make predictions about judgments of women's hostile sexism, analyses also revealed that men underestimated their partners' hostile sexism. The pattern of bias has important implications for understanding the ways sexist attitudes affect intimate relationships and sustain gender inequality.",
          "We examined how sexism related to gay and bisexual men's preferences for same-sex top (dominant) or bottom (submissive) sexuality in China. Specifically, we determined the impacts of sexism on sexual self-label identification and requirements for a romantic partner's sexual role among 507 Chinese gay and bisexual men. Sexism was found to significantly predict top/bottom sexual self-label: gay and bisexual men endorsing benevolent sexism (BS; ideation of women who conform to traditional gender roles) were more likely to identify as tops than as bottoms. We also noted a significant prediction of hostile sexism (HS; hostility toward women who oppose traditional roles) on partner choice: Tops and bottoms endorsing HS were more likely to require a complementary partner rather than to have no requirements. Moreover, sexism was related to sexual role prejudice, a concept derived from sexism that we defined as holding attitudes toward the gender roles of \"bottoms\" among gay and bisexual men that indicate inequality of sexual self-labels. In a mediation analysis of these relationships, we noted significant indirect effects of BS and HS on sexual self-label via both benevolent and hostile sexual role prejudice, as well as on requirements for a romantic partner's sexual role via benevolent (but not hostile) sexual role prejudice. Our results suggest that traditional gender beliefs may influence negative beliefs toward other sexual roles and that both sets of beliefs, although not always consistent with each other, relate to gay and bisexual men's sexual self-labels and requirements for a romantic partner's sexual role.",
          "The current research demonstrated that women's adoption of benevolent sexism is influenced by their perceptions of their intimate partners' agreement with benevolent sexism. In 2 dyadic longitudinal studies, committed heterosexual couples reported on their own sexism and perceptions of their partner's sexism twice across 9 months (Study 1) and 5 times across 1 year (Study 2). Women who perceived that their male partner more strongly endorsed benevolent sexism held greater and more stable benevolent sexism across time, whereas lower perceptions of partners' benevolent sexism predicted declines in women's benevolent sexism across time. Changes in men's endorsement of sexism were unrelated to perceptions of their partner's sexist attitudes. The naturalistic change in sexist attitudes shown in Studies 1 and 2 was supported by experimental evidence in Studies 3 and 4: Manipulations designed to increase perceptions of partner's benevolent sexism led women (but not men) to report greater benevolent sexism. Studies 3 and 4 also provided evidence that perceptions of partner's benevolent sexism fosters perceived regard and relationship security in women, but not men, and these relationship factors enhance attitude alignment. Discriminant analyses demonstrated that these effects were specific to women's perceptions of partner's, rather than societal, levels of sexism. In sum, these studies illustrate that women endorse benevolent sexism when they perceive that the reverence and security that benevolent sexism promises women are accessible in their relationships.",
          "Women who cope with sexism via social support tend to experience positive psychological outcomes. The present research examines sexism coping support and relationship satisfaction within mixed-gender romantic relationships. In Study 1, women (n = 208) reported desiring and receiving emotional support, distraction, and active planning coping support behaviors from their male romantic partners after experiencing sexism. Sexism coping support predicted women's relationship satisfaction while accounting for important related factors (e.g., partner sexism, sexism frequency). In Study 2, men (n = 218) reported providing and believing their female partners most desired emotional support, distraction, and active planning coping support following disclosures of experiences of sexism. Men's own hostile and benevolent sexism and engagement in coping support behaviors related to the perceived satisfaction of their female partners. This research highlights the sexism coping support behaviors that are desired and engaged in most frequently, as both women and men report the importance of emotional support, active planning, and distraction coping support behaviors in response to women's disclosures of their experiences with sexism. These findings are discussed in relation to existing literature on coping support and sexism and romantic relationships.",
          null
         ],
         "marker": {
          "opacity": 0.5,
          "size": 5
         },
         "mode": "markers+text",
         "name": "8_masculinity_relationships_submissiveness",
         "text": [
          "",
          "",
          "",
          "",
          "",
          "",
          "",
          "",
          "",
          "",
          "",
          "",
          "",
          "",
          "",
          "",
          "",
          "",
          "",
          "",
          "",
          "",
          "",
          "",
          "8_masculinity_relationships_submissiveness"
         ],
         "textfont": {
          "size": 12
         },
         "type": "scattergl",
         "x": [
          -1.2461977005004883,
          -1.2823731899261475,
          -1.1342298984527588,
          1.602001428604126,
          1.4710066318511963,
          -1.1907117366790771,
          1.3907805681228638,
          -1.4476561546325684,
          -0.9168747067451477,
          -1.401965618133545,
          -1.298909306526184,
          -1.3208922147750854,
          -1.01952064037323,
          0.09114128351211548,
          -1.4208582639694214,
          -1.105392336845398,
          -1.2198232412338257,
          -1.1504981517791748,
          -1.2405686378479004,
          -1.3062222003936768,
          -1.4078714847564697,
          0.1167553961277008,
          -1.3739583492279053,
          -1.2058234214782715,
          -0.7924442291259766
         ],
         "y": [
          8.73224925994873,
          8.405035018920898,
          8.421996116638184,
          8.229119300842285,
          8.268012046813965,
          8.593242645263672,
          8.262391090393066,
          8.647622108459473,
          8.083727836608887,
          8.552252769470215,
          8.384602546691895,
          8.445913314819336,
          8.149923324584961,
          9.028809547424316,
          8.565557479858398,
          8.191116333007812,
          8.780072212219238,
          8.38943099975586,
          8.50894832611084,
          8.445590019226074,
          8.436074256896973,
          9.079580307006836,
          8.50338363647461,
          8.343642234802246,
          8.477011680603027
         ]
        },
        {
         "hoverinfo": "text",
         "hovertext": [
          "Since politics is to a great degree applied psychology, psychologists should get involved in the analysis of the current democratic decline and reversal of this trend. Martina Klicperova-Baker introduces and discusses the book Threat to Democracy by a political psychologist, F. M. Moghaddam. Many of its useful concepts will very likely enter the vocabulary of the discipline, e.g., the springboard model to dictatorship, sacred groups, fractured globalization, and political plasticity. Also, Moghaddam's circular explanation of history (peoples who free themselves from a dictatorship often find themselves trapped by another dictator) and his suggestion to replace multiculturalism with a unifying humanistic orientation (omniculturalism) are very topical. The article is devoted to discussion and elaboration of the main concepts of the book. Klicperovii-Baker augments the springboard model of dictatorship theory and converts it into a diagram; she expands definition of populism into a prosocial/antisocial dichotomy; she supplements the \"sacred groups\" (religion, ethnicity, and race) used by dictators with an additional category of \"dark sacred groups\" which result from fear and hatred and lead to a negativistic counter-identification (racism, misogyny, malevolent religious self-righteousness, a priori antigovernmental rebelliousness, unsubstantiated climate denial, homophobia). The main point of argument is the concept of freedom (attached and detached freedom) and applicability of Fromm's \"escape from freedom\" to the current situation. It is concluded that if Fromm's idea is not consensual, perhaps the notion of \"escape from democracy\" is. Further discussion of the matter is very welcome.",
          "The present study used nationally representative American National Election Studies (ANES) data to examine the potential role of sexism in the 2016 presidential election. We hypothesized not only that sexism would predict voting for Trump (vs. Clinton), but that its role would be stronger on the political left (vs. right). The sample consisted of 1916 Clinton or Trump voters (51.41% women; Mage = 51.78, SD = 17.16; 79.5% White) who completed measures of political ideology and hostile sexism. Greater conservatism or sexism significantly predicted voting for Trump (vs. Clinton). As expected, sexism was a significantly stronger predictor of voting for Trump the more left-leaning (vs. right-leaning) the voter. Not only was Clinton correct that sexism played a role in her electoral loss, but she correctly characterized sexism as endemic, an influence especially perceptible on the left.",
          "This 12-year study examined racism and sexism in the 2008, 2012, 2016, and 2020 US presidential elections. Data were collected in the weeks surrounding each election, and participants completed measures of racism, sexism, and support for candidates. The hypotheses were that liberal participants would endorse less racism and sexism than conservative participants, and that racism and sexism would predict support for the presidential candidates differently in different election cycles. There was mixed support for the hypotheses; overall liberal participants did endorse racism and sexism less than conservative participants. Racism was a significant predictor during both the 2008 and 2016 elections. Although benevolent sexism was a significant predictor in 2008 and 2012, hostile sexism was a significant predictor in the 2016 and 2020 elections. Taken together these results suggest that political affiliation predicts levels of racism and sexism, and that these voter prejudices do predict support for political candidates.",
          "Political scientists are paying increasing attention to understanding the role of sexist attitudes on predicting vote choices and opinions on issues. However, the research in this area measures sexist attitudes with a variety of different items and scales. In this paper, I evaluate some of the most prominent contemporary measures of sexism and develop an approach for identifying optimal items based on (1) convergent validity, (2) predictive validity, and (3) distance from politics. I find that a subset of items from the hostile sexism scale exhibit the most desirable measurement properties and I conclude by recommending a simple two- to five-item reduced hostile sexism battery that will allow scholars to efficiently, validly, and consistently measure sexism.",
          "Prior research highlights substantial beneficial effects of political user-generated content (UGC) in society, such as diversifying political viewpoints, mobilizing the electorate, and fostering citizens' civic engagement. However, important user asymmetries exist when creating political content. Gender, age, media uses, and skills gaps have been identified as key variables predicting UGC. This study addressed the political UGC gender gap from a political perspective. We build on previous theory about feminist media studies, political polarization, and cultural backlash theory to disentangle whether hostile sexism predicts UGC creation. Drawing on online survey data from four well-established democracies, we find that those individuals holding hostile sexist views are more likely to generate political content online. Further implications for democracy and the role of women in the digital sphere are discussed.",
          "We exploit a natural experiment to study discrimination in elections. In Illinois Republican presidential primaries, voters vote for delegates bound to presidential candidates, but delegates' names convey information about their race and gender. We identify discrimination from variation in vote totals among delegates bound to the same presidential candidate and who face the same voters. Examining delegate vote totals from 2000 to 2016, we estimate nonwhite delegates receive 9% fewer votes. We find essentially no gender discrimination. Negligible incentives for statistical discrimination, costs to preferred presidential candidates, and heterogeneity are consistent with an interpretation of this behavior as taste-based. (C) 2020 Elsevier B.V. All rights reserved.",
          "In 2016, attitudes related to racism and sexism were strong predictors of vote choice for president. Since then, issues related to race and gender have continued to be an important part of the political agenda. This letter shows that hostile sexism and denial of racism emerged as stronger predictors of the House vote in the 2018 cycle than they had been in 2016. The results show that the increased importance of these factors came largely from the shifting of less sexist and less racist voters from voting Republican in 2016 to voting for Democrats in 2018. Overall, the results suggest that Trump's hostility towards women and minorities is becoming part of the Republican Party's brand, and that this appears to have created an electoral penalty for Republican candidates in 2018.",
          "Data from Reuters/Ipsos polls (6116 respondents) conducted shortly before and after the 2016 presidential election (from 4 to 17 November 2016) were used to test whether: (1) women and men differed in favorability toward Hillary Clinton versus Donald Trump, (2) sexism (either hostile or benevolent) predicted favorability ratings toward each candidate. Overall, men and women rated Clinton similarly, but men favored Trump significantly more than women did. Hostile sexist attitudes were second only to general political orientation in predicting positive attitudes toward Trump; however, hostile sexism predicted disfavoring Clinton only among women and not among men. By contrast, benevolent sexism weakly, but significantly predicted greater favorability toward Clinton but was unrelated to Trump favorability ratings. Thus, hostile sexist attitudes among voters significantly helped Trump, whereas benevolent sexism yielded only a weak protective effect toward Clinton.",
          "In each of two studies, six past or present Democratic presidential candidates (3 males, 3 females) were selected to construct groups of male and female candidates roughly matched in terms of prominence and ideological position. In Study 1, a conditional effect of candidate sex was found such that female candidates suffered deficits in voting intentions in participants at or above the 68th percentile in hostile sexism even when accounting for candidate familiarity. Simultaneously, sexism on its own predicted increased support for Donald Trump over the entire Democratic field. In Study 2, the conditional effect of candidate sex on voting intentions was positive (predicting greater support for women) for participants below the 26th percentile on sexism and negative for those above the 53rd percentile on sexism even when accounting for perceived electability, competence, and trustworthiness. The interaction also predicted perceived electability in an examination of conditional direct and indirect effects.",
          "['How likely is it that President Trump will not serve his full term? Donald Trump ran a highly contentious political campaign; many of his messages could be identified as xenophobic, misogynist or racist. After becoming the 45th president of the United States, many political observers expected his initial actions would be less controversial, thus setting a more compromising tone for his government. However, this has not happened. President Trump signed more than sixty executive orders, which rolled back on some of the most prominent government actions implemented by the Obama administration. President Trump is also spearheading changes aimed at modifying the economic and geopolitical landscape by loosening Wall Street and environmental regulations, altering the tax code, banning immigration from several Muslim-majority countries and continuing plans to build a border wall. In addition, the Administration has become mired in a scandal regarding its potential links between the presidential campaign and the Russian government. According to Section 4 of the 25th amendment of the Constitution of the United States, if the Vice President and a simple majority of the Cabinet deem the President unable to discharge the powers and duties of his office, the Vice President becomes Acting President. Another possible scenario could lead to impeachment based on conflict of interests or misuse of Presidential power. Again, the result of successful impeachment would be Mike Pence assuming the presidency.', 'Our paper analyzes various possible scenarios regarding prospective challenges to the continuation of President Trump in office. The purpose of the paper is to assess the relative likelihood of different paths to power for Mike Pence.']",
          "Using large samples that are nationally diverse or nationally representative (total N = 44,836), this article presents evidence that citizens' prejudice does not usually benefit or undermine politicians who are from a particular demographic group, as many past studies assumed; instead. citizens' prejudice is associated with support for conservative politicians and opposition to liberal politicians, regardless of politicians' demographic background. Study la and Study 1b show that, regardless of the race and gender of real politicians, racism and sexism negatively predict support for liberal politicians, and positively predict support for conservative politicians. This overall pattern is experimentally confirmed in Study 2 where participants evaluate a hypothetical politician. Using data collected between 1972 and 2016. Study 3 shows that, historically, the predictive effect of racism and sexism on support for politicians in general is moderated by politicians' perceived ideology. Study 4 addresses a limitation of Study 1-3, and Study 5 extends the results for prejudice to the religious domain (i.e., prejudice toward Muslims). Together, these studies suggest that the way prejudice is related to support for a politician is primarily moderated by the politician's political ideology, not the politician's demographic background. Thus, this article highlights the often-overlooked role of politicians' ideology, clarifying theories that explain how citizens' prejudice is translated into their political preferences.",
          "Sexual harassment and gender discrimination have become more salient in U.S. politics in recent years due, in part, to the #MeToo movement. We conducted two surveys on Californians in the 2018 primary and general election. We find that experiencing either of these types of interactions shaped how Independent voters evaluated political figures but had a smaller effect on Democratic and Republican party identifiers. On average, experiencing gender discrimination has stronger effects on the evaluation of political figures than sexual harassment. Both experiences played out differently for Independent men and Independent women. The boost in female support for Democratic candidates was counterbalanced by a backlash vote from Independent men who reported they experienced gender discrimination, aiding the President and hurting Democratic political figures. This suggests that the pro-Kavanaugh backlash had deeper roots in male resentment towards the perceived preferential treatment of women, especially in work environments.",
          "The outcome of the 2016 US presidential election cycle generated a great deal of attention about the political psychology of the average American voter. A familiar narrative was that authoritarianism, perhaps triggered by fears of cultural and economic change, was the primary driver of support for Donald Trump. This article argues that sexism has been underestimated as a political force, especially given the angry emotional climate. The article first explores the electoral role of sexism early in the campaign, finding that sexism powerfully predicted vote choice even after controlling for authoritarianism, partisanship, and other predispositions. Second, the article analyzes American National Election Studies time-series data to examine the impact of sexism in recent presidential elections, demonstrating that 2016 was the only year in which it played a large and significant role. Finally, a survey experiment tests the theorized causal mechanism underlying sexism's influence: the catalyzing power of anger versus fear. Fear sharply reduced sexism's impact on support for Trump relative to those who experienced anger. Further, anger powerfully mobilized sexists, a group that would normally be likely to stay home. These results illuminate the role that emotional undercurrents play in catalyzing group-based predispositions into politics.",
          "While Western democracies have become increasingly gender-equal over the past decades, recent research documents a backlash against gender equality in the form of rising modern sexism. Previous research shows that modern sexism predicts political attitudes and voting behavior that are detrimental to women's empowerment and liberalism. Yet, we know little about which factors explain modern sexist attitudes and how they operate across multiple country contexts. Building on modern conceptualizations of sexism, we theorize that (perceived) increases in competition between men and women provoke modern sexism among young men in particular. Using an original measure that approximates dimensions of modern sexism embedded in the 2021 EQI survey, capturing 32,469 individuals nested in 208 NUTS 2 regions in 27 European Union countries, we demonstrate that young men are most likely to perceive advances in women's rights as a threat to men's opportunities. This is particularly true for young men who (a) consider public institutions in their region as unfair, and (b) reside in regions with recent increases in unemployment resulting in increased competition for jobs. Our findings highlight the role of perceived competition between men and women in modern sexism and contradict the argument that older generations are most likely to backlash against progressive values, potentially adding to research explaining the recent backlash against gender equality.",
          "Attitudes towards abortion play a significant historical and contemporary role in U.S. politics. Research has documented the influence of racist and sexist attitudes in Americans' political opinions, yet the role of these attitudes has largely been absent in psychological research about abortion. We hypothesized that racism and sexism, originating from historically-rooted stereotypes about Black women's sexuality and motherhood, would be related to abortion attitudes. In Study 1, we recruited three samples-Black (n = 401), Latinx (n = 316), and White (n = 343) individuals diverse in age, gender, and abortion identity-to complete an online survey assessing abortion attitudes, symbolic racism, modern sexism, and religiosity. Results were consistent with hypotheses: antipathy and resistance to the equality of African Americans (racism) or women (sexism) related to individuals' negative abortion attitudes, above and beyond religiosity, in all three samples. In Study 2, we partially replicated these findings using data from the 2012 American National Election Studies (ANES). Moreover, we extended Study 1's findings by demonstrating that racism and/or sexism predicted opposition to abortion while controlling for political ideology among White (n = 2,344) and Black (n = 500) individuals but not Latinx individuals (n = 318). These studies demonstrated that exclusionary ideologies (i.e., racist and sexist attitudes) relate to individuals' abortion attitudes. These findings may assist researchers and policy makers with interpreting a more comprehensive picture of the racist and sexist attitudes that individuals possibly draw upon when responding to questions about abortion, including voting, answering polls, or supporting political candidates.",
          "The 2016 U.S. Presidential Election provided a unique opportunity to examine how ageism and sexism may impact attitudes (perceived presidential qualities and endorsement of positive and negative age stereotypes) toward Hillary Clinton and Donald Trump. Community participants (N = 875) indicated their attitudes and voting intentions 3 weeks before the election. Endorsement of positive and negative age stereotypes and perceived presidential qualities for Clinton and Trump varied based on participants' attitudes toward women, political stance (conservative/liberal), and demographic characteristics (racial/ethnic identification, education, gender identification). Individuals who perceived sexism to be more prevalent and perceived women as more competent in general had more positive attitudes toward Clinton, in contrast, only perceptions of lower prevalence of sexism (and not competence of women) predicted attitudes toward Trump. Individuals who perceived sexism as less prevalent viewed Clinton as less presidential and endorsed stronger negative age stereotypes for Clinton, while they viewed Trump as more presidential and endorsed stronger positive and weaker negative age stereotypes for Trump. Our findings suggest that both ageism and sexism present barriers for qualified women when pursuing positions of power. Implications for future research are discussed.",
          "We identify a form of gender-based governmental discrimination that directly affects billions of women on a daily basis: the setting of import tariffs for gendered goods. These tax rates, which can differ across otherwise identical gender-specific products, often impose direct penalties on women as consumers. Comparing nearly 200,000 paired tariff rates on men's and women's apparel products in 167 countries between 1995 and 2015, we find that women suffer a tax penalty that varies systematically across countries. We demonstrate that in democracies, women's presence in the legislature is associated with decreased import tax penalties on women's goods. This finding is buttressed by a comparison of democracies and non-democracies and analyses of the implementation of legislative gender quotas. Our work highlights a previously unacknowledged government policy that penalizes women and also provides powerful evidence that descriptive representation can have a substantial, direct impact on discriminatory policies.",
          "Considerable research has examined the role of sexism and vote choice, especially within the context of the 2016 presidential election. These findings are clear, consistent, and unequivocal - sexism hurt Hillary Clinton at the ballot box. However, the 2020 presidential primary provides an opportunity to examine sexism's effects on candidate favorability among a broader range of candidates. Using data on candidate favorability from the 2019 VOTER survey, I find that sexism is unsurprisingly predictive of lower favorability of women running for the Democratic nomination. However, I also find that sexism influences support for men running for the nomination, in a way that is statistically indistinguishable from its effect on support for women. This effect persists even among only Democratic respondents.",
          "This research investigated the role of gender attitudes in the United States 2016 presidential election between Hillary Clinton and Donald Trump. The results of three studies (combined N = 2,816) showed that, as expected, Trump voters were higher in hostile and benevolent sexism than were Clinton voters. Even after controlling for political ideology and gender (Studies 1, 2, and 3) and minority group attitudes (Study 3), greater hostile sexism predicted more positive attitudes toward Trump, less positive attitudes toward Clinton, and retrospective reports of having voted for Trump over Clinton (Studies 2 and 3). Benevolent sexism did not predict additional variation in voting behavior beyond political ideology and hostile sexism. These results suggest that political behavior is based on more than political ideology; even among those with otherwise progressive views, overtly antagonistic views of women could be a liability to women-and an asset to men-running for office.",
          "The current study compared attitudes towards LGBTQ individuals, racism, Islamophobia, ambivalent sexism and conservative ideology across Hillary Clinton voters, Donald Trump voters and third party/undecided voters in the 2016 US presidential election. Participants (n = 249) intending to vote for Clinton had significantly lower scores on all attitude measures compared to Trump and third party/undecided voters, with the exception of Islamophobia, where Clinton and third party/undecided voters had significantly lower scores than Trump voters. A multinomial logistic regression was run to assess age, education, attitudes towards LGBTQ individuals, Islamophobia, sexism and social dominance orientation, as predictors of being a Trump, Clinton or a third party/undecided voter. Attitudes towards LGBTQ individuals, Islamophobia, sexism and social dominance orientation were significant predictors of voting behaviour such that those who were less homophobic, less Islamophobic, less sexist and had less of a social dominance orientation were more likely to vote for Clinton than for Trump or a third party candidate. Ambivalent sexism was the strongest predictor of voting for someone other than Clinton, regardless of whether participants identified as Trump or third party/undecided voters. Results are discussed within the context of understanding the role of multiple prejudices in determining the outcome of the 2016 US presidential election.",
          "Although the landscape for female candidates in U.S. politics has improved, research continues to find that many voters possess sexist attitudes. We rely on a standard political communication framework to help reconcile sexism in the electorate with increasingly favorable outcomes for women in primary elections. Based on two national survey experiments, we first demonstrate that in the absence of gendered campaign rhetoric, sexism is a weak predictor of support for female candidates on both sides of the political aisle. We then show, however, that when a male candidate attempts to activate sexism among voters by attacking a female opponent, gender attitudes become more salient-but not to the woman's disadvantage. In a Democratic primary, gendered attacks backfire and lead to a significant boost in support for the female candidate. On the Republican side, a male candidate does not face the same backlash, but the attacks do very little to depress his female opponent's support. While the persistence of hostile attitudes toward women has slowed the march toward gender equality in society, our experimental results suggest that sexism exerts only contingent effects in primary elections and not systematically to female candidates' detriment.",
          "In the summer and fall of 2016, we examined how gender norms relate to perceptions of the ideal president as well as favorability toward Hillary Clinton and Donald Trump. Participants listed living examples of the \"ideal\" president and rated how typical masculine and feminine traits were of the ideal president (Studies 1a and 1b). Male exemplars and masculine traits were seen as more typical of the ideal president. Participants also rated the average man or woman, Trump, or Clinton on the same traits, completed the Modern Sexism scale, and rated how favorably they viewed each candidate (Study 2). Although Clinton matched the ideal better than Trump did, she did not represent her gender as well as Trump represented his. Our data suggest that Clinton's \"likability problem\" stemmed from her lacking sufficient feminine traits rather than possessing masculine traits. Modern Sexism predicted lower favorability for Clinton and higher favorability for Trump above and beyond demographic variables, including political affiliation. Gender stereotypes and beliefs about gender equity (e.g., Modern Sexism) influenced attitudes toward the candidates in the 2016 election.",
          "Gun ownership is a key predictor of gun policy preferences, political advocacy on behalf of gun rights, and political engagement. Theories have linked both racial and gender ideologies to gun ownership among white Americans, but the evidence is spotty. Statistical analyses provide some limited confirmation that racial resentment is a key predictor of gun ownership, but the role of sexism has not been tested quantitatively especially in conjunction with racial resentment. We use the 2004-2016 ANES and a 2015 Gun Survey to statistically test the relative importance of racial resentment and sexism in predicting gun ownership, rationales for owning firearms, and NRA membership among whites. We find strong evidence that racial resentment is associated with gun ownership, rationales for owning firearms, and NRA membership, but the results for sexism are generally not consistent with expectations.",
          null
         ],
         "marker": {
          "opacity": 0.5,
          "size": 5
         },
         "mode": "markers+text",
         "name": "9_sexism_politics_electability",
         "text": [
          "",
          "",
          "",
          "",
          "",
          "",
          "",
          "",
          "",
          "",
          "",
          "",
          "",
          "",
          "",
          "",
          "",
          "",
          "",
          "",
          "",
          "",
          "",
          "9_sexism_politics_electability"
         ],
         "textfont": {
          "size": 12
         },
         "type": "scattergl",
         "x": [
          3.879859447479248,
          4.467820167541504,
          4.581607341766357,
          4.27372407913208,
          4.217984199523926,
          4.585038661956787,
          4.584510803222656,
          4.395166397094727,
          4.459873199462891,
          4.620073318481445,
          4.570314407348633,
          4.453974723815918,
          4.4495086669921875,
          4.071459770202637,
          4.398689270019531,
          4.423373222351074,
          3.735454797744751,
          4.452249526977539,
          4.466608047485352,
          4.565903663635254,
          4.351823806762695,
          4.422049045562744,
          4.5102033615112305,
          4.388576984405518
         ],
         "y": [
          8.115311622619629,
          9.395316123962402,
          9.384908676147461,
          9.386727333068848,
          9.250927925109863,
          9.474729537963867,
          9.371354103088379,
          9.485183715820312,
          9.585854530334473,
          9.42265510559082,
          9.357146263122559,
          9.583678245544434,
          9.359213829040527,
          9.40475845336914,
          9.016879081726074,
          9.532867431640625,
          9.342865943908691,
          9.503690719604492,
          9.473398208618164,
          9.336373329162598,
          9.608689308166504,
          9.53213882446289,
          9.299647331237793,
          9.357580184936523
         ]
        },
        {
         "hoverinfo": "text",
         "hovertext": [
          "This study uses a diverse sample that is nationally representative with regards to race and gender (N = 2,000) in an attempt to replicate and confirm Stoll, Lilley, and Pinter's previous finding that gender-blind sexism is correlated with rape myth acceptance. As in the original study, we hypothesized that higher scores on the Gender-Blind Sexism Inventory (GBSI) would be predictive of higher scores on Stoll et al.'s Rape Myth Acceptance Scale (RMA). Gender-blind sexism builds on previous models of contemporary sexism such as hostile and benevolent sexism, modern sexism, and neosexism. It also represents an extension of racialized social system theory that explores the ways contemporary sexism operates in an era of post-racial and post-gender politics via four frames: abstract liberalism, naturalization, cultural sexism, and minimization of sexism. Unlike in the original study, however, our sample also allowed us to control for scores on the Ambivalent Sexism Inventory (ASI), the Modern Sexism Scale (MS), and the Neosexism Scale (NS) in testing this relationship. Our analysis confirmed the hypothesis that gender-blind sexism is predictive of higher rape myth acceptance among participants. Moreover, this study indicates that the GBSI offers additional value over the ASI, MS, and NS, as it was the only index of sexism tested that revealed gender-group differences within its relationship to RMA. Compared to men, women's acceptance of rape myths was more responsive to shifts in the GBSI. We discuss the implications of our findings in terms of rape and sexual assault prevention and policy. We also provide some suggestions for how the GBSI could be used in future studies.",
          "Despite substantial evidence demonstrating a relation between gender-based beliefs and violence against women, there has been little research examining whether sexist attitudes are related to prosocial bystander behavior. Understanding psychosocial influences on bystanders' behavior could inform bystander training programs on college campuses, and so the current study examined the unique and joint effects of three gender-based attitudes (rape myth acceptance, hostile sexism, and benevolent sexism) and empathy in predicting bystander behavior and perceived barriers to intervention in situations that undergraduates (N = 500; 70% female; M-age = 18.86 years) had experienced in the prior year. Benevolent sexism was the only gender-based attitude consistently associated with bystander behavior and perceived barriers. After accounting for participant empathy, benevolent sexism uniquely predicted less intervention in post-assault situations, greater perceived barriers in pre- and post-assault situations, and greater Failure to Perceive Responsibility and Skill Deficit barriers across situations. Associations between gender-based attitudes and bystander behavior also differed for men and women, with rape myth acceptance predicting greater Failure to Perceive Responsibility barriers and benevolent sexism predicting greater Skill Deficit barriers for women but not men. These results suggest that existing bystander education programs can be improved by explicitly addressing benevolent sexist beliefs and promoting empathy for victims of assault.",
          "Sexual harassment represents aggressive behavior that is often enacted instrumentally, in response to a threatened sense of masculinity and male identity. To date, however, theoretical attention to the social cognitive processes that regulate workplace harassment is scant. This article presents the development and preliminary validation of the Moral Disengagement in Sexual Harassment Scale (MDiSH); a self-report measure of moral disengagement in the context of hostile work environment harassment. Three studies (total n=797) document the excellent psychometric properties of this new scale. Male U.K. university students (Study 1: n=322) and U.S. working males (Studies 2 and 3: n=475) completed the MDiSH and an array of measures for construct validation. The MDiSH exhibited positive correlations with sexual harassment myth acceptance, male gender identification, and hostile sexism. In Study 3, participants were exposed to a fictitious case of hostile work environment harassment. The MDiSH attenuated moral judgment, negative emotions (guilt, shame, and anger), sympathy, and endorsement of prosocial behavioral intentions (support for restitution) associated with the harassment case. Conversely, the MDiSH increased positive affect (happiness) about the harassment and attribution of blame to the female complainant. Implications for practice and future research avenues are discussed. Aggr. Behav. 42:254-273, 2016. (c) 2015 Wiley Periodicals, Inc.",
          "This study explored whether tolerance of sexual harassment of men (TSHM) is driven by a common set of sexist ideologies typically found to be related to tolerance of sexual harassment of women. University students (N = 433) completed a modified version of the Sexual Harassment Attitude Scale (SHAS) designed to measure TSHM. Predictor variables included sexual harassment myths about women, modern sexism, hostile, and benevolent sexism toward men and women and participant gender. A factor analysis of the measure revealed two reliable factors (sexual harassment as flirtation and minimization of victimization). With the exception of benevolence toward women, men scored higher on all measures of sexism and TSHM, yet correlational patterns showed a similar trend among men and women, suggesting a shared ideological belief that justifies TSHM. Despite differences in participant sex on most measures, participant sex was not a significant moderating variable in regression analyses when examining factors relating to TSHM. These results provide support that tolerance of sexual harassment is driven by a common set of sexist attitudes.",
          "This study aimed to analyze the influence of victim-related and observer-related factors in victim blaming of battered women. Two hundred and forty six college students participated. They were asked to read a scenario describing a hypothetical case of physical violence perpetrated by a man against his partner. Depending on the experimental condition, the victim was described either as a feminist and/or as exhibiting difficulties in her relationship with others or not. A hierarchical regression analysis was performed with victim blaming as dependent variable. Participants' hostile sexism positively predicted victim blaming when the victim was described as a feminist and as a \"difficult to deal with\" woman (p < .001). In addition, men, but not women, high in hostile sexist attitudes placed more blame on the victim when she was presented as a feminist woman (p < .001). These results underscore the importance of victim-related and observer-related factors, and of their interaction, in blaming the victim of gender-based violence.",
          "The purpose of this work is to analyse how some ideological variables (ambivalent sexism, culture of honour, and right-wing authoritarianism) affect rape myths acceptance (RMA). Two hundred and fourteen university students (83 men and 131 women), mean age 20.39 years old, participated. The results show that there is a high correlation between RMA and hostile sexism, benevolent sexism, culture of honour, and right-wing authoritarianism. Hostile sexism and right-wing authoritarianism predict RMA in both male and female samples. Benevolent sexism predicts RMA in the female sample. In addition, in the male sample right-wing authoritarianism interacts with hostile sexism to predict RMA, while in the female sample right-wing authoritarianism interacts with benevolent sexism to predict RMA. These results show the close relationship existing between certain ideological variables and RMA.",
          "This study addresses a gap in the research literature concerning predictors of culpability attributions towards juvenile female prostitutes (JFPs). Three hundred undergraduate participants read a vignette describing a JFP and responded to a series of measures. Results supported a causal pathway whereby stronger perceiver sexism predicted stronger negative affective evaluations of, and weaker empathic reactions toward, the JFP. Stronger negative affective evaluations and weaker empathic reactions, in turn, predicted stronger culpability attributions toward the JFP. Also, participants who were provided information about the JFP's extensive victimisation history and coercion into the trade, relative to participants who were not provided this information, attributed lesser culpability to the JFP. Finally, stronger culpability attributions toward the JFP related to weaker recommendations of restorative justice (i.e. counselling/mental health services for the JFP) and stronger recommendations of retributive justice (i.e. incarceration for the JFP). Study implications, limitations, and directions for future research are discussed. Copyright (c) 2013 John Wiley & Sons, Ltd. Stronger negative affective evaluations and weaker empathic reactions, in turn, predicted stronger culpability attributions' Key Practitioner Message Stronger perceiver sexism predicts stronger negative evaluations of, and weaker empathic reactions towards a juvenile female prostitute.Stronger negative evaluations of, and weaker empathic reactions towards a girl in the sex trade in turn predict stronger culpability attributions towards her.Provision of information about a prostituted youth's victimisation history and coercion into prostitution mitigates culpability attributions toward her.Public education that highlights juvenile prostitution as a form of child sexual exploitation may be critically important to minimising punitive social cognitions about survivors of the commercial sex trade.",
          "We combine evolutionary and sociocultural accounts of sexual harassment, proposing that sexuality-related and hostility-related motives lead to different types of harassment. Specifically, men's short-term mating orientation (STMO) was hypothesized to predict only unwanted sexual attention but not gender harassment, whereas men's hostile sexism (HS) was hypothesized to predict both unwanted sexual attention and gender harassment. As part of an alleged computer-chat task, 100 male students could send sexualized personal remarks (representing unwanted sexual attention), sexist jokes (representing gender harassment), or nonharassing material to an attractive female target. Independently, participants STMO, HS, and sexual harassment myth acceptance (SHMA) were assessed. Correlational and path analyses revealed that STMO specifically predicted unwanted sexual attention, whereas HS predicted both unwanted sexual attention and gender harassment. Furthermore, SHMA fully mediated the effect of HS on gender harassment, but did not mediate effects of STMO or HS on unwanted sexual attention. Results are discussed in relation to motivational explanations for sexual harassment and antiharassment interventions. Aggr. Behav. 38:521-531, 2012. (c) 2012 Wiley Periodicals, Inc.",
          "Sexist attitudes have been identified as an important variable which fosters a climate of social permissiveness towards sexual violence towards women. However, its impact on social reactions to scenarios of sexual cyberviolence is unknown. This study examines whether the impact of this variable along with the victim's transgression of their gender role may condition social reactions towards this kind of technological violence in a sample of 301 university students between the ages of 18 and 27. The results point to sexist attitudes and transgression of the gender role traditionally attributed to women as predictors of negative social assessments of sexual cyberviolence; furthermore, the interaction between both factors is especially decisive in social judgements on the victims' guilt. These results complement those of previous studies on the perception of offline sexual violence and highlight the important role of sexist beliefs in negative reactions towards victims of sexual cyberviolence who may be perceived as transgressors of traditional gender roles.",
          "Objective This study is concerned with examining the impact of the extralegal factors of race and gender in attributions of stalking and motivation in examples of heterosexual, low-level stalking behavior. Methods A 4 (race pairing of protagonist and target) x 2 (gender pairing of protagonist and target) between- participants design, using a vignette incorporating faces of the protagonist and target, asked participants to identify the extent to which they considered the behavior stalking, the motivation for that behavior, and provide responses to measures of racism and sexism. Results The results identify that intraracial behavior is considered more like stalking than interracial behavior, that female-to-male behavior is considered more like stalking than male-to-female, and that gender and race do not impact on the attributed motivations for the behavior. Both racism and sexism do contribute to attributions of stalking. Conclusion The influence of race on attributions of stalking mirrors that of findings in other areas of crime and is important in understanding decision making.",
          "This study explores the influence of education and religiosity on sexist attitudes towards women and rape myth acceptance in two samples totaling 399 participants from the United States and Italy. Both samples completed a demographic questionnaire that assessed age, area of residence, and racial and gender identification. Three questions about religiosity and three about education were included, as well as the Attitudes Towards Women Survey and the Acceptance of Modern Myths about Sexual Aggression. In the Italian pool, 44 held at least a bachelor's degree, 108 had completed some college, and 29 completed high school at most, while the United States pool consisted of 83, 123, and 12, respectively. Average self-reported levels of religiousness were M = 3.87 (SD = 3.05) in Italy and M = 5.10 (SD = 2.76) in the United States. In both samples, religiosity was a strong predictor of both sexism and rape myth acceptance, while education was only related to rape myth acceptance and with less strength than religiosity. Moreover, country of residence was an important influence for sexist beliefs along with both religiosity and education; however, for rape myth acceptance, country did not have a significant impact.",
          "There has been a steady increase in the number of rapes reported to the police in Norway during the past two decades. In this paper we examine factors associated with attitudes toward rape (as measured with 11 items from the Illinois Rape Myth Acceptance Scale) and attribution of responsibility to rape victims using a community sample of Norwegian women and men. Analyses of 475 returned questionnaires (32.6% response rate) suggest that men's attitudes toward rape were moderately less disapproving than women's, and that men attributed slightly more responsibility to rape victims than did women. Analysis showed that classical sexism was the strongest predictor of attitudes toward rape, followed by acceptance of intimate partner violence toward women and that rape attitudes were the prime predictor of attribution of responsibility to rape victims. Although Scandinavian countries are consistently ranked among the World's most gender egalitarian societies, the findings from our study do not differ from those from the North American culture with regard to the strengths of known group differences and attitudinal correlates to rape attitudes and attribution of responsibility. Theoretical and practical implications are discussed.",
          "This paper reports on the development and the psychometric properties of short forms of Ambivalent Sexism Scales toward women (ASI; Glick & Fiske, 1996) and men (AMI; Glick & Fiske, 1999), and a scale measuring rape stereotypes (IRMA; McMahon & Farmer, 2011). The short form AMI/ASI were applied for examining gender and educational differences in university students (N=512) and in high school students (N=1381), and for predicting individual differences in rape stereotypes in the latter. The short forms demonstrated good to excellent psychometric properties across samples of emerging adults. Relative to female students, male students reported markedly more hostility toward women and more stereotypical beliefs about rape. Despite sampling from a highly gender egalitarian and secular culture, these gender differences are on a par with those reported internationally. Rape stereotypes were predicted by sexism in high school students. Additional predictors were educational program, relationship status, and acceptance of derogatory sexual slurs. The paper questions the validity of separate constructs for benevolent sexism toward women versus men. The short form versions of the scales may substitute the original versions in future research, and help prevent attrition while measuring the same constructs.",
          "We examined predictors of rape myth acceptance (RMA) and bystander attitudes among college women (n = 137). Participants completed self-report measures of RMA, bystander attitudes, sexist beliefs, gender-conforming attitudes, sexuality attitudes, sexual knowledge, and just world beliefs. Stepwise multiple regression analyses indicated that RMA was predicted by hostile sexism, sexual attitudes, and post-assault report bystander attitudes, and bystander attitudes. Bystander attitudes were predicted by the \"It wasn't really rape\" rape myth subscale, masculine norm conformity, and hostile sexism.",
          "Intergroup contact-(positive) interactions with people from different social groups-is a widely researched and strongly supported prejudice-reducing mechanism shown to reduce prejudice against a wide variety of outgroups. However, no known previous research has investigated whether intergroup contact can also reduce sexism against women. Sexism has an array of negative outcomes. One of the most detrimental and violent ones is rape, which is both justified and downplayed by rape myth acceptance. We hypothesised that more frequent, higher quality contact with counter-stereotypical women would predict lower levels of sexism and thus less rape myth acceptance (in men) and less sexualised projected responses to rape (in women). Two studies using online surveys with community samples supported these hypotheses. In Study 1, 170 male participants who experienced more positive contact with counter-stereotypical women reported less intention to rape. Similarly, in Study 2, 280 female participants who experienced more positive contact with counter-stereotypical women reported less projected sexual arousal at the thought of being raped. Thus, the present research is the first known to show that contact could be a potential tool to combat sexism, rape myth acceptance, intentions to rape in men, and sexualisation of rape by women.",
          "This study investigated whether attitudinal variables, such as benevolent and hostile sexism toward men and women, female rape myth acceptance, and tolerance of sexual harassment are related to women labeling their sexual assault experiences as rape. In a sample of 276 female college students, 71 (25.7%) reported at least one experience that met the operational definition of rape, although only 46.5% of those women labeled the experience \"rape.\" Benevolent sexism, tolerance of sexual harassment, and rape myth acceptance, but not hostile sexism, significantly predicted labeling of previous sexual assault experiences by the victims. Specifically, those with more benevolent sexist attitudes toward both men and women, greater rape myth acceptance, and more tolerant attitudes of sexual harassment were less likely to label their past sexual assault experience as rape. The results are discussed for their clinical and theoretical implications.",
          "Rape is a serious concern globally. Past research has identified Ambivalent Sexism (AS), Rape Myth Acceptance (RMA), and the victim-perpetrator relationship as key constructs influencing rape blame attributions and rape proclivity. Limitations with methodologies have, however, limited the practical implications of past research, particularly in the context of underpowered samples and a lack of transparency in vignette development and implementation. In the current research, three studies aimed to validate material to be used in research into rape perceptions and to examine the impact of victim-perpetrator relationship, AS, and RMA on victim and perpetrator culpability, and rape proclivity, using an experimental design. On 563 participants, this research developed and validated six rape vignettes which accounted for methodological limitations of past research (Study One) and were found to be believable and realistic by participants; it further found that aggressively sexist attitudes were associated with increased victim culpability and decreased perpetrator culpability (Study Two), and increased rape proclivity (Study Three). Scenarios of a casual acquaintance produced the highest levels of victim culpability and the lowest levels of perpetrator culpability. Victims were ascribed more control than blame, or responsibility. Men reported the highest levels of rape proclivity in scenarios of casual acquaintance, and intimate partner relationships. Contrary to past research, Benevolent Sexism (BS) did not directly impact attributions in rape cases but may maintain and legitimize the attitudes, which do. As some of our findings contradict past research, we suggest that the need for standardized rape vignettes is evident, along with greater transparency and methodological rigor in sexual assault research, as this will improve the practical implications of findings. Reproducible research practices may be useful for this. While limited in diversity, this research has important implications for policy and research practice, particularly in producing validated material that can be reused by future researchers.",
          "Research on concept creep suggests that the expansiveness of peoples concepts of harm has implications for their moral judgments. The present study assessed the breadth of 201 American participants' concepts of sexual harassment and gender discrimination, examined predictors of the breadth of these concepts, and tested relationships between concept breadth and moral judgments of a female victim and male perpetrators in a workplace sexism scenario. The breadth of participants' sexism-related concepts was most strongly predicted by their endorsement of harm-based morality and was the strongest predictor of the perceived moral deservingness of the victim and moral responsibility of the perpetrators.",
          "Because unacknowledged rape survivors (i.e., those who do not conceptualize their victimization as rape) are less likely to report the crime to police or seek formal services, a better understanding of factors that contribute to rape acknowledgment is a key step to improving access to care and assault reporting on college campuses. To contribute to this line of research, this study examined the indirect effect of sexist attitudes toward men on rape acknowledgment via rejection of rape myths among female rape survivors. The analyzed sample included 250 college female rape survivors (Mage = 22.49 years,SD= 7.27) who completed measures of sexual assault history, sexist beliefs toward men, and rejection of rape myths. Among these women, 49.6% were classified as acknowledged rape survivors and 50.4% of the sample was classified as unacknowledged rape survivors. Indirect effects of sexist beliefs on rape acknowledgment via rape myth rejection were supported for four types of sexist beliefs, including resentment of paternalism, compensatory gender differentiation, maternalism, and complementary gender differentiation. Specifically, the findings supported that people with greater levels of these particular types of sexist beliefs toward men rejected rape myths less, and lower rejection of rape myths was associated with increased likelihood of unacknowledged rape. The indirect effects were not supported for the heterosexual hostility or heterosexual intimacy subscales of sexist beliefs. By identifying antecedents of rape acknowledgment, the findings from this study can be used to inform programming geared toward encouraging survivors to seek services, which ultimately improves survivor outcomes.",
          "Although congregants often turn to clergy for help in dealing with personal difficulties, including marital problems, substance abuse issues, and mental illness, survivors of sexual assault do not commonly turn to clergy for support or guidance. This study utilized a mixed-methods approach, online survey, and semi-structured interviews to determine how clergy perceive sexual assault victimization. The results of this study showed that more blame was assigned to the victim as the relationship with the perpetrator became closer, with the exception of marital rape. This study also found that hostile sexism was a predictor of negative attitudes toward rape victims.",
          null
         ],
         "marker": {
          "opacity": 0.5,
          "size": 5
         },
         "mode": "markers+text",
         "name": "10_victimisation_cyberviolence_attitudes",
         "text": [
          "",
          "",
          "",
          "",
          "",
          "",
          "",
          "",
          "",
          "",
          "",
          "",
          "",
          "",
          "",
          "",
          "",
          "",
          "",
          "",
          "10_victimisation_cyberviolence_attitudes"
         ],
         "textfont": {
          "size": 12
         },
         "type": "scattergl",
         "x": [
          0.4428376257419586,
          0.22551211714744568,
          1.0139880180358887,
          1.0360074043273926,
          0.17241719365119934,
          0.4591507613658905,
          0.2994827330112457,
          1.0611071586608887,
          0.04741833731532097,
          1.1271263360977173,
          0.6515949368476868,
          0.3103748559951782,
          0.5830749273300171,
          0.321956604719162,
          0.41394683718681335,
          0.33274176716804504,
          0.2734025716781616,
          0.7641875147819519,
          0.30071818828582764,
          0.22964294254779816,
          0.5033344030380249
         ],
         "y": [
          6.179932117462158,
          6.145190238952637,
          6.630188941955566,
          6.610894203186035,
          6.137408256530762,
          6.1907806396484375,
          6.2173566818237305,
          6.64193058013916,
          6.805813789367676,
          6.786638259887695,
          6.330824851989746,
          6.103739261627197,
          6.336138725280762,
          6.063805103302002,
          6.1649580001831055,
          6.123085021972656,
          6.087279796600342,
          6.457464694976807,
          6.09090518951416,
          6.0548319816589355,
          6.307958602905273
         ]
        },
        {
         "hoverinfo": "text",
         "hovertext": [
          "We examined the association between playing sexist video games and sexist attitudes. Undergraduate students (61 men and 114 women) indicated the level of perceived sexism present in their most frequently played video games. Students also completed the Ambivalent Sexism Inventory (Glick & Fiske, 1996), which measures both hostile and benevolent sexism. As predicted, men who played video games perceived to be high in sexism showed higher levels of benevolent sexism, compared with men who did not play such games. This relationship was not evident for women. Importantly, our study provides the first known evidence of a link between long-term exposure to sexist video games and sexist attitudes. Although correlational, these data are consistent with the notion that sexist video games encourage and reinforce sexist attitudes. Our findings have important real-world implications for video game researchers, parents, and game players themselves.",
          "Empathy-putting oneself in another's shoes-has been described as the \"social glue\" that holds society together. This study investigates how exposure to sexist video games can decrease empathy for female violence victims. We hypothesized that playing violent-sexist video games would increase endorsement of masculine beliefs, especially among participants who highly identify with dominant and aggressive male game characters. We also hypothesized that the endorsement of masculine beliefs would reduce empathy toward female violence victims. Participants (N = 154) were randomly assigned to play a violent-sexist game, a violent-only game, or a non-violent game. After gameplay, measures of identification with the game character, traditional masculine beliefs, and empathy for female violence victims were assessed. We found that participants' gender and their identification with the violent male video game character moderated the effects of the exposure to sexist-violent video games on masculine beliefs. Our results supported the prediction that playing violent-sexist video games increases masculine beliefs, which occurred for male (but not female) participants who were highly identified with the game character. Masculine beliefs, in turn, negatively predicted empathic feelings for female violence victims. Overall, our study shows who is most affected by the exposure to sexist-violent video games, and why the effects occur. (200 words)",
          "Social psychologists have argued that popular U.K. and U.S. men's magazines known as \"lads' mags\" have normalized hostile sexism among young men. Three studies develop this argument. First, a survey of 423 young U.K. men found that ambivalent sexism predicted attitudes toward the consumption of lads' mags, but not other forms of direct sexual consumption (paying for sex or patronizing strip clubs). Second, Study 2 (N = 81) found that young men low in sexism rated sexist jokes as less hostile toward women, but not as either funnier nor more ironic, when those jokes were presented within a lads' mags context. These findings refute the idea that young men readily read lads' mags' sexism as ironic or \"harmless fun.\" They show instead that placing sexist jokes in lads' mags contexts makes them appear less hostile. The third study (N = 275) demonstrated that young men perceived lads' mags as less legitimate after attempting to distinguish the contents of lads' mags from rapists' legitimations of their crimes. Implications for contemporary studies of masculinities and consumption are discussed.",
          "Online sexism against female gamers is reportedly common and pervasive, causing serious problems. To help solve these problems, the study identified various predictors of online game sexism, which is hypothesised to predict actual in-game harassment. Different from previous studies, the study approaches the problems from the perspective of perpetrators rather than victims. We proposed a theoretical model that include three groups of predictors: offline sexist beliefs (masculine norms and hostile sexism), game-related factors (perceived territoriality, advancement, and competition), and environmental factors (peer harassment and play time). The model was tested against online survey data collected from a sample of 528 male gamers in South Korea with age range of 14-64 years (M = 34.70, SD = 12.81). The results showed that all the predictors, except competition and play time, were significantly associated with online game sexism, which mediated the relationships between the predictors and online sexual harassment. Perceived territoriality and peer harassment were found to have direct and positive effects on harassment. The findings are expected to contribute to developing more effective measures for preventing the hostility and aggression against female gamers by providing a new and more thorough diagnosis of the underlying causes of the problems.",
          "Research on sexism in digital games has suggested that women self-select out of playing sexist games; however, assuming a homogenous gender-based response does not account for the diversity of identities within a gender group. Gender-incongruent responses to recent events like #gamergate implies that the gender of the participant is not paramount to experience, but that their beliefs about gender roles are. To explore the role of sexist beliefs on experience in sexist games, we created three versions of a game that were identical except for the presence of sexist imagery and/or dialogue. We show that enjoyment of sexist games is not predicted by player gender, but by the player's pre-existing beliefs about gender. Furthermore, avatar identification is the pathway through which enjoyment is facilitated. Finally, sexist dialogue does not improve the play experience for anyone - rather it harms experience for players of all genders who do not hold sexist beliefs.",
          "This study explores whether neo-sexist attitudes mediate the association between sexualized media use (including pornography) and rape myths. In a 3-wave panel of Croatian high-school students (136 male and 326 female adolescents), the mediation hypothesis was not confirmed. Moreover, the association between neo-sexism and rape myths was conformed only among female adolescents (the average acceptance of neo-sexism was higher in male than female participants). Contrary to what was expected, pornography use - which was unrelated to neo-sexism - was negatively associated with rape myths in both male and female adolescents, although the relationship was statistically significant only among the latter. Among male participants, watching movies and sequels on television or the Internet was predictive for neo-sexist attitudes. This study's findings point to the need of studying the use of sexualized media among adolescents to identify factors associated with trivialization and/or misinterpretation of sexual violence and aggression. Considering that adolescents differ in their susceptibility to the influence of media, future studies should focus on possible moderation effects of family and peer socialization.",
          "Using a probability-based sample of young Danish adults and a randomized experimental design, this study investigated effects of past pornography consumption, experimental exposure to nonviolent pornography, perceived realism of pornography, and personality (i.e., agreeableness) on sexist attitudes (i.e., attitudes toward women, hostile and benevolent sexism). Further, sexual arousal mediation was assessed. Results showed that, among men, an increased past pornography consumption was significantly associated with less egalitarian attitudes toward women and more hostile sexism. Further, lower agreeableness was found to significantly predict higher sexist attitudes. Significant effects of experimental exposure to pornography were found for hostile sexism among low in agreeableness participants and for benevolent sexism among women. These experimental exposure effects were found to be mediated by sexual arousal.",
          "Online video games afford co-play and social interaction, often anonymous, among players from around the world. As predicted by the social identity model of deindividuation effects, undesirable behavior is not uncommon in online gaming environments, and online harassment has become a pervasive issue in the gaming community. In this study, we sought to determine what personality traits and game-related variables predicted two types of online aggression in video games: general harassment (e.g., skill-based taunting, insulting others' intelligence) and sexual harassment (e.g., sexist comments, rape threats). Men who play online video games (N=425) participated in an anonymous online survey. Social dominance orientation and hostile sexism predicted higher levels of both sexual harassment and general harassment in online games. Game involvement and hours of weekly gameplay were additional predictors of general harassment. We discuss implications of online social aggression and online sexual harassment for online gaming. We also apply our findings to the broader understanding of online harassment, cyberaggression, cyberbullying, and other forms of online hostility in computer-mediated communication contexts. Aggr. Behav. 42:513-521, 2016. (c) 2016 Wiley Periodicals, Inc.",
          "Video games often contain sexist content that may be connected to negative consequences for female video game players, such as internalizing negative attitudes and beliefs about women. However, aspects of feminist identification may prevent such negative outcomes from occurring. The present study investigated the relationships among time spent playing video games, internalized misogyny, and the synthesis dimension of feminist identity, which is characterized by embracing the positive aspects of being a woman and incorporating feminine attributes into one's own unique personality. A total of 319 U.S. female video game players completed measures of media usage, internalized misogyny, and feminist identity. The authors tested a moderation model in which gaming predicted internalized misogyny and synthesis moderated this relationship. Gaming was positively associated with internalized misogyny at lower, but not higher, levels of synthesis. Thus, those who value the positive aspects of womanhood and have thoughtful and realistic perceptions of gender may be resistant to internalizing some harmful beliefs about women perpetuated in games. The present study provides evidence for the potential negative influence of cumulative video game exposure for some women and the protective effect of feminist identity synthesis. Counselors and activists should do work aimed at critically evaluating and challenging gendered messages in video games and affirming women's gender identities and feminine attributes. Game developers must consider the impact of their content on players and strive to create female characters that are agentic, complex, and competent. Conversely, gamers should avoid supporting games with depthless depictions of women.",
          "Sexism toward women in online video game environments has become a pervasive and divisive issue in the gaming community. In this study, we sought to determine what personality traits, demographic variables, and levels of game play predicted sexist attitudes towards women who play video games. Male and female participants (N = 301) who were players of networked video games were invited to participate in an anonymous online survey. Social dominance orientation and conformity to some types of masculine norms (desire for power over women and the need for heterosexual self-presentation) predicted higher scores on the Video Game Sexism Scale (i.e., greater sexist beliefs about women and gaming). Implications for the social gaming environment and female gamers are discussed. (C) 2013 Elsevier Ltd. All rights reserved.",
          "In addition to the more obvious forms of sexism in advertising, media critics and scholars raise concerns about various forms of nonobvious, or latent, sexism (e.g., dismembered body parts; makeup possibly resembling a bruise; women in potentially dangerous locations; bodies decorated as products). There is, however, no evidence that the public considers these ads sexist or is affected by them. To determine whether ads promote sexism even if the content is not identified as sexist, participants were exposed to ads containing no sexism, overt sexism, or latent sexism (i.e., content considered sexist by media experts, but not identified as sexist by a lay sample) and then read two vignettes describing incidents of sexual assault and sexual coercion. Participants exposed to ads with latent sexism showed greater acceptance of the sexual assault than did those in the no sexism ad condition and in the overt sexism ad condition. Regarding the sexual coercion vignette, latent sexism did not have the same effects; instead, participants exposed to ads with overt sexism were less likely to minimize the seriousness of the incident than participants in the other ad conditions. Therefore, acceptance of sexual assault can be increased by sexist content in ads even if the content is not identified as sexist. In fact, the evidence suggests that the types of latent sexism in this study produce more deleterious effects than sexism that is easily recognized.",
          "This study sought to develop and validate an integrated laboratory paradigm of sexual aggression and bystander intervention. Participants were a diverse community sample (54% African American) of heterosexual males (N=156) between 21 and 35 years of age who were recruited to complete the study with a male friend and an ostensibly single, heterosexual female who reported a strong dislike of sexual content in the media. Participants viewed a sexually explicit or nonsexually explicit film clip as part of contrived media rating task and made individual choices of which film clip to show the female confederate. Immediately thereafter, participants were required to reach consensus on a group decision of which film clip to show the female confederate. Subjecting a target to an unwanted experience with a sexual connotation was operationalized as selection of the sexually explicit video, whereas successful bystander intervention was operationalized as the event of one partner individually selecting the sexually explicit video but then selecting the nonsexually explicit video for the group choice. Results demonstrated that a 1-year history of sexual aggression and endorsement of pertinent misogynistic attitudes significantly predicted selection of the sexually-explicit video. In addition, bystander efficacy significantly predicted men's successful prevention of their male peer's intent to show the female confederate a sexually explicit video. Discussion focused on how these data inform future research and bystander intervention programming for sexual aggression. Aggr. Behav. 38:309321, 2012. (c) 2012 Wiley Periodicals, Inc.",
          "This study investigated the effects of exposure to self-sexualization on young adults' thoughts and beliefs about gender and sexuality. An experiment in which participants viewed music videos featuring self-sexualization of female artists (experimental) or performance-based music videos of the same artists (control) revealed that the videos primed thoughts about sex, but not power. Among men who liked the artists, watching self-sexualizing music videos predicted modern sexism and the beliefs that sex is power for women, women are sex objects, and men are sex driven. Among women who liked the artists, watching self-sexualizing music videos predicted enjoyment of sexualization.",
          "While there is an abundance of research concerning the gendered dimensions of video gaming and online communities, there is a limited focus on gameplay competence. This study examined the relationship between sexism and gendered perceptions of competence in gaming. Three hundred and 85 participants volunteered to take part. Participants were randomly allocated to one of three gendered conditions (female, male or neutral). Participants watched two video game clips within each condition (novice and expert playthroughs). Participants rated the competence and warmth of the players, estimated the number of errors made and completed the Ambivalent Sexism Inventory. The findings indicated that female and neutral clips were perceived as less competent than male clips in both skill levels. This difference was more pronounced in the expert level. Warmth ratings varied significantly across conditions. Hostile sexism predicted lower perceptions of warmth. The study demonstrates the need for inclusive and safe online gaming environments.",
          "Some scholars argue that the existence of pornography is an ongoing assault on women and that it should be banned. However, the existing evidence suggests the connection between pornography consumption and sexism is overstated and may actually run in the opposite direction. Using data from the General Social Survey (2010-2018), the current study investigated if \"pornography consumption\" and \"pornography tolerance\" predicted sexism and whether these associations varied by sex. Results indicated that pornography consumption predicted lower levels of sexism, although these effects were rendered nonsignificant with the inclusion of sociodemographic, religious, and sociocultural covariates. When comparing the results of the current study to findings based on data from the 1970s-1990s, it appears that pornography consumption is now irrelevant to sexism rather than promoting egalitarianism. Our analyses focusing on \"pornography tolerance\" revealed that people who supported regulated pornography were more egalitarian than people who supported a pornography ban. Generally, men were more likely to report sexist attitudes than women, but sex moderated the relationship that pornography variables had with sexism in several of the models. Overall, pornography consumption and pornography tolerance were either irrelevant in predicting sexism or were associated with greater egalitarianism.",
          "The idea that pornography promotes sexism is a commonly purported one. This study employed an online sample of heterosexual men (N = 323) to investigate the relationship between pornography use (in terms of both overall level of pornography use and use of violent and/or humiliating pornography) and old-fashioned and modern sexism. The moderating effects of agreeableness and perceived realism of pornography were also assessed. Level of general pornography use and use of violent and/or humiliating pornography was not predictive of either sexism measure. Agreeableness was negatively predictive of both sexism measures, whereas perceived realism was positively predictive of sexism. Agreeableness and perceived realism did not moderate the relationship between level of pornography use and any of the outcome measures.",
          "Although independent lines of research have identified misogynistic lyrical content and traditional gender role beliefs as reliable predictors of men's female-directed aggression, more research is needed to understand the extent to which these variables may function in synthesis to potentiate aggression. In the current study, men (N=193), who completed questionnaires relevant to their conformity to masculine norms and level of hostile and benevolent sexism, were exposed to either misogynistic or neutral lyrics before having the opportunity to shock an ostensible female confederate in a bogus reaction time task that, in effect, measured aggression. Results indicated that misogynistic lyrics and hostile sexism significantly predicted both unprovoked and provoked aggression against a female target. Contrary to expectations, moderating effects of gender role beliefs on the relationship between misogynistic lyrics and men's aggression were not found. Implications are discussed in terms of the costs of misogyny in media for women's lives. (C) 2016 Wiley Periodicals, Inc.",
          null
         ],
         "marker": {
          "opacity": 0.5,
          "size": 5
         },
         "mode": "markers+text",
         "name": "11_sexualization_masculine_gamers",
         "text": [
          "",
          "",
          "",
          "",
          "",
          "",
          "",
          "",
          "",
          "",
          "",
          "",
          "",
          "",
          "",
          "",
          "",
          "11_sexualization_masculine_gamers"
         ],
         "textfont": {
          "size": 12
         },
         "type": "scattergl",
         "x": [
          1.0009963512420654,
          1.0824224948883057,
          1.5695674419403076,
          0.994563639163971,
          0.9816097617149353,
          1.3102412223815918,
          1.328804612159729,
          0.968024492263794,
          0.9623637199401855,
          0.9653714299201965,
          2.0384840965270996,
          1.0773991346359253,
          1.3207271099090576,
          0.992014467716217,
          1.3731895685195923,
          1.3277978897094727,
          0.9315705895423889,
          1.1897146701812744
         ],
         "y": [
          3.9537723064422607,
          3.891470193862915,
          5.780090808868408,
          3.9556283950805664,
          3.969679355621338,
          5.696580410003662,
          5.698991775512695,
          3.983635902404785,
          3.9903392791748047,
          3.9855575561523438,
          5.657072067260742,
          5.81846809387207,
          5.705385684967041,
          3.958559036254883,
          5.659815788269043,
          5.707684516906738,
          5.793712615966797,
          4.894496917724609
         ]
        },
        {
         "hoverinfo": "text",
         "hovertext": [
          "The great attention to gender classification is increasing recently as genders carry rich information related to male and female social activities. Extracting discriminating visual representations for gender classification is challenging especially with covered or camouflaged faces. In this work, the authors propose a network that uses a combination of inceptions with variational feature learning (VFL) loss function. The proposed network recognises the gender of normal or covered/camouflaged faces through the middle face part. This network trained on the middle part of the faces that contain both eyes with a small margin from the top-left corner to the bottom-right corner of the area of the eyes. Experimental results showed that the proposed network achieved state-of-art performance on five public data sets: FEI, SCIEN, AR FACES, LFW, and ADIENCE. They also evaluated the authors' network on another new collected data set for covered and camouflaged faces and obtained encouraging outcomes.",
          "Human participants look at informative regions when attempting to identify the gender of a pedestrian in images. In our preliminary experiment, participants mainly looked at the head and chest regions when classifying gender in these images. Thus, we hypothesized that the regions in which participants gaze locations were clustered would contain discriminative features for a gender classifier. In this paper, we discuss how to reveal and use gaze locations for the gender classification of pedestrian images. Our method acquired the distribution of gaze locations from various participants while they manually classified gender. We termed this distribution a gaze map. To extract discriminative features, we assigned large weights to regions with clusters of gaze locations in the gaze map. Our experiments show that this gaze-based feature extraction method significantly improved the performance of gender classification when combined with either a deep learning or a metric learning classifier.",
          "Several outlier and subgroup identification statistics (OASIS) have been proposed to discover transcriptomic features with outliers or multiple modes in expression that are indicative of distinct biological processes or subgroups. Here, we borrow ideas from the OASIS methods in the bioinformatics and statistics literature to develop the 'most informative spacing test' (MIST) for unsupervised detection of such transcriptomic features. In an example application involving 14 cases of pediatric acute megakaryoblastic leukemia, MIST more robustly identified features that perfectly discriminate subjects according to gender or the presence of a prognostically relevant fusion-gene than did seven other OASIS methods in the analysis of RNA-seq exon expression, RNA-seq exon junction expression and micorarray exon expression data. MIST was also effective at identifying features related to gender or molecular subtype in an example application involving 157 adult cases of acute myeloid leukemia.",
          "Nowadays, gender recognition systems are very important in several fields such as security, human machine interaction, surveillance and targeted advertising. However, many factors, such as makeup and disguise, can affect recognition and extend the processing time. Our research revolves around this issue. This is a comparative experimental study of the significance of each part of the face (eyes, mouth, nose) in the gender facial recognition via convolutional neural networks (CNN). As a first step our goal is to find the most crucial part of the face in order to determine the most important part in the gender recognition. The used method was tested on the UTKFace dataset and the preliminary results confirm that the eyes contain the most discriminating information regarding gender identification. We achieve a classification accuracy of 92% for eyes, 91% for mouth and 89% for nose. Then we propose a second study on the degree of importance of the eyes for both genders by training the system using only eyes. We achieve a classification accuracy of 99% for eyes of men and 99% for eyes of women.",
          "The estimation of a connectional brain template (CBT) integrating a population of brain networks while capturing shared and differential connectional patterns across individuals remains unexplored in gender fingerprinting. This paper presents the first study to estimate gender-specific CBTs using multi-view cortical morphological networks (CMNs) estimated from conventional T1-weighted magnetic resonance imaging (MRI). Specifically, each CMN view is derived from a specific cortical attribute (e.g. thickness), encoded in a network quantifying the dissimilarity in morphology between pairs of cortical brain regions. To this aim, we propose Multi-View Clustering and Fusion Network (MVCF-Net), a novel multi-view network fusion method, which can jointly identify consistent and differential clusters of multi-view datasets in order to capture simultaneously similar and distinct connectional traits of samples. Our MVCF-Net method estimates a representative and well-centered CBTs for male and female populations, independently, to eventually identify their fingerprinting regions of interest (ROIs) in four main steps.First, we perform multi-view network clustering model based on manifold optimization which groups CMNs into shared and differential clusters while preserving their alignment across views.Second, for each view, we linearly fuse CMNs belonging to each cluster, producing local CBTs.Third, for each cluster, we non-linearly integrate the local CBTs across views, producing a cluster-specific CBT. Finally, by linearly fusing the cluster-specific centers we estimate a final CBT of the input population. MVCF-Net produced the most centered and representative CBTs for male and female populations and identified the most discriminative ROIs marking gender differences. The most two gender-discriminative ROIs involved the lateral occipital cortex and pars opercularis in the left hemisphere and the middle temporal gyrus and lingual gyrus in the right hemisphere.",
          "Computer vision and pattern recognition systems play an important role in our lives by means of automated face detection, face and gesture recognition, and estimation of gender and age. This paper presents a face detection and gender identification task of discriminating between images of faces of men and women from face images under non-uniform background. This is done by detecting the human face area in image given and detecting facial features based on the measurements in pixels. We preprocess the facial region by convolving with Gabor filters at five scales and eight orientations. We sample these responses and use them to form a feature vector. We use a classifier based on an additive sum of non-linear functions.",
          "Research on medical image recognition by machine learning has been studied for a long time. Medical image recognition has been mainly for detection of diseases or symptoms. In recent years, there is a hypothesis which human health conditions and personal attributes affect brain structure. Most studies focus on T1-weighted images, however T2-weighted and diffusion-weighted images are also used in medical practice. Diffusion images contains signals and information which are possibly used to discriminate human health or other state rather and are different from T1-weighted or T2-weighted images. Some studies using 3D-CNN (3-dimensional convolutional neural network) have been applied for brain structural magnetic resonance imaging such as T1-weighted images, but diffusion tensor images cannot be directly input to 3D-CNN because their data is represented as the tensor of the movement of water molecules. Therefore, in this research, we propose 3D-CNN which input the diffusion images of each direction to different channel. We construct multi-channel 3D-CNN and verify the effect of brain structure image mode on gender discrimination using T1, T2, and DTI.",
          "Diagnostic features of emotional expressions are differentially distributed across the face. The current study examined whether these diagnostic features are preferentially attended to even when they are irrelevant for the task at hand or when faces appear at different locations in the visual field. To this aim, fearful, happy and neutral faces were presented to healthy individuals in two experiments while measuring eye movements. In Experiment 1, participants had to accomplish an emotion classification, a gender discrimination or a passive viewing task. To differentiate fast, potentially reflexive, eye movements from a more elaborate scanning of faces, stimuli were either presented for 150 or 2000 ms. In Experiment 2, similar faces were presented at different spatial positions to rule out the possibility that eye movements only reflect a general bias for certain visual field locations. In both experiments, participants fixated the eye region much longer than any other region in the face. Furthermore, the eye region was attended to more pronouncedly when fearful or neutral faces were shown whereas more attention was directed toward the mouth of happy facial expressions. Since these results were similar across the other experimental manipulations, they indicate that diagnostic features of emotional expressions are preferentially processed irrespective of task demands and spatial locations. Saliency analyses revealed that a computational model of bottom-up visual attention could not explain these results. Furthermore, as these gaze preferences were evident very early after stimulus onset and occurred even when saccades did not allow for extracting further information from these stimuli, they may reflect a preattentive mechanism that automatically detects relevant facial features in the visual field and facilitates the orientation of attention towards them. This mechanism might crucially depend on amygdala functioning and it is potentially impaired in a number of clinical conditions such as autism or social anxiety disorders.",
          "Hyperspectral imaging provides extensive spectral reflectance information useful for material classification and discrimination not available with conventional broadband imaging. In this work, we first seek to characterize the hyperspectral signature of human faces in the shortwave infrared (SWIR) band. A hyperspectral SWIR face dataset of 100 subjects was collected as part of this study. Regions of interest (ROI) were defined for each subject and the mean and variance of each ROI were computed. The results show that hyperspectral signatures are similar between male and female subjects for the cheek, forehead, and hair ROIs. Furthermore, this study investigated whether the hyperspectral face signatures from the ROIs contained discriminative information for gender classification. We implemented and trained five different classifiers for gender classification. Results from the machine learning experiments indicate that hyperspectral facial signatures in the SWIR band is only weakly discriminative with respect to gender.",
          "['This retrospective study aimed at assessing the reliability of morphometric measurements performed on the frontal sinus using the frontal sinus index (FSI) for sex determination on cranio-facial and sinuses CBCT scans. 77 CBCT explorations were performed by Planmeca 3D Mid (Planmeca, Helsinki, Finland) and Romexis 3.6 software (Planmeca, Helsinki, Finland) on adult individuals. The FSI was determined on mid-sagittal CBCT slices in all selected patients.', 'FSI is somewhat predictive of gender. When the discriminant function predicting gender based on log2FSI was applied to a validation dataset, 92% of females were correctly classified but only half of males were correctly classified. Adding width, height and age variables did not significantly increase the ability to predict gender. The predictive value of FSI for determining gender may need to be supplemented with other information to achieve a high level of accuracy.']",
          "This paper introduces a deep neural network based feature extraction scheme that aims to improve the trade-off between utility and privacy in speaker classification tasks. In the proposed scenario we develop a feature representation that helps to maximize the performance of a gender classifier while minimizing additional speaker identity information. Our approach is to use variational information feature extraction that allows for gender discrimination (utility) but minimizes the information level of the features, thus discouraging speaker identification adversarial attacks (privacy). We analyze the model's loss function and the budget scaling factor used to control the balance of utility vs. privacy. It is experimentally shown that the proposed method reduces privacy risks without significantly deprecating utility and that it also generalizes well to new speaker contexts.",
          "Eye gaze plays a fundamental role in social interaction and facial recognition. However, interference processing between gaze and other facial variants (e.g., expression) and invariant information (e.g., gender) remains controversial and unclear. especially the role of facial information discriminability in interference. A Gamer paradigm was used to conduct two experiments. This paradigm allows simultaneous investigation of the mutual influence of two kinds of facial information in one experiment. In Experiment 1, we manipulated facial expression discriminability and investigated its role in interference processing of gaze and facial expression. The results show that individuals were unable to ignore expression when classifying gaze with both high and low discriminability but could ignore gaze when classifying expression with high discriminability only. In Experiment 2, we manipulated gender discriminability and investigated its function in interference processing of gaze and gender. Participants were unable to ignore gender when classifying gaze with both high and low discriminability but could ignore gaze when classifying gender with low discriminability only. The results indicate that gaze categorization is affected by facial expression and gender regardless of facial information discriminability, whereas interference of gaze on facial expression and gender depends on the degree of discriminability. The present study provides evidence that the processing of gaze and other variant and invariant information is interdependent.",
          "Gender classification using facial features has attracted researchers attention recently. Gender classification using texture features of faces exhibited promising improvement over other facial features. Gender classification finds applications in systems which use gender as one of the parameters. Local Binary Patterns (LBP) are known to have good texture representation properties. Through this paper we present a variant of Local Binary Patterns for gender classification which can discriminate the facial textures efficiently. In this method, we used a new neighborhood shape for obtaining LBP as its representation of texture is superior than traditional LBP. We compute the proposed LBP on each non-overlapping blocks of a face image and a histogram of these LBPs is computed. We used these histograms as facial feature vectors for gender classification as these histograms shown their robustness to compression and uniform intensity variations. The classification task has been achieved by using Support Vector Machine (SVM). We compared our method with existing gender classification methods based on LBP with classifier being the same as SVM. The proposed LBP based descriptor outperforms the traditional LBP based methods and achieved 96.17 percent recognition rate on combined frontal face datasets of FERET and FEI.",
          "Age and gender are the two key attributes for healthy social interactions, access control, intelligence marketing etc. Likewise, carried object recognition helps in identifying owner of the baggage being abandoned or the person littering in the public places. The above-mentioned surveillance task displays discriminative characteristics in gait. Primates can accomplish scene context understanding and reacting to different circumstances with varying reflexes with ease. Human beings achieve this by recollecting prior experiences and adapting to new situations quickly. Modelling the human behaviour, this research work has combined customized and learnable filters so that knowledge database can always be kept up to date, as well as, provides flexibility in learning new contexts. Thus, a specialized parallel deep convolutional neural network architecture with customized filters that extracts intrinsic characteristics and data driven learnable filters are fused to enhance the performance of single convolutional neural network is proposed. From the experimentation it is observed that, the learning is augmented when customized filters and learnable filters are fused together. Results show that the proposed system achieves better performance for CASIA B datAQ2abase and OU-ISIR gait database-large population dataset with age and real-life carried object.",
          "Understanding existing gender differences in the development of computational thinking skills is increasingly important for gaining valuable insights into bridging the gender gap. However, there are few studies to date that have examined gender differences based on the learning process in a realistic classroom context. In this work, we aim to investigate gender classification using students' eye movements that reflect temporal human behavior during a computational thinking lesson in an immersive VR classroom. We trained several machine learning classifiers and showed that students' eye movements provide discriminative information for gender classification. In addition, we employed a Shapley additive explanation (SHAP) approach for feature selection and further model interpretation. The classification model trained with the selected (best) eye movement feature set using SHAP achieved improved performance with an average accuracy of over 70%. The SHAP values further explained the classification model by identifying important features and their impacts on the model output, namely gender. Our findings provide insights into the use of eye movements for in-depth investigations of gender differences in learning activities in VR classroom setups that are ecologically valid and may provide clues for providing personalized learning support and tutoring in such educational systems or optimizing system design.",
          "This paper presents a system to predict gender of individuals from offline handwriting samples. The technique relies on extracting a set of textural features from handwriting samples of male and female writers and training multiple classifiers to learn to discriminate between the two gender classes. The features include local binary patterns (LBP), histogram of oriented gradients (HOG), statistics computed from gray level co-occurrence matrices (GLCM) and features extracted through segmentation-based fractal texture analysis (SFTA). For classification, we employ artificial neural networks (ANN), support vector machine (SVM), nearest neighbor classifier (NN), decision trees (DT) and random forests (RF). Classifiers are then combined using bagging, voting and stacking techniques to enhance the overall system performance. The realized classification rates are significantly better than those of the state-of-the-art systems on this problem validating the ideas put forward in this study. (C) 2017 Elsevier Ltd. All rights reserved.",
          null
         ],
         "marker": {
          "opacity": 0.5,
          "size": 5
         },
         "mode": "markers+text",
         "name": "12_svm_convolutional_gender",
         "text": [
          "",
          "",
          "",
          "",
          "",
          "",
          "",
          "",
          "",
          "",
          "",
          "",
          "",
          "",
          "",
          "",
          "12_svm_convolutional_gender"
         ],
         "textfont": {
          "size": 12
         },
         "type": "scattergl",
         "x": [
          3.3077337741851807,
          3.216595411300659,
          3.161811590194702,
          3.3168694972991943,
          3.2910661697387695,
          3.31404709815979,
          3.296419620513916,
          3.045039415359497,
          3.284071207046509,
          3.30008602142334,
          3.3963160514831543,
          3.052168846130371,
          3.310300350189209,
          3.333207607269287,
          3.0501158237457275,
          3.3445935249328613,
          3.2512776851654053
         ],
         "y": [
          2.4446918964385986,
          2.590587854385376,
          4.402585029602051,
          2.4598515033721924,
          2.7385730743408203,
          2.500300645828247,
          2.59987473487854,
          2.570648431777954,
          2.5454065799713135,
          2.745786666870117,
          2.355863094329834,
          2.5995564460754395,
          2.530325174331665,
          2.477648973464966,
          2.53269362449646,
          2.5797791481018066,
          2.667135715484619
         ]
        },
        {
         "hoverinfo": "text",
         "hovertext": [
          "Objectives. This study is aimed at identifying the best clinical model to predict poststroke independence at 6 and 18 months, considering sociodemographic and clinical characteristics, and then identifying differences between countries. Methods. Data was retrieved from the International Stroke Trial 3 study. Nine clinical variables (age, gender, severity, rt-PA, living alone, atrial fibrillation, history of transient ischemic attack/stroke, and abilities to lift arms and walk) were measured immediately after the stroke and considered to predict independence at 6 and 18 months poststroke. Independence was measured using the Oxford Handicap Scale. The adequacy, predictive capacity, and discriminative capacity of the models were checked. Countries were added to the final models. Results. At 6 months poststroke, 35.8% (n=1088) of participants were independent, and at 18 months, this proportion decreased to 29.9% (n=747). Both 6 and 18 months poststroke predictive models obtained fair discriminatory capacities. Gender, living alone, and rt-PA only reached predictive significance at 18 months. Poststroke patients from Poland and Sweden showed greater chances to achieve independence at 6 months compared to the UK. Poland also achieved greater chances at 18 months. Italy had worse chances than the UK at both follow-ups. Discussion. Six and eight variables predicted poststroke independence at 6 and 18 months, respectively. Some variables only reached significance at 18 months, suggesting a late influence in stroke patients' rehabilitation. Differences found between countries in achieving independence may be related to healthcare system organization or cultural characteristics, a hypothesis that must be addressed in future studies. These results can allow the development of tailored interventions to improve the outcomes.",
          "BACKGROUND: A woman dies from complications of child birth every minute. The major causes for maternal mortality in India are uncontrolled fertility, inaccessibility or inadequate utilization of health care facilities, illiteracy, ignorance and gender discrimination. OBJECTIVES: (1) To identify various causes of maternal deaths in a teaching hospital. (2) To study the profile of population attending the tertiary hospital. Methodology: A retrospective study was conducted in a tertiary hospital over a period of 2 years (January 2013-December 2014) and data was analysed manually using case sheets and maternal death audit forms. RESULTS: In the study period, there were 11636 deliveries and 97 maternal deaths. The direct causes accounted for 77 maternal deaths with haemorrhage, hypertension and sepsis as leading causes of maternal mortality. Conclusion: Emphasis on health education, need for regular antenatal checkups and proper training of health personnel is required to reduce maternal mortality.",
          "The House Sparrow (Passer domesticus) is one of the successful animals in adapting themselves to an urban-life environment and broadly distributed bird species in the world. We compared three sparrow populations using morphological parameters in Turkey: unpolluted areas, Antalya (Ciglik village) and Burdur (Yazikoy village), and Mugla (Yatagan) where is polluted by Yatagan Thermal Power Plant. Fifteen morphometrically characters of 131 caught birds from tree populations were compared on the basis of gender. The stepwise discriminant analysis which classified 76.9% of the birds, retained 5 measurements allowing discriminating between populations: bill length, 8th primer, body mass, bill height, and wing length. Wing, 8th primary, tail, and alula measurements of gender were found significantly different by t-tests (p < 0.05) for tree populations. Yatagan female is quite different from the others by function 1 and function 2 in canonical discriminant analyses. I suggested that differentiations between populations depend on ecological conditions of these areas and also Yatagan populations may be affected by Thermal Power Plant.",
          "Parabens are a group of chemical additive extensively utilized in various health care products and ubiquitously observed in the different environmental matrixes. Nevertheless, the exposure of women working in beauty salons to these pollutants is not well-documented. For this purpose, 50.00 women working in beauty salons were chosen as the exposed group (EG) and 35.00 housewives were chosen as the control group (GC). The concentration of methyl paraben (MeP), ethyl paraben (EtP), butyl paraben (BuP), propyl paraben (PrP), benzyl paraben (BzP), heptyl paraben (HepP), and para-hydroxybenzoic acid (4-HB) metabolite were quantified in the collected urine samples. It was seen that paraben sexist with a high detection frequency (DF) in the urine of women working in beauty salons. The results also revealed that the significant difference between the urinary parabens level in the EG and CG (P value < 0.05). The median concentration of Eparaben and HB-4 metabolite in the before exposure (BE) samples was 124.00 and 219.00 mu g/L, while in the after exposure (AE) samples, it was 156.00 and 249.00 mu g/L, respectively. Moreover, the parabens levels in the AE samples were considerably higher than in BE samples in women working in beauty salons (P value < 0.05). This research also documented that \"personal care products (PCPs) usage\" can be known as a leading factor for the urinary paraben level in the studied individuals. The median total estimated daily intakes (TEsDI) for MeP, EtP, and PrP for the studied women were obtained as 8.02, 4.57, and 7.88 mu g/L respectively. Also, a significant and positive association was observed between EtP, PrP as well as BuP and 8-OhdG (as a DNA oxidative stress biomarker) (P value < 0.01). Further, a significant and positive association was found between EtP as well as BuP and some biomarkers of kidney damage (like uTIMP-1 and uKim-1). Accordingly, it can be stated that women working in beauty salons are at a high risk in terms of DNA oxidative stress and kidney damage.",
          "['Background: Although the overall average 10-year cardiovascular risk for patients with manifest atherosclerosis is considered to be more than 20%, actual risk for individual patients ranges from much lower to much higher. We investigated whether information on metabolic syndrome (MetS) or its individual components improves cardiovascular risk stratification in these patients.', 'Design and methods: We conducted a prospective cohort study in 3679 patients with clinical manifest atherosclerosis from the Secondary Manifestations of ARTerial disease (SMART) study. Primary outcome was defined as any cardiovascular event (cardiovascular death, ischemic stroke or myocardial infarction). Three pre-specified prediction models were derived, all including information on established MetS components. The association between outcome and predictors was quantified using a Cox proportional hazard analysis. Model performance was assessed using global goodness-of-fit fit (chi(2)), discrimination (C-index) and ability to improve risk stratification.', 'Results: A total of 417 cardiovascular events occurred among 3679 patients with 15,102 person-years of follow-up (median follow-up 3.7 years, range 1.6-6.4 years). Compared to a model with age and gender only, all MetS-based models performed slightly better in terms of global model fit (chi(2)) but not C-index. The Net Reclassification Index associated with the addition of MetS (yes/no), the dichotomous MetS-components or the continuous MetS-components on top of age and gender was 2.1% (p = 0.29), 2.3% (p = 0.31) and 7.5% (p = 0.01), respectively.', 'Conclusions: Prediction models incorporating age, gender and MetS can discriminate between patients with clinical manifest atherosclerosis at the highest vascular risk and those at lower risk. The addition of MetS components to a model with age and gender correctly reclassifies only a small proportion of patients into higher-and lower-risk categories. The clinical utility of a prediction model with MetS is therefore limited.']",
          "This study investigated the Turkish consumers' knowledge about dietary fibres and purchasing behaviours about fibre rich foods and also their attitudes towards food labelling with specific emphasis on dietary fibre. The survey consisted of a longitudinal study undertaken on a sample of 293 participants. For the analysis of the data, basic descriptive statistics was used, complemented with statistical tests (U-Mann Whitney [UMW] for comparisons between two groups and Kruskal-Wallis [KW] test for comparisons between three or more groups). Finally, a tree classification analysis was done to evaluate the relative importance of each of the possible influential variables on knowledge: age group, level of education, gender or living environment. The results revealed that both the level of knowledge about dietary fibre and foods and also the level of knowledge about dietary fibre and health effects were considered high for the general population. The classification analysis revealed that gender was the major discriminant for knowledge about dietary fibre and foods, while the most important discriminant for knowledge about dietary fibre and health effects was age. The importance of this study resided in the highlight of the pivotal factors that influence people's knowledge about dietary fibre sources and the health benefits of its ingestion.",
          "[\"Background: Although numerous phenotype based equations for predicting risk of 'hard' coronary heart disease are available, data on the utility of genetic information for such risk prediction is lacking in Chinese populations.\", 'Design: Case-control study nested within the Singapore Chinese Health Study.', 'Methods: A total of 1306 subjects comprising 836 men (267 incident cases and 569 controls) and 470 women (128 incident cases and 342 controls) were included. A Genetic Risk Score comprising 156 single nucleotide polymorphisms that have been robustly associated with coronary heart disease or its risk factors (p<5 x 10(-8)) in at least two independent cohorts of genome-wide association studies was built. For each gender, three base models were used: recalibrated Adult Treatment Panel III (ATPIII) Model (M1); ATP III model fitted using Singapore Chinese Health Study data (M-2) and M-3: M-2 + C-reactive protein + creatinine.', \"Results: The Genetic Risk Score was significantly associated with incident 'hard' coronary heart disease (p for men: 1.70 x 10(-10) - 1.73 x 10(-9); p for women: 0.001). The inclusion of the Genetic Risk Score in the prediction models improved discrimination in both genders (c-statistics: 0.706-0.722 vs. 0.663-0.695 from base models for men; 0.7880.790 vs. 0.765-0.773 for women). In addition, the inclusion of the Genetic Risk Score also improved risk classification with a net gain of cases being reclassified to higher risk categories (men: 12.4%-16.5%; women: 10.2% (M3)), while not significantly reducing the classification accuracy in controls.\", \"Conclusions: The Genetic Risk Score is an independent predictor for incident 'hard' coronary heart disease in our ethnic Chinese population. Inclusion of genetic factors into coronary heart disease prediction models could significantly improve risk prediction performance.\"]",
          "The purpose of this study was to examine the influence of gender-related perceptions and experiences on nursing professionalism among nursing students who grew up in a culture with strong gender norms. Data were collected through an online survey from a convenience sample of nursing students in South Korea. To examine gender-related perceptions, we assessed beliefs in gender stereotypes and the level of benevolent sexism. Direct and indirect experiences of gender violence were assessed by examining participants' histories of involvement in intimate partner violence and witnessing parental violence. Nursing students' gender-related perceptions were significantly related to their nursing professionalism, whereas their experiences of gender violence were non-significantly related. More specifically, those who had stronger gender stereotypes showed a weaker perception of nursing professionalism. In addition, benevolent sexism was a strong predictor of nursing professionalism. We strongly recommend that nursing educators address gender-related issues in their nursing education, as this might help to minimize gender-stereotyped thoughts among nursing students, which can hamper their growth as professionals.",
          "In wild ballan wrasse Labrus bergylta, mass-length relationships were not different between genders, and positive allometry was found in the mixed-gender population. Male-biased sexual size dimorphism was significant and the most effective morphometric method for sexing L. bergylta outside of the species spawning window used body mass (MB in g), total body length (LT in mm) and Fulton's condition factor (K) as discriminant variables to predict gender with 91% accuracy. The discriminant score (SD) of a specimen can be calculated as SD=0 center dot 01MB-0 center dot 016LT-3 center dot 835K+6 center dot 252 to predict its gender as female or male if SD is<1 center dot 459 or SD is>1 center dot 504, respectively. There was a potential trend towards earlier sexual inversion compared to previous studies at comparable latitudes. Sex change is a phenotypically plastic trait under social control in haremic fishes and should be monitored in increasingly exploited L. bergylta. (C) 2014 The Fisheries Society of the British Isles",
          "IntroductionThere is scarce knowledge about gender differences in clinical presentation, management, use of risk stratification tools and prognosis in cardiogenic shock (CS) patients. PurposeThe primary endpoint was to investigate the differences in characteristics, management, and in-hospital mortality according to gender in a cohort of CS patients admitted to a tertiary hub center. The secondary endpoint was to evaluate the prognostic performance of the Society of Cardiovascular Angiography and Interventions (SCAI) classification in predicting in-hospital mortality according to sex. MethodsThis is a retrospective single-Center cohort study of CS patients treated by a multidisciplinary shock team between September 2014 and December 2020. Baseline characteristics and clinical outcomes according to gender were registered. Discrimination of SCAI classification was assessed using the area under the receiver operating characteristic curve (AUC). ResultsOverall, 163 patients were included, 39 of them female (24%). Mean age of the overall cohort was 55 years (44-62), similar between groups. Compared with men, women were less likely to be smokers and the prevalence of COPD and diabetes mellitus was significantly lower in this group (p < 0.05). Postcardiotomy (44 vs. 31%) and fulminant myocarditis (13 vs. 2%) were more frequent etiologies in females than in males (p = 0.01), whereas acute myocardial infarction was less common among females (13 vs. 33%). Regarding management, the use of temporary mechanical circulatory support, mechanical ventilation, or renal replacement therapy was frequent and no different between the groups (88, 87, and 49%, respectively, in females vs. 42, 91, and 41% in males, p > 0.05). In-hospital survival in the overall cohort was 53%, without differences between groups (52% in females vs. 55% in males, p = 0.76). Most of the patients (60.7%) were in SCAIE at presentation without differences between sexes. The SCAI classification showed a moderate ability for predicting in-hospital mortality (overall, AUC: 0.653, 95% CI 0.582-0.725). The AUC was 0.636 for women (95% CI 0.491-0.780) and 0.658 for men (95% CI 0.575-0.740). ConclusionsOnly one in four of patients treated at a dedicated CS team were female. This may reflect differences in prevalence of severe heart disease at young (<65) ages, although a patient-selection bias cannot be ruled out. In this very high-risk CS population of multiple etiologies, overall, in-hospital survival was slightly above 50% and showed no differences between sexes. Treatment approaches, procedures, and SCAI risk stratification performance did not show gender disparities among treated patients.",
          "Objetive: to characterize the care services performed through risk rating by the Manchester Triage System, identifying demographics (age, gender), main flowcharts, discriminators and outcomes in pediatric emergency Method: cross-sectional quantitative study. Data on risk classification were obtained through a search of computerized registration data from medical records of patients treated in the pediatric emergency within one year. Descriptive statistics with absolute and relative frequencies was used for the analysis. Results: 10,921 visits were conducted in the pediatric emergency, mostly male (54.4%), aged between 29 days and two years (44.5%). There was a prevalence of the urgent risk category (43.6%). The main flowchart used in the care was worried parents (22.4%) and the most prevalent discriminator was recent event (15.3%). The hospitalization outcome occurred in 10.4% of care performed in the pediatric emergency, however 61.8% of care needed to stay under observation and / or being under the health team care in the pediatric emergency. Conclusion: worried parents was the main flowchart used and recent events the most prevalent discriminator, comprising the hospitalization outcomes and permanency in observation in the pediatric emergency before discharge from the hospital.",
          "Gender is an important factor in determining the market price of Hanwoo, but its discrimination is impossible after deboning. This study aims at identifying the variables in Hanwoo deboning data that could be used for gender identification and classification. Deboning data of Hanwoo were analysed by discriminant function analysis. Seven pre-deboning and 24 post-deboning variables were identified and showed 91.3% and 98.9% accuracy in gender identification respectively. Discriminant power was 98.9% on using all 31 deboning variables. This result suggests that physical characteristics of meat parts are suitable factors for classification of beef by gender.",
          "['Background Left ventricular (LV) volumetric and functional parameters measured with cardiac computed tomography (cardiac CT) augment risk prediction and discrimination for future mortality. Gender-and age-specific standard values for LV dimensions and systolic function obtained by 64-slice cardiac CT are lacking.', 'Methods and results 1155 patients from the Coronary CT Angiography EvaluatioN For Clinical Outcomes: An InteRnational Multicenter registry (54.5% males, mean age 53.1 +/- 12.4 years, range: 18-92 years) without known coronary artery disease (CAD), structural heart disease, diabetes, or hypertension who underwent cardiac CT for various indications were categorized according to age and sex. A cardiac CT data acquisition protocol was used that allowed volumetric measuring of LV function. Image interpretation was performed at each site. Patients with significant CAD(. 50% stenosis) on cardiac CT were excluded from the analysis. Overall, mean left ventricular ejection fraction (LVEF) was higher in women when compared with men (66.6 +/- 7.7% vs. 64.6 +/- 8.1%, P < 0.001). This gender-difference in overall LVEF was caused by a significantly higher LVEF in women >= 70 years when compared with men >= 70 years (69.95 +/- 8.89% vs. 65.50 +/- 9.42%, P = 0.004). Accordingly, a significant increase in LVEF was observed with age (P = 0.005 for males and P, 0.001 for females), which was more pronounced in females (5.21%) than in males 2.6%). LV end-diastolic volume decreased in females from 122.48 +/- 27.87 (< 40 years) to 95.56 +/- 23.17 (>= 70 years; P < 0.001) and in males from 155.22 +/- 35.07 (< 40 years) to 130.26 +/- 27.18 (>70 years; P < 0.001).', 'Conclusion Our findings indicate that the LV undergoes a lifelong remodelling and highlight the need for age and gender adjusted reference values.']",
          "['Assays that allow analysis of the biogeographic origin of biological samples in a standard forensic laboratory have to target a small number of highly differentiating markers. Such markers should be easy to multiplex and the assay must perform well in the degraded and scarce biological material. SNPs localized in the genome regions, which in the past were subjected to differential selective pressure in various populations, are the most widely used markers in the studies of biogeographic affiliation. SNPs reflecting biogeographic differences not related to any phenotypic traits are not sufficiently explored.', 'The goal of our study was to identify a small set of SNPs not related to any known pigmentation/phenotype-specific genes, which would allow efficient discrimination between populations of Europe and East Asia. The selection of SNPs was based on the comparative analysis of representative European and Chinese/Japanese samples (B-lymphocyte cell lines), genotyped using the Infinium Human-OmniExpressExome microarray (Illumina). The classifier, consisting of 24 unlinked SNPs (24-SNP classifier), was selected. The performance of a 14-SNP subset of this classifier (14-SNP subclassifier) was tested using genotype data from several populations. The 14-SNP subclassifier differentiated East Asians, Europeans and Africans with similar to 100% accuracy; Palestinians, representative of the Middle East, clustered with Europeans, while Amerindians and Pakistani were placed between East Asian and European populations.', 'Based on these results, we have developed a SNaPshot assay (EurEAs_Gplex) for genotyping SNPs from the 14-SNP subclassifier, combined with an additional marker for gender identification. Forensic utility of the EurEAs_Gplex was verified using degraded and low quantity DNA samples. The performance of the EurEAs_Gplex was satisfactory when using degraded DNA; tests using low quantity DNA samples revealed a previously not described source of genotyping errors, potentially important for any SNaPshot-based assays. (C) 2015 Elsevier Ireland Ltd. All rights reserved.']",
          null
         ],
         "marker": {
          "opacity": 0.5,
          "size": 5
         },
         "mode": "markers+text",
         "name": "13_atherosclerosis_snps_genetic",
         "text": [
          "",
          "",
          "",
          "",
          "",
          "",
          "",
          "",
          "",
          "",
          "",
          "",
          "",
          "",
          "13_atherosclerosis_snps_genetic"
         ],
         "textfont": {
          "size": 12
         },
         "type": "scattergl",
         "x": [
          3.229628562927246,
          1.1674225330352783,
          2.9712352752685547,
          2.737924575805664,
          3.222982406616211,
          2.7228848934173584,
          3.1595919132232666,
          1.2875217199325562,
          2.958515167236328,
          3.2018942832946777,
          1.2093653678894043,
          2.8881897926330566,
          3.2161355018615723,
          3.103156089782715,
          2.648317813873291
         ],
         "y": [
          4.314151763916016,
          9.909424781799316,
          5.013031482696533,
          5.315558910369873,
          4.322571754455566,
          5.326984405517578,
          4.403535842895508,
          10.001283645629883,
          5.0331854820251465,
          4.3474884033203125,
          9.940032005310059,
          5.125749111175537,
          4.316101551055908,
          4.55718469619751,
          5.851876735687256
         ]
        },
        {
         "hoverinfo": "text",
         "hovertext": [
          "This article explores feminist activism via the hashtag #iamafeminist on Twitter in South Korea. This hashtag became an important platform for feminist identification and activism against misogyny following its start in 2015 as a way to resist prevailing anti-feminist sentiment in Korea. In addition to opposing stigmas regarding identifying as a feminist, #iamafeminist affords an inclusive frame that can promote feminist identification by sharing personal motives for and stories about being a feminist. Although critics dismiss the potential of hashtag activism due to its ephemeral nature, I argue that #iamafeminist-which I call the \"mother tag\"- was able to persist for three months by continuing to connect with real-time gender issues and by initiating activism against misogyny both online and offline.",
          "Research into communication with a gender perspective arises in the context of Second-wave Feminism in the United States by feminist researchers who identified the sexist content of the media as an obstacle to accessing women's rights and building more egalitarian societies. This research identifies those female researchers who contributed to the creation of communication studies with a gender perspective through analysis of their publications and evaluation of the influence of these studies on the creation of equality policies in the field of mass media. To this end, about one hundred publications created between 1963 and 1980 were analyzed and the so-called \"Women and the media\" J point of the Beijing Platform for Action was considered as a reference point in equality and communication policies. The results reveal the relation between Women's Studies and the origin of the area of communication with a gender perspective, and the relevance of research in this field of study as a driver for generating equality policies and social transformation.",
          "The main aim of this research is to understand the way advertising and sexism are analyzed by focus groups of 11 and 12 year old preadolescents. In order to achieve this aim we used commercials that reproduce sexism situations and that are based on persuasive strategies where brands and products are associated with happiness and family well-being. The research was developed through six focus groups, whose results were analyzed from a qualitative approach in order to define the classification criteria. The level of skepticism shown by the preadolescents regarding the persuasive advertising techniques is associated with their capacity for detecting sexism. Both skills seem require a certain level (that is needed, but not sufficient) of character analysis. The results support the importance of focus groups both as an evaluation procedure and as advertising literacy context that should include not only cognitive components but also evaluative aspects, such as skepticism and rejection of sexism.",
          "GirlDefined Ministries is a flourishing multiplatform purity ministry developed by Texan sisters Kristen Clark and Bethany Beal. Clark and Beal's goal for GirlDefined Ministries is to develop a sisterhood that encourages women and girls to find their identity in what they imagine as God's design for femininity. Analyzing this discourse, we demonstrate how it mobilizes White supremacist strategies that have long nationalist histories within White Christian rhetoric in the United States. Moreover, we demonstrate how these strategies manifest in discourse through a particularly patriarchal version of femininity-thus, the sexism we identify in GirlDefined Ministries reinforces racial privilege for White people. Ultimately, we illustrate how this ministry utilizes rhetorical styles that first draw girls and women into an identity we describe as \"pure White womanhood\" and then deploy this identity on the front lines of the Christian culture wars.",
          "Findings regarding the effectiveness of (non)traditionally gendered advertisements are mixed and largely emanate from the United States. We tested the stereotype content model and ambivalent sexism theory cross-nationally in an advertising context and predicted that paternalistic (vs. envious) female stereotypes will trigger higher purchase intent (PI) irrespective of country (Hypothesis 1), viewers' benevolent sexism will positively predict PI for paternalistic housewife advertisements (Hypothesis 2a), viewers' hostile sexism will negatively predict PI for envious businesswoman advertisements (Hypothesis 2b), and these relationships with sexism will be confined to less gender egalitarian countries (i.e., Poland and South Africa) (Hypothesis 3). Statistical analyses of data from 468 Polish, South African, and British university students supported Hypothesis 1 and partially supported Hypotheses 2 and 3. The predicted patterns held for South Africa, but in Poland, viewers' benevolence positively predicted PI for both advertisement types, with the exception of highly hostile women. British viewers' hostility positively predicted PI for the housewife advertisement. Our findings support the cross-cultural applicability of the stereotype content model to advertising and suggest that the predictive role of sexism changes depending on its type, advertisement type, country, and gender. We recommend that advertisers should adopt a nuanced approach in predicting the effectiveness of gendered advertisements.",
          "Kierkegaard's contribution to feminist thinking is a much debated issue as his writings depict women both beautifully and spitefully at the same time. On the one hand, a few scholars argue that his views are blatantly misogynic, and on the other, some argue that his views are redeeming. In the view of the latter, Kierkegaardian thoughts surpass the abstract patriarchal ethics to an ethics of relation or ethics of care. I argue that though one may detect many lines of misogyny in his writings, they can be seen compensated through the insightful lines he writes about women. His insights on feminine qualities and her role in human and religious life can only be an outcome of one who loves and admires them. In this paper I examine his transitions from misogyny to reclamation through a heuristic rereading of Kierkegaardian thinking, and contribute to women's voice for their personal identity and appropriation of feminine genius in society and religion.",
          "Although previous work on sexist linguistic structures has identified the causes of sexism in language as stemming from an androcentric world view, it has not described the social and semiotic processes involved in the historic production and reproduction of this kind of linguistic sexism. This article uses the three processes of iconisation, fractal recursivity, and erasure to bring together what appear to be disparate phenomena (such as the masculine generic, and even the very existence of the feminine grammatical gender) into a unifying theory. Iconisation results in the binary division of humanity into females and males; fractal recursivity explains how this division was projected onto language; and erasure demonstrates how certain discourses have been ignored, to the profit of others. A Queer critique of the two concepts of binarity and markedness (which arise as a result of iconisation) opens up exciting new ways to approach sexism in language, and to revitalise research in this area.",
          "Portrayals of women in advertisements have a significant impact on the maintenance of gender stereotypes in society. Therefore, the present research investigates the effectiveness of communal and agentic female characters in advertisements as well as the question how evaluations of such characters are influenced by perceivers' sexist attitudes toward women. Results show that communal female advertising characters are evaluated more favorably than agentic ones and that these evaluations predict advertising effectiveness. Benevolent sexism predicts more positive evaluations of communal female advertising characters (studies 1 and 2). Moreover, hostile sexism predicts less positive evaluations of agentic female advertising characters when it is assessed under time pressure (Study 2). Implications of these findings for the perpetuation of gender stereotypes in advertisements and in society are discussed. Copyright (c) 2011 John Wiley & Sons, Ltd.",
          "Following a series of deadly attacks, and increasingly in recent years, incels have entered not only the public lexicon but also piqued scholarly interest, especially in terrorism research and programmes aimed at countering violent extremism (CVE). However, much of the current analyses largely interpret incel communities as homogenous, and in doing so ignore the complex and often contradictory nature of incel communities. CVE recommendations made by these scholars are often founded on misconceptions of incel identity and community. Through a critical feminist lens, in this article we argue that the focus on incels should seek to understand the role of male supremacy, antifeminism, and misogyny in society. Additionally, we argue against the trend of attempting to classify and securitise incels as a unique form of misogynistic violence, and identify the dangers of a lack of focus on male supremacy.",
          "The present study draws on theories and prior research on corporate social responsibility (CSR) and gender attitudes (i.e., sexism) to understand young Chinese peoples' responses toward women-empowering advertising (i.e., femvertising). We conducted two experiments in which male and female Chinese college students (232 in Study 1 and 231 in Study 2) were exposed to either women-empowering or control advertisements (traditional ad in Study 1 and gender-irrelevant ad in Study 2) and reported their attitudes about the ads as well as their purchase intentions toward the advertised products (shampoo and smartphone, respectively). In line with our predictions, both experiments showed that messaging about women's empowerment in advertising can induce perceptions of CSR, thereby increasing favorable responses such as enhanced positive ad attitudes and increased purchase intentions toward the advertised products. Moreover, hostile sexism was negatively associated with consumer responses toward femvertising such that the lower participants' hostile sexism, the more positive ad attitudes and stronger purchase intent participants they reported. However, benevolent sexism was not predictive of consumer responses toward femvertising. These results offer insights into people's responses toward women-empowering advertisements and also have practical implications for advertisers and marketers who are interested in using such an advertising tactic to promote products and services.",
          "Many feminist scholars have traced the discursive effects of postfeminism with concern, noting how its ascendency has made sexism difficult to name and to challenge. As feminist critiques of persistent, pervasive gender inequalities trickle into media and popular consciousness, we ask whether and how possibilities for identifying and accounting for sexism might be transformed. We draw from an action-oriented research project that explored whether (and how) feminist ideas offered secondary school students critical purchase on their everyday experiences. Participants described copious examples of everyday sexism directed at women and girls but very few instances of \"sexism\" towards men and boys. Even so, interviewees often spoke about sexism in ways that prioritised boys' and men's experiences while downplaying sexism towards girls and women. In this article we explore how young people made sense of sexism around them, attending to the discursive effects of their talk. (C) 2015 Elsevier Ltd. All rights reserved.",
          "Introduction: This paper suggests that purple, a symbol of the feminist struggle, is been used as an advertising tool and as a consumer label to address the female target, subverting its political meaning, making invisible the real causes of inequality, and contributing to the commodification of feminism. Methods: A sample of six ads of food, beauty, personal hygiene and fashion products using purple as an advertising claim was selected to explore to what extent they fullfills the five criteria established by Becker-Herby (2016) to determine that a given campaign can be considered feminist advertising or \"femvertising\"; afterwards, we assessed whether these ads create a social imaginary around the color purple that collaborates to break with the gender binarism stereotypes or, on the contrary, to perpetuate them, simply by replacing pink with purple. Results: It is apparent that advertising has created a market niche for purple in which \"feminism\" and femininity coexist and which disguises economic interests under the guise of messages that advocate equality. Conclusions and contribution: It is true that \"femvertising\" strategies launch more positive messages than traditional advertising regarding what is considered feminine beauty or the role of women in society. However, these messages are individualistic in nature, aimed simply at reaching today's women, who are unlikely to identify themselves with overtly sexist messages; they deprive not only the color purple of political content but also the very concept of female empowerment and, in short, they use the feminist agenda to different degrees in serving objectives that are very different from those pursued by feminism.",
          "This paper analyzes the discursive contestation among online news media about women in leadership roles within a Muslim majority society, Indonesia. Indonesian women have established a substantial leadership role in which the \"ideal\" modern woman has been the image of \"wanita karir,\" a commingling of various Indonesian feminist discourses and Western (post)feminist discursive formations. Despite the progress, women's leadership in Indonesia has recently been challenged by reactionary Islamist forces. Using a critical poststructural discourse perspective, we identify a range of four forms of femininity and female leadership in Indonesian online media that reside at the intersections of competing discourses. This paper offers two areas of contributions. First, we identify the leadership challenges faced by women in a South-East Asian context, in particular within a democratic Muslim society like Indonesia. Second, we contribute to the theorization of women's leadership challenges from the perspective of femininity construction. In particular, we want to emphasize the notion of the multiplicity of discourses in shaping femininities. In doing so, we demonstrate the permutability, transformability, and adaptability of gender discrimination in our identified forms of femininity, and the limitations of the virtuous burden imposed by apparently supportive discourse.",
          null
         ],
         "marker": {
          "opacity": 0.5,
          "size": 5
         },
         "mode": "markers+text",
         "name": "14_feminism_discourses_characters",
         "text": [
          "",
          "",
          "",
          "",
          "",
          "",
          "",
          "",
          "",
          "",
          "",
          "",
          "",
          "14_feminism_discourses_characters"
         ],
         "textfont": {
          "size": 12
         },
         "type": "scattergl",
         "x": [
          3.7675132751464844,
          3.6191978454589844,
          2.30511474609375,
          3.780202627182007,
          2.2643234729766846,
          3.6256704330444336,
          3.3748748302459717,
          2.246947765350342,
          3.834063768386841,
          2.29651141166687,
          3.618037462234497,
          2.3221025466918945,
          3.728698492050171,
          3.137173652648926
         ],
         "y": [
          7.122695446014404,
          7.1804986000061035,
          5.65861177444458,
          7.173870086669922,
          5.707566261291504,
          7.006584644317627,
          6.901462554931641,
          5.680373191833496,
          7.151907444000244,
          5.686752796173096,
          7.202383041381836,
          5.682286262512207,
          7.178906440734863,
          6.564146995544434
         ]
        }
       ],
       "layout": {
        "annotations": [
         {
          "showarrow": false,
          "text": "D1",
          "x": -1.6648045778274536,
          "y": 5.806582637131214,
          "yshift": 10
         },
         {
          "showarrow": false,
          "text": "D2",
          "x": 3.2502224087715152,
          "xshift": 10,
          "y": 12.388786315917969
         }
        ],
        "height": 500,
        "shapes": [
         {
          "line": {
           "color": "#CFD8DC",
           "width": 2
          },
          "type": "line",
          "x0": 3.2502224087715152,
          "x1": 3.2502224087715152,
          "y0": -0.7756210416555405,
          "y1": 12.388786315917969
         },
         {
          "line": {
           "color": "#9E9E9E",
           "width": 2
          },
          "type": "line",
          "x0": -1.6648045778274536,
          "x1": 8.165249395370484,
          "y0": 5.806582637131214,
          "y1": 5.806582637131214
         }
        ],
        "template": {
         "data": {
          "bar": [
           {
            "error_x": {
             "color": "rgb(36,36,36)"
            },
            "error_y": {
             "color": "rgb(36,36,36)"
            },
            "marker": {
             "line": {
              "color": "white",
              "width": 0.5
             },
             "pattern": {
              "fillmode": "overlay",
              "size": 10,
              "solidity": 0.2
             }
            },
            "type": "bar"
           }
          ],
          "barpolar": [
           {
            "marker": {
             "line": {
              "color": "white",
              "width": 0.5
             },
             "pattern": {
              "fillmode": "overlay",
              "size": 10,
              "solidity": 0.2
             }
            },
            "type": "barpolar"
           }
          ],
          "carpet": [
           {
            "aaxis": {
             "endlinecolor": "rgb(36,36,36)",
             "gridcolor": "white",
             "linecolor": "white",
             "minorgridcolor": "white",
             "startlinecolor": "rgb(36,36,36)"
            },
            "baxis": {
             "endlinecolor": "rgb(36,36,36)",
             "gridcolor": "white",
             "linecolor": "white",
             "minorgridcolor": "white",
             "startlinecolor": "rgb(36,36,36)"
            },
            "type": "carpet"
           }
          ],
          "choropleth": [
           {
            "colorbar": {
             "outlinewidth": 1,
             "tickcolor": "rgb(36,36,36)",
             "ticks": "outside"
            },
            "type": "choropleth"
           }
          ],
          "contour": [
           {
            "colorbar": {
             "outlinewidth": 1,
             "tickcolor": "rgb(36,36,36)",
             "ticks": "outside"
            },
            "colorscale": [
             [
              0,
              "#440154"
             ],
             [
              0.1111111111111111,
              "#482878"
             ],
             [
              0.2222222222222222,
              "#3e4989"
             ],
             [
              0.3333333333333333,
              "#31688e"
             ],
             [
              0.4444444444444444,
              "#26828e"
             ],
             [
              0.5555555555555556,
              "#1f9e89"
             ],
             [
              0.6666666666666666,
              "#35b779"
             ],
             [
              0.7777777777777778,
              "#6ece58"
             ],
             [
              0.8888888888888888,
              "#b5de2b"
             ],
             [
              1,
              "#fde725"
             ]
            ],
            "type": "contour"
           }
          ],
          "contourcarpet": [
           {
            "colorbar": {
             "outlinewidth": 1,
             "tickcolor": "rgb(36,36,36)",
             "ticks": "outside"
            },
            "type": "contourcarpet"
           }
          ],
          "heatmap": [
           {
            "colorbar": {
             "outlinewidth": 1,
             "tickcolor": "rgb(36,36,36)",
             "ticks": "outside"
            },
            "colorscale": [
             [
              0,
              "#440154"
             ],
             [
              0.1111111111111111,
              "#482878"
             ],
             [
              0.2222222222222222,
              "#3e4989"
             ],
             [
              0.3333333333333333,
              "#31688e"
             ],
             [
              0.4444444444444444,
              "#26828e"
             ],
             [
              0.5555555555555556,
              "#1f9e89"
             ],
             [
              0.6666666666666666,
              "#35b779"
             ],
             [
              0.7777777777777778,
              "#6ece58"
             ],
             [
              0.8888888888888888,
              "#b5de2b"
             ],
             [
              1,
              "#fde725"
             ]
            ],
            "type": "heatmap"
           }
          ],
          "heatmapgl": [
           {
            "colorbar": {
             "outlinewidth": 1,
             "tickcolor": "rgb(36,36,36)",
             "ticks": "outside"
            },
            "colorscale": [
             [
              0,
              "#440154"
             ],
             [
              0.1111111111111111,
              "#482878"
             ],
             [
              0.2222222222222222,
              "#3e4989"
             ],
             [
              0.3333333333333333,
              "#31688e"
             ],
             [
              0.4444444444444444,
              "#26828e"
             ],
             [
              0.5555555555555556,
              "#1f9e89"
             ],
             [
              0.6666666666666666,
              "#35b779"
             ],
             [
              0.7777777777777778,
              "#6ece58"
             ],
             [
              0.8888888888888888,
              "#b5de2b"
             ],
             [
              1,
              "#fde725"
             ]
            ],
            "type": "heatmapgl"
           }
          ],
          "histogram": [
           {
            "marker": {
             "line": {
              "color": "white",
              "width": 0.6
             }
            },
            "type": "histogram"
           }
          ],
          "histogram2d": [
           {
            "colorbar": {
             "outlinewidth": 1,
             "tickcolor": "rgb(36,36,36)",
             "ticks": "outside"
            },
            "colorscale": [
             [
              0,
              "#440154"
             ],
             [
              0.1111111111111111,
              "#482878"
             ],
             [
              0.2222222222222222,
              "#3e4989"
             ],
             [
              0.3333333333333333,
              "#31688e"
             ],
             [
              0.4444444444444444,
              "#26828e"
             ],
             [
              0.5555555555555556,
              "#1f9e89"
             ],
             [
              0.6666666666666666,
              "#35b779"
             ],
             [
              0.7777777777777778,
              "#6ece58"
             ],
             [
              0.8888888888888888,
              "#b5de2b"
             ],
             [
              1,
              "#fde725"
             ]
            ],
            "type": "histogram2d"
           }
          ],
          "histogram2dcontour": [
           {
            "colorbar": {
             "outlinewidth": 1,
             "tickcolor": "rgb(36,36,36)",
             "ticks": "outside"
            },
            "colorscale": [
             [
              0,
              "#440154"
             ],
             [
              0.1111111111111111,
              "#482878"
             ],
             [
              0.2222222222222222,
              "#3e4989"
             ],
             [
              0.3333333333333333,
              "#31688e"
             ],
             [
              0.4444444444444444,
              "#26828e"
             ],
             [
              0.5555555555555556,
              "#1f9e89"
             ],
             [
              0.6666666666666666,
              "#35b779"
             ],
             [
              0.7777777777777778,
              "#6ece58"
             ],
             [
              0.8888888888888888,
              "#b5de2b"
             ],
             [
              1,
              "#fde725"
             ]
            ],
            "type": "histogram2dcontour"
           }
          ],
          "mesh3d": [
           {
            "colorbar": {
             "outlinewidth": 1,
             "tickcolor": "rgb(36,36,36)",
             "ticks": "outside"
            },
            "type": "mesh3d"
           }
          ],
          "parcoords": [
           {
            "line": {
             "colorbar": {
              "outlinewidth": 1,
              "tickcolor": "rgb(36,36,36)",
              "ticks": "outside"
             }
            },
            "type": "parcoords"
           }
          ],
          "pie": [
           {
            "automargin": true,
            "type": "pie"
           }
          ],
          "scatter": [
           {
            "fillpattern": {
             "fillmode": "overlay",
             "size": 10,
             "solidity": 0.2
            },
            "type": "scatter"
           }
          ],
          "scatter3d": [
           {
            "line": {
             "colorbar": {
              "outlinewidth": 1,
              "tickcolor": "rgb(36,36,36)",
              "ticks": "outside"
             }
            },
            "marker": {
             "colorbar": {
              "outlinewidth": 1,
              "tickcolor": "rgb(36,36,36)",
              "ticks": "outside"
             }
            },
            "type": "scatter3d"
           }
          ],
          "scattercarpet": [
           {
            "marker": {
             "colorbar": {
              "outlinewidth": 1,
              "tickcolor": "rgb(36,36,36)",
              "ticks": "outside"
             }
            },
            "type": "scattercarpet"
           }
          ],
          "scattergeo": [
           {
            "marker": {
             "colorbar": {
              "outlinewidth": 1,
              "tickcolor": "rgb(36,36,36)",
              "ticks": "outside"
             }
            },
            "type": "scattergeo"
           }
          ],
          "scattergl": [
           {
            "marker": {
             "colorbar": {
              "outlinewidth": 1,
              "tickcolor": "rgb(36,36,36)",
              "ticks": "outside"
             }
            },
            "type": "scattergl"
           }
          ],
          "scattermapbox": [
           {
            "marker": {
             "colorbar": {
              "outlinewidth": 1,
              "tickcolor": "rgb(36,36,36)",
              "ticks": "outside"
             }
            },
            "type": "scattermapbox"
           }
          ],
          "scatterpolar": [
           {
            "marker": {
             "colorbar": {
              "outlinewidth": 1,
              "tickcolor": "rgb(36,36,36)",
              "ticks": "outside"
             }
            },
            "type": "scatterpolar"
           }
          ],
          "scatterpolargl": [
           {
            "marker": {
             "colorbar": {
              "outlinewidth": 1,
              "tickcolor": "rgb(36,36,36)",
              "ticks": "outside"
             }
            },
            "type": "scatterpolargl"
           }
          ],
          "scatterternary": [
           {
            "marker": {
             "colorbar": {
              "outlinewidth": 1,
              "tickcolor": "rgb(36,36,36)",
              "ticks": "outside"
             }
            },
            "type": "scatterternary"
           }
          ],
          "surface": [
           {
            "colorbar": {
             "outlinewidth": 1,
             "tickcolor": "rgb(36,36,36)",
             "ticks": "outside"
            },
            "colorscale": [
             [
              0,
              "#440154"
             ],
             [
              0.1111111111111111,
              "#482878"
             ],
             [
              0.2222222222222222,
              "#3e4989"
             ],
             [
              0.3333333333333333,
              "#31688e"
             ],
             [
              0.4444444444444444,
              "#26828e"
             ],
             [
              0.5555555555555556,
              "#1f9e89"
             ],
             [
              0.6666666666666666,
              "#35b779"
             ],
             [
              0.7777777777777778,
              "#6ece58"
             ],
             [
              0.8888888888888888,
              "#b5de2b"
             ],
             [
              1,
              "#fde725"
             ]
            ],
            "type": "surface"
           }
          ],
          "table": [
           {
            "cells": {
             "fill": {
              "color": "rgb(237,237,237)"
             },
             "line": {
              "color": "white"
             }
            },
            "header": {
             "fill": {
              "color": "rgb(217,217,217)"
             },
             "line": {
              "color": "white"
             }
            },
            "type": "table"
           }
          ]
         },
         "layout": {
          "annotationdefaults": {
           "arrowhead": 0,
           "arrowwidth": 1
          },
          "autotypenumbers": "strict",
          "coloraxis": {
           "colorbar": {
            "outlinewidth": 1,
            "tickcolor": "rgb(36,36,36)",
            "ticks": "outside"
           }
          },
          "colorscale": {
           "diverging": [
            [
             0,
             "rgb(103,0,31)"
            ],
            [
             0.1,
             "rgb(178,24,43)"
            ],
            [
             0.2,
             "rgb(214,96,77)"
            ],
            [
             0.3,
             "rgb(244,165,130)"
            ],
            [
             0.4,
             "rgb(253,219,199)"
            ],
            [
             0.5,
             "rgb(247,247,247)"
            ],
            [
             0.6,
             "rgb(209,229,240)"
            ],
            [
             0.7,
             "rgb(146,197,222)"
            ],
            [
             0.8,
             "rgb(67,147,195)"
            ],
            [
             0.9,
             "rgb(33,102,172)"
            ],
            [
             1,
             "rgb(5,48,97)"
            ]
           ],
           "sequential": [
            [
             0,
             "#440154"
            ],
            [
             0.1111111111111111,
             "#482878"
            ],
            [
             0.2222222222222222,
             "#3e4989"
            ],
            [
             0.3333333333333333,
             "#31688e"
            ],
            [
             0.4444444444444444,
             "#26828e"
            ],
            [
             0.5555555555555556,
             "#1f9e89"
            ],
            [
             0.6666666666666666,
             "#35b779"
            ],
            [
             0.7777777777777778,
             "#6ece58"
            ],
            [
             0.8888888888888888,
             "#b5de2b"
            ],
            [
             1,
             "#fde725"
            ]
           ],
           "sequentialminus": [
            [
             0,
             "#440154"
            ],
            [
             0.1111111111111111,
             "#482878"
            ],
            [
             0.2222222222222222,
             "#3e4989"
            ],
            [
             0.3333333333333333,
             "#31688e"
            ],
            [
             0.4444444444444444,
             "#26828e"
            ],
            [
             0.5555555555555556,
             "#1f9e89"
            ],
            [
             0.6666666666666666,
             "#35b779"
            ],
            [
             0.7777777777777778,
             "#6ece58"
            ],
            [
             0.8888888888888888,
             "#b5de2b"
            ],
            [
             1,
             "#fde725"
            ]
           ]
          },
          "colorway": [
           "#1F77B4",
           "#FF7F0E",
           "#2CA02C",
           "#D62728",
           "#9467BD",
           "#8C564B",
           "#E377C2",
           "#7F7F7F",
           "#BCBD22",
           "#17BECF"
          ],
          "font": {
           "color": "rgb(36,36,36)"
          },
          "geo": {
           "bgcolor": "white",
           "lakecolor": "white",
           "landcolor": "white",
           "showlakes": true,
           "showland": true,
           "subunitcolor": "white"
          },
          "hoverlabel": {
           "align": "left"
          },
          "hovermode": "closest",
          "mapbox": {
           "style": "light"
          },
          "paper_bgcolor": "white",
          "plot_bgcolor": "white",
          "polar": {
           "angularaxis": {
            "gridcolor": "rgb(232,232,232)",
            "linecolor": "rgb(36,36,36)",
            "showgrid": false,
            "showline": true,
            "ticks": "outside"
           },
           "bgcolor": "white",
           "radialaxis": {
            "gridcolor": "rgb(232,232,232)",
            "linecolor": "rgb(36,36,36)",
            "showgrid": false,
            "showline": true,
            "ticks": "outside"
           }
          },
          "scene": {
           "xaxis": {
            "backgroundcolor": "white",
            "gridcolor": "rgb(232,232,232)",
            "gridwidth": 2,
            "linecolor": "rgb(36,36,36)",
            "showbackground": true,
            "showgrid": false,
            "showline": true,
            "ticks": "outside",
            "zeroline": false,
            "zerolinecolor": "rgb(36,36,36)"
           },
           "yaxis": {
            "backgroundcolor": "white",
            "gridcolor": "rgb(232,232,232)",
            "gridwidth": 2,
            "linecolor": "rgb(36,36,36)",
            "showbackground": true,
            "showgrid": false,
            "showline": true,
            "ticks": "outside",
            "zeroline": false,
            "zerolinecolor": "rgb(36,36,36)"
           },
           "zaxis": {
            "backgroundcolor": "white",
            "gridcolor": "rgb(232,232,232)",
            "gridwidth": 2,
            "linecolor": "rgb(36,36,36)",
            "showbackground": true,
            "showgrid": false,
            "showline": true,
            "ticks": "outside",
            "zeroline": false,
            "zerolinecolor": "rgb(36,36,36)"
           }
          },
          "shapedefaults": {
           "fillcolor": "black",
           "line": {
            "width": 0
           },
           "opacity": 0.3
          },
          "ternary": {
           "aaxis": {
            "gridcolor": "rgb(232,232,232)",
            "linecolor": "rgb(36,36,36)",
            "showgrid": false,
            "showline": true,
            "ticks": "outside"
           },
           "baxis": {
            "gridcolor": "rgb(232,232,232)",
            "linecolor": "rgb(36,36,36)",
            "showgrid": false,
            "showline": true,
            "ticks": "outside"
           },
           "bgcolor": "white",
           "caxis": {
            "gridcolor": "rgb(232,232,232)",
            "linecolor": "rgb(36,36,36)",
            "showgrid": false,
            "showline": true,
            "ticks": "outside"
           }
          },
          "title": {
           "x": 0.05
          },
          "xaxis": {
           "automargin": true,
           "gridcolor": "rgb(232,232,232)",
           "linecolor": "rgb(36,36,36)",
           "showgrid": false,
           "showline": true,
           "ticks": "outside",
           "title": {
            "standoff": 15
           },
           "zeroline": false,
           "zerolinecolor": "rgb(36,36,36)"
          },
          "yaxis": {
           "automargin": true,
           "gridcolor": "rgb(232,232,232)",
           "linecolor": "rgb(36,36,36)",
           "showgrid": false,
           "showline": true,
           "ticks": "outside",
           "title": {
            "standoff": 15
           },
           "zeroline": false,
           "zerolinecolor": "rgb(36,36,36)"
          }
         }
        },
        "title": {
         "font": {
          "color": "Black",
          "size": 22
         },
         "text": "<b>Documents and Topics</b>",
         "x": 0.5,
         "xanchor": "center",
         "yanchor": "top"
        },
        "width": 780,
        "xaxis": {
         "visible": false
        },
        "yaxis": {
         "visible": false
        }
       }
      }
     },
     "metadata": {},
     "output_type": "display_data"
    }
   ],
   "source": [
    "topic_model.visualize_documents(data['abstract'].astype(str), custom_labels=True, width=780, height=500)"
   ]
  },
  {
   "cell_type": "code",
   "execution_count": null,
   "metadata": {},
   "outputs": [],
   "source": []
  }
 ],
 "metadata": {
  "kernelspec": {
   "display_name": "mlp",
   "language": "python",
   "name": "python3"
  },
  "language_info": {
   "codemirror_mode": {
    "name": "ipython",
    "version": 3
   },
   "file_extension": ".py",
   "mimetype": "text/x-python",
   "name": "python",
   "nbconvert_exporter": "python",
   "pygments_lexer": "ipython3",
   "version": "3.8.13"
  },
  "orig_nbformat": 4
 },
 "nbformat": 4,
 "nbformat_minor": 2
}
